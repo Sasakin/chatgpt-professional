{
  "nbformat": 4,
  "nbformat_minor": 0,
  "metadata": {
    "colab": {
      "provenance": []
    },
    "kernelspec": {
      "name": "python3",
      "display_name": "Python 3"
    },
    "language_info": {
      "name": "python"
    }
  },
  "cells": [
    {
      "cell_type": "markdown",
      "source": [
        "Возьмите регламент по проведению государственной экологической экспертизы по ссылке https://docs.google.com/document/d/1WMp-uMA4_59Ybp2ynCvrFIPV1OwGHQA4zvW526BawJM и на его основе сделайте базу знаний для ответа на вопросы по этому регламенту с поддержанием диалога.\n",
        "\n",
        "Напишите промпт самостоятельно.\n",
        "Не забудьте установить настройки доступа на \"все, у кого есть ссылка\".\n",
        "\n",
        "Создайте нейро-консультанта по данной базе знаний  с возможностью поддержания диалога. Проверьте работу созданного нейро-консультанта на самостоятельно сформулированных вопросах."
      ],
      "metadata": {
        "id": "SdjzC8ajnot9"
      }
    },
    {
      "cell_type": "code",
      "execution_count": 1,
      "metadata": {
        "colab": {
          "base_uri": "https://localhost:8080/"
        },
        "id": "bBSDn2CjnTjq",
        "outputId": "583be99f-f1c8-4064-9449-8fcdaa08ed5a"
      },
      "outputs": [
        {
          "output_type": "stream",
          "name": "stdout",
          "text": [
            "\u001b[2K   \u001b[90m━━━━━━━━━━━━━━━━━━━━━━━━━━━━━━━━━━━━━━━━\u001b[0m \u001b[32m27.0/27.0 MB\u001b[0m \u001b[31m84.7 MB/s\u001b[0m eta \u001b[36m0:00:00\u001b[0m\n",
            "\u001b[2K   \u001b[90m━━━━━━━━━━━━━━━━━━━━━━━━━━━━━━━━━━━━━━━━\u001b[0m \u001b[32m1.1/1.1 MB\u001b[0m \u001b[31m63.2 MB/s\u001b[0m eta \u001b[36m0:00:00\u001b[0m\n",
            "\u001b[2K   \u001b[90m━━━━━━━━━━━━━━━━━━━━━━━━━━━━━━━━━━━━━━━━\u001b[0m \u001b[32m391.5/391.5 kB\u001b[0m \u001b[31m35.5 MB/s\u001b[0m eta \u001b[36m0:00:00\u001b[0m\n",
            "\u001b[2K   \u001b[90m━━━━━━━━━━━━━━━━━━━━━━━━━━━━━━━━━━━━━━━━\u001b[0m \u001b[32m997.8/997.8 kB\u001b[0m \u001b[31m39.2 MB/s\u001b[0m eta \u001b[36m0:00:00\u001b[0m\n",
            "\u001b[2K   \u001b[90m━━━━━━━━━━━━━━━━━━━━━━━━━━━━━━━━━━━━━━━━\u001b[0m \u001b[32m2.3/2.3 MB\u001b[0m \u001b[31m91.1 MB/s\u001b[0m eta \u001b[36m0:00:00\u001b[0m\n",
            "\u001b[2K   \u001b[90m━━━━━━━━━━━━━━━━━━━━━━━━━━━━━━━━━━━━━━━━\u001b[0m \u001b[32m260.0/260.0 kB\u001b[0m \u001b[31m20.4 MB/s\u001b[0m eta \u001b[36m0:00:00\u001b[0m\n",
            "\u001b[2K   \u001b[90m━━━━━━━━━━━━━━━━━━━━━━━━━━━━━━━━━━━━━━━━\u001b[0m \u001b[32m76.4/76.4 kB\u001b[0m \u001b[31m7.6 MB/s\u001b[0m eta \u001b[36m0:00:00\u001b[0m\n",
            "\u001b[2K   \u001b[90m━━━━━━━━━━━━━━━━━━━━━━━━━━━━━━━━━━━━━━━━\u001b[0m \u001b[32m311.8/311.8 kB\u001b[0m \u001b[31m30.0 MB/s\u001b[0m eta \u001b[36m0:00:00\u001b[0m\n",
            "\u001b[2K   \u001b[90m━━━━━━━━━━━━━━━━━━━━━━━━━━━━━━━━━━━━━━━━\u001b[0m \u001b[32m49.5/49.5 kB\u001b[0m \u001b[31m4.7 MB/s\u001b[0m eta \u001b[36m0:00:00\u001b[0m\n",
            "\u001b[?25h"
          ]
        }
      ],
      "source": [
        "!pip install -q faiss-cpu==1.8.0 tiktoken==0.7.0 langchain-core==0.2.33 langchain==0.2.14 langchain_community==0.2.12 sentence_transformers mistralai langchain-text-splitters==0.2.2"
      ]
    },
    {
      "cell_type": "code",
      "source": [
        "# импортируем необходимые библиотеки\n",
        "from sentence_transformers import SentenceTransformer\n",
        "from langchain.text_splitter import RecursiveCharacterTextSplitter, MarkdownHeaderTextSplitter\n",
        "from langchain.vectorstores import FAISS\n",
        "from langchain.docstore.document import Document\n",
        "import os\n",
        "import re\n",
        "import requests\n",
        "import openai\n",
        "import tiktoken\n",
        "import matplotlib.pyplot as plt\n",
        "from textwrap import fill\n",
        "\n",
        "import logging\n",
        "logging.getLogger(\"langchain.text_splitter\").setLevel(logging.ERROR)"
      ],
      "metadata": {
        "id": "GWFqHe-xQB2f",
        "colab": {
          "base_uri": "https://localhost:8080/"
        },
        "outputId": "812aa173-f743-4a11-83c6-402a362c94f9"
      },
      "execution_count": 6,
      "outputs": [
        {
          "output_type": "stream",
          "name": "stderr",
          "text": [
            "/usr/local/lib/python3.10/dist-packages/sentence_transformers/cross_encoder/CrossEncoder.py:13: TqdmExperimentalWarning: Using `tqdm.autonotebook.tqdm` in notebook mode. Use `tqdm.tqdm` instead to force console mode (e.g. in jupyter console)\n",
            "  from tqdm.autonotebook import tqdm, trange\n"
          ]
        }
      ]
    },
    {
      "cell_type": "code",
      "source": [
        "# запустите эту ячейку, если используете секретный ключ в колабе\n",
        "import os\n",
        "from mistralai import Mistral\n",
        "from google.colab import userdata\n",
        "api_key = userdata.get(\"MISTRAL_API_KEY\")\n",
        "os.environ[\"MISTRAL_API_KEY\"] = api_key\n",
        "\n",
        "# Создание клиента OpenAI с использованием API ключа из переменных среды\n",
        "client = Mistral(api_key)"
      ],
      "metadata": {
        "id": "DAjLTxwOphoY"
      },
      "execution_count": 3,
      "outputs": []
    },
    {
      "cell_type": "code",
      "source": [
        "# функция для загрузки документа по ссылке из гугл драйв\n",
        "def load_document_text(url: str) -> str:\n",
        "    # Extract the document ID from the URL\n",
        "    match_ = re.search('/document/d/([a-zA-Z0-9-_]+)', url)\n",
        "    if match_ is None:\n",
        "        raise ValueError('Invalid Google Docs URL')\n",
        "    doc_id = match_.group(1)\n",
        "\n",
        "    # Download the document as plain text\n",
        "    response = requests.get(f'https://docs.google.com/document/d/{doc_id}/export?format=txt')\n",
        "    response.raise_for_status()\n",
        "    text = response.text\n",
        "\n",
        "    return text"
      ],
      "metadata": {
        "id": "m7H1ARZRphrQ"
      },
      "execution_count": 4,
      "outputs": []
    },
    {
      "cell_type": "code",
      "source": [
        "# База знаний, которая будет подаваться в langChain\n",
        "database= load_document_text('https://docs.google.com/document/d/1WMp-uMA4_59Ybp2ynCvrFIPV1OwGHQA4zvW526BawJM')            # заполните необходимым значением"
      ],
      "metadata": {
        "id": "ycPZCBGipht3"
      },
      "execution_count": 7,
      "outputs": []
    },
    {
      "cell_type": "code",
      "source": [
        "database[:1000]"
      ],
      "metadata": {
        "id": "2KTsZ3vaphvn",
        "colab": {
          "base_uri": "https://localhost:8080/",
          "height": 123
        },
        "outputId": "513ba603-67da-46aa-cbf9-fd1f0dbe33bb"
      },
      "execution_count": 8,
      "outputs": [
        {
          "output_type": "execute_result",
          "data": {
            "text/plain": [
              "'\\ufeffАдминистративный регламент\\r\\nФедеральной службы по надзору в сфере природопользования предоставления государственной услуги по организации и проведению государственной экологической экспертизы федерального уровня\\r\\nI. Общие положения\\r\\n*Предмет регулирования регламента*\\r\\n1. Административный регламент Федеральной службы по надзору в сфере природопользования предоставления государственной услуги по организации и проведению государственной экологической экспертизы федерального уровня (далее - Регламент) определяет сроки и последовательность административных процедур (действий) при предоставлении Федеральной службой по надзору в сфере природопользования (далее - Росприроднадзор) и ее территориальными органами государственной услуги по организации и проведению государственной экологической экспертизы федерального уровня (далее - государственная услуга), а также порядок взаимодействия между структурными подразделениями Росприроднадзора и территориальными органами Росприроднадзора, их должностн'"
            ],
            "application/vnd.google.colaboratory.intrinsic+json": {
              "type": "string"
            }
          },
          "metadata": {},
          "execution_count": 8
        }
      ]
    },
    {
      "cell_type": "code",
      "source": [
        "# предобработаем текст таким образом, чтобы его можно было бы поделить на чанки при помощи MarkdownHeaderTextSplitter\n",
        "def text_to_markdown(text):\n",
        "    # Добавляем заголовок 1 уровня на основе римских чисел (без переноса строки)\n",
        "    # и дублируем его строчкой ниже - иначе эта информация перенесется в метаданные, а порой она бывает полезной.\n",
        "    def replace_header1(match):\n",
        "        return f\"# {match.group(2)}\\n{match.group(2)}\"\n",
        "    '''Далее используем функцию re.sub из модуля регулярных выражений re для замены подстрок в строке text.\n",
        "    Шаблон регулярного выражения (I{1,3}|IV|V)\\. (.+) ищет римские числа от I до V в начале строки, за которыми следует точка и пробел.\n",
        "    Функция replace_header1 вызывается для каждого совпадения, и ее возвращаемое значение используется для замены найденной подстроки.\n",
        "    Флаг re.M позволяет ^ соответствовать началу каждой строки, а не только началу всего текста.'''\n",
        "    text = re.sub(r'^(I{1,3}|IV|V)\\. (.+)', replace_header1, text, flags=re.M)\n",
        "\n",
        "    # Добавляем текст, выделенный жирным шрифтом (он заключен между *)\n",
        "    # и дублируем его строчкой ниже\n",
        "    def replace_header2(match):\n",
        "        return f\"## {match.group(1)}\\n{match.group(1)}\"\n",
        "\n",
        "    text = re.sub(r'\\*([^\\*]+)\\*', replace_header2, text)\n",
        "\n",
        "    return text"
      ],
      "metadata": {
        "id": "k7VSOfNqp-Ln"
      },
      "execution_count": 9,
      "outputs": []
    },
    {
      "cell_type": "code",
      "source": [
        "markdown = text_to_markdown(database)                 # заполните необходимым значением\n",
        "print(markdown[:15000])"
      ],
      "metadata": {
        "id": "6S-tm0P7p-N4",
        "colab": {
          "base_uri": "https://localhost:8080/"
        },
        "outputId": "d3366641-8b16-476b-d9dc-401d1ac9fa93"
      },
      "execution_count": 11,
      "outputs": [
        {
          "output_type": "stream",
          "name": "stdout",
          "text": [
            "﻿Административный регламент\r\n",
            "Федеральной службы по надзору в сфере природопользования предоставления государственной услуги по организации и проведению государственной экологической экспертизы федерального уровня\r\n",
            "# Общие положения\r\n",
            "Общие положения\r\n",
            "## Предмет регулирования регламента\n",
            "Предмет регулирования регламента\r\n",
            "1. Административный регламент Федеральной службы по надзору в сфере природопользования предоставления государственной услуги по организации и проведению государственной экологической экспертизы федерального уровня (далее - Регламент) определяет сроки и последовательность административных процедур (действий) при предоставлении Федеральной службой по надзору в сфере природопользования (далее - Росприроднадзор) и ее территориальными органами государственной услуги по организации и проведению государственной экологической экспертизы федерального уровня (далее - государственная услуга), а также порядок взаимодействия между структурными подразделениями Росприроднадзора и территориальными органами Росприроднадзора, их должностными лицами и заявителями при предоставлении государственной услуги.\r\n",
            "## Круг заявителей\n",
            "Круг заявителей\r\n",
            "2. Заявителями при предоставлении государственной услуги являются юридические и физические лица, индивидуальные предприниматели либо уполномоченные представители юридических и физических лиц, индивидуальных предпринимателей, обратившиеся с заявлением о предоставлении государственной услуги (далее - Заявитель).\r\n",
            "Уполномоченные представители юридических лиц, представляющие их интересы, могут действовать на основании доверенности, оформленной в соответствии с законодательством Российской Федерации и подписанной лицом, осуществляющим функции единоличного исполнительного органа юридического лица, либо нотариально заверенной копии такой доверенности.\r\n",
            "Уполномоченные представители физических лиц и индивидуальных предпринимателей, представляющие их интересы, могут действовать на основании доверенности, оформленной в соответствии с законодательством Российской Федерации и подписанной физическим лицом или индивидуальным предпринимателем соответственно, либо нотариально заверенной копии такой доверенности.\r\n",
            "В целях удостоверения личности Заявителя, а также его уполномоченного представителя, представление документа, удостоверяющего личность, либо копии такого документа, заверенной в соответствии с законодательством Российской Федерации, обязательно.\r\n",
            "При предоставлении государственной услуги правами и обязанностями Заявителя обладают следующие лица:\r\n",
            "2.1. В отношении объектов, указанных в подпунктах 1-3, 6 статьи 11 Федерального закона от 23.11.1995 № 174-ФЗ \"Об экологической экспертизе\" (Собрание законодательства Российской Федерации, 1995, № 48, ст. 4556; 2020, № 29, ст. 4504) (далее - Федеральный закон № 174-ФЗ) - лица, наделенные правами и обязанностями по разработке проектов нормативно-технических и инструктивно-методических документов в области охраны окружающей среды, утверждаемых органами государственной власти Российской Федерации, проектов федеральных целевых программ, предусматривающих строительство и эксплуатацию объектов хозяйственной деятельности, оказывающих воздействие на окружающую среду, в части размещения таких объектов с учетом режима охраны природных объектов, проектов соглашений о разделе продукции в соответствии с требованиями законодательства Российской Федерации, а также материалов комплексного экологического обследования участков территорий, обосновывающих придание этим территориям правового статуса зоны экологического бедствия или зоны чрезвычайной экологической ситуации;\r\n",
            "2.2. В отношении объектов, указанных в подпункте 4 статьи 11 Федерального закона № 174-ФЗ, - соискатели лицензии (лицензиаты), определенные Положением о лицензировании деятельности в области использования атомной энергии, утвержденным постановлением Правительства Российской Федерации от 29.03.2013 № 280 (Собрание законодательства Российской Федерации, 2013, № 14, ст. 1700; 2016, № 49, ст. 6915);\r\n",
            "2.3. В отношении объектов, указанных в подпункте 5 статьи 11 Федерального закона № 174-ФЗ, - юридическое лицо, индивидуальный предприниматель, являющееся заказчиком по подготовке проекта технической документации, а также осуществляющее подготовку документации по намечаемой деятельности в соответствии с требованиями, предъявляемыми к данному виду деятельности, и представляющее документацию по намечаемой деятельности на экологическую экспертизу;\r\n",
            "2.4. В отношении объектов, указанных в подпункте 7 статьи 11 Федерального закона № 174-ФЗ - лицо, планирующее осуществлять хозяйственную и (или) иную деятельность, а также лицо, отвечающее за подготовку документации, являющейся объектом государственной экологической экспертизы;\r\n",
            "В отношении объектов, указанных в подпунктах 7.1, 7.2, 7.4, 7.5, 7.7, 7.8, 7.9 статьи 11 Федерального закона № 174-ФЗ - лицо, определенное в качестве застройщика (технического заказчика) в соответствии с пунктами 16, 22 статьи 1 Градостроительного кодекса Российской Федерации (Собрание законодательства Российской Федерации, 2005, № 1, ст. 16; 2020, № 29, ст. 4504), а также лицо, отвечающее за подготовку документации, являющейся объектом государственной экологической экспертизы;\r\n",
            "2.5. В отношении объектов, указанных в подпункте 7.3 статьи 11 Федерального закона № 174-ФЗ - лицо, с которым заключен государственный или муниципальный контракт на создание искусственного земельного участка, либо лицо, с которым заключен договор о создании искусственного земельного участка.\r\n",
            "## Требования к порядку информирования о предоставлении государственной услуги\n",
            "Требования к порядку информирования о предоставлении государственной услуги\r\n",
            "3. Информирование по вопросам предоставления государственной услуги, сведений о ходе предоставления государственной услуги осуществляется специалистами Росприроднадзора и территориальных органов Росприроднадзора устно (лично, по телефону), письменно (путем направления ответов заказным почтовым отправлением, по электронной почте, факсимильной связью), посредством размещения информации на официальных сайтах Росприроднадзора и территориальных органов Росприроднадзора в информационно-телекоммуникационной сети \"Интернет\" (далее - Сайт), а также на Едином портале государственных и муниципальных услуг (функций) (далее - ЕПГУ).\r\n",
            "4. Справочная информация, в том числе место размещения и график работы, справочные телефоны структурных подразделений Росприроднадзора и территориальных органов Росприроднадзора, адрес Сайта, а также электронной почты и (или) формы обратной связи Росприроднадзора в информационно-телекоммуникационной сети \"Интернет\" размещается на информационных стендах, расположенных в помещениях Росприроднадзора и его территориальных органов Росприроднадзора, на Сайте, в федеральной государственной информационной системе \"Федеральный реестр государственных и муниципальных услуг (функций)\", созданной в соответствии с Положением о федеральной государственной информационной системе \"Федеральный реестр государственных и муниципальных услуг (функций)\", утвержденным постановлением Правительства Российской Федерации от 24.10.2011 № 861 (далее - федеральный реестр), и на ЕПГУ.\r\n",
            "# Стандарт предоставления государственной услуги\r\n",
            "Стандарт предоставления государственной услуги\r\n",
            "## Наименование государственной услуги\n",
            "Наименование государственной услуги\r\n",
            "5. Государственная услуга по организации и проведению государственной экологической экспертизы федерального уровня.\r\n",
            "## Наименование органа, предоставляющего государственную услугу\n",
            "Наименование органа, предоставляющего государственную услугу\r\n",
            "6. Государственная услуга предоставляется центральным аппаратом Росприроднадзора и территориальными органами Росприроднадзора.\r\n",
            "7. Территориальные органы Росприроднадзора предоставляют государственную услугу на основании поручений центрального аппарата Росприроднадзора, за исключением следующих объектов, при предоставлении государственной услуги в отношении которых поручения центрального аппарата Росприроднадзора не требуются:\r\n",
            "7.1. Материалов общего допустимого улова в районе добычи (вылова) водных биоресурсов во внутренних морских водах Российской Федерации, территориальном море Российской Федерации, на континентальном шельфе Российской Федерации и в исключительной экономической зоне Российской Федерации (кроме материалов общего допустимого улова морских млекопитающих, а также их корректировки);\r\n",
            "7.2. Проектной документации объектов, строительство, реконструкцию которых предполагается осуществлять в границах Байкальской природной территории (кроме объектов, оказывающих негативное воздействие на окружающую среду и относящихся в соответствии с требованиями законодательства Российской Федерации в области охраны окружающей среды к объектам I, II и III категорий);\r\n",
            "7.3. Планов предупреждения и ликвидации разливов нефти и нефтепродуктов, отнесенных к объектам государственной экологической экспертизы федерального уровня в соответствии с требованиями абзаца 6 статьи 31 Федерального закона от 30.11.1995 № 187-ФЗ \"О континентальном шельфе Российской Федерации\" (Собрание законодательства Российской Федерации, 1995, № 49, ст. 4694; 2019, № 51, ст. 7483), а также пункта 4 статьи 34 Федерального закона от 31.07.1998 № 155-ФЗ \"О внутренних морских водах, территориальном море и прилежащей зоне Российской Федерации\" (Собрание законодательства Российской Федерации, 1998, № 31, ст. 3833; 2019, № 51, ст. 7483).\r\n",
            "8. Запрещается требовать от Заявителя осуществления действий, в том числе согласований, необходимых для получения государственной услуги и связанных с обращением в иные государственные органы и организации, за исключением получения услуг, включенных в перечень услуг, которые являются необходимыми и обязательными для предоставления федеральными органами исполнительной власти, Государственной корпорацией по атомной энергии \"Росатом\" государственных услуг и предоставляются организациями, участвующими в предоставлении государственных услуг, утвержденный постановлением Правительства Российской Федерации от 06.05.2011 № 352 (Собрание законодательства Российской Федерации, 2011, № 20, ст. 2829; 2020, № 1, ст. 51).\r\n",
            "## Описание результата предоставления государственной услуги\n",
            "Описание результата предоставления государственной услуги\r\n",
            "9. Результатом предоставления государственной услуги является выдача заключения государственной экологической экспертизы, отвечающего требованиям статьи 18 Федерального закона № 174-ФЗ.\r\n",
            "Срок предоставления государственной услуги, в том числе с учетом необходимости обращения в организации, участвующие в предоставлении государственной услуги, срок приостановления предоставления государственной услуги в случае, если возможность приостановления предусмотрена законодательством Российской Федерации, срок выдачи (направления) документов, являющихся результатом предоставления государственной услуги;\r\n",
            "10. Срок проведения государственной экологической экспертизы устанавливается в приказе или решении об организации и проведении государственной экологической экспертизы Росприроднадзора (территориального органа Росприроднадзора) и не должен превышать 2 месяца с начала ее проведения, определенной в соответствии с датой приказа или решения об организации и проведении государственной экологической экспертизы, указанного в пункте 94 Регламента.\r\n",
            "11. Срок проведения государственной экологической экспертизы проектной документации объектов инфраструктуры территорий опережающего социально-экономического развития, указанных в части 1 статьи 27 Федерального закона от 29.12.2014 № 473-ФЗ \"О территориях опережающего социально-экономического развития в Российской Федерации\" (Собрание законодательства Российской Федерации, 2015, № 1, ст. 26; 2020, № 29, ст. 4504) не может превышать 45 календарных дней после ее предварительной оплаты в полном объеме.\r\n",
            "12. Срок проведения государственной экологической экспертизы проектной документации объектов, находящихся на территории Калининградской области, в случаях, указанных в части 1 статьи 19.2 Федерального закона от 10.01.2006 № 16-ФЗ \"Об Особой экономической зоне в Калининградской области и о внесении изменений в некоторые законодательные акты Российской Федерации\" (Собрание законодательства Российской Федерации, 2006, № 3, ст. 280; 2018, № 31, ст. 4859) (далее - Федеральный закон № 16-ФЗ), не может превышать 45 календарных дней после ее предварительной оплаты и приемки комплекта заявительных документов в полном объеме.\r\n",
            "13. Срок проведения государственной экологической экспертизы, за исключением объектов, указанных в пункте 11 Регламента, может быть продлен приказом или решением Росприроднадзора (территориального органа Росприроднадзора) на срок не более месяца в порядке, предусмотренном пунктами 130-134 Регламента, если иное не предусмотрено Федеральным законом № 174-ФЗ, по заявлению заявителя.\r\n",
            "Срок проведения государственной экологической экспертизы объектов, находящихся на территории Калининградской области, в соответствии с частью 2 статьи 19.2 Федерального закона № 16-ФЗ может быть продлен приказом или решением Росприроднадзора (территориального органа Росприроднадзора) не более чем на 30 календарных дней в порядке, предусмотренном пунктами 130-134 Регламента, если иное не предусмотрено Федеральным законом № 174-ФЗ, по заявлению заявителя.\r\n",
            "14. Срок проверки комплектности заявления и документации, указанных в пунктах 19, 20 Регламента, составляет 7 календарных дней со дня их регистрации в порядке, предусмотренном пунктами 34, 35 Регламента.\r\n",
            "15. Срок оплаты проведения государственной экологической экспертизы составляет 30 календарных дней со дня получения Заявителем соответствующего уведомления.\r\n",
            "16. Срок выдачи (направления) документа, являющегося результатом предоставления государственной услуги, составляет 5 календарных дней с даты завершения государственной экологической экспертизы, определенной в соответствии с приказом или решением об организации и проведении государственной экологической экспертизы.\r\n",
            "17. Срок направления уведомления об отказе в предоставлении государственной услуги по основаниям, указанным в пункте 28 Регламента, составляет не более 7 рабочих дней с момента наступления соответствующего основания.\r\n",
            "## Нормативные правовые акты, регулирующие предоставление государственной услуги\n",
            "Нормативные правовые акты, регулирующие предоставление государственной услуги\r\n",
            "18. Перечень нормативных правовых актов, регулирующих предоставление государственной услуги (с указанием их реквизитов и источников официального опубликования), размещается в местах приема документов, на Сайте, а также в федеральном реестре и на ЕПГУ.\r\n",
            "## Исчерпывающий перечень документов, необходимых в соответствии с нормативными правовыми актами для предоставления государственной услуги и услуг, которые являются необходимыми и обязательными для предоставления государственной услуги, подлежащих представлению Заявителем, способы их получения Заявителем, в том числе в электронной форме, порядок их представления\n",
            "Исчерпывающий перечень документов, необходимых в соответствии с нормативными пр\n"
          ]
        }
      ]
    },
    {
      "cell_type": "code",
      "source": [
        "# Инструкция в system\n",
        "system = load_document_text('https://docs.google.com/document/d/1YiK3ZjSmUnUkSEbPdR_ON4IPtqiD0_gYORaXXye3UMM/edit?usp=sharing') # заполните параметр ссылкой на составленный вами промпт. Не забудьте открыть доступ"
      ],
      "metadata": {
        "id": "zCKwTktHp-Qy"
      },
      "execution_count": 12,
      "outputs": []
    },
    {
      "cell_type": "code",
      "source": [
        "def num_tokens_from_string(string: str, encoding_name: str) -> int:\n",
        "      \"\"\"Возвращает количество токенов в строке\"\"\"\n",
        "      encoding = tiktoken.get_encoding(encoding_name)\n",
        "      num_tokens = len(encoding.encode(string))\n",
        "      return num_tokens\n",
        "\n",
        "def split_text(text, max_count):\n",
        "    headers_to_split_on = [\n",
        "        (\"#\", \"Header 1\"),\n",
        "        (\"##\", \"Header 2\"),\n",
        "        (\"###\", \"Header 3\"),\n",
        "    ]\n",
        "\n",
        "    markdown_splitter = MarkdownHeaderTextSplitter(headers_to_split_on=headers_to_split_on)\n",
        "    fragments = markdown_splitter.split_text(text)\n",
        "\n",
        "    # Подсчет токенов для каждого фрагмента и построение графика\n",
        "    fragment_token_counts = [num_tokens_from_string(fragment.page_content, \"cl100k_base\") for fragment in fragments]\n",
        "    plt.hist(fragment_token_counts, bins=20, alpha=0.5, label='Fragments')\n",
        "    plt.title('Distribution of Fragment Token Counts')\n",
        "    plt.xlabel('Token Count')\n",
        "    plt.ylabel('Frequency')\n",
        "    plt.show()\n",
        "\n",
        "    splitter = RecursiveCharacterTextSplitter(\n",
        "        chunk_size=max_count,\n",
        "        chunk_overlap=0,\n",
        "        length_function=lambda x: num_tokens_from_string(x, \"cl100k_base\")\n",
        "    )\n",
        "\n",
        "    source_chunks = [\n",
        "        Document(page_content=chunk, metadata=fragment.metadata)\n",
        "        for fragment in fragments\n",
        "        for chunk in splitter.split_text(fragment.page_content)\n",
        "    ]\n",
        "\n",
        "    # Подсчет токенов для каждого source_chunk и построение графика\n",
        "    source_chunk_token_counts = [num_tokens_from_string(chunk.page_content, \"cl100k_base\") for chunk in source_chunks]\n",
        "    plt.hist(source_chunk_token_counts, bins=20, alpha=0.5, label='Source Chunks')\n",
        "    plt.title('Distribution of Source Chunk Token Counts')\n",
        "    plt.xlabel('Token Count')\n",
        "    plt.ylabel('Frequency')\n",
        "    plt.show()\n",
        "\n",
        "    return source_chunks"
      ],
      "metadata": {
        "id": "EP8Km7nGp-TL"
      },
      "execution_count": 13,
      "outputs": []
    },
    {
      "cell_type": "code",
      "source": [
        "source_chunks = split_text(markdown, 700)                          # заполните необходимыми значениями\n",
        "print(\"Общее количество чанков: \",len(source_chunks))\n",
        "print(\"Первый чанк \", source_chunks[0])"
      ],
      "metadata": {
        "id": "WPmWCbSzp-V3",
        "colab": {
          "base_uri": "https://localhost:8080/",
          "height": 999
        },
        "outputId": "2653ebcd-1f03-49f3-96ec-fe73c6bc2b86"
      },
      "execution_count": 15,
      "outputs": [
        {
          "output_type": "display_data",
          "data": {
            "text/plain": [
              "<Figure size 640x480 with 1 Axes>"
            ],
            "image/png": "[encoded data removed]"
          },
          "metadata": {}
        },
        {
          "output_type": "display_data",
          "data": {
            "text/plain": [
              "<Figure size 640x480 with 1 Axes>"
            ],
            "image/png": "[encoded data removed]"
          },
          "metadata": {}
        },
        {
          "output_type": "stream",
          "name": "stdout",
          "text": [
            "Общее количество чанков:  90\n",
            "Первый чанк  page_content='Административный регламент\n",
            "Федеральной службы по надзору в сфере природопользования предоставления государственной услуги по организации и проведению государственной экологической экспертизы федерального уровня'\n"
          ]
        }
      ]
    },
    {
      "cell_type": "code",
      "source": [
        "model = SentenceTransformer('paraphrase-MiniLM-L6-v2')\n",
        "# Функция для создания эмбеддингов из массива документов\n",
        "def create_embeddings(documents):\n",
        "    page_contents = [doc.page_content for doc in documents]\n",
        "    return model.encode(page_contents)\n",
        "\n",
        "# Создание эмбеддингов\n",
        "embeddings = create_embeddings(source_chunks)\n",
        "\n",
        "# Создадим индексную базу из разделенных фрагментов текста\n",
        "import numpy as np\n",
        "import faiss\n",
        "# Преобразование эмбеддингов в массив numpy\n",
        "embeddings = np.array(embeddings).astype('float32')\n",
        "\n",
        "# Создание индекса FAISS\n",
        "dimension = embeddings.shape[1]  # Размерность векторов\n",
        "db = faiss.IndexFlatL2(dimension)  # Использование L2 метрики\n",
        "\n",
        "# Добавление векторов в индекс\n",
        "db.add(embeddings)"
      ],
      "metadata": {
        "id": "frp1dOjvp-Y2"
      },
      "execution_count": 17,
      "outputs": []
    },
    {
      "cell_type": "code",
      "source": [
        "def insert_newlines(text: str, max_len: int = 170) -> str:\n",
        "    \"\"\"\n",
        "    Функция разбивает длинный текст на строки определенной максимальной длины.\n",
        "    \"\"\"\n",
        "    words = text.split()\n",
        "    lines = []\n",
        "    current_line = \"\"\n",
        "    for word in words:\n",
        "        if len(current_line + \" \" + word) > max_len:\n",
        "            lines.append(current_line)\n",
        "            current_line = \"\"\n",
        "        current_line += \" \" + word\n",
        "    lines.append(current_line)\n",
        "    return \"\\n\".join(lines)"
      ],
      "metadata": {
        "id": "Gpjvpa58rU5K"
      },
      "execution_count": 18,
      "outputs": []
    },
    {
      "cell_type": "code",
      "source": [
        "def answer_index(system, topic, query_vector, source_chunks, search_index, verbose=1):\n",
        "\n",
        "    # Поиск релевантных отрезков из базы знаний\n",
        "    distances, indices =  search_index.search(query_vector, k=4)\n",
        "    #indices_list = indices[0].tolist()\n",
        "    # Вывод ближайших документов\n",
        "    docs = [source_chunks[i] for i in indices[0]]\n",
        "    if verbose: print('\\n ===========================================: ')\n",
        "    message_content = re.sub(r'\\n{2}', ' ', '\\n '.join([f'\\nОтрывок документа №{i+1}\\n=====================' + doc.page_content + '\\n' for i, doc in enumerate(docs)]))\n",
        "    if verbose: print('message_content :\\n ======================================== \\n', message_content)\n",
        "    client = Mistral(api_key=api_key)\n",
        "    messages = [\n",
        "        {\"role\": \"system\", \"content\": system},\n",
        "        {\"role\": \"user\", \"content\": f\"Ответь на вопрос. Документ с информацией для ответа: {message_content}\\n\\nВопрос пользователя: \\n{topic}\"}\n",
        "    ]\n",
        "\n",
        "    if verbose: print('\\n ===========================================: ')\n",
        "\n",
        "    completion = client.chat.complete(\n",
        "        model=\"mistral-small-latest\",             # выберите модель самостоятельно\n",
        "        messages=messages,\n",
        "        temperature=0          # укажите значение\n",
        "    )\n",
        "    answer = completion.choices[0].message.content\n",
        "    return answer  # возвращает ответ"
      ],
      "metadata": {
        "id": "ArIrvMbDrU74"
      },
      "execution_count": 19,
      "outputs": []
    },
    {
      "cell_type": "code",
      "source": [
        "def summarize_questions(dialog):\n",
        "    \"\"\"\n",
        "    Функция возвращает саммаризированный текст диалога.\n",
        "    \"\"\"\n",
        "    messages = [\n",
        "        {\"role\": \"system\", \"content\": \"Ты - нейро-саммаризатор. Твоя задача - саммаризировать диалог, который тебе пришел. Если пользователь назвал свое имя, обязательно отрази его в саммаризированном диалоге\"},\n",
        "        {\"role\": \"user\", \"content\": \"Саммаризируй следующий диалог консультанта и пользователя: \" + \" \".join(dialog)}\n",
        "    ]\n",
        "\n",
        "    completion = client.chat.complete(\n",
        "        model=\"mistral-small-latest\",             # выберите модель самостоятельно\n",
        "        messages=messages,\n",
        "        temperature=0          # укажите значение\n",
        "    )\n",
        "\n",
        "    return completion.choices[0].message.content"
      ],
      "metadata": {
        "id": "XLRCb2q0rU-f"
      },
      "execution_count": 20,
      "outputs": []
    },
    {
      "cell_type": "code",
      "source": [
        "def answer_user_question_dialog(system, db, user_question, question_history):\n",
        "    \"\"\"\n",
        "    Функция возвращает ответ на вопрос пользователя.\n",
        "    \"\"\"\n",
        "    summarized_history = \"\"\n",
        "    # Если в истории более одного вопроса, применяем суммаризацию\n",
        "    if len(question_history) > 0:\n",
        "        summarized_history = \"Вот саммаризированный предыдущий диалог с пользователем: \" +summarize_questions([q + ' ' + (a if a else '') for q, a in question_history])\n",
        "\n",
        "    topic = summarized_history + \" Актуальный вопрос пользователя: \" + user_question\n",
        "\n",
        "    # Получаем ответ, используя только user_question для поиска в базе данных\n",
        "    query_vector = model.encode([user_question])\n",
        "    query_vector = np.array(query_vector).astype('float32')\n",
        "\n",
        "    answer_text = answer_index(system, topic, query_vector, source_chunks, db)\n",
        "\n",
        "    question_history.append((user_question, answer_text if answer_text else ''))\n",
        "    # Выводим саммаризированный текст, который видит модель\n",
        "    if summarized_history:\n",
        "        print('****************************')\n",
        "        print(summarized_history)\n",
        "        print('****************************')\n",
        "\n",
        "    return answer_text\n"
      ],
      "metadata": {
        "id": "KikMwFuprVBK"
      },
      "execution_count": 24,
      "outputs": []
    },
    {
      "cell_type": "code",
      "source": [
        "def run_dialog(system_doc_url, knowledge_base_url):\n",
        "    \"\"\"\n",
        "    Функция запускает диалог между пользователем и нейро-консультантом.\n",
        "    \"\"\"\n",
        "    #список кортежей, где каждый кортеж содержит пару вопрос-ответ, для отслеживания истории вопросов и ответов во время сессии диалога.\n",
        "    question_history = []\n",
        "    while True:\n",
        "        user_question = input('Пользователь: ')\n",
        "        if user_question.lower() == 'stop':\n",
        "            break\n",
        "        answer = answer_user_question_dialog(system_doc_url, knowledge_base_url, user_question, question_history)\n",
        "        print('Консультант:', insert_newlines(answer))\n",
        "\n",
        "    return"
      ],
      "metadata": {
        "id": "HkeOAyyxrVDz"
      },
      "execution_count": 22,
      "outputs": []
    },
    {
      "cell_type": "code",
      "source": [
        "# проверьте работу нейро-консультанта на нескольких самостоятельно сгенерированных вопросах. Проверьте, что соблюдаются инструкции и поддерживается диалог\n",
        "run_dialog(system, db)"
      ],
      "metadata": {
        "id": "KSr60QT8ePrH",
        "colab": {
          "base_uri": "https://localhost:8080/"
        },
        "outputId": "c7838112-bb69-4c10-b574-f60eaaad6a22"
      },
      "execution_count": 25,
      "outputs": [
        {
          "name": "stdout",
          "output_type": "stream",
          "text": [
            "Пользователь: User admin\n",
            "\n",
            " ===========================================: \n",
            "message_content :\n",
            " ======================================== \n",
            " \n",
            "Отрывок документа №1\n",
            "=====================2.1. В отношении объектов, указанных в подпунктах 1-3, 6 статьи 11 Федерального закона от 23.11.1995 № 174-ФЗ \"Об экологической экспертизе\" (Собрание законодательства Российской Федерации, 1995, № 48, ст. 4556; 2020, № 29, ст. 4504) (далее - Федеральный закон № 174-ФЗ) - лица, наделенные правами и обязанностями по разработке проектов нормативно-технических и инструктивно-методических документов в области охраны окружающей среды, утверждаемых органами государственной власти Российской Федерации, проектов федеральных целевых программ, предусматривающих строительство и эксплуатацию объектов хозяйственной деятельности, оказывающих воздействие на окружающую среду, в части размещения таких объектов с учетом режима охраны природных объектов, проектов соглашений о разделе продукции в соответствии с требованиями законодательства Российской Федерации, а также материалов комплексного экологического обследования участков территорий, обосновывающих придание этим территориям правового статуса зоны экологического бедствия или зоны чрезвычайной экологической ситуации;\n",
            "2.2. В отношении объектов, указанных в подпункте 4 статьи 11 Федерального закона № 174-ФЗ, - соискатели лицензии (лицензиаты), определенные Положением о лицензировании деятельности в области использования атомной энергии, утвержденным постановлением Правительства Российской Федерации от 29.03.2013 № 280 (Собрание законодательства Российской Федерации, 2013, № 14, ст. 1700; 2016, № 49, ст. 6915);  \n",
            "Отрывок документа №2\n",
            "=====================20.4. Заключения общественной экологической экспертизы в случае ее проведения.\n",
            "20.5. Иные документы (в случае наличия).\n",
            "21. Указанная в пунктах 19, 20 Регламента документация, подлежащая государственной экологической экспертизе (далее - заявительные документы), представляется Заявителем лично или почтовым отправлением на бумажном носителе в одном экземпляре и (или) в форме электронных документов (далее - в электронной форме) - в одном экземпляре.\n",
            "Заявление независимо от способа подачи представляется в одном экземпляре.\n",
            "21.1. Заявительные документы могут быть поданы в форме электронных документов, за исключением случаев, когда такие документы содержат сведения, составляющие государственную тайну и относятся к служебной информации ограниченного распространения.\n",
            "22. В случае подачи в электронной форме заявительные документы формируются посредством заполнения формы электронного документа и подписания его усиленной квалифицированной электронной подписью с использованием ЕПГУ, а также ведомственного программного ресурса, созданного в целях реализации прав Заявителя, предусмотренных пунктом 3 статьи 5 Федерального закона от 27.07.2010 № 210-ФЗ \"Об организации предоставления государственных и муниципальных услуг\" (Собрание законодательства Российской Федерации, 2010, № 31, ст. 4179; 2019, № 52, ст. 7790) (далее - Федеральный закон № 210-ФЗ) (далее - ведомственный программный продукт), без необходимости дополнительной подачи заявления в бумажной форме.  \n",
            "Отрывок документа №3\n",
            "=====================Информация для заинтересованных лиц об их праве на досудебное (внесудебное) обжалование действий (бездействия) и (или) решений, принятых (осуществленных) в ходе предоставления государственной услуги\n",
            "177. Заявитель имеет право на обжалование решений и (или) действий (бездействия) Росприроднадзора (территориальных органов Росприроднадзора), их должностных лиц при предоставлении государственной услуги.\n",
            "178. Заявитель вправе обратиться с жалобой, в том числе в следующих случаях:\n",
            "178.1. Нарушение срока регистрации заявительных документов о предоставлении государственной услуги.\n",
            "178.2. Нарушение сроков предоставления государственной услуги.\n",
            "178.3. Требование у Заявителя документов или информации либо осуществления действий, представление или осуществление которых не предусмотрено, не предусмотренных нормативными правовыми актами Российской Федерации для предоставления государственной услуги, а также Регламентом.\n",
            "178.4. Отказ в приеме документов, предоставление которых предусмотрено нормативными правовыми актами Российской Федерации, Регламента, у заявителя.\n",
            "178.5. Отказ в приеме документов по основаниям, не предусмотренным требованиями Регламента.\n",
            "178.6. Отказ в предоставлении государственной услуги по основаниям, не предусмотренным Регламентом.\n",
            "178.7. Затребование с Заявителя при предоставлении государственной услуги платы, не предусмотренной нормативными правовыми актами Российской Федерации.  \n",
            "Отрывок документа №4\n",
            "=====================2.3. В отношении объектов, указанных в подпункте 5 статьи 11 Федерального закона № 174-ФЗ, - юридическое лицо, индивидуальный предприниматель, являющееся заказчиком по подготовке проекта технической документации, а также осуществляющее подготовку документации по намечаемой деятельности в соответствии с требованиями, предъявляемыми к данному виду деятельности, и представляющее документацию по намечаемой деятельности на экологическую экспертизу;\n",
            "2.4. В отношении объектов, указанных в подпункте 7 статьи 11 Федерального закона № 174-ФЗ - лицо, планирующее осуществлять хозяйственную и (или) иную деятельность, а также лицо, отвечающее за подготовку документации, являющейся объектом государственной экологической экспертизы;\n",
            "В отношении объектов, указанных в подпунктах 7.1, 7.2, 7.4, 7.5, 7.7, 7.8, 7.9 статьи 11 Федерального закона № 174-ФЗ - лицо, определенное в качестве застройщика (технического заказчика) в соответствии с пунктами 16, 22 статьи 1 Градостроительного кодекса Российской Федерации (Собрание законодательства Российской Федерации, 2005, № 1, ст. 16; 2020, № 29, ст. 4504), а также лицо, отвечающее за подготовку документации, являющейся объектом государственной экологической экспертизы;\n",
            "2.5. В отношении объектов, указанных в подпункте 7.3 статьи 11 Федерального закона № 174-ФЗ - лицо, с которым заключен государственный или муниципальный контракт на создание искусственного земельного участка, либо лицо, с которым заключен договор о создании искусственного земельного участка.\n",
            "\n",
            "\n",
            " ===========================================: \n",
            "Консультант:  Какой документ необходимо подать для организации и проведения государственной экологической экспертизы федерального уровня?\n",
            "Пользователь: Какой документ необходимо подать для организации и проведения государственной экологической экспертизы федерального уровня?\n",
            "\n",
            " ===========================================: \n",
            "message_content :\n",
            " ======================================== \n",
            " \n",
            "Отрывок документа №1\n",
            "=====================12. Срок проведения государственной экологической экспертизы проектной документации объектов, находящихся на территории Калининградской области, в случаях, указанных в части 1 статьи 19.2 Федерального закона от 10.01.2006 № 16-ФЗ \"Об Особой экономической зоне в Калининградской области и о внесении изменений в некоторые законодательные акты Российской Федерации\" (Собрание законодательства Российской Федерации, 2006, № 3, ст. 280; 2018, № 31, ст. 4859) (далее - Федеральный закон № 16-ФЗ), не может превышать 45 календарных дней после ее предварительной оплаты и приемки комплекта заявительных документов в полном объеме.\n",
            "13. Срок проведения государственной экологической экспертизы, за исключением объектов, указанных в пункте 11 Регламента, может быть продлен приказом или решением Росприроднадзора (территориального органа Росприроднадзора) на срок не более месяца в порядке, предусмотренном пунктами 130-134 Регламента, если иное не предусмотрено Федеральным законом № 174-ФЗ, по заявлению заявителя.\n",
            "Срок проведения государственной экологической экспертизы объектов, находящихся на территории Калининградской области, в соответствии с частью 2 статьи 19.2 Федерального закона № 16-ФЗ может быть продлен приказом или решением Росприроднадзора (территориального органа Росприроднадзора) не более чем на 30 календарных дней в порядке, предусмотренном пунктами 130-134 Регламента, если иное не предусмотрено Федеральным законом № 174-ФЗ, по заявлению заявителя.  \n",
            "Отрывок документа №2\n",
            "=====================73. Обращения граждан и организаций, связанные с определением места предоставления государственной услуги по организации и проведению государственной экологической экспертизы федерального уровня, рассматриваются в порядке, предусмотренном Федеральным законом от 02.05.2006 № 59-ФЗ \"О порядке рассмотрения обращений граждан Российской Федерации\" (Собрание законодательства Российской Федерации, 2006, № 19, ст. 2060; 2018, № 53, ст. 8454) (далее - Федеральный закон № 59-ФЗ).  \n",
            "Отрывок документа №3\n",
            "=====================Особое мнение оформляется экспертом в виде документа, содержащего обоснование причин несогласия эксперта с выводами заключения и указание конкретных фактов несоответствия (соответствия) представленных на экспертизу документов экологическим требованиям и нормам, установленным техническими регламентами и законодательством Российской Федерации в области охраны окружающей среды.\n",
            "130. Основанием для продления срока проведения государственной экологической экспертизы является заявление, поданное Заявителем не позднее дня, следующего за днем заключительного заседания, проводимого в соответствии с пунктом 116 Регламента.\n",
            "131. При наличии основания, указанного в пункте 130 Регламента, ответственный секретарь готовит проект приказа или решения о продлении срока проведения государственной экологической экспертизы на срок не более месяца.\n",
            "132. Приказ или решение о продлении срока проведения государственной экологической экспертизы оформляется за подписью руководителя (лица, замещающего руководителя) Росприроднадзора (территориального органа Росприроднадзора).\n",
            "133. После утверждения приказа или решения о продлении срока проведения государственной экологической экспертизы ответственным секретарем и экспертной комиссией:\n",
            "о принятом решении в течение 3 рабочих дней с даты подписания приказа или решения о продлении срока уведомляется Заявитель путем направления письма заказным почтовым отправлением, на адрес электронной почты либо направлением уведомления в форме электронного документа посредством ведомственного программного ресурса;  \n",
            "Отрывок документа №4\n",
            "=====================Перечень услуг, которые являются необходимыми и обязательными для предоставления государственной услуги, в том числе сведения о документе (документах), выдаваемом (выдаваемых) организациями, участвующими в предоставлении государственной услуги\n",
            "29. При предоставлении государственной услуги получение иных услуг, необходимых и обязательных для предоставления государственной услуги, а также участие иных организаций в предоставлении государственной услуги не требуется.\n",
            "\n",
            "\n",
            " ===========================================: \n",
            "****************************\n",
            "Вот саммаризированный предыдущий диалог с пользователем: Консультант: Для организации и проведения государственной экологической экспертизы федерального уровня необходимо подать соответствующий документ.\n",
            "****************************\n",
            "Консультант:  Для организации и проведения государственной экологической экспертизы федерального уровня необходимо подать комплект заявительных документов.\n",
            "Пользователь: Какие документы необходимы для удостоверения личности заявителя или его уполномоченного представителя?\n",
            "\n",
            " ===========================================: \n",
            "message_content :\n",
            " ======================================== \n",
            " \n",
            "Отрывок документа №1\n",
            "=====================65. Начальник уполномоченного подразделения в течение 1 рабочего дня принимает решение о назначении ответственного должностного лица (далее - ответственный исполнитель) с учетом его должностных обязанностей. Ответственный исполнитель в соответствии с резолюцией получает заявительные документы для их рассмотрения.\n",
            "66. При поступлении заявительных документов в центральный аппарат Росприроднадзора:\n",
            "66.1. Ответственный исполнитель, получив заявительные документы, определяет, является ли документация объектом государственной экологической экспертизы федерального уровня.\n",
            "66.2. В случае, если документация не является объектом государственной экологической экспертизы федерального уровня, в адрес заявителя в срок, определенный пунктом 17 Регламента, направляется мотивированное уведомление об отказе в предоставлении государственной услуги, подготовленное ответственным исполнителем и подписанное руководителем (заместителем руководителя в соответствии с распределением обязанностей) Росприроднадзора (территориального органа Росприроднадзора).\n",
            "66.3. В случае, если документация является объектом государственной экологической экспертизы, начальник уполномоченного подразделения готовит предложения по определению органа, уполномоченного на проведение государственной экологической экспертизы (центральный аппарат или территориальный орган Росприроднадзора).  \n",
            "Отрывок документа №2\n",
            "=====================Органы государственной власти, организации и уполномоченные на рассмотрение жалобы лица, которым может быть направлена жалоба Заявителя в досудебном (внесудебном) порядке\n",
            "179. Органом государственной власти, уполномоченным на рассмотрение жалобы, является центральный аппарат Росприроднадзора, должностным лицом - руководитель Росприроднадзора. В случае, если обжалуются решения руководителя Росприроднадзора, жалоба подается в Минприроды России.\n",
            "180. Решения и (или) действия (бездействие) Росприроднадзора (территориальных органов Росприроднадзора) также могут быть обжалованы заинтересованным лицом в судебном порядке.  \n",
            "Отрывок документа №3\n",
            "=====================Формы контроля за предоставлением государственной услуги  \n",
            "Отрывок документа №4\n",
            "=====================7.3. Планов предупреждения и ликвидации разливов нефти и нефтепродуктов, отнесенных к объектам государственной экологической экспертизы федерального уровня в соответствии с требованиями абзаца 6 статьи 31 Федерального закона от 30.11.1995 № 187-ФЗ \"О континентальном шельфе Российской Федерации\" (Собрание законодательства Российской Федерации, 1995, № 49, ст. 4694; 2019, № 51, ст. 7483), а также пункта 4 статьи 34 Федерального закона от 31.07.1998 № 155-ФЗ \"О внутренних морских водах, территориальном море и прилежащей зоне Российской Федерации\" (Собрание законодательства Российской Федерации, 1998, № 31, ст. 3833; 2019, № 51, ст. 7483).\n",
            "8. Запрещается требовать от Заявителя осуществления действий, в том числе согласований, необходимых для получения государственной услуги и связанных с обращением в иные государственные органы и организации, за исключением получения услуг, включенных в перечень услуг, которые являются необходимыми и обязательными для предоставления федеральными органами исполнительной власти, Государственной корпорацией по атомной энергии \"Росатом\" государственных услуг и предоставляются организациями, участвующими в предоставлении государственных услуг, утвержденный постановлением Правительства Российской Федерации от 06.05.2011 № 352 (Собрание законодательства Российской Федерации, 2011, № 20, ст. 2829; 2020, № 1, ст. 51).\n",
            "\n",
            "\n",
            " ===========================================: \n",
            "****************************\n",
            "Вот саммаризированный предыдущий диалог с пользователем: Пользователь admin задал вопрос о необходимых документах для организации и проведения государственной экологической экспертизы федерального уровня. Консультант ответил, что для этого необходимо подать комплект заявительных документов.\n",
            "****************************\n",
            "Консультант:  Для удостоверения личности заявителя или его уполномоченного представителя при подаче заявительных документов для организации и проведения государственной экологической\n",
            " экспертизы федерального уровня необходимо предоставить следующие документы: 1. Паспорт гражданина Российской Федерации. 2. Свидетельство о рождении (для\n",
            " несовершеннолетних). 3. Удостоверение личности иностранного гражданина или лица без гражданства. 4. Документ, удостоверяющий личность представителя юридического лица\n",
            " (например, удостоверение представителя). Эти документы необходимы для подтверждения личности заявителя или его уполномоченного представителя и обеспечения прозрачности и\n",
            " законности процесса подачи заявительных документов.\n",
            "Пользователь: Какие органы предоставляют государственную услугу по организации и проведению экологической экспертизы?\n",
            "\n",
            " ===========================================: \n",
            "message_content :\n",
            " ======================================== \n",
            " \n",
            "Отрывок документа №1\n",
            "=====================Прием и регистрация заявительных документов. Определение органа, уполномоченного на проведение государственной экологической экспертизы\n",
            "55. Основанием для начала административной процедуры является поступление в центральный аппарат или территориальный орган Росприроднадзора, уполномоченный на проведение государственной экологической экспертизы, заявительных документов.\n",
            "56. Заявители имеют право направить заявительные документы почтовым отправлением, либо предоставить их лично, либо в электронной форме с подписанием их усиленной квалифицированной электронной подписью.\n",
            "57. При представлении заявительных документов лично Заявителем должностное лицо структурного подразделения Росприроднадзора (территориального органа Росприроднадзора), ответственного за работу с Заявителями, делает отметку о приеме заявления.\n",
            "58. Отметка о приеме заявительных документов проставляется на копии заявления. В отметке указывается дата и время приема, фамилия, имя, отчество (при наличии) принявшего заявительные документы должностного лица Росприроднадзора (территориального органа Росприроднадзора), контактные и справочные телефоны. Копия заявления с отметкой о приеме заявления передается Заявителю.\n",
            "59. В случае отсутствия у Заявителя копии заявления и описи прилагаемых документов уполномоченное должностное лицо структурного подразделения Росприроднадзора (территориального органа Росприроднадзора), ответственного за работу с Заявителями, самостоятельно осуществляет копирование заявления и описи прилагаемых документов.  \n",
            "Отрывок документа №2\n",
            "=====================73. Обращения граждан и организаций, связанные с определением места предоставления государственной услуги по организации и проведению государственной экологической экспертизы федерального уровня, рассматриваются в порядке, предусмотренном Федеральным законом от 02.05.2006 № 59-ФЗ \"О порядке рассмотрения обращений граждан Российской Федерации\" (Собрание законодательства Российской Федерации, 2006, № 19, ст. 2060; 2018, № 53, ст. 8454) (далее - Федеральный закон № 59-ФЗ).  \n",
            "Отрывок документа №3\n",
            "=====================Нормативные правовые акты, регулирующие предоставление государственной услуги\n",
            "18. Перечень нормативных правовых актов, регулирующих предоставление государственной услуги (с указанием их реквизитов и источников официального опубликования), размещается в местах приема документов, на Сайте, а также в федеральном реестре и на ЕПГУ.  \n",
            "Отрывок документа №4\n",
            "=====================Проведение государственной экологической экспертизы. Продление срока проведения государственной экологической экспертизы\n",
            "107. Основанием для начала административной процедуры является утверждение Росприроднадзором (территориальным органом Росприроднадзора) Решения об организации.\n",
            "108. Работа экспертной комиссии начинается с проведения организационного заседания, на котором присутствуют руководитель экспертной комиссии, ответственный секретарь, члены экспертной комиссии, а также могут присутствовать Заявитель (его представители), представители иных заинтересованных органов государственной власти и (или) органов местного самоуправления, общественных организаций.\n",
            "109. При согласии экспертной комиссии и наличии технической возможности члены экспертной комиссии, а также Заявитель, его представители, представители заинтересованных органов государственной власти, органов местного самоуправления, общественных организаций могут участвовать в заседаниях экспертной комиссий путем использования систем видеоконференц-связи.\n",
            "\n",
            "\n",
            " ===========================================: \n",
            "****************************\n",
            "Вот саммаризированный предыдущий диалог с пользователем: User admin задал вопрос о необходимых документах для организации и проведения государственной экологической экспертизы федерального уровня. Консультант ответил, что для этого необходимо подать комплект заявительных документов. Также были уточнены документы для удостоверения личности заявителя или его уполномоченного представителя: паспорт гражданина РФ, свидетельство о рождении (для несовершеннолетних), удостоверение личности иностранного гражданина или лица без гражданства, а также документ, удостоверяющий личность представителя юридического лица.\n",
            "****************************\n",
            "Консультант:  Государственная услуга по организации и проведению государственной экологической экспертизы федерального уровня предоставляется центральным аппаратом или территориальным\n",
            " органом Федеральной службы по надзору в сфере природопользования (Росприроднадзор).\n",
            "Пользователь: В каких случаях возможно продление срока проведения экологической экспертизы?\n",
            "\n",
            " ===========================================: \n",
            "message_content :\n",
            " ======================================== \n",
            " \n",
            "Отрывок документа №1\n",
            "=====================Прием и регистрация заявительных документов. Определение органа, уполномоченного на проведение государственной экологической экспертизы\n",
            "55. Основанием для начала административной процедуры является поступление в центральный аппарат или территориальный орган Росприроднадзора, уполномоченный на проведение государственной экологической экспертизы, заявительных документов.\n",
            "56. Заявители имеют право направить заявительные документы почтовым отправлением, либо предоставить их лично, либо в электронной форме с подписанием их усиленной квалифицированной электронной подписью.\n",
            "57. При представлении заявительных документов лично Заявителем должностное лицо структурного подразделения Росприроднадзора (территориального органа Росприроднадзора), ответственного за работу с Заявителями, делает отметку о приеме заявления.\n",
            "58. Отметка о приеме заявительных документов проставляется на копии заявления. В отметке указывается дата и время приема, фамилия, имя, отчество (при наличии) принявшего заявительные документы должностного лица Росприроднадзора (территориального органа Росприроднадзора), контактные и справочные телефоны. Копия заявления с отметкой о приеме заявления передается Заявителю.\n",
            "59. В случае отсутствия у Заявителя копии заявления и описи прилагаемых документов уполномоченное должностное лицо структурного подразделения Росприроднадзора (территориального органа Росприроднадзора), ответственного за работу с Заявителями, самостоятельно осуществляет копирование заявления и описи прилагаемых документов.  \n",
            "Отрывок документа №2\n",
            "=====================2.3. В отношении объектов, указанных в подпункте 5 статьи 11 Федерального закона № 174-ФЗ, - юридическое лицо, индивидуальный предприниматель, являющееся заказчиком по подготовке проекта технической документации, а также осуществляющее подготовку документации по намечаемой деятельности в соответствии с требованиями, предъявляемыми к данному виду деятельности, и представляющее документацию по намечаемой деятельности на экологическую экспертизу;\n",
            "2.4. В отношении объектов, указанных в подпункте 7 статьи 11 Федерального закона № 174-ФЗ - лицо, планирующее осуществлять хозяйственную и (или) иную деятельность, а также лицо, отвечающее за подготовку документации, являющейся объектом государственной экологической экспертизы;\n",
            "В отношении объектов, указанных в подпунктах 7.1, 7.2, 7.4, 7.5, 7.7, 7.8, 7.9 статьи 11 Федерального закона № 174-ФЗ - лицо, определенное в качестве застройщика (технического заказчика) в соответствии с пунктами 16, 22 статьи 1 Градостроительного кодекса Российской Федерации (Собрание законодательства Российской Федерации, 2005, № 1, ст. 16; 2020, № 29, ст. 4504), а также лицо, отвечающее за подготовку документации, являющейся объектом государственной экологической экспертизы;\n",
            "2.5. В отношении объектов, указанных в подпункте 7.3 статьи 11 Федерального закона № 174-ФЗ - лицо, с которым заключен государственный или муниципальный контракт на создание искусственного земельного участка, либо лицо, с которым заключен договор о создании искусственного земельного участка.  \n",
            "Отрывок документа №3\n",
            "=====================7.3. Планов предупреждения и ликвидации разливов нефти и нефтепродуктов, отнесенных к объектам государственной экологической экспертизы федерального уровня в соответствии с требованиями абзаца 6 статьи 31 Федерального закона от 30.11.1995 № 187-ФЗ \"О континентальном шельфе Российской Федерации\" (Собрание законодательства Российской Федерации, 1995, № 49, ст. 4694; 2019, № 51, ст. 7483), а также пункта 4 статьи 34 Федерального закона от 31.07.1998 № 155-ФЗ \"О внутренних морских водах, территориальном море и прилежащей зоне Российской Федерации\" (Собрание законодательства Российской Федерации, 1998, № 31, ст. 3833; 2019, № 51, ст. 7483).\n",
            "8. Запрещается требовать от Заявителя осуществления действий, в том числе согласований, необходимых для получения государственной услуги и связанных с обращением в иные государственные органы и организации, за исключением получения услуг, включенных в перечень услуг, которые являются необходимыми и обязательными для предоставления федеральными органами исполнительной власти, Государственной корпорацией по атомной энергии \"Росатом\" государственных услуг и предоставляются организациями, участвующими в предоставлении государственных услуг, утвержденный постановлением Правительства Российской Федерации от 06.05.2011 № 352 (Собрание законодательства Российской Федерации, 2011, № 20, ст. 2829; 2020, № 1, ст. 51).  \n",
            "Отрывок документа №4\n",
            "=====================73. Обращения граждан и организаций, связанные с определением места предоставления государственной услуги по организации и проведению государственной экологической экспертизы федерального уровня, рассматриваются в порядке, предусмотренном Федеральным законом от 02.05.2006 № 59-ФЗ \"О порядке рассмотрения обращений граждан Российской Федерации\" (Собрание законодательства Российской Федерации, 2006, № 19, ст. 2060; 2018, № 53, ст. 8454) (далее - Федеральный закон № 59-ФЗ).\n",
            "\n",
            "\n",
            " ===========================================: \n",
            "****************************\n",
            "Вот саммаризированный предыдущий диалог с пользователем: Пользователь admin задал вопросы о документах, необходимых для организации и проведения государственной экологической экспертизы федерального уровня, а также о документах для удостоверения личности заявителя или его представителя. Консультант ответил, что для организации экспертизы необходимо подать комплект заявительных документов, а для удостоверения личности требуются паспорт гражданина РФ, свидетельство о рождении (для несовершеннолетних), удостоверение личности иностранного гражданина или лица без гражданства, а также документ, удостоверяющий личность представителя юридического лица. Государственную услугу по организации экспертизы предоставляет центральный аппарат или территориальный орган Федеральной службы по надзору в сфере природопользования (Росприроднадзор).\n",
            "****************************\n",
            "Консультант:  В соответствии с предоставленной информацией, сроки проведения государственной экологической экспертизы федерального уровня регулируются соответствующими нормативными\n",
            " актами. В общих случаях, если не предусмотрены иные сроки, срок проведения экологической экспертизы составляет 120 дней с момента поступления заявительных документов.\n",
            " Продление срока проведения экологической экспертизы может быть возможно в следующих случаях: 1. **По запросу заявителя**: Заявитель может обратиться с запросом о\n",
            " продлении срока проведения экологической экспертизы. В таком случае, Росприроднадзор может рассмотреть возможность продления срока, если это обосновано и не противоречит\n",
            " законодательству. 2. **По инициативе Росприроднадзора**: В случае, если Росприроднадзор не сможет выполнить экспертизу в установленные сроки по объективным причинам, он\n",
            " может инициировать продление срока. 3. **Согласование с заявителем**: В любом случае продление срока должно быть согласовано с заявителем. Важно отметить, что продление\n",
            " срока проведения экологической экспертизы должно быть обоснованно и не должно нарушать права заявителя на получение услуги в разумные сроки.\n",
            "Пользователь: stop\n"
          ]
        }
      ]
    }
  ]
}