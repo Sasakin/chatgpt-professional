{
 "cells": [
  {
   "cell_type": "code",
   "execution_count": null,
   "metadata": {},
   "outputs": [],
   "source": [
    "!pip install requests"
   ]
  },
  {
   "cell_type": "code",
   "execution_count": null,
   "metadata": {},
   "outputs": [],
   "source": [
    "# Импортируем необходимые библиотеки\n",
    "import requests\n",
    "\n",
    "# Определим базовый URL вашего API\n",
    "BASE_URL = \"http://127.0.0.1:8000\"\n",
    "\n",
    "# Функция для тестирования операций\n",
    "def test_calculator(operation, num1, num2):\n",
    "    url = f\"{BASE_URL}/{operation}\"\n",
    "    response = requests.post(url, json={\"num1\": num1, \"num2\": num2})\n",
    "    return response.json()"
   ]
  },
  {
   "cell_type": "code",
   "execution_count": null,
   "metadata": {},
   "outputs": [],
   "source": [
    "# Тестирование сложения\n",
    "result_add = test_calculator(\"add\", 5, 3)\n",
    "print(\"Сложение 5 + 3 =\", result_add)"
   ]
  },
  {
   "cell_type": "code",
   "execution_count": null,
   "metadata": {},
   "outputs": [],
   "source": [
    "# Тестирование вычитания\n",
    "result_subtract = test_calculator(\"subtract\", 5, 3)\n",
    "print(\"Вычитание 5 - 3 =\", result_subtract)"
   ]
  },
  {
   "cell_type": "code",
   "execution_count": null,
   "metadata": {},
   "outputs": [],
   "source": [
    "# Тестирование умножения\n",
    "result_multiply = test_calculator(\"multiply\", 5, 3)\n",
    "print(\"Умножение 5 * 3 =\", result_multiply)"
   ]
  },
  {
   "cell_type": "code",
   "execution_count": null,
   "metadata": {},
   "outputs": [],
   "source": [
    "# Тестирование деления\n",
    "result_divide = test_calculator(\"divide\", 5, 3)\n",
    "print(\"Деление 5 / 3 =\", result_divide)"
   ]
  },
  {
   "cell_type": "code",
   "execution_count": null,
   "metadata": {},
   "outputs": [],
   "source": [
    "# Тестирование деления на ноль\n",
    "result_divide_zero = test_calculator(\"divide\", 5, 0)\n",
    "print(\"Деление 5 / 0 =\", result_divide_zero)"
   ]
  }
 ],
 "metadata": {
  "kernelspec": {
   "display_name": "Python 3",
   "language": "python",
   "name": "python3"
  },
  "language_info": {
   "name": "python",
   "version": "3.12.0"
  }
 },
 "nbformat": 4,
 "nbformat_minor": 2
}
