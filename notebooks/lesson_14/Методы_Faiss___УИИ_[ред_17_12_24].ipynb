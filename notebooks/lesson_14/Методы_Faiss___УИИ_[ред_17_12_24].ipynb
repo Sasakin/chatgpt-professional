{
  "nbformat": 4,
  "nbformat_minor": 0,
  "metadata": {
    "colab": {
      "provenance": []
    },
    "kernelspec": {
      "name": "python3",
      "display_name": "Python 3"
    },
    "language_info": {
      "name": "python"
    }
  },
  "cells": [
    {
      "cell_type": "markdown",
      "source": [
        "## В данном ноутбуке рассматриваются некоторые возможности библиотеки LangChain и взаимодействие с векторными базами Faiss.\n",
        "- Варианты разбивки текста на фрагменты (чанки).\n",
        "- Создание и использование векторных баз Faiss.\n",
        "- Добавление фрагментов текста и документов к векторной базе.\n",
        "- Сохранение и загрузка ранее сохраненных векторных баз.\n",
        "- Слияние (объединение) векторных баз.\n",
        "- Использование ретриверов при взаимодействии с векторными базами.\n",
        "- Модель ChatOpenAI с использованием ретривера\n"
      ],
      "metadata": {
        "id": "RBNNvPw3Egzx"
      }
    },
    {
      "cell_type": "markdown",
      "source": [
        "# Подготовка к созданию индексных (векторных) баз"
      ],
      "metadata": {
        "id": "OdWurPNSQLcf"
      }
    },
    {
      "cell_type": "code",
      "execution_count": null,
      "metadata": {
        "id": "swJJ2hEpsi3k"
      },
      "outputs": [],
      "source": [
        "# Устанавливаем необходимые библиотеки\n",
        "!pip install -q openai==1.57.0 langchain==0.3.9 langchain_core==0.3.21 langchain_community==0.3.9 \\\n",
        "langchain-openai==0.2.11 faiss-cpu==1.9.0.post1 tiktoken==0.8.0"
      ]
    },
    {
      "cell_type": "code",
      "source": [
        "# импортируем необходимые библиотеки\n",
        "from langchain_community.vectorstores import FAISS\n",
        "from langchain_openai import OpenAIEmbeddings\n",
        "from langchain_core.documents import Document\n",
        "from langchain.text_splitter import (MarkdownHeaderTextSplitter,\n",
        "                                     RecursiveCharacterTextSplitter,\n",
        "                                     CharacterTextSplitter)\n",
        "import os\n",
        "import re\n",
        "import requests\n",
        "import textwrap\n",
        "import openai\n",
        "import tiktoken\n",
        "from glob import glob\n",
        "import matplotlib.pyplot as plt\n",
        "from google.colab import userdata, drive\n",
        "\n",
        "\n",
        "# Получение ключа API OpenAI из секретов Колаба и установка как переменную окружения\n",
        "os.environ[\"OPENAI_API_KEY\"] = userdata.get(\"OPENAI_API_KEY\")\n"
      ],
      "metadata": {
        "id": "UDgidhr2s0kL"
      },
      "execution_count": null,
      "outputs": []
    },
    {
      "cell_type": "code",
      "source": [
        "# Служебные функции\n",
        "\n",
        "# функция для загрузки документа Docx по ссылке из гугл драйв\n",
        "def download_google_doc(url: str) -> str:\n",
        "    # Извлекаем ID документа из URL\n",
        "    match_ = re.search(r'/document/d/([a-zA-Z0-9-_]+)', url)\n",
        "    if not match_:\n",
        "        raise ValueError(\"Invalid Google Docs URL\")\n",
        "    doc_id = match_.group(1)\n",
        "    download_url = f'https://docs.google.com/document/d/{doc_id}/export?format=txt'\n",
        "    response = requests.get(download_url, stream=True)\n",
        "    if response.status_code != 200:\n",
        "        raise RuntimeError(\"Failed to download the document\")\n",
        "    return response.text\n",
        "\n",
        "\n",
        "# Функция для форматирования текста по абзацам\n",
        "def format_text(text, width=120):\n",
        "    # Разделяем текст на абзацы\n",
        "    paragraphs = text.split('\\n')\n",
        "    # Форматируем каждый абзац отдельно\n",
        "    formatted_paragraphs = []\n",
        "    for paragraph in paragraphs:\n",
        "        # Используем textwrap.fill для форматирования абзаца, чтобы длина строки не превышала width\n",
        "        formatted_paragraph = textwrap.fill(paragraph, width)\n",
        "        formatted_paragraphs.append(formatted_paragraph)\n",
        "    # Объединяем абзацы с символом новой строки\n",
        "    return '\\n'.join(formatted_paragraphs)\n",
        "\n",
        "\n",
        "# Функция возвращает количество токенов в строке в зависимости от используемой модели\n",
        "def num_tokens_from_string(string: str, model='gpt-4o-mini') -> int:\n",
        "    # Получаем имя кодировки для указанной модели\n",
        "    encoding_name = tiktoken.encoding_for_model(model).name\n",
        "    # Получаем объект кодировки на основе имени кодировки\n",
        "    encoding = tiktoken.get_encoding(encoding_name)\n",
        "    # Кодируем строку и вычисляем количество токенов\n",
        "    num_tokens = len(encoding.encode(string))\n",
        "    # Возвращаем количество токенов\n",
        "    return num_tokens\n",
        "\n",
        "\n",
        "# Построение гистограммы распределения количества токенов по чанкам\n",
        "def create_histogram(chunks):\n",
        "    print(\"\\nОбщее количество чанков: \", len(chunks))\n",
        "    # Подсчет токенов для каждого чанка\n",
        "    try: # для формата чанков LangChain Document\n",
        "        chunk_token_counts = [num_tokens_from_string(chunk.page_content) for chunk in chunks]\n",
        "    except: # для текстового формата чанков\n",
        "        chunk_token_counts = [num_tokens_from_string(chunk) for chunk in chunks]\n",
        "    # Строим гистограмму\n",
        "    plt.figure(figsize=(7, 4)) # размер\n",
        "    plt.hist(chunk_token_counts, bins=10, alpha=0.5, label='Чанки')\n",
        "    plt.title('Распределение к-ва токенов по чанкам')  # Заголовок графика\n",
        "    plt.xlabel('К-во токенов в чанке')  # Подпись оси X\n",
        "    plt.ylabel('К-во чанков')  # Подпись оси Y\n",
        "    plt.show()  # Отображаем график"
      ],
      "metadata": {
        "id": "CeKZDkxBa0MB"
      },
      "execution_count": null,
      "outputs": []
    },
    {
      "cell_type": "code",
      "source": [
        "# Ссылки на базы знаний, которые будем использовать:\n",
        "\n",
        "# База знаний компании Postoplan - часть 1 (с разбивкой MarkDown)\n",
        "url_base1_postoplan = 'https://docs.google.com/document/d/13WKOhsA2H7nWjZkuy2wDJ2oDv2Y-m8yt'\n",
        "# База знаний компании Postoplan - часть 2 (с разбивкой MarkDown)\n",
        "url_base2_postoplan = 'https://docs.google.com/document/d/1UDNfJvWGPQRz97Xnzf-y3AcEWtFJFT7U'\n",
        "\n",
        "# База знаний компании Simble - часть 1 (без разбивки MarkDown)\n",
        "url_base1_simble = 'https://docs.google.com/document/d/1Z7eZLIPG9URgOFz-yqtJAup-WXhKFIiF'\n",
        "# База знаний компании Simble - часть 2 (без разбивки MarkDown)\n",
        "url_base2_simble = 'https://docs.google.com/document/d/1qxJXwHtYNxx6ecf35zhqFYBxSjoA5Mhr'"
      ],
      "metadata": {
        "id": "CG01Ghlyed_D"
      },
      "execution_count": null,
      "outputs": []
    },
    {
      "cell_type": "markdown",
      "source": [
        "# Повторим варианты разбивки текстов на чанки из прошедших занятий"
      ],
      "metadata": {
        "id": "QX9e7wO__IJx"
      }
    },
    {
      "cell_type": "markdown",
      "source": [
        "- LangChain — это фреймворк, который упрощает создание приложений с использованием языковых моделей. Он предоставляет набор инструментов, модулей и интерфейсов для интеграции языковых моделей в сложные приложения, такие как чат-боты, системы поиска, автоматизация задач, генерация контента и многое другое.\n",
        "\n",
        "- В LangChain объект Document представляет собой основную структуру для работы с текстом и метаданными. Когда речь идет о чанках в формате Document, это означает разбиение длинного текста на несколько экземпляров объектов Document, каждый из которых содержит фрагмент текста и соответствующие метаданные.\n",
        "\n",
        "- Объект Document состоит из двух ключевых компонентов:\n",
        "\n",
        "    - page_content – текстовая часть документа, содержащая сам текст.\n",
        "    - metadata – словарь, хранящий метаданные, такие как источник текста, номер страницы, раздел документа и т.д.\n",
        "\n",
        "- Пример чанка в LangChain Document:\n",
        "```python\n",
        "exemple_1 = Document(\n",
        "    page_content = \"The weather forecast for tomorrow is cloudy and overcast, with a high of 62 degrees.\",\n",
        "    metadata={\"source\": \"news\", \"start_index\": 5}\n",
        ")\n",
        "```"
      ],
      "metadata": {
        "id": "mVdPckpPQ0ng"
      }
    },
    {
      "cell_type": "markdown",
      "source": [
        "MarkdownHeaderTextSplitter — это компонент из библиотеки LangChain, используемый для разбивки текста в формате Markdown на чанки (объекты Document). Основная идея заключается в использовании заголовков Markdown (например, #, ##, ###) для определения границ этих чанков.\n",
        "\n",
        "Параметр strip_headers в MarkdownHeaderTextSplitter:\n",
        "- Если strip_headers = True:\n",
        "    - Заголовки удаляются из текста чанков (page_content).\n",
        "    - Но информация о заголовках (текст заголовка, уровень, тип) сохраняется в метаданных.\n",
        "\n",
        "- Если strip_headers = False:\n",
        "    - Заголовки остаются в тексте чанков (page_content).\n",
        "    - Метаданные также содержат информацию о заголовках.\n",
        "\n",
        "В MarkdownHeaderTextSplitter заголовки сохраняются в метаданных, независимо от того, используется ли опция strip_headers."
      ],
      "metadata": {
        "id": "YdwK1RUybpj4"
      }
    },
    {
      "cell_type": "code",
      "source": [
        "# (MarkdownHeaderTextSplitter)\n",
        "# Формируем чанки в формат LangChain Document из текста с Markdown разметкой\n",
        "def split_markdown_text(markdown_text,\n",
        "                        strip_headers=False): # НЕ удалять заголовки под '#..' из page_content\n",
        "    # Удалить пустые строки и лишние пробелы\n",
        "    markdown_text = re.sub(r' {1,}', ' ', re.sub(r'\\n\\s*\\n', '\\n', markdown_text))\n",
        "    # Определяем заголовки, по которым будем разбивать текст\n",
        "    headers_to_split_on = [(\"#\", \"Header 1\"),   # Заголовок первого уровня\n",
        "                           (\"##\", \"Header 2\"),  # Заголовок второго уровня\n",
        "                           (\"###\", \"Header 3\")] # Заголовок третьего уровня\n",
        "    # Создаем экземпляр MarkdownHeaderTextSplitter с заданными заголовками\n",
        "    markdown_splitter = MarkdownHeaderTextSplitter(headers_to_split_on,\n",
        "                                                   strip_headers=strip_headers)\n",
        "    # Разбиваем текст на чанки в формат LangChain Document\n",
        "    chunks = markdown_splitter.split_text(markdown_text)\n",
        "    return chunks # Возвращаем список чанков в формате LangChain Document\n",
        "\n",
        "\n",
        "# Скачиваем базу знаний (.docx с разбивкой Markdown) по ссылке\n",
        "text_md_content = download_google_doc(url_base1_postoplan)\n",
        "# Пример создания чанков\n",
        "chunks_md = split_markdown_text(text_md_content)\n",
        "# Пример одного чанка\n",
        "print(f'\\npage_content: \\n{chunks_md[5].page_content}')\n",
        "print(f'\\nmetadata: \\n{chunks_md[5].metadata}')\n",
        "# Гистограмма распределения количества токенов по чанкам\n",
        "create_histogram(chunks_md)"
      ],
      "metadata": {
        "id": "SOxoA2aOs0pb",
        "colab": {
          "base_uri": "https://localhost:8080/",
          "height": 618
        },
        "outputId": "dce9df2d-117a-429d-dfcb-d58ad644a54b"
      },
      "execution_count": null,
      "outputs": [
        {
          "output_type": "stream",
          "name": "stdout",
          "text": [
            "\n",
            "page_content: \n",
            "## Что еще дает Postoplan?\n",
            "1. Никакого стресса: POSTOPLAN уведомит вас о состоянии каждого запланированного поста или сообщения. Вы сразу узнаете о загрузке новой публикации.\n",
            "Экономия времени: отложенный постинг помогает оптимизировать рабочий процесс и освободить больше драгоценного времени на другие задачи.\n",
            "2. Автоматизация SMM: периодически проводите акции и розыгрыши в аккаунтах? Настройте автопостинг и не беспокойтесь, что забудете сообщить своим подписчикам важную информацию.\n",
            "3. Банк идей для постов: в POSTOPLAN вы найдеты шаблоны публикаций и инфоповодов на каждый день. Создание контента еще никогда не было таким быстрым!\n",
            "\n",
            "metadata: \n",
            "{'Header 1': 'Пусть соцсети работают на вас', 'Header 2': 'Что еще дает Postoplan?'}\n",
            "\n",
            "Общее количество чанков:  107\n"
          ]
        },
        {
          "output_type": "display_data",
          "data": {
            "text/plain": [
              "<Figure size 700x400 with 1 Axes>"
            ],
            "image/png": "[encoded data removed]"
          },
          "metadata": {}
        }
      ]
    },
    {
      "cell_type": "markdown",
      "source": [
        "RecursiveCharacterTextSplitter — это инструмент из библиотеки LangChain, предназначенный для разбивки больших текстов на фрагменты (чанки) по количеству символов.\n",
        "\n",
        "Перекрытие чанков (параметр chunk_overlap) добавляет некоторое количество символов из конца предыдущего чанка в начало следующего.\n",
        "Это полезно для сохранения контекста при обработке текста.\n",
        "\n",
        "Вы можете указать список предпочтительных разделителей (параметр separators=[\"\\n\\n\", \"\\n\", \" \"]), чтобы контролировать, где будет происходить разбиение."
      ],
      "metadata": {
        "id": "oqXvcN0UbJ4_"
      }
    },
    {
      "cell_type": "code",
      "source": [
        "# (RecursiveCharacterTextSplitter)\n",
        "# Формируем чанки в формат LangChain Document из текста по количеству символов\n",
        "def split_hard_text(text: str,\n",
        "                    chunk_size=3000,  # Ограничение к-ва символов в чанке\n",
        "                    chunk_overlap=100): # к-во символов перекрытия в чанке\n",
        "    # Удалить пустые строки и лишние пробелы\n",
        "    text = re.sub(r'\\s+', ' ', text).strip()\n",
        "    # Создаем экземпляр RecursiveCharacterTextSplitter с заданными парамаетрами\n",
        "    text_splitter = RecursiveCharacterTextSplitter(\n",
        "                            chunk_size=chunk_size,\n",
        "                            chunk_overlap=chunk_overlap,\n",
        "                            # separators=[\"\\n\\n\", \"\\n\", \" \"]  # Приоритет разделителей\n",
        "                            )\n",
        "    # Разбиваем текст на чанки с помощью созданного сплиттера\n",
        "    chunks = text_splitter.split_text(text)\n",
        "    # Преобразование фрагментов текста в формат LangChain Document (без метаданных)\n",
        "    chunks = [Document(page_content=chunk) for chunk in chunks]\n",
        "    return chunks # Возвращаем список чанков в формате LangChain Document\n",
        "\n",
        "\n",
        "# Скачиваем базу знаний (без разбивки Markdown) по ссылке\n",
        "text_content = download_google_doc(url_base1_simble)\n",
        "# Пример создания чанков\n",
        "chunks = split_hard_text(text_content)\n",
        "# Пример одного чанка\n",
        "print(f'\\npage_content: \\n{format_text(chunks[0].page_content)}')\n",
        "# Поле metedata не использовалось\n",
        "# Гистограмма распределения количества токенов по чанкам\n",
        "create_histogram(chunks)"
      ],
      "metadata": {
        "id": "0nA-TYHjbJdT",
        "colab": {
          "base_uri": "https://localhost:8080/",
          "height": 931
        },
        "outputId": "b08170fd-2d59-4f45-be64-9265149ca9b5"
      },
      "execution_count": null,
      "outputs": [
        {
          "output_type": "stream",
          "name": "stdout",
          "text": [
            "\n",
            "page_content: \n",
            "﻿КАСКО в Simble теперь можно приобрести в рассрочку с картой Свобода\\n\\nТеперь КАСКО в Simble можно приобрести в\n",
            "рассрочку с картой Свобода от Банка Хоум Кредит. Карта Свобода предоставляет возможность делать покупки в рассрочку до\n",
            "12 месяцев у партнеров или до 51 дня в любых магазинах. С помощью карты Свобода можно оформить КАСКО на короткий срок в\n",
            "приложении Simble. Узнать подробнее об условиях предложения и оформить карту Свобода можно [здесь](ссылка). Simble –\n",
            "КАСКО на короткий период\\n\\nSimble предлагает страховку на короткий период, которая позволяет застраховать автомобиль на\n",
            "1 час поездки, 100 км пути или на время парковки. Стоимость страховки начинается от 14 ₽ в день. Также в приложении\n",
            "Simble можно оформить КАСКО на год поездки или парковку. Страховка на парковку предлагается по часам, начиная от 13 ₽ в\n",
            "час. Страховка на поездку предлагается по часам, начиная от 95 ₽ в час, или на любое количество километров, начиная от\n",
            "175 ₽ за 100 км. Simble также предлагает тарифы для разных ситуаций, такие как страховка только от угона или страховка\n",
            "только на время парковки. Как оформить страховку в Simble Чтобы оформить страховку в Simble, необходимо скачать\n",
            "приложение на устройство с операционной системой iOS или Android. Затем нужно указать свои данные и данные автомобиля.\n",
            "Если автомобиль уже зарегистрирован, можно найти его по номеру, если нет, то нужно указать данные ПТС. После этого\n",
            "необходимо сфотографировать автомобиль со всех сторон. Фотоосмотр нужно пройти только один раз, при первой покупке\n",
            "страховки. После фотоосмотра страховка будет одобрена в течение примерно 3 часов. Затем можно выбрать тариф и купить\n",
            "полис. # КАСКО и ОСАГО в Simble Simble также предлагает возможность сравнить цены на ОСАГО от 16 страховых компаний и\n",
            "оформить полис за 10 минут без заполнения бумаг. Все цены на ОСАГО на сайте Simble являются прозрачными и без скрытых\n",
            "комиссий и надбавок. Simble также предоставляет информацию о том, что покрывает полис ОСАГО и какие риски он покрывает.\n",
            "Помощь и поддержка Simble предлагает поддержку в общении со страховой компанией, ответы на вопросы по тарифам и помощь\n",
            "при страховом случае. В приложении Simble можно найти автомобиль по номеру или укажите данные ПТС, если автомобиля еще\n",
            "нет. Также Simble предлагает регистрацию и ПСО в приложении, чтобы сэкономить время и избежать очередей и бумаг. Simble\n",
            "разработал 3 тарифа для разных потребностей водителей. В тарифах представлены предложения от двух страховых компаний со\n",
            "своими ценами и условиями. Вопросы и ответы Simble предоставляет ответы на часто задаваемые вопросы, такие как что\n",
            "делать, если потеряны документы на машину, как отменить покупку страхового полиса, если выбран не тот тариф, и другие.\n",
            "\\n\\n# Сотрудничество\\n\\nSimble предлагает сотрудничество и возможность стать партнером. Для этого можно написать на\n",
            "почту partners@simble.in или позвонить по телефону +7 (925) 254-46-60. \\n\\n# Пользовательское соглашение Simble\n",
            "предоставляет пользовательское соглашение, которое регулирует\n",
            "\n",
            "Общее количество чанков:  17\n"
          ]
        },
        {
          "output_type": "display_data",
          "data": {
            "text/plain": [
              "<Figure size 700x400 with 1 Axes>"
            ],
            "image/png": "[encoded data removed]"
          },
          "metadata": {}
        }
      ]
    },
    {
      "cell_type": "markdown",
      "source": [
        "CharacterTextSplitter — это простой текстовый разделитель в LangChain, предназначенный для разбиения текста на фрагменты (чанки) на основе заданного разделителя и максимального размера чанков. Этот инструмент прост и удобен, если текст структурирован и вы хотите контролировать разбиение с использованием фиксированного разделителя.\n",
        "\n",
        "Обратите внимание, что чанки, при использовании CharacterTextSplitter - это просто список строк, а не LangChain Document"
      ],
      "metadata": {
        "id": "NzqLebiAiI4Y"
      }
    },
    {
      "cell_type": "code",
      "source": [
        "# (CharacterTextSplitter) Формируем чанки из текста по количеству символов\n",
        "def split_text(text: str,\n",
        "               chunk_size=2000,    # Ограничение к-ва символов в чанке\n",
        "               chunk_overlap=200): # к-во символов перекрытия в чанке\n",
        "    # Удалить пустые строки и лишние пробелы\n",
        "    text = re.sub(r'\\s+', ' ', text).strip()\n",
        "    # Создаем экземпляр CharacterTextSplitter с заданными парамаетрами\n",
        "    splitter = CharacterTextSplitter(chunk_size=chunk_size,\n",
        "                                     chunk_overlap=chunk_overlap,\n",
        "                                     separator=\" \") # разделитель по словам\n",
        "    return splitter.split_text(text) # список текстовых чанков"
      ],
      "metadata": {
        "id": "GeuD3Kh5s0rq"
      },
      "execution_count": null,
      "outputs": []
    },
    {
      "cell_type": "markdown",
      "source": [
        "# Добавление текстов и врагментов Langchain Documents к существующей БЗ"
      ],
      "metadata": {
        "id": "nzS9Nm94tgGy"
      }
    },
    {
      "cell_type": "code",
      "source": [
        "# Инициализирум модель эмбеддингов\n",
        "embeddings = OpenAIEmbeddings()\n",
        "\n",
        "# Создадим индексные базы\n",
        "db_md = FAISS.from_documents(chunks_md, embeddings)\n",
        "db = FAISS.from_documents(chunks, embeddings)"
      ],
      "metadata": {
        "id": "T5VPK946r8JB"
      },
      "execution_count": null,
      "outputs": []
    },
    {
      "cell_type": "markdown",
      "source": [
        "Пример, как добавить к существующей БЗ 2 чанка с метаданными:"
      ],
      "metadata": {
        "id": "woTMjzN_wJRd"
      }
    },
    {
      "cell_type": "code",
      "source": [
        "ids = db.add_texts([\"Пример текста 1\", \"Пример текста 2\"],\n",
        "                   metadatas=[{\"author\": \"user1\"}, {\"author\": \"user2\"}])\n",
        "\n",
        "# в итоге получаем ID добавленных чанков:\n",
        "ids"
      ],
      "metadata": {
        "id": "tqPbK3Cov555",
        "colab": {
          "base_uri": "https://localhost:8080/"
        },
        "outputId": "6e9923e0-3695-4103-c17d-0d5be3d23702"
      },
      "execution_count": null,
      "outputs": [
        {
          "output_type": "execute_result",
          "data": {
            "text/plain": [
              "['dc712a24-73ff-454c-a1c6-3d0ae51f28b2',\n",
              " 'e3205887-9935-4fff-9db8-e0b4c028eccb']"
            ]
          },
          "metadata": {},
          "execution_count": 9
        }
      ]
    },
    {
      "cell_type": "markdown",
      "source": [
        "Что делает метод:\n",
        "Метод предназначен для добавления документов в хранилище векторов\n",
        "- Извлекает текст и метаданные из каждого документа в предоставленном списке documents.\n",
        "- Передает эти тексты (и метаданные) в другой метод, который затем преобразует тексты в векторные представления и добавляет их в хранилище векторов.\n",
        "- Возвращает идентификаторы добавленных текстов."
      ],
      "metadata": {
        "id": "EigFql0eyst3"
      }
    },
    {
      "cell_type": "code",
      "source": [
        "# Предположим, у нас есть некоторый список документов следующего вида:\n",
        "documents = [\n",
        "    Document(page_content=\"Текст документа 1\", metadata={\"author\": \"Автор 1\"}),\n",
        "    Document(page_content=\"Текст документа 2\", metadata={\"author\": \"Автор 2\"})\n",
        "]\n",
        "# Используем метод add_documents для добавления документов в хранилище\n",
        "added_ids = db_md.add_documents(documents)\n",
        "\n",
        "# Теперь added_ids содержит идентификаторы добавленных текстов\n",
        "added_ids"
      ],
      "metadata": {
        "colab": {
          "base_uri": "https://localhost:8080/"
        },
        "id": "MwMS94bmzGKT",
        "outputId": "23cfc1f9-5f19-44b3-9af4-86c99c3c0919"
      },
      "execution_count": null,
      "outputs": [
        {
          "output_type": "execute_result",
          "data": {
            "text/plain": [
              "['3e95bdef-baae-47d1-9afe-ccb9e8b349d9',\n",
              " 'b1f1b4dd-5cbe-4623-bd88-909be3f68fd3']"
            ]
          },
          "metadata": {},
          "execution_count": 10
        }
      ]
    },
    {
      "cell_type": "markdown",
      "source": [
        "# Поиск по векторному хранилищу"
      ],
      "metadata": {
        "id": "NKcOU_691SBl"
      }
    },
    {
      "cell_type": "code",
      "source": [
        "# similarity_search\n",
        "similar_documents = db_md.similarity_search(\"Интересные факты о маркетинге социальных сетей\", k=3)\n",
        "\n",
        "message_content = re.sub(r'\\n{2}', ' ', '\\n '.join(\n",
        "    [f'\\nОтрывок документа № {i+1}:\\n' + doc.page_content + f'\\nMetedata: {doc.metadata}'\n",
        "     for i, doc in enumerate(similar_documents)]))\n",
        "print(format_text(message_content))"
      ],
      "metadata": {
        "colab": {
          "base_uri": "https://localhost:8080/"
        },
        "id": "AhDmsLX6zGNI",
        "outputId": "f3b51133-f1f7-43a3-e8c6-8517aed59c90"
      },
      "execution_count": null,
      "outputs": [
        {
          "output_type": "stream",
          "name": "stdout",
          "text": [
            "\n",
            "Отрывок документа № 1:\n",
            "# Пусть соцсети работают на вас\n",
            "## Соцсети на автопилоте — создавайте, планируйте и продвигайте свой контент\n",
            "POSTOPLAN отмечен наградами, ему доверяют 50 000+ специалистов и компаний из 147 стран\n",
            "76% уменьшили время работы в соцсетях более, чем на 4 часа в неделю\n",
            "15% увеличили количество клиентов уже в первые месяцы работы с сервисом\n",
            "55% отметили увеличение охвата постов и рост аудитории\n",
            "Metedata: {'Header 1': 'Пусть соцсети работают на вас', 'Header 2': 'Соцсети на автопилоте — создавайте, планируйте и\n",
            "продвигайте свой контент'}\n",
            "\n",
            "Отрывок документа № 2:\n",
            "## Создаем выдающиеся возможности для маркетинга в соцсетях\n",
            "Гибкие тарифные планы: платите только за подключенные аккаунты, без лишних расходов и переплат\n",
            "2 крутых графических редактора: простой и с конструктором, а также библиотека с 2 млн. изображений\n",
            "Постинг за раз в несколько аккаунтов: выбирайте контент и размещайте сразу везде — очень удобно и экономит время\n",
            "Не только стандартные соцсети: есть Google My Business и планирование постинга в Telegram\n",
            "Количество пользователей - неограниченно: добавляйте коллег, клиентов или сотрудников для командной работы над проектами\n",
            "Предварительный просмотр публикаций: создавайте публикации и заранее просматривайте, как они впишутся в ленту\n",
            "Общение с подписчиками в DM&comments: больше не нужно переключаться между аккаунтами, все доступно в одном месте\n",
            "Более 700 идей постов в календаре: в календаре POSTOPLAN несколько готовых поводов на каждый день\n",
            "Количество проектов - неограниченно: создавайте сколько угодно рабочих проектов и давайте к ним доступ членам команды\n",
            "Интеграция со Slack и WordPress: и с другими нужными вам сервисами для комфортной работы\n",
            "Массовое планирование и автопостинг: составляйте расписание для загрузки контента на месяцы вперед\n",
            "...и много других крутых функций\n",
            "Metedata: {'Header 1': 'О компании', 'Header 2': 'Создаем выдающиеся возможности для маркетинга в соцсетях'}\n",
            "\n",
            "Отрывок документа № 3:\n",
            "## Okoro Mary C\n",
            "Freelance Writer\n",
            "Будучи менеджером социальных сетей, в основном требуется много времени и данных для навигации по различным социальным\n",
            "сетям для управления портфолио и бизнесом моих клиентов; но с POSTOPLAN я мог управлять всеми платформами социальных\n",
            "сетей в одном месте. Я создаю посты и планирую их публикацию в удобное для меня время.\n",
            "Маркетинговые инструменты POSTOPLAN удивительны и просты в использовании. Темы потрясающие, и вы можете настраивать\n",
            "(вносить изменения) подходящие для ваших глаз и вкуса. Удивительно, но эта платформа не задерживает уведомления. Я\n",
            "работаю с 10 другими сотрудниками в POSTOPLAN, управляя одной и той же компанией в разные смены. Мне нравится, что я не\n",
            "трачу слишком много времени на свою систему, я также могу запланировать публикацию будущих постов позже. POSTOPLAN также\n",
            "имеет удивительные функции календаря и предоставляет отчеты для вашей статистики.\n",
            "Я очень рекомендую POSTOPLAN, это помогает мне оставаться организованной и меньше нервничать!\n",
            "Metedata: {'Header 1': 'Отзывы наших клиентов', 'Header 2': 'Okoro Mary C'}\n"
          ]
        }
      ]
    },
    {
      "cell_type": "code",
      "source": [
        "# similarity_search_with_score\n",
        "similar_documents = db_md.similarity_search_with_score(\"Интересные факты о маркетинге социальных сетей\", k=3)\n",
        "\n",
        "message_content = re.sub(r'\\n{2}', ' ', '\\n '.join(\n",
        "    [f'\\nОтрывок документа № {i+1}:\\n' + doc.page_content + f'\\nMetedata: {doc.metadata}' + f'\\nScore: {score}'\n",
        "     for i, (doc, score) in enumerate(similar_documents)]))\n",
        "print(format_text(message_content))"
      ],
      "metadata": {
        "colab": {
          "base_uri": "https://localhost:8080/"
        },
        "id": "K8f4CS7eJEPi",
        "outputId": "d51067e9-6a87-45a0-e932-df9b4bbe11a2"
      },
      "execution_count": null,
      "outputs": [
        {
          "output_type": "stream",
          "name": "stdout",
          "text": [
            "\n",
            "Отрывок документа № 1:\n",
            "# Пусть соцсети работают на вас\n",
            "## Соцсети на автопилоте — создавайте, планируйте и продвигайте свой контент\n",
            "POSTOPLAN отмечен наградами, ему доверяют 50 000+ специалистов и компаний из 147 стран\n",
            "76% уменьшили время работы в соцсетях более, чем на 4 часа в неделю\n",
            "15% увеличили количество клиентов уже в первые месяцы работы с сервисом\n",
            "55% отметили увеличение охвата постов и рост аудитории\n",
            "Metedata: {'Header 1': 'Пусть соцсети работают на вас', 'Header 2': 'Соцсети на автопилоте — создавайте, планируйте и\n",
            "продвигайте свой контент'}\n",
            "Score: 0.28809216618537903\n",
            "\n",
            "Отрывок документа № 2:\n",
            "## Создаем выдающиеся возможности для маркетинга в соцсетях\n",
            "Гибкие тарифные планы: платите только за подключенные аккаунты, без лишних расходов и переплат\n",
            "2 крутых графических редактора: простой и с конструктором, а также библиотека с 2 млн. изображений\n",
            "Постинг за раз в несколько аккаунтов: выбирайте контент и размещайте сразу везде — очень удобно и экономит время\n",
            "Не только стандартные соцсети: есть Google My Business и планирование постинга в Telegram\n",
            "Количество пользователей - неограниченно: добавляйте коллег, клиентов или сотрудников для командной работы над проектами\n",
            "Предварительный просмотр публикаций: создавайте публикации и заранее просматривайте, как они впишутся в ленту\n",
            "Общение с подписчиками в DM&comments: больше не нужно переключаться между аккаунтами, все доступно в одном месте\n",
            "Более 700 идей постов в календаре: в календаре POSTOPLAN несколько готовых поводов на каждый день\n",
            "Количество проектов - неограниченно: создавайте сколько угодно рабочих проектов и давайте к ним доступ членам команды\n",
            "Интеграция со Slack и WordPress: и с другими нужными вам сервисами для комфортной работы\n",
            "Массовое планирование и автопостинг: составляйте расписание для загрузки контента на месяцы вперед\n",
            "...и много других крутых функций\n",
            "Metedata: {'Header 1': 'О компании', 'Header 2': 'Создаем выдающиеся возможности для маркетинга в соцсетях'}\n",
            "Score: 0.31503263115882874\n",
            "\n",
            "Отрывок документа № 3:\n",
            "## Okoro Mary C\n",
            "Freelance Writer\n",
            "Будучи менеджером социальных сетей, в основном требуется много времени и данных для навигации по различным социальным\n",
            "сетям для управления портфолио и бизнесом моих клиентов; но с POSTOPLAN я мог управлять всеми платформами социальных\n",
            "сетей в одном месте. Я создаю посты и планирую их публикацию в удобное для меня время.\n",
            "Маркетинговые инструменты POSTOPLAN удивительны и просты в использовании. Темы потрясающие, и вы можете настраивать\n",
            "(вносить изменения) подходящие для ваших глаз и вкуса. Удивительно, но эта платформа не задерживает уведомления. Я\n",
            "работаю с 10 другими сотрудниками в POSTOPLAN, управляя одной и той же компанией в разные смены. Мне нравится, что я не\n",
            "трачу слишком много времени на свою систему, я также могу запланировать публикацию будущих постов позже. POSTOPLAN также\n",
            "имеет удивительные функции календаря и предоставляет отчеты для вашей статистики.\n",
            "Я очень рекомендую POSTOPLAN, это помогает мне оставаться организованной и меньше нервничать!\n",
            "Metedata: {'Header 1': 'Отзывы наших клиентов', 'Header 2': 'Okoro Mary C'}\n",
            "Score: 0.3216569423675537\n"
          ]
        }
      ]
    },
    {
      "cell_type": "markdown",
      "source": [
        "# max_marginal_relevance_search"
      ],
      "metadata": {
        "id": "La3-OYf2Xe_N"
      }
    },
    {
      "cell_type": "markdown",
      "source": [
        "### Maximal Marginal Relevance\n",
        "\n",
        "Метод поиска **\"Maximal Marginal Relevance\"** (MMR), или **\"Максимальная Маргинальная Релевантность\"**, – это подход к поиску, который стремится не только предоставить релевантные, но и разнообразные результаты пользователю. В отличие от традиционных методов поиска, которые фокусируются преимущественно на релевантности (соответствии между запросом пользователя и возможными результатами), MMR старается также уменьшить схожесть между собой выдаваемых документов, чтобы они были не только актуальными, но и максимально информативными и разнообразными.\n",
        "\n",
        "**Как это работает простыми словами:**\n",
        "\n",
        "- Релевантность: Метод ищет документы, которые как можно лучше соответствуют запросу пользователя.\n",
        "\n",
        "- Разнообразие: Метод также старается убедиться, что предложенные документы максимально разные, чтобы пользователь мог получить информацию из разных источников или разных точек зрения.\n",
        "\n",
        "**Пример:**\n",
        "Представим, что у нас есть множество статей по медицине и пользователь ищет информацию о \"гриппе\". Стандартный поиск просто найдет самые релевантные статьи, возможно, все они будут из одного источника или говорить о одном и том же исследовании.\n",
        "\n",
        "В случае с MMR:\n",
        "\n",
        "- Шаг 1: Метод может предоставить статью, которая наиболее точно соответствует запросу (например, статья о последних исследованиях вакцин от гриппа).\n",
        "- Шаг 2: Далее, вместо того чтобы предоставить другую статью, говорящую о том же исследовании, MMR может предложить статью о домашних методах предотвращения гриппа или о статистике заболеваемости гриппом в разных странах, чтобы расширить предоставляемую информацию и дать пользователю разные точки зрения или аспекты темы.\n",
        "\n",
        "Таким образом, подход MMR позволяет не только найти наиболее подходящую информацию, но и представить пользователю разнообразные документы, чтобы обеспечить более широкий и полный обзор по запрашиваемой теме.\n",
        "\n",
        "**Что делает метод max_marginal_relevance_search:**\n",
        "\n",
        "Этот метод предназначен для поиска документов, которые не только релевантны запросу, но и максимально разнообразны между собой.\n",
        "\n",
        "Осуществляет поиск документов, похожих на переданный запрос (query).\n",
        "Из этих документов выбирает подмножество, используя алгоритм Maximal Marginal Relevance (MMR), который стремится оптимизировать не только схожесть с запросом, но и диверсификацию (разнообразие) между возвращаемыми документами.\n",
        " - k - количество возвращаемых документов. Чем больше k, тем более разнообразными будут результаты.\n",
        "\n",
        " - fetch_k - количество документов, которые изначально извлекаются для анализа алгоритмом MMR. Обычно больше, чем k.\n",
        "\n",
        " - lambda_mult - коэффициент, контролирующий баланс между релевантностью и разнообразием. Чем меньше значение, тем разнообразнее результаты.\n",
        "\n",
        "Таким образом, варьируя эти параметры, можно гибко настраивать работу алгоритма MMR для достижения нужного баланса релевантности и разнообразия результатов поиска.\n",
        "\n",
        "**Как использовать:**\n",
        "Пример использования метода max_marginal_relevance_search может выглядеть следующим образом:\n",
        "\n"
      ],
      "metadata": {
        "id": "WCJWICjCXfcg"
      }
    },
    {
      "cell_type": "code",
      "source": [
        "# max_marginal_relevance_search\n",
        "# найти документы, максимально релевантные и разнообразные для вашего запроса:\n",
        "query = \"Интересные факты о маркетинге социальных сетей\"\n",
        "\n",
        "# Используем метод max_marginal_relevance_search для поиска документов\n",
        "selected_documents = db_md.max_marginal_relevance_search(\n",
        "    query=query,\n",
        "    k=3,             # хотим получить 3 докуменеа\n",
        "    fetch_k=20,      # рассматриваем 20 документов для MMR\n",
        "    lambda_mult=0.5, # балансируем между релевантностью и диверсификацией\n",
        ")\n",
        "# Перебираем список выбранных документов\n",
        "for i, doc in enumerate(selected_documents):\n",
        "    # Выводим информацию о каждом документе.\n",
        "    print(f\"Document {i + 1}:\")\n",
        "    print(f\"Content: {format_text(doc.page_content)}\")\n",
        "    print(f\"Metadata: {doc.metadata}\")\n",
        "    print(\"-\"*30 + \"\\n\")"
      ],
      "metadata": {
        "id": "kShw6ikHX5B-",
        "colab": {
          "base_uri": "https://localhost:8080/"
        },
        "outputId": "4d399a8d-796f-4a11-f63f-a2e46a66afd0"
      },
      "execution_count": null,
      "outputs": [
        {
          "output_type": "stream",
          "name": "stdout",
          "text": [
            "Document 1:\n",
            "Content: # Пусть соцсети работают на вас\n",
            "## Соцсети на автопилоте — создавайте, планируйте и продвигайте свой контент\n",
            "POSTOPLAN отмечен наградами, ему доверяют 50 000+ специалистов и компаний из 147 стран\n",
            "76% уменьшили время работы в соцсетях более, чем на 4 часа в неделю\n",
            "15% увеличили количество клиентов уже в первые месяцы работы с сервисом\n",
            "55% отметили увеличение охвата постов и рост аудитории\n",
            "Metadata: {'Header 1': 'Пусть соцсети работают на вас', 'Header 2': 'Соцсети на автопилоте — создавайте, планируйте и продвигайте свой контент'}\n",
            "------------------------------\n",
            "\n",
            "Document 2:\n",
            "Content: ### Сентябрь 2020\n",
            "1. Пробный период Social Inbox\n",
            "2. Владельцы статусов FREE смогут общаться с клиентами в Facebook и Twitter в течение 3 дней\n",
            "3. Скачивание статистики\n",
            "4. Добавлена возможность скачивания статистики в формате .png\n",
            "5. Выбор периода статистики\n",
            "6. Теперь можно выбрать, за какой период будет показана статистика\n",
            "7. Разделение по категориям\n",
            "8. Добавлена возможность разделять посты по категориям\n",
            "9. Импорт публикаций из RSS-лент\n",
            "10. Теперь можно публиковать посты из RSS-лент в соцсети и мессенджеры\n",
            "Metadata: {'Header 1': 'Обновления', 'Header 2': 'Что нового в POSTOPLAN', 'Header 3': 'Сентябрь 2020'}\n",
            "------------------------------\n",
            "\n",
            "Document 3:\n",
            "Content: ## Resevelle B\n",
            "Software QA Engineer\n",
            "Эта платформа поддерживает основные социальные сети! Это очень удобно и позволяет вам планировать публикации в\n",
            "определенное время для оптимального пост-тайминга для вашей целевой аудитории. Мне также нравится функция календаря, в\n",
            "котором вы можете планировать свои будущие публикации, что сэкономит вам много времени и даст возможность больше\n",
            "сосредоточится на своем бизнесе / контенте. Страница \"Роли и проекты\", где вы можете установить менеджера для каждой\n",
            "учетной записи, также является отличной функцией.\n",
            "Эта платформа действительно экономит время при публикации в нескольких аккаунтах в социальных сетях!\n",
            "Metadata: {'Header 1': 'Отзывы наших клиентов', 'Header 2': 'Resevelle B'}\n",
            "------------------------------\n",
            "\n"
          ]
        }
      ]
    },
    {
      "cell_type": "markdown",
      "source": [
        "# similarity_search_with_relevance_scores"
      ],
      "metadata": {
        "id": "mAt_lLb-8GSb"
      }
    },
    {
      "cell_type": "markdown",
      "source": [
        "Метод **similarity_search_with_relevance_scores** предназначен для поиска документов, наиболее похожих (или релевантных) на заданный текстовый запрос query.\n",
        "\n",
        "Метод возвращает список документов и соответствующих им оценок схожести с запросом.\n",
        "Оценка схожести находится в диапазоне [0, 1], где 0 указывает на полное несоответствие, а 1 - на полное совпадение.\n",
        "Опциональный аргумент k задает количество документов, которые необходимо вернуть (по умолчанию, 4).\n",
        "Опциональный аргумент score_threshold может быть использован для фильтрации результатов по порогу схожести.\n",
        "Как использовать:\n",
        "\n",
        "Пример использования методов может выглядеть следующим образом:"
      ],
      "metadata": {
        "id": "8mAfTk-Z8Gl7"
      }
    },
    {
      "cell_type": "code",
      "source": [
        "# similarity_search_with_relevance_scores\n",
        "query = \"Интересные факты о маркетинге социальных сетей\"\n",
        "\n",
        "k = 3  # мы хотим получить до 3 результатов\n",
        "score_threshold = 0.75  # мы хотим видеть только документы, релевантность которых не менее 0.75\n",
        "\n",
        "results = db_md.similarity_search_with_relevance_scores(query, k,\n",
        "                                                        score_threshold=score_threshold)\n",
        "\n",
        "# Выведем результаты\n",
        "for doc, similarity_score in results:\n",
        "    print(f\"Document: {format_text(doc.page_content)} \\\n",
        "            \\nMetadata: {doc.metadata} \\\n",
        "            \\nScore_threshold: {similarity_score}\")\n",
        "    print(\"-\"*30 + \"\\n\")"
      ],
      "metadata": {
        "colab": {
          "base_uri": "https://localhost:8080/"
        },
        "id": "bwJ3agR9zGPR",
        "outputId": "d4dad9c6-80f6-42b6-b1f8-b68405487b0b"
      },
      "execution_count": null,
      "outputs": [
        {
          "output_type": "stream",
          "name": "stdout",
          "text": [
            "Document: # Пусть соцсети работают на вас\n",
            "## Соцсети на автопилоте — создавайте, планируйте и продвигайте свой контент\n",
            "POSTOPLAN отмечен наградами, ему доверяют 50 000+ специалистов и компаний из 147 стран\n",
            "76% уменьшили время работы в соцсетях более, чем на 4 часа в неделю\n",
            "15% увеличили количество клиентов уже в первые месяцы работы с сервисом\n",
            "55% отметили увеличение охвата постов и рост аудитории             \n",
            "Metadata: {'Header 1': 'Пусть соцсети работают на вас', 'Header 2': 'Соцсети на автопилоте — создавайте, планируйте и продвигайте свой контент'}             \n",
            "Score_threshold: 0.7962880756835967\n",
            "------------------------------\n",
            "\n",
            "Document: ## Создаем выдающиеся возможности для маркетинга в соцсетях\n",
            "Гибкие тарифные планы: платите только за подключенные аккаунты, без лишних расходов и переплат\n",
            "2 крутых графических редактора: простой и с конструктором, а также библиотека с 2 млн. изображений\n",
            "Постинг за раз в несколько аккаунтов: выбирайте контент и размещайте сразу везде — очень удобно и экономит время\n",
            "Не только стандартные соцсети: есть Google My Business и планирование постинга в Telegram\n",
            "Количество пользователей - неограниченно: добавляйте коллег, клиентов или сотрудников для командной работы над проектами\n",
            "Предварительный просмотр публикаций: создавайте публикации и заранее просматривайте, как они впишутся в ленту\n",
            "Общение с подписчиками в DM&comments: больше не нужно переключаться между аккаунтами, все доступно в одном месте\n",
            "Более 700 идей постов в календаре: в календаре POSTOPLAN несколько готовых поводов на каждый день\n",
            "Количество проектов - неограниченно: создавайте сколько угодно рабочих проектов и давайте к ним доступ членам команды\n",
            "Интеграция со Slack и WordPress: и с другими нужными вам сервисами для комфортной работы\n",
            "Массовое планирование и автопостинг: составляйте расписание для загрузки контента на месяцы вперед\n",
            "...и много других крутых функций             \n",
            "Metadata: {'Header 1': 'О компании', 'Header 2': 'Создаем выдающиеся возможности для маркетинга в соцсетях'}             \n",
            "Score_threshold: 0.7772382902125518\n",
            "------------------------------\n",
            "\n",
            "Document: ## Okoro Mary C\n",
            "Freelance Writer\n",
            "Будучи менеджером социальных сетей, в основном требуется много времени и данных для навигации по различным социальным\n",
            "сетям для управления портфолио и бизнесом моих клиентов; но с POSTOPLAN я мог управлять всеми платформами социальных\n",
            "сетей в одном месте. Я создаю посты и планирую их публикацию в удобное для меня время.\n",
            "Маркетинговые инструменты POSTOPLAN удивительны и просты в использовании. Темы потрясающие, и вы можете настраивать\n",
            "(вносить изменения) подходящие для ваших глаз и вкуса. Удивительно, но эта платформа не задерживает уведомления. Я\n",
            "работаю с 10 другими сотрудниками в POSTOPLAN, управляя одной и той же компанией в разные смены. Мне нравится, что я не\n",
            "трачу слишком много времени на свою систему, я также могу запланировать публикацию будущих постов позже. POSTOPLAN также\n",
            "имеет удивительные функции календаря и предоставляет отчеты для вашей статистики.\n",
            "Я очень рекомендую POSTOPLAN, это помогает мне оставаться организованной и меньше нервничать!             \n",
            "Metadata: {'Header 1': 'Отзывы наших клиентов', 'Header 2': 'Okoro Mary C'}             \n",
            "Score_threshold: 0.7725541948361723\n",
            "------------------------------\n",
            "\n"
          ]
        }
      ]
    },
    {
      "cell_type": "markdown",
      "source": [
        "# save_local: сохранение векторных баз Faiss локально\n",
        "\n",
        "Метод **save_local** предназначен для сохранения векторного хранилища документов на диск. Он используется, чтобы вы могли сохранить текущее состояние вашего индекса FAISS и связанных с ним данных, чтобы впоследствии загрузить их обратно без необходимости пересоздавать хранилище с нуля.\n",
        "\n",
        "- folder_path: Путь к папке, в которой вы хотите сохранить данные.\n",
        "- index_name: Имя, которое будет использоваться для сохранённых файлов, чтобы вы могли их идентифицировать позже.\n",
        "```python\n",
        "db_index.save_local(folder_path=path, # путь к папке\n",
        "                      index_name=index_name)  # имя для индексной базы\n",
        "```\n",
        "\n",
        "\n",
        "\n",
        "\n",
        "\n",
        "\n",
        "\n",
        "\n"
      ],
      "metadata": {
        "id": "jNyi0rp4ACQr"
      }
    },
    {
      "cell_type": "code",
      "source": [
        "# Подключаем ГуглДиск для работы с файлами\n",
        "drive.mount('/content/drive')\n",
        "\n",
        "# Формируем основные пути на ГуглДиске для работы с файлами\n",
        "path_db_index_md = '/content/drive/MyDrive/data/db_index_md/'     # для векторных баз из Markdown документов\n",
        "path_db_index_text = '/content/drive/MyDrive/data/db_index_text/' # для векторных баз из документов без MD разбивки\n",
        "\n",
        "# Создаем папки. Если папки уже созданы ранее, то данные сохранятся\n",
        "for folder in [path_db_index_md, path_db_index_text]:\n",
        "    os.makedirs(folder, exist_ok=True)"
      ],
      "metadata": {
        "colab": {
          "base_uri": "https://localhost:8080/"
        },
        "id": "KRZsnK6pRmoo",
        "outputId": "fe9e00fc-bb3a-47b3-89a6-414190fd9083"
      },
      "execution_count": null,
      "outputs": [
        {
          "output_type": "stream",
          "name": "stdout",
          "text": [
            "Mounted at /content/drive\n"
          ]
        }
      ]
    },
    {
      "cell_type": "code",
      "source": [
        "# Создание индексной (векторной) базы из чанков в формате LangChain Document и сохранение на диск\n",
        "def create_db_index_from_documents_save(chunks_documents,\n",
        "                                        index_name, # имя для индексной базы\n",
        "                                        path):  # путь к папке\n",
        "    # Создаем индексную базу с использованием FAISS ---------------------------------\n",
        "    db_index = FAISS.from_documents(chunks_documents,\n",
        "                                    OpenAIEmbeddings())\n",
        "    # сохраняем индексную базу ------------------------------------------------------\n",
        "    db_index.save_local(folder_path=path, # путь к папке (path)\n",
        "                        index_name=index_name)  # имя для индексной базы (index_name)\n",
        "    # --------------------------------------------------------------------------------\n",
        "    return db_index\n",
        "\n",
        "\n",
        "# Создаем индексные (векторные) базы и сохраняем на ГуглДиск\n",
        "\n",
        "# Базы знаний Postoplan\n",
        "for i, url in enumerate([url_base1_postoplan, url_base2_postoplan]):\n",
        "    # Скачиваем базу знаний (с разбивкой Markdown) по ссылке\n",
        "    text_md_content = download_google_doc(url)\n",
        "    # Создание чанков из Markdown документа\n",
        "    chunks_md = split_markdown_text(text_md_content)\n",
        "    # Создание векторной базы и сохранение на диск\n",
        "    create_db_index_from_documents_save(chunks_md,\n",
        "                                        f'postoplan_{i+1}', # имя для индексной базы\n",
        "                                        path_db_index_md)  # ранее созданный путь на ГуглДиске\n",
        "\n",
        "\n",
        "# Базы знаний Simble\n",
        "for i, url in enumerate([url_base1_simble, url_base2_simble]):\n",
        "    # Скачиваем базу знаний по ссылке\n",
        "    text_content = download_google_doc(url)\n",
        "    # Создание чанков из документа\n",
        "    chunks = split_hard_text(text_content)\n",
        "    # Создание векторной базы и сохранение на диск\n",
        "    create_db_index_from_documents_save(chunks,\n",
        "                                        f'simble_{i+1}', # имя для индексной базы\n",
        "                                        path_db_index_text)  # ранее созданный путь на ГуглДиске"
      ],
      "metadata": {
        "id": "4q0M37Cwhi8K"
      },
      "execution_count": null,
      "outputs": []
    },
    {
      "cell_type": "code",
      "source": [
        "# Проверим файлы на ГуглДиске:\n",
        "!ls /content/drive/MyDrive/data/db_index_md/ /content/drive/MyDrive/data/db_index_text/"
      ],
      "metadata": {
        "colab": {
          "base_uri": "https://localhost:8080/"
        },
        "id": "FhQfyYtOSb3p",
        "outputId": "86f1df45-bd93-49fc-d299-1fe7b68f9e7a"
      },
      "execution_count": null,
      "outputs": [
        {
          "output_type": "stream",
          "name": "stdout",
          "text": [
            "/content/drive/MyDrive/data/db_index_md/:\n",
            "postoplan_1.faiss  postoplan_1.pkl  postoplan_2.faiss  postoplan_2.pkl\n",
            "\n",
            "/content/drive/MyDrive/data/db_index_text/:\n",
            "simble_1.faiss\tsimble_1.pkl  simble_2.faiss  simble_2.pkl\n"
          ]
        }
      ]
    },
    {
      "cell_type": "markdown",
      "source": [
        "Теперь, в указанных директориях на ГуглДиске, вы найдете по два файла для каждой векторной бызы с расширением .faiss и .pkl.\n",
        "В последующем вы можете использовать эти файлы для восстановления состояния вашей векторной БЗ без необходимости создания эмбедингов (переиндексации) всех данных снова."
      ],
      "metadata": {
        "id": "Y5_LLRVnBURK"
      }
    },
    {
      "cell_type": "markdown",
      "source": [
        "# load_local: загрузка сохраненной векторной базы"
      ],
      "metadata": {
        "id": "_IelgsOLV8Of"
      }
    },
    {
      "cell_type": "markdown",
      "source": [
        "### Загрузка ранее сохраненных векторной базы FAISS и объединение из нескольких в одну\n",
        "\n",
        "```python\n",
        "db_index = FAISS.load_local(\n",
        "        allow_dangerous_deserialization=True,\n",
        "        embeddings=OpenAIEmbeddings(),\n",
        "        folder_path=folder_path, # путь к сохраненной векторной базе\n",
        "        index_name=index_name)  # имя сохраненной векторной базы\n",
        "\n",
        "\n",
        "# Дополнительно, слияние баз в одну db_index_1\n",
        "# База db_index_2 объединится с базой db_index_1\n",
        "# db_index_1 станет объединенной базой\n",
        "\n",
        "db_index_1.merge_from(db_index_2)\n",
        "# --------------------------------------------------\n",
        "```"
      ],
      "metadata": {
        "id": "TWY9Z1l1WgmE"
      }
    },
    {
      "cell_type": "code",
      "source": [
        "# Загрузка векторной базы с диска\n",
        "def load_db_vector(folder_path_db_index,  # путь к сохраненной векторной базе\n",
        "                   index_name):           # имя сохраненной векторной базы\n",
        "    return FAISS.load_local(\n",
        "                allow_dangerous_deserialization=True, # Разрешает потенциально небезопасную десериализацию\n",
        "                embeddings=OpenAIEmbeddings(),  # Указывает векторные представления\n",
        "                folder_path=folder_path_db_index, # путь к сохраненной векторной базе\n",
        "                index_name=index_name) # имя сохраненной векторной базы\n",
        "\n",
        "\n",
        "# Загружаем ранее сохраненные на ГуглДиске векторные базы из папки и объединяем в одну\n",
        "def get_dbs_vector(path_dbs):\n",
        "    # Для объединения нескольких баз в цикле будем присоединять существующие базы к новой (пустой)\n",
        "    # Создание пустой векторной базы -----------------------------------------------------\n",
        "    db_index_new = FAISS.from_documents([Document(page_content='', metadata={})],\n",
        "                                        OpenAIEmbeddings())  # FAISS.from_documents\n",
        "    # или для текстового формата чанков:\n",
        "    # db_index_new = FAISS.from_texts([''], OpenAIEmbeddings())  # FAISS.from_texts\n",
        "    # ------------------------------------------------------------------------------------\n",
        "    # пробегаем по всем файлам векторных баз в нашей папке\n",
        "    for file in glob(f'{path_dbs}*.faiss'):\n",
        "        index_name = file.split('/')[-1].split('.')[0]  # Имя векторной базы на диске\n",
        "        # Загрузка ранее сохраненной векторной базы\n",
        "        db_index_loaded = load_db_vector(path_dbs, index_name)\n",
        "        print(f'Векторная база: \"{index_name}\" загружена')\n",
        "        # Слияние баз в одну db_index_new ------------------\n",
        "        db_index_new.merge_from(db_index_loaded)\n",
        "        # --------------------------------------------------\n",
        "    return db_index_new\n",
        "\n",
        "\n",
        "# Создаем объединенную векторную базу Postoplan\n",
        "db_postoplan_merged = get_dbs_vector(path_db_index_md)\n",
        "# Создаем объединенную векторную базу Simble\n",
        "db_simble_merged = get_dbs_vector(path_db_index_text)"
      ],
      "metadata": {
        "colab": {
          "base_uri": "https://localhost:8080/"
        },
        "id": "maDQjnC6WIOX",
        "outputId": "86a55159-bd77-43b7-9c3f-8a00d170a477"
      },
      "execution_count": null,
      "outputs": [
        {
          "output_type": "stream",
          "name": "stdout",
          "text": [
            "Векторная база: \"postoplan_1\" загружена\n",
            "Векторная база: \"postoplan_2\" загружена\n",
            "Векторная база: \"simble_1\" загружена\n",
            "Векторная база: \"simble_2\" загружена\n"
          ]
        }
      ]
    },
    {
      "cell_type": "markdown",
      "source": [
        "### Проверим работу объединенной векторной базы"
      ],
      "metadata": {
        "id": "7zN4AFwIXc20"
      }
    },
    {
      "cell_type": "code",
      "source": [
        "# similarity_search_with_score\n",
        "# Используем векторную базу: db_postoplan_merged\n",
        "\n",
        "similar_documents = db_postoplan_merged.similarity_search_with_score(\n",
        "    \"Интересные факты о маркетинге социальных сетей\", k=3)\n",
        "\n",
        "message_content = re.sub(r'\\n{2}', ' ', '\\n '.join(\n",
        "    [f'\\nОтрывок документа № {i+1}:\\n' + doc.page_content + f'\\nMetedata: {doc.metadata}' + f'\\nScore: {score}'\n",
        "     for i, (doc, score) in enumerate(similar_documents)]))\n",
        "print(format_text(message_content))"
      ],
      "metadata": {
        "colab": {
          "base_uri": "https://localhost:8080/"
        },
        "id": "CMvA7CPSWIUb",
        "outputId": "1d121120-16fd-42f0-b14e-26cf711515e7"
      },
      "execution_count": null,
      "outputs": [
        {
          "output_type": "stream",
          "name": "stdout",
          "text": [
            "\n",
            "Отрывок документа № 1:\n",
            "# Пусть соцсети работают на вас\n",
            "## Соцсети на автопилоте — создавайте, планируйте и продвигайте свой контент\n",
            "POSTOPLAN отмечен наградами, ему доверяют 50 000+ специалистов и компаний из 147 стран\n",
            "76% уменьшили время работы в соцсетях более, чем на 4 часа в неделю\n",
            "15% увеличили количество клиентов уже в первые месяцы работы с сервисом\n",
            "55% отметили увеличение охвата постов и рост аудитории\n",
            "Metedata: {'Header 1': 'Пусть соцсети работают на вас', 'Header 2': 'Соцсети на автопилоте — создавайте, планируйте и\n",
            "продвигайте свой контент'}\n",
            "Score: 0.2880343198776245\n",
            "\n",
            "Отрывок документа № 2:\n",
            "## На 70% больше охватов - чем отложенный постинг лучше обычного\n",
            "Основная задача бизнеса в соцсетях - постоянно быть на связи с аудиторией, размещая полезный контент. Появляться в ленте\n",
            "подписчиков можно планомерно, по мере написания публикаций, а можно загрузить все посты заранее. О преимуществах второго\n",
            "варианта как раз и пойдет речь в этой статье.\n",
            "Metedata: {'Header 1': 'Блог', 'Header 2': 'На 70% больше охватов - чем отложенный постинг лучше обычного'}\n",
            "Score: 0.29472893476486206\n",
            "\n",
            "Отрывок документа № 3:\n",
            "## Создаем выдающиеся возможности для маркетинга в соцсетях\n",
            "Гибкие тарифные планы: платите только за подключенные аккаунты, без лишних расходов и переплат\n",
            "2 крутых графических редактора: простой и с конструктором, а также библиотека с 2 млн. изображений\n",
            "Постинг за раз в несколько аккаунтов: выбирайте контент и размещайте сразу везде — очень удобно и экономит время\n",
            "Не только стандартные соцсети: есть Google My Business и планирование постинга в Telegram\n",
            "Количество пользователей - неограниченно: добавляйте коллег, клиентов или сотрудников для командной работы над проектами\n",
            "Предварительный просмотр публикаций: создавайте публикации и заранее просматривайте, как они впишутся в ленту\n",
            "Общение с подписчиками в DM&comments: больше не нужно переключаться между аккаунтами, все доступно в одном месте\n",
            "Более 700 идей постов в календаре: в календаре POSTOPLAN несколько готовых поводов на каждый день\n",
            "Количество проектов - неограниченно: создавайте сколько угодно рабочих проектов и давайте к ним доступ членам команды\n",
            "Интеграция со Slack и WordPress: и с другими нужными вам сервисами для комфортной работы\n",
            "Массовое планирование и автопостинг: составляйте расписание для загрузки контента на месяцы вперед\n",
            "...и много других крутых функций\n",
            "Metedata: {'Header 1': 'О компании', 'Header 2': 'Создаем выдающиеся возможности для маркетинга в соцсетях'}\n",
            "Score: 0.31503263115882874\n"
          ]
        }
      ]
    },
    {
      "cell_type": "code",
      "source": [
        "# similarity_search_with_score\n",
        "# Используем векторную базу: db_simble_merged\n",
        "\n",
        "similar_documents = db_simble_merged.similarity_search_with_score(\n",
        "    \"КАСКО на короткий срок\", k=3)\n",
        "\n",
        "message_content = re.sub(r'\\n{2}', ' ', '\\n '.join(\n",
        "    [f'\\nОтрывок документа № {i+1}:\\n' + doc.page_content[:1500] + f'\\nScore: {score}'\n",
        "     for i, (doc, score) in enumerate(similar_documents)]))\n",
        "print(format_text(message_content))"
      ],
      "metadata": {
        "colab": {
          "base_uri": "https://localhost:8080/"
        },
        "id": "TzlvrdbHc9tE",
        "outputId": "c718ca13-31ac-4bef-bb21-5775a610c3d2"
      },
      "execution_count": null,
      "outputs": [
        {
          "output_type": "stream",
          "name": "stdout",
          "text": [
            "\n",
            "Отрывок документа № 1:\n",
            "﻿КАСКО в Simble теперь можно приобрести в рассрочку с картой Свобода\\n\\nТеперь КАСКО в Simble можно приобрести в\n",
            "рассрочку с картой Свобода от Банка Хоум Кредит. Карта Свобода предоставляет возможность делать покупки в рассрочку до\n",
            "12 месяцев у партнеров или до 51 дня в любых магазинах. С помощью карты Свобода можно оформить КАСКО на короткий срок в\n",
            "приложении Simble. Узнать подробнее об условиях предложения и оформить карту Свобода можно [здесь](ссылка). Simble –\n",
            "КАСКО на короткий период\\n\\nSimble предлагает страховку на короткий период, которая позволяет застраховать автомобиль на\n",
            "1 час поездки, 100 км пути или на время парковки. Стоимость страховки начинается от 14 ₽ в день. Также в приложении\n",
            "Simble можно оформить КАСКО на год поездки или парковку. Страховка на парковку предлагается по часам, начиная от 13 ₽ в\n",
            "час. Страховка на поездку предлагается по часам, начиная от 95 ₽ в час, или на любое количество километров, начиная от\n",
            "175 ₽ за 100 км. Simble также предлагает тарифы для разных ситуаций, такие как страховка только от угона или страховка\n",
            "только на время парковки. Как оформить страховку в Simble Чтобы оформить страховку в Simble, необходимо скачать\n",
            "приложение на устройство с операционной системой iOS или Android. Затем нужно указать свои данные и данные автомобиля.\n",
            "Если автомобиль уже зарегистрирован, можно найти его по номеру, если нет, то нужно указать данные ПТС. После этого\n",
            "необходимо сфотографировать автомобиль со всех сторон. Фотоосмотр нужно пройти только один\n",
            "Score: 0.32821059226989746\n",
            "\n",
            "Отрывок документа № 2:\n",
            "целую секцию на конференции, где поделился информацией о разработке цифрового страхового продукта, проблемах культуры\n",
            "страхования в России и способах ее создания. Также было рассказано о росте и активном найме в компании.\\n\\nКомпания\n",
            "предложила пользователям новую модель потребления КАСКО: страхование автомобиля на время поездки в мобильном приложении\n",
            "или с помощью транспондера. Цель компании - сделать КАСКО доступным для всех автовладельцев.\\n\\n# Simble и рост\n",
            "продаж\\n\\nSimble испытывает рост продаж и продолжает активно расширять взаимодействие с другими игроками рынка, создавая\n",
            "новые продукты.\\n\\n# КАСКО на поездку или парковку\\n\\nSimble представил мобильное приложение с КАСКО на короткий срок.\n",
            "Пользователи могут оформить полис на короткий период без поездок в офис, выбрать срок действия страховки самостоятельно\n",
            "и застраховать машину не на один год, а на одну поездку, на нужное количество километров или даже на время парковки.\n",
            "Также предлагается кэшбэк 10% на счет Tele2 за регистрацию и покупку полиса КАСКО по промокоду.\\n\\n# Вопросы и\n",
            "ответы\\n\\n- Что такое КАСКО на короткий срок?\\nКАСКО на короткий срок - это новый формат автострахования от сервиса\n",
            "Simble. Он позволяет оформить полис на нужный вам период (на время поездки или парковки, километры в пути) и не\n",
            "переплачивать за годовое КАСКО.\\n\\n- Можно ли застраховать не свой автомобиль?\\nДа, можно. При страховом случае\n",
            "страховая компания попросит документы собственника автомобиля, и возмещение ущерба всегда получает собстве\n",
            "Score: 0.3434618413448334\n",
            "\n",
            "Отрывок документа № 3:\n",
            "Вернуться на главную.\\n\\n# Simble – КАСКО на короткий период\\n\\nSimble предлагает страховку на короткий период, которая\n",
            "покрывает поездки, километры в пути и парковку. Есть возможность выбрать тариф в зависимости от потребностей водителя.\n",
            "Также предлагается страховка только в случае угона автомобиля.\\n\\n# Вопросы и ответы\\n\\n- Что делать, если я потерял\n",
            "документы на машину?\\n- Что делать, если мне не пришло подтверждение о проверке регистрации?\\n- Где я могу посмотреть\n",
            "историю моих покупок?\\n- Можно ли оформить страховку на каршеринговую машину?\\n- Как отменить покупку страхового полиса,\n",
            "если я выбрал не тот тариф?\\n- Можно ли застраховать машину на гоночном треке?\\n- Что такое франшиза и как она\n",
            "работает?\\n\\n# Сотрудничество\\n\\n- Вопросы: support@simble.in, +7 (800) 500-81-47\\n- Партнёрство: partners@simble.in, +7\n",
            "(925) 254-46-60\\n- Часы работы: 7 дней в неделю с 08:00 до 20:00 по МСК', '# Контактная информация\\n\\n- Почта:\n",
            "partners@simble.in\\n- Телефон: +7 (925) 254-46-60\\n- Часы работы: 7 дней в неделю с 08:00 до 20:00 по МСК\\n- Telegram:\n",
            "[ссылка](https://t.me/simble_support)\\n\\n# ООО «Флексидрайв»\\n\\n- Пользовательское соглашение\\n- Политика\n",
            "конфиденциальности\\n- Правила и условия страхования\\n\\nООО Флекси Драйв не оказывает услуги страхования. Услуги\n",
            "страхования оказывают:\\n- ООО «Зетта Страхование»\\n- САО «ВСК»\\n- ИНН: 9729296472\\n- ОГРН: 1207700175814\\n- Юр. адрес:\n",
            "123610, город Москва, Краснопресненская наб, д. 12, подъезд/этаж/помещ. 3/15/Iд часть ком./ком. 8/8б\\n\\nПр\n",
            "Score: 0.3462933301925659\n"
          ]
        }
      ]
    },
    {
      "cell_type": "markdown",
      "source": [
        "# Использование векторных баз в моделях OpenAI"
      ],
      "metadata": {
        "id": "6AgyFW9qJmNa"
      }
    },
    {
      "cell_type": "code",
      "source": [
        "# Функция запроса и ответа от OpenAI с поиском по векторной базе данных\n",
        "def generate_answer(query,    # запрос пользователя\n",
        "                    db_index, # векторная база знаний\n",
        "                    k=5,      # используемое к-во чанков\n",
        "                    verbose=True, # выводить ли на экран выбранные чанки\n",
        "                    model='gpt-4o-mini',\n",
        "                    temp=0.1):\n",
        "    # Поиск чанков по векторной базе данных\n",
        "    similar_documents = db_index.similarity_search(query, k=k)\n",
        "    # Формирование текстового контента из выбранных чанков для модели\n",
        "    message_content = re.sub(r'\\n{2}', ' ', '\\n '.join(\n",
        "        [f'Отрывок документа № {i+1}:\\n' + doc.page_content\n",
        "        for i, doc in enumerate(similar_documents)]))\n",
        "    if verbose:\n",
        "        print(message_content) # печать на экран выбранных чанков\n",
        "\n",
        "    messages = [{\"role\": \"system\", \"content\":\n",
        "                 f'Ответь на вопрос пользователя на основании информации из базы знаний: \\n{message_content}'},\n",
        "                {\"role\": \"user\", \"content\":\n",
        "                 f'Вопрос пользователя: {query}'}]\n",
        "    response = openai.chat.completions.create(\n",
        "        model=model,\n",
        "        messages=messages,\n",
        "        temperature=temp)\n",
        "    return response.choices[0].message.content"
      ],
      "metadata": {
        "id": "0cm1dS5wJ1NP"
      },
      "execution_count": null,
      "outputs": []
    },
    {
      "cell_type": "code",
      "source": [
        "query = \"Интересные факты о маркетинге социальных сетей\"\n",
        "\n",
        "# Используем векторную базу: db_postoplan_merged\n",
        "answer = generate_answer(query, db_postoplan_merged, k=5, verbose=False)\n",
        "print('Ответ модели:\\n')\n",
        "print(format_text(answer))"
      ],
      "metadata": {
        "colab": {
          "base_uri": "https://localhost:8080/"
        },
        "id": "KxowNZG-KGRY",
        "outputId": "65f90313-d19f-49d5-a2b9-e8748213a0cf"
      },
      "execution_count": null,
      "outputs": [
        {
          "output_type": "stream",
          "name": "stdout",
          "text": [
            "Ответ модели:\n",
            "\n",
            "Вот несколько интересных фактов о маркетинге в социальных сетях:\n",
            "\n",
            "1. **Увеличение охвата**: Использование отложенного постинга может увеличить охват публикаций на 70% по сравнению с\n",
            "обычным размещением контента. Это позволяет бизнесам более эффективно взаимодействовать с аудиторией.\n",
            "\n",
            "2. **Экономия времени**: 76% пользователей сервиса POSTOPLAN отметили, что смогли сократить время работы в соцсетях\n",
            "более чем на 4 часа в неделю, что позволяет сосредоточиться на других важных задачах.\n",
            "\n",
            "3. **Рост клиентской базы**: 15% пользователей сервиса уже в первые месяцы работы отметили увеличение количества\n",
            "клиентов, что подчеркивает эффективность использования инструментов для планирования контента.\n",
            "\n",
            "4. **Увеличение охвата и аудитории**: 55% пользователей отметили рост охвата постов и увеличение аудитории, что\n",
            "свидетельствует о том, что правильное планирование контента может значительно повысить видимость бренда.\n",
            "\n",
            "5. **Гибкость тарифов**: Сервисы, такие как POSTOPLAN, предлагают гибкие тарифные планы, что позволяет бизнесам платить\n",
            "только за подключенные аккаунты, избегая лишних расходов.\n",
            "\n",
            "6. **Командная работа**: В POSTOPLAN можно добавлять неограниченное количество пользователей для совместной работы над\n",
            "проектами, что упрощает управление контентом и коммуникацию в команде.\n",
            "\n",
            "Эти факты подчеркивают важность и эффективность использования социальных сетей в маркетинге для достижения бизнес-целей.\n"
          ]
        }
      ]
    },
    {
      "cell_type": "markdown",
      "source": [
        "# as_retriever\n",
        "\n",
        "- В LangChain, ретриверы (retrievers) — это компоненты, предназначенные для извлечения релевантной информации из большого набора данных или документов. Они используются в системах вопросов и ответов, обеспечивая доступ к нужной информации для языковой модели.\n",
        "\n",
        "- Что делает as_retriever?\n",
        "Метод as_retriever упрощает использование различных хранилищ данных, преобразуя их в объект ретривера. Этот объект можно использовать для поиска и извлечения информации, необходимой языковой модели. Например, если вы работаете с базой данных, файлом, или векторным хранилищем (например, FAISS), метод as_retriever позволяет вам использовать их как унифицированный интерфейс для поиска данных."
      ],
      "metadata": {
        "id": "DgF0VCqQaHRQ"
      }
    },
    {
      "cell_type": "code",
      "source": [
        "# \"similarity\"\n",
        "# Используем векторную базу: db_postoplan_merged\n",
        "\n",
        "retriever = db_postoplan_merged.as_retriever(search_type=\"similarity\",\n",
        "                                             search_kwargs={\"k\": 2})\n",
        "\n",
        "similar_documents = retriever.invoke(\"Интересные факты о маркетинге социальных сетей\")\n",
        "\n",
        "message_content = re.sub(r'\\n{2}', ' ', '\\n '.join(\n",
        "    [f'\\nОтрывок документа № {i+1}:\\n' + doc.page_content + f'\\nMetedata: {doc.metadata}'\n",
        "     for i, doc in enumerate(similar_documents)]))\n",
        "print(format_text(message_content))"
      ],
      "metadata": {
        "id": "bkJ7x1u9c_S4",
        "colab": {
          "base_uri": "https://localhost:8080/"
        },
        "outputId": "b8573bad-2c6a-4631-b758-592578612058"
      },
      "execution_count": null,
      "outputs": [
        {
          "output_type": "stream",
          "name": "stdout",
          "text": [
            "\n",
            "Отрывок документа № 1:\n",
            "# Пусть соцсети работают на вас\n",
            "## Соцсети на автопилоте — создавайте, планируйте и продвигайте свой контент\n",
            "POSTOPLAN отмечен наградами, ему доверяют 50 000+ специалистов и компаний из 147 стран\n",
            "76% уменьшили время работы в соцсетях более, чем на 4 часа в неделю\n",
            "15% увеличили количество клиентов уже в первые месяцы работы с сервисом\n",
            "55% отметили увеличение охвата постов и рост аудитории\n",
            "Metedata: {'Header 1': 'Пусть соцсети работают на вас', 'Header 2': 'Соцсети на автопилоте — создавайте, планируйте и\n",
            "продвигайте свой контент'}\n",
            "\n",
            "Отрывок документа № 2:\n",
            "## На 70% больше охватов - чем отложенный постинг лучше обычного\n",
            "Основная задача бизнеса в соцсетях - постоянно быть на связи с аудиторией, размещая полезный контент. Появляться в ленте\n",
            "подписчиков можно планомерно, по мере написания публикаций, а можно загрузить все посты заранее. О преимуществах второго\n",
            "варианта как раз и пойдет речь в этой статье.\n",
            "Metedata: {'Header 1': 'Блог', 'Header 2': 'На 70% больше охватов - чем отложенный постинг лучше обычного'}\n"
          ]
        }
      ]
    },
    {
      "cell_type": "code",
      "source": [
        "# \"mmr\"\n",
        "# Используем векторную базу: db_postoplan_merged\n",
        "\n",
        "retriever = db_postoplan_merged.as_retriever(\n",
        "                                    search_type=\"mmr\",\n",
        "                                    search_kwargs={'k': 3,\n",
        "                                                   'lambda_mult': 0.5})\n",
        "\"\"\"\n",
        "Параметр *lambda_mult*  представляет собой число в диапазоне от 0 до 1, которое определяет уровень\n",
        "разнообразия среди результатов поиска. Значение **lambda_mult 0** соответствует **максимальному\n",
        "разнообразию**, в то время как значение **1** соответствует **минимальному разнообразию** в результатах​\n",
        "- В контексте поиска с максимальной маргинальной релевантностью lambda_mult помогает оптимизировать\n",
        "баланс между сходством с запросом и разнообразием среди выбранных документов. Это означает, что более\n",
        "низкое значение lambda_mult может привести к более разнообразным результатам, возможно, менее релевантным\n",
        "для запроса, в то время как более высокое значение lambda_mult может привести к результатам, более\n",
        "релевантным для запроса, но менее разнообразным​\n",
        "- В нескольких случаях, в различных реализациях алгоритмов поиска, очевидно, что lambda_mult служит\n",
        "важным параметром для управления компромиссом между релевантностью и разнообразием во время поиска,\n",
        "тем самым влияя на тип результатов, возвращаемых алгоритмом MMR​.\n",
        "\"\"\"\n",
        "\n",
        "similar_documents = retriever.invoke(\"Интересные факты о маркетинге социальных сетей\")\n",
        "\n",
        "message_content = re.sub(r'\\n{2}', ' ', '\\n '.join(\n",
        "    [f'\\nОтрывок документа № {i+1}:\\n' + doc.page_content + f'\\nMetedata: {doc.metadata}'\n",
        "     for i, doc in enumerate(similar_documents)]))\n",
        "print(format_text(message_content))"
      ],
      "metadata": {
        "colab": {
          "base_uri": "https://localhost:8080/"
        },
        "id": "GHwH2yO1R3Xv",
        "outputId": "210e15f2-5dae-448d-89da-09f335ab7a53"
      },
      "execution_count": null,
      "outputs": [
        {
          "output_type": "stream",
          "name": "stdout",
          "text": [
            "\n",
            "Отрывок документа № 1:\n",
            "# Пусть соцсети работают на вас\n",
            "## Соцсети на автопилоте — создавайте, планируйте и продвигайте свой контент\n",
            "POSTOPLAN отмечен наградами, ему доверяют 50 000+ специалистов и компаний из 147 стран\n",
            "76% уменьшили время работы в соцсетях более, чем на 4 часа в неделю\n",
            "15% увеличили количество клиентов уже в первые месяцы работы с сервисом\n",
            "55% отметили увеличение охвата постов и рост аудитории\n",
            "Metedata: {'Header 1': 'Пусть соцсети работают на вас', 'Header 2': 'Соцсети на автопилоте — создавайте, планируйте и\n",
            "продвигайте свой контент'}\n",
            "\n",
            "Отрывок документа № 2:\n",
            "### Сентябрь 2020\n",
            "1. Пробный период Social Inbox\n",
            "2. Владельцы статусов FREE смогут общаться с клиентами в Facebook и Twitter в течение 3 дней\n",
            "3. Скачивание статистики\n",
            "4. Добавлена возможность скачивания статистики в формате .png\n",
            "5. Выбор периода статистики\n",
            "6. Теперь можно выбрать, за какой период будет показана статистика\n",
            "7. Разделение по категориям\n",
            "8. Добавлена возможность разделять посты по категориям\n",
            "9. Импорт публикаций из RSS-лент\n",
            "10. Теперь можно публиковать посты из RSS-лент в соцсети и мессенджеры\n",
            "Metedata: {'Header 1': 'Обновления', 'Header 2': 'Что нового в POSTOPLAN', 'Header 3': 'Сентябрь 2020'}\n",
            "\n",
            "Отрывок документа № 3:\n",
            "### Идеи постов для бизнес-страницы в Инстаграм\n",
            "Вот список идей, которые доказали свою эффективность у брендов из разных отраслей:\n",
            "1. Покажите свою продукцию.\n",
            "2. Позвольте своим клиентам заглянуть за кулисы - покажите им, что происходит в Вашем офисе.\n",
            "3. Расскажите о своих планах (но только если Вы уверены в них на 100%!).\n",
            "4. Вдохновляйте своих подписчиков цитатами.\n",
            "5. Публикуйте шутки и мемы, имеющие отношение к Вашему бизнесу.\n",
            "6. Делитесь важными новостями и тенденциями в Вашей отрасли.\n",
            "7. Освещайте события.\n",
            "8. Выкладывайте видеоуроки.\n",
            "9. Делайте фотографии счастливых покупателей Вашего оффлайн-магазина (но выкладывайте их только с их разрешения!).\n",
            "Не зацикливайтесь только на фотографиях. Чем больше видеороликов Вы создадите, тем лучше. В идеале нанять фотографа,\n",
            "который будет создавать для Вас контент.\n",
            "Metedata: {'Header 1': 'Блог', 'Header 2': 'Как создать и использовать бизнес-аккаунт в Instagram?', 'Header 3': 'Идеи\n",
            "постов для бизнес-страницы в Инстаграм'}\n"
          ]
        }
      ]
    },
    {
      "cell_type": "code",
      "source": [
        "# \"similarity_score_threshold\"\n",
        "# Используем векторную базу: db_postoplan_merged\n",
        "\n",
        "retriever = db_postoplan_merged.as_retriever(\n",
        "                search_type=\"similarity_score_threshold\",\n",
        "                search_kwargs={\"score_threshold\": 0.79})\n",
        "\n",
        "similar_documents = retriever.invoke(\"Интересные факты о маркетинге социальных сетей\")\n",
        "\n",
        "message_content = re.sub(r'\\n{2}', ' ', '\\n '.join(\n",
        "    [f'\\nОтрывок документа № {i+1}:\\n' + doc.page_content + f'\\nMetedata: {doc.metadata}'\n",
        "     for i, doc in enumerate(similar_documents)]))\n",
        "print(format_text(message_content))"
      ],
      "metadata": {
        "colab": {
          "base_uri": "https://localhost:8080/"
        },
        "id": "XSfqe6SJr4BF",
        "outputId": "ce39dbb4-583e-44b6-fd0c-f358844fd9e4"
      },
      "execution_count": null,
      "outputs": [
        {
          "output_type": "stream",
          "name": "stdout",
          "text": [
            "\n",
            "Отрывок документа № 1:\n",
            "# Пусть соцсети работают на вас\n",
            "## Соцсети на автопилоте — создавайте, планируйте и продвигайте свой контент\n",
            "POSTOPLAN отмечен наградами, ему доверяют 50 000+ специалистов и компаний из 147 стран\n",
            "76% уменьшили время работы в соцсетях более, чем на 4 часа в неделю\n",
            "15% увеличили количество клиентов уже в первые месяцы работы с сервисом\n",
            "55% отметили увеличение охвата постов и рост аудитории\n",
            "Metedata: {'Header 1': 'Пусть соцсети работают на вас', 'Header 2': 'Соцсети на автопилоте — создавайте, планируйте и\n",
            "продвигайте свой контент'}\n",
            "\n",
            "Отрывок документа № 2:\n",
            "## На 70% больше охватов - чем отложенный постинг лучше обычного\n",
            "Основная задача бизнеса в соцсетях - постоянно быть на связи с аудиторией, размещая полезный контент. Появляться в ленте\n",
            "подписчиков можно планомерно, по мере написания публикаций, а можно загрузить все посты заранее. О преимуществах второго\n",
            "варианта как раз и пойдет речь в этой статье.\n",
            "Metedata: {'Header 1': 'Блог', 'Header 2': 'На 70% больше охватов - чем отложенный постинг лучше обычного'}\n"
          ]
        }
      ]
    },
    {
      "cell_type": "markdown",
      "source": [
        "## ChatOpenAI с использованием ретривера"
      ],
      "metadata": {
        "id": "IQziYxoEOR2V"
      }
    },
    {
      "cell_type": "code",
      "source": [
        "from langchain.chains import create_retrieval_chain\n",
        "from langchain.chains.combine_documents import create_stuff_documents_chain\n",
        "from langchain_core.prompts import ChatPromptTemplate\n",
        "from langchain_openai import ChatOpenAI\n",
        "\n",
        "\n",
        "# Инициализация языковой модели OpenAI\n",
        "llm = ChatOpenAI(model='gpt-4o-mini', temperature=0.1)\n",
        "\n",
        "# Создание объекта `retriever` для поиска по базе данных `db_postoplan_merged`\n",
        "# с использованием метода поиска по схожести (similarity) и выборкой из 3 результатов\n",
        "retriever = db_postoplan_merged.as_retriever(search_type=\"similarity\",\n",
        "                                             search_kwargs={\"k\": 3})\n",
        "\n",
        "# Определение системного промпта для цепочки обработки\n",
        "# Включает в себя обязательный шаблон с переменной `{context}`\n",
        "system_prompt = \"\"\"\n",
        "Используй отрезки текста для ответа на вопрос.\n",
        "Context: {context}\"\"\"  # Context: {context} - обязателен\n",
        "\n",
        "# Создание шаблона промпта\n",
        "prompt = ChatPromptTemplate.from_messages(\n",
        "                        [(\"system\", system_prompt),\n",
        "                         (\"human\", \"{input}\")]\n",
        "                        )\n",
        "\n",
        "# Создание цепочки для обработки запросов (retrieval chain)\n",
        "chain = create_retrieval_chain(\n",
        "        retriever,  # Ретривер для извлечения релевантного контекста из векторной базы данных\n",
        "        create_stuff_documents_chain(llm, prompt))  # Логика генерации ответа на основе модели `llm` и шаблона `prompt`"
      ],
      "metadata": {
        "id": "COCEulMviXQC"
      },
      "execution_count": null,
      "outputs": []
    },
    {
      "cell_type": "code",
      "source": [
        "query = \"Интересные факты о маркетинге социальных сетей\"\n",
        "ans = chain.invoke({\"input\": query})\n",
        "\n",
        "print('Ответ модели:\\n')\n",
        "print(format_text(ans['answer']), '\\n')\n",
        "# print('Выбранные чанки:\\n')\n",
        "# ans['context']"
      ],
      "metadata": {
        "id": "t_bKA6-wnyXS",
        "colab": {
          "base_uri": "https://localhost:8080/"
        },
        "outputId": "92192586-eec8-43c1-b3b3-cab95185a79e"
      },
      "execution_count": null,
      "outputs": [
        {
          "output_type": "stream",
          "name": "stdout",
          "text": [
            "Ответ модели:\n",
            "\n",
            "Вот несколько интересных фактов о маркетинге в социальных сетях:\n",
            "\n",
            "1. **Увеличение охвата**: Использование отложенного постинга может привести к увеличению охвата на 70% по сравнению с\n",
            "обычным размещением постов.\n",
            "\n",
            "2. **Экономия времени**: 76% пользователей сервиса POSTOPLAN уменьшили время работы в соцсетях более чем на 4 часа в\n",
            "неделю, что позволяет сосредоточиться на других важных аспектах бизнеса.\n",
            "\n",
            "3. **Рост клиентской базы**: 15% специалистов и компаний, использующих POSTOPLAN, отметили увеличение количества\n",
            "клиентов уже в первые месяцы работы с сервисом.\n",
            "\n",
            "4. **Увеличение охвата постов**: 55% пользователей отметили рост охвата своих постов и увеличение аудитории.\n",
            "\n",
            "5. **Гибкие тарифные планы**: Сервисы для управления соцсетями, такие как POSTOPLAN, предлагают гибкие тарифные планы,\n",
            "позволяя платить только за подключенные аккаунты без лишних расходов.\n",
            "\n",
            "6. **Командная работа**: В таких сервисах нет ограничений по количеству пользователей, что позволяет добавлять коллег и\n",
            "клиентов для совместной работы над проектами.\n",
            "\n",
            "Эти факты подчеркивают важность и эффективность использования социальных сетей в маркетинге. \n",
            "\n"
          ]
        }
      ]
    },
    {
      "cell_type": "code",
      "source": [
        "# Обернем в функцию\n",
        "# Создание цепочки модели с использованием ретривера для поиска по векторной базе данных\n",
        "def create_model_chain(db_index, # векторная база знаний\n",
        "                       k=3,      # используемое к-во чанков\n",
        "                       model='gpt-4o-mini',\n",
        "                       temp=0.1):\n",
        "    llm = ChatOpenAI(model=model, temperature=temp)\n",
        "    retriever = db_index.as_retriever(search_type=\"similarity\",\n",
        "                                      search_kwargs={\"k\": k})\n",
        "    system_prompt = \"\"\"Ответь на вопрос пользователя используя отрезки текста.\n",
        "    Context: {context}\"\"\"\n",
        "    prompt = ChatPromptTemplate.from_messages(\n",
        "                                [(\"system\", system_prompt),\n",
        "                                 (\"human\", \"{input}\")])\n",
        "    return create_retrieval_chain(retriever,\n",
        "                                  create_stuff_documents_chain(llm, prompt))\n",
        "\n",
        "\n",
        "# ---------------------------------------------------------\n",
        "# Используем c векторной базой данных `db_postoplan_merged`\n",
        "new_chain = create_model_chain(db_postoplan_merged)"
      ],
      "metadata": {
        "id": "h2kxG1HX0Wh0"
      },
      "execution_count": null,
      "outputs": []
    },
    {
      "cell_type": "code",
      "source": [
        "query = \"Интересные факты о маркетинге социальных сетей\"\n",
        "ans = new_chain.invoke({\"input\": query})\n",
        "\n",
        "print('Ответ модели:\\n')\n",
        "print(format_text(ans['answer']), '\\n')"
      ],
      "metadata": {
        "colab": {
          "base_uri": "https://localhost:8080/"
        },
        "id": "7-S0qPp60dMk",
        "outputId": "66a4224c-5da9-46fb-f733-c90edb6de899"
      },
      "execution_count": null,
      "outputs": [
        {
          "output_type": "stream",
          "name": "stdout",
          "text": [
            "Ответ модели:\n",
            "\n",
            "Вот несколько интересных фактов о маркетинге в социальных сетях:\n",
            "\n",
            "1. **Уменьшение времени работы**: 76% пользователей сервиса POSTOPLAN уменьшили время работы в соцсетях более чем на 4\n",
            "часа в неделю.\n",
            "\n",
            "2. **Увеличение клиентов**: 15% специалистов отметили увеличение количества клиентов уже в первые месяцы работы с\n",
            "сервисом.\n",
            "\n",
            "3. **Рост охвата**: 55% пользователей отметили увеличение охвата постов и рост аудитории.\n",
            "\n",
            "4. **Преимущества отложенного постинга**: Отложенный постинг может обеспечить на 70% больше охватов по сравнению с\n",
            "обычным размещением публикаций.\n",
            "\n",
            "5. **Гибкие тарифные планы**: Сервисы, такие как POSTOPLAN, предлагают гибкие тарифные планы, позволяя платить только за\n",
            "подключенные аккаунты без лишних расходов.\n",
            "\n",
            "6. **Массовое планирование**: Возможность массового планирования и автопостинга позволяет составлять расписание для\n",
            "загрузки контента на месяцы вперед.\n",
            "\n",
            "Эти факты подчеркивают эффективность и преимущества использования социальных сетей для бизнеса. \n",
            "\n"
          ]
        }
      ]
    }
  ]
}