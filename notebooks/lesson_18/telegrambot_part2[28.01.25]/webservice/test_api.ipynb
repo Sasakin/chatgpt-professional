{
 "cells": [
  {
   "cell_type": "code",
   "execution_count": null,
   "metadata": {},
   "outputs": [],
   "source": [
    "import requests\n",
    "response = requests.get('http://127.0.0.1:8000/')\n",
    "print(response.text)"
   ]
  },
  {
   "cell_type": "code",
   "execution_count": null,
   "metadata": {},
   "outputs": [],
   "source": [
    "response = requests.get('http://127.0.0.1:8000/about')\n",
    "print(response.text)"
   ]
  },
  {
   "cell_type": "code",
   "execution_count": null,
   "metadata": {},
   "outputs": [],
   "source": [
    "response = requests.get('http://127.0.0.1:8000/users/123')\n",
    "print(response.text)"
   ]
  },
  {
   "cell_type": "code",
   "execution_count": null,
   "metadata": {},
   "outputs": [],
   "source": [
    "param = {\n",
    "    'name': 'Ivan',\n",
    "    'description': 'Programmer',\n",
    "    'old': 25\n",
    "}\n",
    "response = requests.post('http://127.0.0.1:8000/users', json = param)\n",
    "print(response.text)"
   ]
  },
  {
   "cell_type": "code",
   "execution_count": null,
   "metadata": {},
   "outputs": [],
   "source": [
    "# запрос для калькулятора\n",
    "param = {\n",
    "    'a': 10,\n",
    "    'b': 20\n",
    "}\n",
    "response = requests.post('http://127.0.0.1:8000/add', json=param)\n",
    "print(response.text)"
   ]
  },
  {
   "cell_type": "code",
   "execution_count": 7,
   "metadata": {},
   "outputs": [
    {
     "name": "stdout",
     "output_type": "stream",
     "text": [
      "('{\"message\":\"Simble — это IT-компания, которая специализируется на '\n",
      " 'предоставлении услуг, связанных с инвестициями, финансовым моделированием, '\n",
      " 'оценкой рынков и инвестиционным анализом. Мы сотрудничаем с различными '\n",
      " 'партнерами, такими как hhland.ru, для предоставления уникальных программ '\n",
      " 'лояльности. Наши офисы расположены в Москве, в удобном месте рядом с парком, '\n",
      " 'где сотрудники могут работать в комфортной обстановке. Мы также предлагаем '\n",
      " 'гибкость графика, включая возможность удаленной работы по пятницам. Simble '\n",
      " 'заботится о конфиденциальности данных и безопасности, стремясь к высоким '\n",
      " 'стандартам защиты информации.\"}')\n"
     ]
    }
   ],
   "source": [
    "import requests\n",
    "import pprint\n",
    "param = {\n",
    "    'text': 'Чем занимается ваша компания?'\n",
    "}\n",
    "response = requests.post('http://127.0.0.1:8000/get_answer', json = param)\n",
    "pprint.pprint(response.text)"
   ]
  }
 ],
 "metadata": {
  "kernelspec": {
   "display_name": "Python 3",
   "language": "python",
   "name": "python3"
  },
  "language_info": {
   "codemirror_mode": {
    "name": "ipython",
    "version": 3
   },
   "file_extension": ".py",
   "mimetype": "text/x-python",
   "name": "python",
   "nbconvert_exporter": "python",
   "pygments_lexer": "ipython3",
   "version": "3.12.0"
  }
 },
 "nbformat": 4,
 "nbformat_minor": 2
}
