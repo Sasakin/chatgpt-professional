{
  "nbformat": 4,
  "nbformat_minor": 0,
  "metadata": {
    "colab": {
      "provenance": []
    },
    "kernelspec": {
      "name": "python3",
      "display_name": "Python 3"
    },
    "language_info": {
      "name": "python"
    }
  },
  "cells": [
    {
      "cell_type": "markdown",
      "source": [
        "# Основы промпт инжиниринга."
      ],
      "metadata": {
        "id": "_gpTT8QvpSQ2"
      }
    },
    {
      "cell_type": "markdown",
      "source": [
        "Промпт-инжиниринг – это искусство создания промптов (подсказок) для больших языковых моделей (LLM), с целью направления модели на генерацию желаемого ответа."
      ],
      "metadata": {
        "id": "fWHXP6FrR5Wo"
      }
    },
    {
      "cell_type": "markdown",
      "source": [
        "## Zero-shot подход"
      ],
      "metadata": {
        "id": "c7-1XXoSSS2Z"
      }
    },
    {
      "cell_type": "markdown",
      "source": [
        "Современные крупные языковые модели, такие как GPT-4 Omni, настроены на выполнение инструкций и обучены на больших объемах данных. Благодаря этому они способны выполнять некоторые задачи \"из коробки\", без предварительного обучения на конкретных примерах – этот подход называется \"zero-shot\".\n",
        "\n",
        "В качестве примера zero-shot подхода можно рассмотреть следующую задачу:\n",
        "\n",
        "- **Запрос:**\n",
        "Классифицируйте текст на нейтральный, отрицательный или положительный.\n",
        "- **Текст:** Я думаю, что отпуск неплохой.\n",
        "- **Настроение:**\n",
        "- **Ответ:**\n",
        "Нейтральное\n",
        "\n",
        "В данном примере модели не предоставлялись конкретные примеры текстов и их классификации, однако модель успешно определила настроение текста. Это и демонстрирует её способность к zero-shot подходу.\n",
        "\n",
        "Если zero-shot подход не срабатывает, рекомендуется предоставлять модели демонстрационные примеры или образцы в промпте, что приводит к подходу \"few-shot prompting\"."
      ],
      "metadata": {
        "id": "UM-ANCZdSS84"
      }
    },
    {
      "cell_type": "markdown",
      "source": [
        "## Few-shot подход"
      ],
      "metadata": {
        "id": "gFfNzV5pSS_x"
      }
    },
    {
      "cell_type": "markdown",
      "source": [
        "Техника, называемая few-shot prompting, может быть использована для включения контекстного обучения. В таком случае мы предоставляем модели демонстрационные примеры, которые направляют её на достижение лучшего результата.\n",
        "\n",
        "Эти демонстрации служат \"настройкой\" для последующих примеров, на которых мы хотим, чтобы модель сгенерировала ответ. Согласно исследованиям, такие свойства few-shot впервые проявились, когда модели достигли достаточного размера.\n",
        "\n",
        "В целом, предоставление примеров полезно для решения некоторых задач. Если zero-shot и few-shot prompting оказываются недостаточными, это может означать, что модели не хватает знаний для успешного выполнения задачи. В таких случаях рекомендуется экспериментировать с более продвинутыми техниками промпт-инжениринга. Одной из популярных техник является chain-of-thought prompting, предназначенная для решения более сложных задач."
      ],
      "metadata": {
        "id": "fZS6KYT1STCc"
      }
    },
    {
      "cell_type": "code",
      "source": [
        "!pip install -q openai==1.41.1"
      ],
      "metadata": {
        "id": "jo7XWMC_T21c",
        "colab": {
          "base_uri": "https://localhost:8080/"
        },
        "outputId": "de9c99cb-7de9-4294-9526-220a450cca1b"
      },
      "execution_count": null,
      "outputs": [
        {
          "output_type": "stream",
          "name": "stdout",
          "text": [
            "\u001b[?25l   \u001b[90m━━━━━━━━━━━━━━━━━━━━━━━━━━━━━━━━━━━━━━━━\u001b[0m \u001b[32m0.0/362.5 kB\u001b[0m \u001b[31m?\u001b[0m eta \u001b[36m-:--:--\u001b[0m\r\u001b[2K   \u001b[91m━━━━━━━━━━━━━━━━━━━━━━━━━━━━━━━━━━━━━━━\u001b[0m\u001b[91m╸\u001b[0m \u001b[32m358.4/362.5 kB\u001b[0m \u001b[31m12.3 MB/s\u001b[0m eta \u001b[36m0:00:01\u001b[0m\r\u001b[2K   \u001b[90m━━━━━━━━━━━━━━━━━━━━━━━━━━━━━━━━━━━━━━━━\u001b[0m \u001b[32m362.5/362.5 kB\u001b[0m \u001b[31m7.3 MB/s\u001b[0m eta \u001b[36m0:00:00\u001b[0m\n",
            "\u001b[2K   \u001b[90m━━━━━━━━━━━━━━━━━━━━━━━━━━━━━━━━━━━━━━━━\u001b[0m \u001b[32m75.6/75.6 kB\u001b[0m \u001b[31m3.4 MB/s\u001b[0m eta \u001b[36m0:00:00\u001b[0m\n",
            "\u001b[2K   \u001b[90m━━━━━━━━━━━━━━━━━━━━━━━━━━━━━━━━━━━━━━━━\u001b[0m \u001b[32m77.9/77.9 kB\u001b[0m \u001b[31m2.6 MB/s\u001b[0m eta \u001b[36m0:00:00\u001b[0m\n",
            "\u001b[2K   \u001b[90m━━━━━━━━━━━━━━━━━━━━━━━━━━━━━━━━━━━━━━━━\u001b[0m \u001b[32m318.9/318.9 kB\u001b[0m \u001b[31m7.0 MB/s\u001b[0m eta \u001b[36m0:00:00\u001b[0m\n",
            "\u001b[2K   \u001b[90m━━━━━━━━━━━━━━━━━━━━━━━━━━━━━━━━━━━━━━━━\u001b[0m \u001b[32m58.3/58.3 kB\u001b[0m \u001b[31m2.6 MB/s\u001b[0m eta \u001b[36m0:00:00\u001b[0m\n",
            "\u001b[?25h"
          ]
        }
      ]
    },
    {
      "cell_type": "code",
      "source": [
        "from openai import OpenAI\n",
        "import openai\n",
        "import getpass\n",
        "import os\n",
        "from google.colab import userdata"
      ],
      "metadata": {
        "id": "rOuXaELh8b1Z"
      },
      "execution_count": null,
      "outputs": []
    },
    {
      "cell_type": "code",
      "source": [
        "# Получение ключа API от пользователя и установка его как переменной окружения\n",
        "openai_key = userdata.get(\"OPENAI_API_KEY\")\n",
        "os.environ[\"OPENAI_API_KEY\"] = openai_key\n",
        "openai.api_key = openai_key"
      ],
      "metadata": {
        "id": "XIizlTOMT26S"
      },
      "execution_count": null,
      "outputs": []
    },
    {
      "cell_type": "markdown",
      "source": [
        "Генерация описания в оптимичтично-позитивном ключе:"
      ],
      "metadata": {
        "id": "WVxJIPd6krub"
      }
    },
    {
      "cell_type": "code",
      "source": [
        "client = OpenAI()\n",
        "completion = client.chat.completions.create(\n",
        "  model=\"gpt-4o-mini\",\n",
        "\n",
        "  messages=[\n",
        "        {\"role\": \"system\", \"content\": \"Вы - ассистент, описывающий бытовую технику\"},\n",
        "        {\"role\": \"user\", \"content\": \"Опишите миксер.\"},\n",
        "        {\"role\": \"assistant\", \"content\": \"Этот миксер - настоящий герой современной кухни! Ведь благодаря ему утренние коктейли становятся еще бодрящими, а выпечка - невероятно воздушной. Каждый раз, когда он включается, кажется, что он танцует под свою собственную мелодию, принося радость и заразительный оптимизм. \"},\n",
        "        {\"role\": \"user\", \"content\": \"Опишите кофеварку\"},\n",
        "    ]\n",
        ")\n",
        "\n",
        "print(completion.choices[0].message.content)"
      ],
      "metadata": {
        "colab": {
          "base_uri": "https://localhost:8080/"
        },
        "id": "R0moceVLUPQX",
        "outputId": "20f8abc1-30e1-46a8-a68f-c4f0bc5b6b31"
      },
      "execution_count": null,
      "outputs": [
        {
          "output_type": "stream",
          "name": "stdout",
          "text": [
            "Кофеварка — это незаменимый помощник для любителей кофе, который способен превратить утренний ритуал в нечто особенное. С помощью этой техники вы можете быстро и легко приготовить ароматный кофе, будь то эспрессо, капучино или американо.\n",
            "\n",
            "Современные кофеварки бывают различных типов: капельные, рожковые, рожковые с паровыми насадками, а также автоматические и полуавтоматические модели. Каждая из них имеет свои особенности и преимущества. Капельные кофеварки идеально подходят для приготовления больших порций кофе, в то время как эспрессо-машины позволяют готовить кофе с насыщенным вкусом и кремовой пенкой.\n",
            "\n",
            "Большинство кофеварок оснащены функцией регулировки крепости кофе, автоматической системой очистки и даже таймером, что позволяет вам настраивать время включения, чтобы насладиться свежезаваренным кофе сразу после пробуждения. Некоторые модели также имеют встроенные кофемолки, что позволяет использовать свежие зерна и гарантировать максимальную ароматику.\n",
            "\n",
            "Кофеварка не только функциональна, но и эстетически привлекательна. Современные дизайны имеют стильные линии и разнообразные цветовые решения, что позволяет им стать настоящим украшением вашей кухни. А утренние моменты, проведенные с чашечкой горячего кофе, наполняют день теплом и энергией.\n"
          ]
        }
      ]
    },
    {
      "cell_type": "markdown",
      "source": [
        "Генерация описания в экологичном ключе:"
      ],
      "metadata": {
        "id": "l41SBSSfkyMn"
      }
    },
    {
      "cell_type": "code",
      "source": [
        "completion = client.chat.completions.create(\n",
        "  model=\"gpt-4o-mini\",\n",
        "\n",
        "  messages=[\n",
        "        {\"role\": \"system\", \"content\": \"Вы - ассистент, описывающий бытовую технику\"},\n",
        "        {\"role\": \"user\", \"content\": \"Опишите миксер\"},\n",
        "        {\"role\": \"assistant\", \"content\": \"Миксер – это шаг в сторону экологичного будущего в мире кулинарии. Созданный из вторично переработанных материалов, миксер не только сокращает объем отходов, попадающих на свалки, но и уменьшает потребление первичных ресурсов при производстве.\"},\n",
        "        {\"role\": \"user\", \"content\": \"Опишите электрочайник в подобном ключе\"},\n",
        "    ]\n",
        ")\n",
        "\n",
        "print(completion.choices[0].message.content)"
      ],
      "metadata": {
        "colab": {
          "base_uri": "https://localhost:8080/"
        },
        "id": "Ff2kI3wIUPS3",
        "outputId": "0eae6ffb-f41d-4bca-817f-9a146083999c"
      },
      "execution_count": null,
      "outputs": [
        {
          "output_type": "stream",
          "name": "stdout",
          "text": [
            "Электрочайник – это не только удобный прибор для быстрого кипячения воды, но и экологичный выбор в повседневной жизни. Современные электрочайники часто изготавливаются из переработанных материалов, что способствует сокращению отходов и уменьшению негативного воздействия на окружающую среду. Они оснащены энергоэффективными нагревательными элементами, которые помогают экономить электроэнергию. Многие модели также имеют функции автоматического отключения и защиты от перегрева, что повышает безопасность использования и продлевает срок службы устройства. Выбирая электрочайник, вы не только облегчаете процесс приготовления горячих напитков, но и делаете вклад в сохранение природы.\n"
          ]
        }
      ]
    },
    {
      "cell_type": "markdown",
      "source": [
        "Генерация описания в негативно-пессимистичном ключе:"
      ],
      "metadata": {
        "id": "gFSliK-6n7D_"
      }
    },
    {
      "cell_type": "code",
      "source": [
        "completion = client.chat.completions.create(\n",
        "  model=\"gpt-4o-mini\",\n",
        "\n",
        "  messages=[\n",
        "        {\"role\": \"system\", \"content\": \"Вы - ассистент, описывающий бытовую технику\"},\n",
        "        {\"role\": \"user\", \"content\": \"Опишите миксер\"},\n",
        "        {\"role\": \"assistant\", \"content\": \"Очередное изделие, которое занимает неоправданно много места на вашей кухне. Кажется, производители не удосужились провести качественное тестирование: шумит, как старый трактор, а кнопки, кажется, созданы специально, чтобы вызвать раздражение.\"},\n",
        "        {\"role\": \"user\", \"content\": \"Опишите мясорубку в подобном ключе\"},\n",
        "    ]\n",
        ")\n",
        "print(completion.choices[0].message.content)"
      ],
      "metadata": {
        "colab": {
          "base_uri": "https://localhost:8080/"
        },
        "id": "gHwtxiUlUPVL",
        "outputId": "26646a9b-be03-4e2a-c58a-1257626cdc66"
      },
      "execution_count": null,
      "outputs": [
        {
          "output_type": "stream",
          "name": "stdout",
          "text": [
            "Мясорубка — это устройство, которое обещает значительно упростить процесс приготовления пищи, но на деле часто выглядит как громоздкая машина для создания беспорядка на кухне. Сборка и разборка требует навыков, достойных конструктора для взрослых, а мытье всех её частей может вызвать желание взять выходной от готовки.\n",
            "\n",
            "Некоторые модели шумят так, что соседей приходится предупреждать о приближающемся \"мясном апокалипсисе\", а застрявшее мясо требует настоящего мужского подхода, чтобы его вытащить. И, как правило, в процессе работы на кухне возникает вопрос: стоит ли всё это делать, когда можно просто купить фарш.\n",
            "\n",
            "Однако, если вам по плечу все эти сложности, мясорубка может стать отличным помощником для создания домашних колбас, фрикаделек или фарша для ваших любимых блюд. На вопрос о том, нужна ли она в каждом доме, ответ остается на совести каждого кулинара.\n"
          ]
        }
      ]
    },
    {
      "cell_type": "markdown",
      "source": [
        "## Указание формата вывода:"
      ],
      "metadata": {
        "id": "gxkJRdVJ2czN"
      }
    },
    {
      "cell_type": "markdown",
      "source": [
        "Для повышения точности вывода можно также указывать и желаемый формат ответа. Например:"
      ],
      "metadata": {
        "id": "mZJ8-Ix53NUp"
      }
    },
    {
      "cell_type": "code",
      "source": [
        "text=\"\"\"В последнее время компания Apple активно работает над своим новым проектом AR-очков. Генеральный директор Tim Cook утверждает,\n",
        "что дополненная реальность имеет потенциал стать следующим большим прорывом в технологическом мире.\n",
        "Многие аналитики считают, что темы виртуальной и дополненной реальности, а также искусственного интеллекта будут доминировать в обсуждениях\n",
        "на технологических форумах в ближайшие годы.\n",
        "\n",
        "\"\"\""
      ],
      "metadata": {
        "id": "lamlz-Y-3X8W"
      },
      "execution_count": null,
      "outputs": []
    },
    {
      "cell_type": "code",
      "source": [
        "completion = client.chat.completions.create(\n",
        "  model=\"gpt-4o-mini\",\n",
        "\n",
        "  messages=[\n",
        "        {\"role\": \"system\", \"content\": \"Извлеките важные сущности, упомянутые в тексте. Сначала извлеките названия всех компаний, затем извлеките имена всех людей, затем извлеките конкретные темы, соответствующие содержанию, и, наконец, извлеките общие темы.\"},\n",
        "        {\"role\": \"user\", \"content\": f\"Извлеките важные сущности из текста: *{text}*, Желаемый формат данных: Company names: -||- People names: -||- Specific topics: -||- General themes: -||- \"}\n",
        "    ]\n",
        ")\n",
        "\n",
        "print(completion.choices[0].message.content)"
      ],
      "metadata": {
        "colab": {
          "base_uri": "https://localhost:8080/"
        },
        "id": "pudzioOl3-xy",
        "outputId": "fd3627e1-83d5-481a-eeb4-c418f9bdf1fc"
      },
      "execution_count": null,
      "outputs": [
        {
          "output_type": "stream",
          "name": "stdout",
          "text": [
            "Company names: Apple  \n",
            "People names: Tim Cook  \n",
            "Specific topics: AR-очки, дополненная реальность, виртуальная реальность, искусственный интеллект  \n",
            "General themes: технологии, инновации в технологиях\n"
          ]
        }
      ]
    },
    {
      "cell_type": "markdown",
      "source": [
        "## Выделение ключевых объектов в тексте запроса или в базе знаний."
      ],
      "metadata": {
        "id": "zHaDEwse7GX2"
      }
    },
    {
      "cell_type": "markdown",
      "source": [
        "Для того, чтобы gpt лучше понимала ваш запрос и следовала инструкциям, нужно пояснять, что за объекты вы представляете в тексте запроса. Например, если вы включаете в запрос ссылки, чанки, вопрос пользователя, саммаризированный диалог, другие объекты, то желательно снабжать их небольшим и понятным пояснением. Например:"
      ],
      "metadata": {
        "id": "4loEGZ2-7PMJ"
      }
    },
    {
      "cell_type": "code",
      "source": [
        "text=\"\"\"'В последнее время компания Apple активно работает над своим новым проектом AR-очков. Генеральный директор Tim Cook утверждает,\n",
        "что дополненная реальность имеет потенциал стать следующим большим прорывом в технологическом мире.\n",
        "Многие аналитики считают, что темы виртуальной и дополненной реальности, а также искусственного интеллекта будут доминировать в обсуждениях\n",
        "на технологических форумах в ближайшие годы.' Подробнее можно посмотреть по ссылке:\n",
        "'Ссылка на ресурс: https://www.example.ru/news/article54321'\n",
        "\n",
        "\"\"\"\n",
        "user_question=\"Расскажи про AR-очки\""
      ],
      "metadata": {
        "id": "KwEF3yNg-UMq"
      },
      "execution_count": null,
      "outputs": []
    },
    {
      "cell_type": "code",
      "source": [
        "completion = client.chat.completions.create(\n",
        "  model=\"gpt-4o-mini\",\n",
        "\n",
        "  messages=[\n",
        "        {\"role\": \"system\", \"content\": \"Ответь на вопрос пользователя исключительно на основе представленной тебе информации, не добавляй ничего от себя. Если в тексте имеется ссылка, включи ее в ответ\"},\n",
        "        {\"role\": \"user\", \"content\": f\"На основании данной информации: *{text}* ответь на вопрос пользователя: *{user_question}*\"}\n",
        "    ]\n",
        ")\n",
        "\n",
        "print(completion.choices[0].message.content)"
      ],
      "metadata": {
        "colab": {
          "base_uri": "https://localhost:8080/"
        },
        "id": "pFQNi2bA7Ffy",
        "outputId": "da083cd1-0562-4d0d-804e-329429d1edb5"
      },
      "execution_count": null,
      "outputs": [
        {
          "output_type": "stream",
          "name": "stdout",
          "text": [
            "Компания Apple активно разрабатывает AR-очки, и генеральный директор Tim Cook считает, что дополненная реальность имеет потенциал стать следующим большим прорывом в технологическом мире. В ближайшие годы темы виртуальной и дополненной реальности, а также искусственного интеллекта будут доминировать в обсуждениях на технологических форумах. Подробнее можно посмотреть по ссылке: [https://www.example.ru/news/article54321](https://www.example.ru/news/article54321).\n"
          ]
        }
      ]
    },
    {
      "cell_type": "markdown",
      "source": [
        "## Chain-of-thought prompting"
      ],
      "metadata": {
        "id": "mWJm6qhMSTE0"
      }
    },
    {
      "cell_type": "markdown",
      "source": [
        "В области искусственного интеллекта и обработки естественного языка всегда стремились найти методы для улучшения способностей моделей к логичному и последовательному рассуждению. Chain-of-thought prompting — это подход, целью которого является усовершенствование способности больших языковых моделей к рассуждению в арифметических и логических задачах.\n",
        "\n",
        "**Основная Идея**\n",
        "\n",
        "Центральная концепция chain-of-thought prompting заключается в включении \"цепи размышлений\" — серии промежуточных шагов рассуждения на естественном языке — в процесс формулирования задачи (prompting). Это позволяет модели разбивать сложные проблемы на более простые шаги, упрощая их решение.\n",
        "\n",
        "**Значение для области обработки естественного языка**\n",
        "\n",
        "Улучшенные способности к решению проблем: Внедрение chain-of-thought prompting может повысить эффективность больших языковых моделей в решении задач, расширяя тем самым сферы их применения.\n",
        "\n",
        "Прогресс в интерпретируемости AI: Повышенная прозрачность, которую предоставляет chain-of-thought prompting, может помочь исследователям и специалистам лучше понимать процессы принятия решений AI, способствуя созданию более надежных и заслуживающих доверия систем AI.\n",
        "\n",
        "Простыми словами, Chain-of-thought prompting — это  метод формирования логических подсказок для языковых моделей, когда вместо примеров выполнения задачи используются пошаговые объяснения решений. С такими подсказками заметно повышается качество финальных ответов."
      ],
      "metadata": {
        "id": "v8kQQg7IrJj-"
      }
    },
    {
      "cell_type": "markdown",
      "source": [
        "**Пример использования Chain-of-thought prompting**:\n",
        "\n",
        "__Задача:__ Определить, является ли приведенный текст аргументативным или описательным.\n",
        "\n",
        "__Текст:__ \"Собаки — чрезвычайно лояльные животные, которые служат людям на протяжении многих веков. Они помогают охотиться, стерегут дома и являются верными спутниками.\"\n",
        "\n",
        "__Chain-of-thought подход для модели:__\n",
        "\n",
        "Шаг 1: Определи ключевые слова или фразы, которые могут указывать на характер текста.\n",
        "\n",
        "Шаг 2: Определи, содержит ли текст утверждения, которые выдвигают какой-то тезис или аргумент в пользу чего-либо.\n",
        "\n",
        "Шаг 3: Оцени, акцентируется ли внимание на представлении фактов и описании, без приведения аргументации или выражения собственного мнения.\n",
        "\n",
        "Шаг 4: На основе анализа предыдущих шагов, прими решение о характере текста.\n",
        "\n",
        "__Ответ модели с применением Chain-of-thought подхода:__\n",
        "\n",
        "Ключевые слова и фразы: \"чрезвычайно лояльные\", \"служат\", \"помогают\", \"стерегут\", \"верные спутники\".\n",
        "Текст содержит утверждения о том, какие собаки хорошие и как они помогают людям.\n",
        "В тексте преимущественно описаны факты и характеристики собак, без явной аргументации или выражения собственного мнения.\n",
        "На основе анализа можно заключить, что текст описательный.\n",
        "__Финальное заключение:__ Текст является описательным."
      ],
      "metadata": {
        "id": "1Nxuzpxk0P1t"
      }
    },
    {
      "cell_type": "code",
      "source": [
        "system=\"\"\"Определи, является ли приведенный текст аргументативным или описательным. Действуй по шагам, последовательно проходя каждый этап рассуждений.\n",
        "Шаг 1: Определи ключевые слова или фразы, которые могут указывать на характер текста.\n",
        "\n",
        "Шаг 2: Определи, содержит ли текст утверждения, которые выдвигают какой-то тезис или аргумент в пользу чего-либо.\n",
        "\n",
        "Шаг 3: Оцени, акцентируется ли внимание на представлении фактов и описании, без приведения аргументации или выражения собственного мнения.\n",
        "\n",
        "Шаг 4: На основе анализа предыдущих шагов, прими решение о характере текста.\"\"\""
      ],
      "metadata": {
        "id": "PE1nwlaG12K3"
      },
      "execution_count": null,
      "outputs": []
    },
    {
      "cell_type": "code",
      "source": [
        "text= \"Собаки — чрезвычайно лояльные животные, которые служат людям на протяжении многих веков. Они помогают охотиться, стерегут дома и являются верными спутниками.\""
      ],
      "metadata": {
        "id": "UTbjtVov2V8n"
      },
      "execution_count": null,
      "outputs": []
    },
    {
      "cell_type": "code",
      "source": [
        "completion = client.chat.completions.create(\n",
        "  model=\"gpt-4o-mini\",\n",
        "\n",
        "  messages=[\n",
        "        {\"role\": \"system\", \"content\": system},\n",
        "        {\"role\": \"user\", \"content\": f\"Определи, является ли приведенный текст аргументативным или описательным, вот сам текст: {text}\"},\n",
        "    ]\n",
        ")\n",
        "\n",
        "print(completion.choices[0].message.content)"
      ],
      "metadata": {
        "colab": {
          "base_uri": "https://localhost:8080/"
        },
        "id": "-F0kN3_dR4yg",
        "outputId": "2719e854-f5de-4229-9d54-6b82b1ee71f6"
      },
      "execution_count": null,
      "outputs": [
        {
          "output_type": "stream",
          "name": "stdout",
          "text": [
            "Шаг 1: В тексте присутствуют ключевые слова и фразы, такие как \"лояльные животные\", \"служат людям\", \"помогают охотиться\", \"стерегут дома\", \"верные спутники\". Эти фразы указывают на характеристики собак и их роль в жизни человека.\n",
            "\n",
            "Шаг 2: Текст не содержит четких утверждений, которые выдвигают какой-то тезис или аргумент в пользу конкретного мнения. Он просто описывает качества собак и их функции.\n",
            "\n",
            "Шаг 3: Внимание акцентируется на представлении фактов и обобщений о собаках, без выражения собственного мнения или приведении аргументации в защиту какого-либо тезиса.\n",
            "\n",
            "Шаг 4: На основе анализа, текст является описательным, так как он фокусируется на характеристиках и роли собак, а не на аргументации или споре.\n"
          ]
        }
      ]
    },
    {
      "cell_type": "markdown",
      "source": [
        "# Основные принципы написания эффективных инструкций для моделей GPT:"
      ],
      "metadata": {
        "id": "Cj7NU3EgQaaA"
      }
    },
    {
      "cell_type": "markdown",
      "source": [
        "Использование API ChatGPT открывает множество возможностей для интеграции этой сильной языковой модели в различные приложения и сервисы. Однако, чтобы максимизировать эффективность и точность получаемых ответов, важно уметь правильно формулировать начальные инструкции или промпты. Основные принципы эффективного написания промптов:\n",
        "\n",
        "**Четкость и ясность**\n",
        "\n",
        "Чем четче и точнее вы сформулируете ваш запрос, тем вероятнее, что получите желаемый ответ. Избегайте двусмысленностей и неоднозначностей, чтобы модель не тратила ресурсы на их разрешение.\n",
        "\n",
        "Пример:\n",
        "- Плохо: Ответь на вопрос.\n",
        "- Хорошо: Ты-нейро-ассистент в компании, которая продает одежду. Кратко и только по сути ответь на вопрос пользователя на основании представленной тебе информации.\n",
        "\n",
        "**Использование Few-Shot и Zero-Shot подходов**\n",
        "\n",
        "Эти подходы позволяют дать модели контекст или примеры, которые помогут ей лучше понять, что от неё требуется.\n",
        "\n",
        "Пример:\n",
        "\n",
        "*Few-Shot:*\n",
        " -Вопрос: Какая планета ближайшая к Солнцу?\n",
        " -Ответ: Меркурий\n",
        " -Вопрос: Кто написал \"Войну и мир\"?\n",
        " -Ответ: Лев Толстой\n",
        " -Вопрос: Какой элемент имеет атомный номер 1?\n",
        " -Ответ: ?\n",
        "\n",
        "**Использование Chain-of-Thought**\n",
        "\n",
        "Этот метод позволяет модели шаг за шагом рассуждать при решении задач, что улучшает качество и последовательность ответов.\n",
        "\n",
        "**Ограничение длины ответа**\n",
        "\n",
        "Иногда полезно явно указать модели, чтобы она давала краткие ответы.\n",
        "\n",
        "Пример:\n",
        "\"Кратко и только по сути ответь на вопрос пользователя. Если это возможно, постарайся уложиться в 1-2 предложения\"\n",
        "\n",
        "**Уточнение языка и стиля общения**\n",
        "\n",
        "Если у вас есть специфические требования к языку или стилю ответа, указание этого в промпте может быть полезно.\n",
        "\n",
        "Пример:\n",
        "Опиши концепцию блокчейна научным языком.\n",
        "\n",
        "**Осведомленность о модельных ограничениях**\n",
        "\n",
        "Понимание ограничений модели также важно при формулировании промптов.\n",
        "\n",
        "**Тестирование и Итерация**\n",
        "Несмотря на все эти принципы, единственный надежный способ узнать, насколько хорошо модель справится с задачей, — это тестирование и итерация."
      ],
      "metadata": {
        "id": "3xNxq3MYQc2l"
      }
    },
    {
      "cell_type": "markdown",
      "source": [
        "# Оптимизация количества токенов:"
      ],
      "metadata": {
        "id": "P99GaZp3blip"
      }
    },
    {
      "cell_type": "markdown",
      "source": [
        "API языковых моделей, таких как ChatGPT, обычно имеют ограничение по количеству токенов в одном запросе. Это ставит перед разработчиками и аналитиками задачу оптимального использования доступных токенов. Давайте рассмотрим несколько методов экономии токенов.\n",
        "\n",
        "**Сокращение Избыточного Текста**\n",
        "\n",
        "Первый и самый простой способ — минимизировать количество текста в БЗ и промптах. Избегайте повторений и лишних фраз. Сокращенный текст может привести к более конкретным и целенаправленным ответам.\n",
        "\n",
        "**Применение Фильтров и Ограничений**\n",
        "\n",
        "Поставьте четкие ограничения на размер и тип ответа, который вы хотите получить. Это не только сэкономит токены, но и сделает ответы модели более фокусированными.\n",
        "\n"
      ],
      "metadata": {
        "id": "JNL5CRwfbxTg"
      }
    },
    {
      "cell_type": "markdown",
      "source": [
        "## Cокращение ссылок\n",
        "\n",
        "В некоторых случаях в БЗ могут присутствовать длинные ссылки на изображения, видео или другие ресурсы, которые можно делать короткими при помощи соответствующих сервисов, например, **pyshorteners**, тем самым экономя токены."
      ],
      "metadata": {
        "id": "Iqb-gHN8vUQV"
      }
    },
    {
      "cell_type": "code",
      "source": [
        "!pip install pyshorteners"
      ],
      "metadata": {
        "id": "oxFJwn3drAnQ",
        "colab": {
          "base_uri": "https://localhost:8080/"
        },
        "outputId": "34152b14-0bed-4336-8883-2bb95b9d85ea"
      },
      "execution_count": null,
      "outputs": [
        {
          "output_type": "stream",
          "name": "stdout",
          "text": [
            "Collecting pyshorteners\n",
            "  Downloading pyshorteners-1.0.1.tar.gz (10.0 kB)\n",
            "  Preparing metadata (setup.py) ... \u001b[?25l\u001b[?25hdone\n",
            "Requirement already satisfied: requests in /usr/local/lib/python3.10/dist-packages (from pyshorteners) (2.32.3)\n",
            "Requirement already satisfied: charset-normalizer<4,>=2 in /usr/local/lib/python3.10/dist-packages (from requests->pyshorteners) (3.3.2)\n",
            "Requirement already satisfied: idna<4,>=2.5 in /usr/local/lib/python3.10/dist-packages (from requests->pyshorteners) (3.7)\n",
            "Requirement already satisfied: urllib3<3,>=1.21.1 in /usr/local/lib/python3.10/dist-packages (from requests->pyshorteners) (2.0.7)\n",
            "Requirement already satisfied: certifi>=2017.4.17 in /usr/local/lib/python3.10/dist-packages (from requests->pyshorteners) (2024.7.4)\n",
            "Building wheels for collected packages: pyshorteners\n",
            "  Building wheel for pyshorteners (setup.py) ... \u001b[?25l\u001b[?25hdone\n",
            "  Created wheel for pyshorteners: filename=pyshorteners-1.0.1-py3-none-any.whl size=17478 sha256=ac3b6027f61be320f8ae4446f9136c19b5093b3a9e9ddfaaab1c1c24fbced9cd\n",
            "  Stored in directory: /root/.cache/pip/wheels/d5/ff/b3/16d8906f92ab0b042f76a4696fcea11d291d79a2b3a3de1e78\n",
            "Successfully built pyshorteners\n",
            "Installing collected packages: pyshorteners\n",
            "Successfully installed pyshorteners-1.0.1\n"
          ]
        }
      ]
    },
    {
      "cell_type": "code",
      "source": [
        "import pyshorteners\n",
        "\n",
        "def shorten_url(long_url):\n",
        "    s = pyshorteners.Shortener()\n",
        "    short_url = s.tinyurl.short(long_url)\n",
        "    return short_url\n",
        "\n",
        "# Пример длинной ссылки\n",
        "long_url = \"https://www.google.com/search?q=%D1%83%D0%BD%D0%B8%D0%B2%D0%B5%D1%80%D1%81%D0%B8%D1%82%D0%B5%D1%82+%D0%B8%D1%81%D0%BA%D1%83%D1%81%D1%81%D1%82%D0%B2%D0%B5%D0%BD%D0%BD%D0%BE%D0%B3%D0%BE+%D0%B8%D0%BD%D1%82%D0%B5%D0%BB%D0%BB%D0%B5%D0%BA%D1%82%D0%B0&sca_esv=561326209&rlz=1C1CHBF_itIT981IT981&sxsrf=AB5stBiOKWXKZhq9Nly6cdoitUEzgqqHbQ%3A1693405955875&ei=A1PvZMWANfrZxc8P6tmbiAM&oq=%D1%83%D0%BD%D0%B8%D0%B2%D0%B5%D1%80%D1%81%D0%B8%D1%82%D0%B5%D1%82+%D0%B8%D1%81%D0%BA%D1%83%D1%81%D1%81%D1%82%D0%B2%D0%B5%D0%BD%D0%BD%D0%BE%D0%B3%D0%BE&gs_lp=Egxnd3Mtd2l6LXNlcnAiM9GD0L3QuNCy0LXRgNGB0LjRgtC10YIg0LjRgdC60YPRgdGB0YLQstC10L3QvdC-0LPQvioCCAAyBxAjGIoFGCcyBxAjGIoFGCcyBRAAGIAEMgUQABiABDIFEAAYgAQyBRAuGIAEMgUQABiABDIFEAAYgAQyBRAAGIAEMgUQABiABEjTQ1DHD1jSNnAAeASQAQCYAcgBoAHxHKoBBjAuMjUuMbgBAcgBAPgBAcICBBAAGEfCAgsQLhiABBjHARjRA8ICBxAuGIoFGEPCAgoQLhiKBRjUAhhDwgIKEC4YgAQYFBiHAuIDBBgAIEGIBgGQBgg&sclient=gws-wiz-serp\"\n",
        "\n",
        "# Сокращаем длинную ссылку\n",
        "short_url = shorten_url(long_url)\n",
        "\n",
        "print(f\"Short URL: {short_url}\")\n"
      ],
      "metadata": {
        "colab": {
          "base_uri": "https://localhost:8080/"
        },
        "id": "qXPJipz12dMh",
        "outputId": "383f5b19-a432-4d26-ff6f-942a0c8d168d"
      },
      "execution_count": null,
      "outputs": [
        {
          "output_type": "stream",
          "name": "stdout",
          "text": [
            "Short URL: https://tinyurl.com/26ge4re9\n"
          ]
        }
      ]
    },
    {
      "cell_type": "markdown",
      "source": [
        "## Перевод БЗ на английский язык"
      ],
      "metadata": {
        "id": "Le1hF80I3lJr"
      }
    },
    {
      "cell_type": "code",
      "source": [
        "!pip install langchain_core==0.2.33 langchain_openai==0.1.22"
      ],
      "metadata": {
        "colab": {
          "base_uri": "https://localhost:8080/"
        },
        "id": "K4DkE_w9v4Fk",
        "outputId": "0635da0e-1d55-458c-f3d9-c2f183a575f0"
      },
      "execution_count": null,
      "outputs": [
        {
          "output_type": "stream",
          "name": "stdout",
          "text": [
            "Collecting langchain_core==0.2.33\n",
            "  Downloading langchain_core-0.2.33-py3-none-any.whl.metadata (6.2 kB)\n",
            "Collecting langchain_openai==0.1.22\n",
            "  Downloading langchain_openai-0.1.22-py3-none-any.whl.metadata (2.6 kB)\n",
            "Requirement already satisfied: PyYAML>=5.3 in /usr/local/lib/python3.10/dist-packages (from langchain_core==0.2.33) (6.0.2)\n",
            "Requirement already satisfied: jsonpatch<2.0,>=1.33 in /usr/local/lib/python3.10/dist-packages (from langchain_core==0.2.33) (1.33)\n",
            "Requirement already satisfied: langsmith<0.2.0,>=0.1.75 in /usr/local/lib/python3.10/dist-packages (from langchain_core==0.2.33) (0.1.104)\n",
            "Requirement already satisfied: packaging<25,>=23.2 in /usr/local/lib/python3.10/dist-packages (from langchain_core==0.2.33) (24.1)\n",
            "Requirement already satisfied: pydantic<3,>=1 in /usr/local/lib/python3.10/dist-packages (from langchain_core==0.2.33) (2.8.2)\n",
            "Requirement already satisfied: tenacity!=8.4.0,<9.0.0,>=8.1.0 in /usr/local/lib/python3.10/dist-packages (from langchain_core==0.2.33) (8.5.0)\n",
            "Requirement already satisfied: typing-extensions>=4.7 in /usr/local/lib/python3.10/dist-packages (from langchain_core==0.2.33) (4.12.2)\n",
            "Requirement already satisfied: openai<2.0.0,>=1.40.0 in /usr/local/lib/python3.10/dist-packages (from langchain_openai==0.1.22) (1.41.1)\n",
            "Collecting tiktoken<1,>=0.7 (from langchain_openai==0.1.22)\n",
            "  Downloading tiktoken-0.7.0-cp310-cp310-manylinux_2_17_x86_64.manylinux2014_x86_64.whl.metadata (6.6 kB)\n",
            "Requirement already satisfied: jsonpointer>=1.9 in /usr/local/lib/python3.10/dist-packages (from jsonpatch<2.0,>=1.33->langchain_core==0.2.33) (3.0.0)\n",
            "Requirement already satisfied: httpx<1,>=0.23.0 in /usr/local/lib/python3.10/dist-packages (from langsmith<0.2.0,>=0.1.75->langchain_core==0.2.33) (0.27.0)\n",
            "Requirement already satisfied: orjson<4.0.0,>=3.9.14 in /usr/local/lib/python3.10/dist-packages (from langsmith<0.2.0,>=0.1.75->langchain_core==0.2.33) (3.10.7)\n",
            "Requirement already satisfied: requests<3,>=2 in /usr/local/lib/python3.10/dist-packages (from langsmith<0.2.0,>=0.1.75->langchain_core==0.2.33) (2.32.3)\n",
            "Requirement already satisfied: anyio<5,>=3.5.0 in /usr/local/lib/python3.10/dist-packages (from openai<2.0.0,>=1.40.0->langchain_openai==0.1.22) (3.7.1)\n",
            "Requirement already satisfied: distro<2,>=1.7.0 in /usr/lib/python3/dist-packages (from openai<2.0.0,>=1.40.0->langchain_openai==0.1.22) (1.7.0)\n",
            "Requirement already satisfied: jiter<1,>=0.4.0 in /usr/local/lib/python3.10/dist-packages (from openai<2.0.0,>=1.40.0->langchain_openai==0.1.22) (0.5.0)\n",
            "Requirement already satisfied: sniffio in /usr/local/lib/python3.10/dist-packages (from openai<2.0.0,>=1.40.0->langchain_openai==0.1.22) (1.3.1)\n",
            "Requirement already satisfied: tqdm>4 in /usr/local/lib/python3.10/dist-packages (from openai<2.0.0,>=1.40.0->langchain_openai==0.1.22) (4.66.5)\n",
            "Requirement already satisfied: annotated-types>=0.4.0 in /usr/local/lib/python3.10/dist-packages (from pydantic<3,>=1->langchain_core==0.2.33) (0.7.0)\n",
            "Requirement already satisfied: pydantic-core==2.20.1 in /usr/local/lib/python3.10/dist-packages (from pydantic<3,>=1->langchain_core==0.2.33) (2.20.1)\n",
            "Requirement already satisfied: regex>=2022.1.18 in /usr/local/lib/python3.10/dist-packages (from tiktoken<1,>=0.7->langchain_openai==0.1.22) (2024.5.15)\n",
            "Requirement already satisfied: idna>=2.8 in /usr/local/lib/python3.10/dist-packages (from anyio<5,>=3.5.0->openai<2.0.0,>=1.40.0->langchain_openai==0.1.22) (3.7)\n",
            "Requirement already satisfied: exceptiongroup in /usr/local/lib/python3.10/dist-packages (from anyio<5,>=3.5.0->openai<2.0.0,>=1.40.0->langchain_openai==0.1.22) (1.2.2)\n",
            "Requirement already satisfied: certifi in /usr/local/lib/python3.10/dist-packages (from httpx<1,>=0.23.0->langsmith<0.2.0,>=0.1.75->langchain_core==0.2.33) (2024.7.4)\n",
            "Requirement already satisfied: httpcore==1.* in /usr/local/lib/python3.10/dist-packages (from httpx<1,>=0.23.0->langsmith<0.2.0,>=0.1.75->langchain_core==0.2.33) (1.0.5)\n",
            "Requirement already satisfied: h11<0.15,>=0.13 in /usr/local/lib/python3.10/dist-packages (from httpcore==1.*->httpx<1,>=0.23.0->langsmith<0.2.0,>=0.1.75->langchain_core==0.2.33) (0.14.0)\n",
            "Requirement already satisfied: charset-normalizer<4,>=2 in /usr/local/lib/python3.10/dist-packages (from requests<3,>=2->langsmith<0.2.0,>=0.1.75->langchain_core==0.2.33) (3.3.2)\n",
            "Requirement already satisfied: urllib3<3,>=1.21.1 in /usr/local/lib/python3.10/dist-packages (from requests<3,>=2->langsmith<0.2.0,>=0.1.75->langchain_core==0.2.33) (2.0.7)\n",
            "Downloading langchain_core-0.2.33-py3-none-any.whl (391 kB)\n",
            "\u001b[2K   \u001b[90m━━━━━━━━━━━━━━━━━━━━━━━━━━━━━━━━━━━━━━━━\u001b[0m \u001b[32m391.5/391.5 kB\u001b[0m \u001b[31m5.1 MB/s\u001b[0m eta \u001b[36m0:00:00\u001b[0m\n",
            "\u001b[?25hDownloading langchain_openai-0.1.22-py3-none-any.whl (51 kB)\n",
            "\u001b[2K   \u001b[90m━━━━━━━━━━━━━━━━━━━━━━━━━━━━━━━━━━━━━━━━\u001b[0m \u001b[32m52.0/52.0 kB\u001b[0m \u001b[31m2.4 MB/s\u001b[0m eta \u001b[36m0:00:00\u001b[0m\n",
            "\u001b[?25hDownloading tiktoken-0.7.0-cp310-cp310-manylinux_2_17_x86_64.manylinux2014_x86_64.whl (1.1 MB)\n",
            "\u001b[2K   \u001b[90m━━━━━━━━━━━━━━━━━━━━━━━━━━━━━━━━━━━━━━━━\u001b[0m \u001b[32m1.1/1.1 MB\u001b[0m \u001b[31m23.9 MB/s\u001b[0m eta \u001b[36m0:00:00\u001b[0m\n",
            "\u001b[?25hInstalling collected packages: tiktoken, langchain_core, langchain_openai\n",
            "  Attempting uninstall: langchain_core\n",
            "    Found existing installation: langchain-core 0.2.35\n",
            "    Uninstalling langchain-core-0.2.35:\n",
            "      Successfully uninstalled langchain-core-0.2.35\n",
            "Successfully installed langchain_core-0.2.33 langchain_openai-0.1.22 tiktoken-0.7.0\n"
          ]
        }
      ]
    },
    {
      "cell_type": "code",
      "source": [
        "from langchain_core.messages import HumanMessage, SystemMessage\n",
        "from langchain_openai import ChatOpenAI"
      ],
      "metadata": {
        "id": "yGdSjUYGwvzn"
      },
      "execution_count": null,
      "outputs": []
    },
    {
      "cell_type": "code",
      "source": [
        "bz_rus = \"\"\"Развитие в России рыночной экономики стало причиной возникновения различных форм собственности.\n",
        "При этом человек имеет возможность самостоятельно распоряжаться этой собственностью, будь то его квартира, дом или бизнес.\n",
        "Оценка бизнеса в Москве в наши дни является одной из самых востребованных услуг, за которой в оценочные компании обращаются владельцы фирм и компаний,\n",
        "предприятий и организаций. Ведь каждому, кто планирует реализовать свои собственнические права на бизнес, прежде всего,\n",
        "требуется четко знать – сколько конкретно стоит его предприятие в данный момент времени. Именно поэтому оценка стоимости бизнеса в последние годы весьма востребована.\"\"\""
      ],
      "metadata": {
        "id": "4tGMwQdr2dPe"
      },
      "execution_count": null,
      "outputs": []
    },
    {
      "cell_type": "code",
      "source": [
        "bz_en = \"\"\"The development of a market economy in Russia has given rise to various forms of ownership.\n",
        "At the same time, a person has the opportunity to dispose of this property independently, be it his apartment, house or business.\n",
        "Business valuation in Moscow these days is one of the most popular services for which owners of firms and companies, enterprises and organizations turn to valuation companies.\n",
        "After all, everyone who plans to realize their proprietary rights to the business, first of all, it is necessary to know clearly -\n",
        "how much exactly costs his enterprise at this point in time. That is why business valuation has been in high demand in recent years.\"\"\""
      ],
      "metadata": {
        "id": "oni61Ixe2dTF"
      },
      "execution_count": null,
      "outputs": []
    },
    {
      "cell_type": "code",
      "source": [
        "# посчитаем токены в БЗ на кириллице:\n",
        "messages = [\n",
        "    SystemMessage(content=bz_rus)\n",
        "    ]\n",
        "chat = ChatOpenAI()\n",
        "chat.get_num_tokens_from_messages(messages)"
      ],
      "metadata": {
        "colab": {
          "base_uri": "https://localhost:8080/"
        },
        "id": "UvYKTOYW4zSl",
        "outputId": "561fdfca-cfa0-470e-e39c-5f267e1744ac"
      },
      "execution_count": null,
      "outputs": [
        {
          "output_type": "execute_result",
          "data": {
            "text/plain": [
              "304"
            ]
          },
          "metadata": {},
          "execution_count": 30
        }
      ]
    },
    {
      "cell_type": "code",
      "source": [
        "# посчитаем токены в БЗ на английском языке:\n",
        "messages = [\n",
        "    SystemMessage(content=bz_en)\n",
        "    ]\n",
        "chat = ChatOpenAI()\n",
        "chat.get_num_tokens_from_messages(messages)"
      ],
      "metadata": {
        "colab": {
          "base_uri": "https://localhost:8080/"
        },
        "id": "J7EUd6BL4zVO",
        "outputId": "5f095b6b-0589-4c5e-ca5b-3ce583d393e7"
      },
      "execution_count": null,
      "outputs": [
        {
          "output_type": "execute_result",
          "data": {
            "text/plain": [
              "131"
            ]
          },
          "metadata": {},
          "execution_count": 31
        }
      ]
    },
    {
      "cell_type": "markdown",
      "source": [
        "Путем перевода русскоязычного текста на английский язык удается значительно сэкономить на токенах. При таком варианте имеет смысл в промпте прописать желаемый язык ответа пользователю."
      ],
      "metadata": {
        "id": "Zb70IcCq6DEE"
      }
    },
    {
      "cell_type": "markdown",
      "source": [
        "Заключение\n",
        "Эффективное использование токенов является ключевым элементом при работе с API ChatGPT. Экономия токенов не только снижает стоимость операции, но и улучшает качество взаимодействия с моделью. Планируйте ваши запросы заранее и экспериментируйте с различными методами для наилучших результатов."
      ],
      "metadata": {
        "id": "nuSaI1RDcRr1"
      }
    },
    {
      "cell_type": "markdown",
      "source": [
        "## Саммаризация (если допустимо) длинных чанков из БЗ"
      ],
      "metadata": {
        "id": "IC0lC2G2NW6j"
      }
    },
    {
      "cell_type": "markdown",
      "source": [
        "**Саммаризация** — это процесс преобразования большого объема информации в более краткую форму, сохраняя при этом ключевые моменты исходного текста. Применительно к БЗ это может выглядеть как переход от полного текстового описания к высокоуровневому обзору содержания.\n",
        "\n",
        "Пример\n",
        "Допустим, у нас есть следующий длинный текст из базы знаний:\n",
        "\n",
        "**В 19 веке промышленная революция привела к значительным изменениям в образе жизни людей. Заводы и машины начали доминировать в экономике, а города росли в невероятных темпах. Это было время значительных технологических инноваций и социальных изменений.**\n",
        "\n",
        "После саммаризации мы можем получить:\n",
        "\n",
        "**19 век — промышленная революция, рост городов, технологические и социальные изменения.**\n",
        "\n",
        "**Вывод**\n",
        "\n",
        "Используя саммаризацию для оптимизации длинных чанков из БЗ, можно значительно уменьшить количество токенов, используемых в LLM моделях. Это позволит повысить эффективность моделей, сократить время их работы и уменьшить затраты на вычислительные ресурсы."
      ],
      "metadata": {
        "id": "3GNGe_9JNh2b"
      }
    },
    {
      "cell_type": "markdown",
      "source": [
        "## Удаление дублирующей информации из БЗ"
      ],
      "metadata": {
        "id": "6SoQo9L9WyhO"
      }
    },
    {
      "cell_type": "markdown",
      "source": [
        "В современных языковых моделях ключевую роль играет объем и качество данных. Однако важно не только то, сколько данных используется в базе знаний, но и насколько эти данные релевантны и несут смысловую нагрузку. В контексте оптимизации использования токенов, удаление дублирующей информации из базы знаний (БЗ) может стать ключевым этапом.\n",
        "\n",
        "**Почему важно удалять дубликаты?**\n",
        "\n",
        "- Экономия ресурсов: Меньше данных означает более дешевый ответ модели.\n",
        "\n",
        "- Улучшение качества ответов: Дублирование может вызвать путаницу у модели, что может привести к неточным или несогласованным ответам.\n",
        "\n",
        "- Эффективное использование токенов: В LLM моделях количество токенов напрямую влияет на стоимость и время выполнения запроса. Оптимизация числа токенов может значительно улучшить производительность модели.\n",
        "\n",
        "Пример:\n",
        "\n",
        "Допустим, у нас есть следующие два предложения в БЗ:\n",
        "\n",
        "**\"Москва — столица России.\"**\n",
        "\n",
        "**\"Москва является столицей Российской Федерации.\"**\n",
        "\n",
        "Хотя оба утверждения являются верными и по сути передают одну и ту же информацию, они используют разные формулировки. Если оба этих предложения включены в БЗ, модель может потратить дополнительные токены на их обработку, что не является эффективным.\n",
        "\n",
        "Оптимальным решением будет сохранить только одно из утверждений, наиболее короткое и ясное, чтобы минимизировать количество токенов, используемых при обработке запроса.\n",
        "\n",
        "Оптимизация обучающих данных, в частности, удаление дублирующей информации, играет ключевую роль в создании эффективных языковых моделей. Такой подход не только улучшает производительность и качество ответов модели, но и позволяет более рационально использовать ресурсы, необходимые для выполнения запросов."
      ],
      "metadata": {
        "id": "iz9uecBCXVJF"
      }
    },
    {
      "cell_type": "markdown",
      "source": [
        "## Эксперимент: Транслитерация текстов БЗ\n",
        "\n",
        "В некоторых случаях сэкономить на токенах может помочь транслитерация базы знаний, то есть, переведение ее из кириллицы в латиницу (не путать с переводом с 1 языка на другой).\n",
        "Библиотека transliterate  используется для транслитерации текста из одного алфавита в другой. Например, она может использоваться для транслитерации кириллицы в латиницу.\n",
        "\n",
        "Вот базовый пример использования этой библиотеки:"
      ],
      "metadata": {
        "id": "X26dgSDAuQZZ"
      }
    },
    {
      "cell_type": "code",
      "source": [
        "!pip install -q transliterate langchain==0.2.14 tiktoken==0.7.0 faiss-cpu==1.8.0 langchain_community==0.2.12"
      ],
      "metadata": {
        "colab": {
          "base_uri": "https://localhost:8080/"
        },
        "id": "3aB1dtZ7cQ_Q",
        "outputId": "0f9c2d0d-ba26-4582-8b54-54d7b6bf18df"
      },
      "execution_count": null,
      "outputs": [
        {
          "output_type": "stream",
          "name": "stdout",
          "text": [
            "\u001b[2K   \u001b[90m━━━━━━━━━━━━━━━━━━━━━━━━━━━━━━━━━━━━━━━━\u001b[0m \u001b[32m2.3/2.3 MB\u001b[0m \u001b[31m21.6 MB/s\u001b[0m eta \u001b[36m0:00:00\u001b[0m\n",
            "\u001b[2K   \u001b[90m━━━━━━━━━━━━━━━━━━━━━━━━━━━━━━━━━━━━━━━━\u001b[0m \u001b[32m49.3/49.3 kB\u001b[0m \u001b[31m1.8 MB/s\u001b[0m eta \u001b[36m0:00:00\u001b[0m\n",
            "\u001b[?25h"
          ]
        }
      ]
    },
    {
      "cell_type": "code",
      "source": [
        "from langchain_openai import OpenAIEmbeddings\n",
        "from langchain_community.vectorstores import FAISS\n",
        "from langchain.text_splitter import RecursiveCharacterTextSplitter, MarkdownHeaderTextSplitter, CharacterTextSplitter\n",
        "import requests\n",
        "import tiktoken\n",
        "from langchain.docstore.document import Document\n",
        "from transliterate import translit\n",
        "import re\n"
      ],
      "metadata": {
        "id": "f5gVItzVc-4z"
      },
      "execution_count": null,
      "outputs": []
    },
    {
      "cell_type": "code",
      "source": [
        "# функция для загрузки документа по ссылке из гугл драйв\n",
        "def load_document_text(url: str) -> str:\n",
        "    # Extract the document ID from the URL\n",
        "    match_ = re.search('/document/d/([a-zA-Z0-9-_]+)', url)\n",
        "    if match_ is None:\n",
        "        raise ValueError('Invalid Google Docs URL')\n",
        "    doc_id = match_.group(1)\n",
        "\n",
        "    # Download the document as plain text\n",
        "    response = requests.get(f'https://docs.google.com/document/d/{doc_id}/export?format=txt')\n",
        "    response.raise_for_status()\n",
        "    text = response.text\n",
        "\n",
        "    return text"
      ],
      "metadata": {
        "id": "ClXDI30ZdCTO"
      },
      "execution_count": null,
      "outputs": []
    },
    {
      "cell_type": "code",
      "source": [
        "# База знаний, которая будет подаваться в langChain\n",
        "data_from_url= load_document_text('https://docs.google.com/document/d/1UD9lSQy6PcCejUy3k5ARdUBNS-GEhXqOjnMLMZ6r488')"
      ],
      "metadata": {
        "id": "W4ddFx1rdFwN"
      },
      "execution_count": null,
      "outputs": []
    },
    {
      "cell_type": "code",
      "source": [
        "data_from_url"
      ],
      "metadata": {
        "colab": {
          "base_uri": "https://localhost:8080/",
          "height": 109
        },
        "id": "xFbmb4mboZRD",
        "outputId": "322609c9-4e23-4b05-f62c-39272078a423"
      },
      "execution_count": null,
      "outputs": [
        {
          "output_type": "execute_result",
          "data": {
            "text/plain": [
              "'\\ufeffРегламент контроля и взыскания дебиторской задолженности\\r\\nРегламент контроля дебиторской задолженности (далее ДЗ) и взыскания просроченной ДЗ (далее ПДЗ)\\r\\n1. Назначение Регламента.\\r\\nНастоящий Регламент предназначен для:\\r\\n* Системного предупреждения возникновения просроченной дебиторской задолженности (далее – ПДЗ), предотвращения возникновения невозвратной и хронической дебиторской задолженности.\\r\\n* Сокращения среднего времени просрочек и уменьшения среднего объема ПДЗ.\\r\\n* Удержания размеров ПДЗ в пределах планово-нормативных значений.\\r\\n2. Область применения настоящего Регламента.\\r\\n2.1 Настоящий Регламент применяется ко всем клиентам, работающим с отсрочкой платежей и ко всем случаям возникновения ДЗ и ПДЗ, независимо от категорий клиентов, кроме случаев по которым существует письменное распоряжение руководства о полном или частичном исключении их из области применения настоящего Регламента.\\r\\n2.2 Регламент вступает в силу с момента возникновения у клиента ДЗ перед организацией (то есть, с момента получения им первой партии товара по отсрочке).\\r\\n3. Классификация клиентов (статусы) и признаки их определяющие.\\r\\nПо признаку расчетно-платежной дисциплины, при погашении ДЗ, всем клиентам организации присваиваются 4 основные категории или статуса:\\r\\n3.1 Надежные плательщики – клиенты которые имея отсрочку платежа в течение годичного периода ни разу не допустили просрочки возврата ДЗ, либо, допустили не более 2-х просрочек продолжительностью до 1 недели, с предварительным предупреждением о просрочке и согласованием условий реструктуризации долга.\\r\\n3.2 Клиенты с неопределенной надежностью – клиенты, по которым отсутствует статистика взаимодействия по ДЗ в течение предшествующего годичного периода, либо клиенты, статистика платежей по которым нестабильна. То есть присутствует до 50% случаев - просрочка на промежутки времени (от 1-й, до 2х недель), с предупреждениями и без них, при этом всегда присутствует согласие на реструктуризацию долга.\\r\\n3.3 Клиенты угрожаемые просрочке – клиенты,  допускавшие в течение годичного периода:\\r\\n* разовые просрочки на периоды более 1-го месяца;\\r\\n* более 1 (одной) просрочки в месяц на периоды более 2х недель, преимущественно без предупреждений;\\r\\n* просрочку до 1 месяца более чем в 50% случаев;\\r\\n* уклонение от контактов и возражение против предложенных им условий реструктуризации задолженности.\\r\\n3.4 Клиенты неплательщики – клиенты:\\r\\n* имевшие в истории взаимодействия за прошедший годичный период более 1 (одной) в месяц просрочки оплаты ДЗ на период более 2х недель, без предупреждений, протестовавшие против предложенных условий реструктуризации долга и допускавшие уклонение от контактов;\\r\\n* с которыми ранее уже происходили судебные разбирательства;\\r\\n* в чей адрес уже направлены претензионные письма.\\r\\n4. Присвоение исходных категорий (статусов) клиентам.\\r\\n4.1 Исходные категории (статусы) присваиваются клиентам в начале календарного года, исходя из истории взаимодействия с ними и статистики своевременно/несвоевременно погашенных долгов перед предприятием с учетом критериев, приведенных в п.3.\\r\\n4.2 Присвоение категорий клиентов выполняется совместно Руководителем Отдела Продаж (РОП) и Руководителем Службы Финансового Контроля (РСФК),  затем, утверждается Коммерческим Директором (КД) предприятия.\\r\\n4.3 В зависимости от присвоенного клиенту статуса (категории), ему автоматически устанавливаются следующие условия поставки/оплаты товаров, предоставляемых организацией:\\r\\n№\\r\\n\\tСтатус клиента\\r\\n\\tИсходные условия сотрудничества\\r\\n\\t1.\\r\\n\\tНадежные плательщики\\r\\n\\tЛимит отгрузки:__;скидка:__;отсрочка платежа продолжительностью:__.\\r\\n\\t2.\\r\\n\\tС определенной надежностью\\r\\n\\tЛимит отгрузки:__;скидка:__;отсрочка платежа продолжительностью:__.\\r\\n\\t3.\\r\\n\\tКлиенты угрожаемые по просрочке (неоплате)\\r\\n\\tЛимит отгрузки:__;скидка:__;отсрочка платежа продолжительностью:__.\\r\\n\\t4.\\r\\n\\tКлиенты неплательщики\\r\\n\\tЛимит отгрузки:__;скидка:__;отсрочка платежа продолжительностью:__.\\r\\n\\t4.4 С течением времени, в зависимости от статистики платежей и просрочек, категория клиента может изменяться, как в сторону повышения, так и в сторону понижения, а вместе с ней будут изменяться и установленные данному клиенту условия поставки.\\r\\n4.5 Контроль статистики платежей и изменений кредитной истории клиентов выполняется совместно Руководителем Отдела Продаж (РОП) и Руководителем Службы Финансового Контроля (РСФК).\\r\\n4.6 Пересмотр (подтверждение или изменение) статусов (категорий) клиентов осуществляются по итогам 3-х месяцев взаимодействия, также Руководителем Отдела Продаж (РОП) и Руководителем Службы Финансового Контроля (РСФК).\\r\\n\\r\\n\\r\\n5. Упреждающие действия.\\r\\n5.1 Основными рабочими документами по контролю динамики ДЗ/ПДЗ являются: отчет 1С по дебиторской задолженности контрагентов, маршрутный лист и история платежей.\\r\\n5.2 В отношении новых клиентов (клиентов, по которым отсутствует статистика, потому что работа с ними ранее не велась), для адекватного представления об их платежеспособности, Торговыми Представителями (ТП) должны быть, как минимум, собраны сведения о личных данных владельца, руководителя и ЛПР, о чем делается отметка в карточке клиента.\\r\\n5.3 Так же,  в обязательном порядке, от ТП требуется внесение в карточку состояния торговой точки, наличия товаров, местоположение, представленности брендов, уровня цен и товарных запасов (для определения безопасного лимита отгрузки).\\r\\n5.4 Для выбора условий и заключения Договора, Торговому Представителю обязателен следующий пакет документов:\\r\\n1. Заверенная копия Свидетельства о государственной регистрации юридического лица.\\r\\n2. Заверенная копия Свидетельство о постановке на учет юр. лица в налоговом органе.\\r\\n3. Заверенная копия Свидетельство о внесении записи в Единый государственный реестр юридических лиц.\\r\\n4. Выписка из ЕГРЮЛ сроком не позднее 30 дней.\\r\\n5. Заверенная копия устава  (сведения о размере уставного капитала, местонахождении предприятия или ЧП, компетенции и сроках назначения директора).\\r\\n6. Заверенная копия протокола  или решения о назначении руководителя предприятия.\\r\\n7. Письмо с просьбой о заключении договора отсрочки.\\r\\n8. Реквизиты предприятия и личная контактная информация о первых лицах предприятия (Директор, Гл. бухгалтер, товаровед, специалист по закупкам), с указанием рабочих, домашних и личных мобильных телефонов.\\r\\nВ случае отсутствия хотя бы одного из перечисленных выше пунктов, решение о заключении Договора принимается лично Генеральным директором.\\r\\n5.5 В отношении клиентов ранее допускавших просрочки погашения ДЗ, работниками Отдела Продаж (ОП)  применяется заблаговременное предупреждение о наступлении сроков платежа, однако, в зависимости от присвоенной клиенту категории (см. П 4 настоящего Регламента), интенсивность напоминания должна быть различной.\\r\\nКатегория (статус клиента)\\r\\n\\tИнтенсивность напоминания\\r\\n\\tНадежным клиентам\\r\\n\\tНапоминание может быть исключено вообще или достаточно однократного напоминания за 1-2 дня до наступления срока платежа.\\r\\n\\tНеопределенным клиентам\\r\\n\\t2-х кратное напоминание за 4 и 2 дня до наступления срока платежа.\\r\\n\\tУгрожаемым клиентам\\r\\n\\tНе менее 3х напоминаний за 7, 4, 1 дней до наступления срока платежа.\\r\\n\\tНеплательщикам\\r\\n\\tОтсрочка платежа не предоставляется\\r\\n\\t5.6 Звонки с предупреждением выполняются ТП в плановом порядке, каждую пятницу, в отношении клиентов, у кого на следующей неделе наступает срок платежа в соответствии с Договором.\\r\\n6. Контроль динамики ДЗ и ПДЗ\\r\\n6.1 Выполняет торговый представитель.\\r\\n6.1.1 Общение с клиентом в процессе визита предшествующего дате наступления платежа: В ходе визита, предшествующего оплате,  ТП, после  выполнения основных целей визита, напоминает лицу принимающему решение (далее ЛПР) Клиента о сроке предстоящего платежа, указывая  дату, номер, сумму оплачиваемой накладной, форму   оплаты. Затем, сверяется на основе п. 5.1 с  данными Клиента.\\r\\n6.1.2.  ТП анализирует поведение Клиента по отношению к долгу.\\r\\nВарианты:\\r\\na.\\r\\n\\tПоведение Клиента, состояние торговой точки не вызывает сомнения в своевременной оплате. \\r\\n\\tУточняет время и дату контакта  (на основе  маршрутного листа). Благодарит Клиента за конструктивный подход, прощается.\\r\\n\\tb.\\r\\n\\tПоведение Клиента, состояние торговой точки вызывает сомнения в своевременной оплате.\\r\\n\\tУточняет время и дату контакт  (на основе  маршрутного листа). Благодарит Клиента за понимание того, что своевременная оплата важный элемент рабочих  взаимоотношений,  прощается с Клиентом.\\r\\n        В маршрутном листе делает пометку о необходимости заранее напомнить Клиенту о платеже. При необходимости запрашивает содействие супервайзера (далее СВ) в достижении цели.\\r\\n\\tc.\\r\\n\\tПоведение Клиента, состояние торговой точки указывает на высокий риск потери денежных средств (далее ДС). \\r\\n\\tНемедленно информирует непосредственного руководителя о сложившейся ситуации. Согласует дальнейшие действия с непосредственным руководителем, выполняет его указания.\\r\\n\\t6.1.3 .Общение в день платежа:\\r\\n1. После приветствия и установления позитивного контакта к ЛПР, указывает, как одну из целей взаимодействия, оплату по текущей накладной  (указывая  дату, номер, сумму).\\r\\n2. Вариант ситуаций:\\r\\na.\\r\\n\\tКлиент оплачивает поставку\\r\\n\\tФиксирует прием - передачу денежных средств. Благодарит  Клиента за своевременное выполнение обязательств (в ситуации безналичного расчета, уточняет дату, номер, сумму платёжного поручения). Переходит к следующей цели визита.\\r\\n\\tb.\\r\\n\\tКлиент  просит дополнительную отсрочку\\r\\n\\t1. Уточняет:\\r\\n* дату, номер, сумму накладной о которой идёт речь;\\r\\n* причину задержки платежа;\\r\\n* срок,  когда Клиент планирует решить указанную проблему.\\r\\n2. Анализирует поведение Клиента по отношению к долгу. \\r\\n\\ta1\\r\\n\\tКредитная история не вызывает сомнения (надежный плательщик), поведение Клиента, состояние торговой точки не вызывает сомнения в исполнения в выполнении договоренностей\\r\\n\\tСогласует  время и дату контакт (не более пяти дней с текущего момента, срок более 5  дней согласуется с непосредственным руководителем), сумму и номер накладной. Выражает надежду, что договоренности будут выполнены в срок. Производит  в маршрутном листе соответствующую  пометку, переходит к следующему этапу визита.\\r\\n\\tb1\\r\\n\\tТорговая точка новая или кредитная история,  поведение Клиента, состояние торговой точки вызывает сомнения в своевременной оплате (клиент с неопределенной надежностью и, клиент, угрожаемый по просрочке).\\r\\n\\tУстанавливает  время и дату контакт, сумму и номер накладной  (не более трёх дней с текущего момента, срок более трёх  дней согласуется с непосредственным руководителем).\\r\\nВ случае если Клиент:\\r\\n* просит более длительный срок, торговый представитель договаривается о частичной оплате суммы накладной начиная с текущего дня;\\r\\n* отказывается платить, повторно уточняет причину нарушения  условий договора, если Клиент  не меняет позиции по отношению к долгу, Т.П. ставит в  известность непосредственного руководителя и дальше действует по его указаниям.\\r\\n\\tc1\\r\\n\\tПоведение Клиента, состояние торговой точки указывает на высокий риск потери ДС (вне зависимости от статуса клиента).\\r\\n\\tНемедленно (в торговой точке) информирует непосредственного руководителя о сложившейся ситуации. Согласует дальнейшие действия с непосредственным руководителем, в дальнейшем  выполняет его указания.\\r\\n\\t6.2 Выполняет супервайзер.\\r\\n(Рабочие документы: отчет 1С по задолженности контрагентов, план работы на неделю,  чек лист, маршрутные листы т.п.)\\r\\n1. Лично контролирует  просрочки платежа более 5 дней с момента даты платежа по договору, в случае просрочки более 10-ти дней, подает НОП докладную записку с отчетом о проделанной работе и просьбой о дальнейшем взыскании с неплательщика.\\r\\n2. В конце рабочей недели анализирует ситуацию с просроченной дебиторской задолженностью подчинённых, планирует (с включением в оперативный план) мероприятия по ликвидации просрочки платежа в форме:\\r\\n* индивидуальной или групповой  работы с торговым представителем в офисе. Включая направление торгового представителя в тренинговую группу по теме: «Переговоры с клиентом должником»;\\r\\n* индивидуальной работы с торговым представителем на территории;\\r\\n* телефонного звонка или личного визита к Клиенту должнику;\\r\\n* согласованного взаимодействия с сотрудником СФК.\\r\\n6.3 Выполняет начальник отдела продаж\\r\\n(Рабочие документы: отчет 1С по дебиторской задолженности контрагентов, недельные планы супервайзеров,  планы работы на неделю,  оперативный план на месяц.)\\r\\n1. Лично контролирует и принимает участие в процессе взыскания просрочки платежа, продолжительностью более 10 дней с момента даты платежа по договору.\\r\\n2. Проверяет недельное планирование работы супервайзеров отдела продаж (далее ОП), на предмет наличия в плане мероприятий по сокращению ДЗ и работе с Клиентами должниками.\\r\\n2.1. Контролирует в ежедневных отчетах (чек лист) действия ТП и СВ  в ситуации просрочки платежа, включая наличие тренинг целей.\\r\\n3. По результатам контроля работы отдела НОП с 10 по 15 день принимает решение о:\\r\\n* предоставлении СВ дополнительного срока на взыскание ПДЗ;\\r\\n* включение задачи по конкретной ситуации ПП в план сотрудника СФК;\\r\\n* реструктуризации задолженности (частичный возврат товара, компенсация иным товаром дополнительная отсрочка с оплатой пени);\\r\\n* изменение статуса надёжности клиента и последующим изменением коммерческих условий в программе 1С;\\r\\n* безоговорочном взыскании денежных средств.  В этом случае оформляется докладная записка непосредственному руководителю с отчетом о проведённых мероприятиях по возврату ПДЗ.\\r\\n4. Планирует и отражает в оперативном плане мероприятия по сокращению процента просрочки платежей в ОП.\\r\\n5. Определяет, на основе анализа работы за период, плановый  процент просрочки платежа на месяц и согласует его Директором.\\r\\n6.4 Директор  ООО\\r\\n(Рабочие документы: отчет 1С по дебиторской задолженности контрагентов, маршрутные листы супервайзеров,  оперативный план на месяц начальника отдела продаж (НОП), личный оперативный план.)\\r\\n1. Лично контролирует процесс возврата просрочки платежа более 15 календарных дней с момента наступления даты платежа по договору.\\r\\n1.1 В течении 10 календарных дней с момента наступления сроков по п 1. принимает решение о:\\r\\n* предоставление НОП дополнительного срока на взыскание ПДЗ;\\r\\n* включение задачи по конкретной ситуации ПП в план сотрудника СФК;\\r\\n* реструктуризации задолженности (частичный возврат товара, компенсация иным товаром дополнительная отсрочка с оплатой пени);\\r\\n* изменение статуса надёжности клиента и последующим изменением коммерческих условий в программе 1С;\\r\\n* безоговорочном взыскании денежных средств;\\r\\n* переносе ПДЗ в базу безвозвратной ДЗ.\\r\\n2. Контролирует наличие в оперативном плане  НОП мероприятий по сокращению дебиторской задолженности (ДЗ) и работе с Клиентом должником.\\r\\n3. Утверждает допустимый плановый  процент  просрочки платежа на следующий месяц  ОП.\\r\\n6.5 Юридический отдел\\r\\n* На основании запроса ОП, СФК или  указаний директора ООО:\\r\\n* оформляет претензии контрагентам должникам;\\r\\n* организует работу по взысканию ПДЗ в соответствии с действующим законодательством РФ и требованиями внутренних стандартов компании;\\r\\n* ведёт учет работы с ПДЗ в сетевом графике.\\r\\n7. Цена просрочки и условия реструктуризации задолженности\\r\\n7.1 По решению руководства ООО, до официального направления претензии в суд, допустима просрочка не более 3-х календарных недель (или 15 банковских дней) со дня наступления просрочки. Другими словами, по истечению 4-х календарных недель или 20-ти банковских дней, просрочка должна быть погашена, принята программа реструктуризации долга, либо клиент должен быть передан в ЮО и СФК для обеспечения претензионного порядка взыскания ПДЗ.\\r\\n7.2 Данный период времени является ресурсом для работы торговых представителей, супервайзеров и руководителя отдела продаж по досудебному решению вопроса в интересах обеих сторон и согласованию реструктуризации просроченной задолженности.\\r\\n7.3 Просрочка погашения ДЗ фактически является товарным кредитованием клиента неплательщика, следовательно, при изменении сроков погашения ДЗ со стороны клиента, справедливо будет и изменение условий оплаты суммы просрочки.\\r\\n7.4 В случае согласия клиента на реструктуризацию просроченной задолженности, с клиентом заключается дополнительное соглашение к действующему Договору, согласно которому, действует следующая таблица:\\r\\nВремя просрочки (месяцы-недели)\\r\\n\\t1-й месяц\\r\\n\\t2-й месяц\\r\\n\\t1 неделя\\r\\n\\t2 неделя\\r\\n\\t3 неделя\\r\\n\\t4 неделя\\r\\n\\t1 неделя\\r\\n\\t2 неделя\\r\\n\\t3 неделя\\r\\n\\t4 неделя\\r\\n\\tЦена просрочки (в % от суммы)\\r\\n\\t1.5\\r\\n\\t3\\r\\n\\t4.5\\r\\n\\t6\\r\\n\\t2\\r\\n\\t4\\r\\n\\t6\\r\\n\\t8\\r\\n\\t7.5 При этом в компетенции торгового представителя, ведущего данного клиента,  входит возможность исключить оплату за просрочку в течение 1-й недели просрочки (если полное погашение ПДЗ состоится в рамках этой недели).\\r\\n7.6 Возможность исключить оплату просрочки за вторую неделю (по устному ходатайству ведущего клиента торгового представителя и при условии полного погашения ПДЗ за этот период) входит в компетенцию Руководителя Отдела Продаж.\\r\\n7.7 Остальные решения по предоставлению льгот и исключений находятся в компетенции Директора ООО.\\r\\n7.8 В случае частичного погашения клиентом просрочки, означенная в таблице (п. 7.4 настоящего Регламента) ставка будет взиматься с непогашенного остатка ПДЗ.\\r\\n8. Меры воздействия при наступлении просрочки платежа\\r\\nВ случае отсутствия поступления планового платежа в назначенный день, а также отсутствия предупреждения со стороны должника предпринимаются следующие действия:\\r\\n№\\r\\n\\tДействие\\r\\n\\tЦель действия\\r\\n\\tИсполнитель\\r\\n\\t1.\\r\\n\\tСвязаться с должником, известить об отсутствии оплаты и наступлении просрочки по Договору, выяснить причину отсутствия платежа и реальный срок погашения задолженности.\\r\\n\\tИзвестить клиента о нарушении им платежной дисциплины. Уточнить обстоятельства наступления просрочки и оценить поведение клиента.\\r\\n\\tТорговый представитель\\r\\n\\t2.\\r\\n\\tИсходя из обозначенных клиентом сроков погашения ПДЗ: известить клиента о предлагаемых условиях реструктуризации и истребовать у него гарантийное письмо с указанием срока погашения ПДЗ и обязательства возмещения оплаты за просрочку. Согласовать дату встречи и обмена документами.\\r\\n\\tСогласование с клиентом условий реструктуризации ПДЗ, изменения первично предоставленных условий поставки, запуск процесса реструктуризации.\\r\\n\\tТорговый представитель\\r\\n\\t3.\\r\\n\\tСделать акт сверки, изменения/дополнения к договору поставки (с условиями реструктуризации). Встретиться с клиентом и оформить условия реструктуризации.\\r\\n\\tПолучение от клиента письменно оформленной просьбы об отсрочке платежа с указанием нового срока оплаты и гарантий возмещения не только основной стоимости, но и оплаты за просрочку.  \\r\\n\\tТорговый представитель, супервайзер\\r\\n \\r\\n\\t4.\\r\\n\\tВ случае если клиент уклоняется от контакта, скрывается, отказывается давать пояснения или обозначать разумные сроки погашения ПДЗ, равно, как отказывается от обсуждения условий реструктуризации ПДЗ, в адрес данного клиента доставляется (лично под роспись или ценным письмом с уведомлением):\\r\\n* Акт сверки и копия договора;\\r\\n* Письмо с требованием погашения ПДЗ в течение 3-х календарных дней;\\r\\n* Копия оформленной претензии в суд.\\r\\nЕсли в назначенный день полная или частичная оплата не поступает, а клиент по прежнему не идет на диалог, то претензия получает ход, а день доставки клиенту письма с требованием становится началом отсчета 30-дневного срока установленного действующим законодательством для досудебного урегулирования вопроса.\\r\\n\\tОказание на клиента дозированного давления с целью принуждения его к диалогу по реструктуризации ПДЗ либо ее погашению.\\r\\n\\tТорговый представитель, супервайзер, НОП, СБ, Юрист\\r\\n\\t5.\\r\\n\\tВ случае если клиент погашает часть ПДЗ, но по-прежнему не вступает в диалог, повторить действие 3 или действия 3, 4 с учетом оставшейся непогашенной суммы ПДЗ.\\r\\n\\tОказание на клиента повторного дозированного давления с целью принуждения его к диалогу по реструктуризации ПДЗ либо ее погашению.\\r\\n\\tТорговый представитель.\\r\\n\\t6.\\r\\n\\tВ случае если клиент идет на контакт, участвует в диалоге, принимает условия реструктуризации, однако, не выполняет их с предупреждением и просит отсрочки повторно, такая отсрочка может быть ему предоставлена:\\r\\n* по решению руководителя отдела продаж, если повторная отсрочка укладывается в рамки 2-х месячного периода с момента  наступления исходного срока платежа.\\r\\n* по решению Директора, если повторная отсрочка предполагает выход за рамки двух означенных в разделе 8 настоящего регламента, месяцев.\\r\\n\\tПоощрение добросовестного клиентского подхода к условиям договора, диалогового режима решения проблем и готовности к принятию условий реструктуризации.\\r\\n\\tРуководитель Отдела Продаж,\\r\\nДиректор ООО\\r\\nСФК.\\r\\n\\t7.\\r\\n\\tРазрешение ситуации в досудебном (мировое соглашение) и судебном порядке.\\r\\n\\tПринудительное взыскание ПДЗ и соответствующих штрафных санкций.\\r\\n\\tЮрист, СФК,\\r\\nДиректор ООО.\\r\\n\\tЛист ознакомления\\r\\nконтроль дебиторской задолженности\\r\\nФормы и методы контроля над дебиторской задолженностью являются одной из важнейших политик, относящихся к системе управления дебиторской задолженностью предприятия. Значительный удельный вес дебиторской задолженности в составе оборотных активов большинства компаний определяет важность её системного контроля.\\r\\nКонтроль дебиторской задолженности, несомненно, способствует:\\r\\n* росту объёмов продаж, являющихся следствием снижения количества клиентов, не прогруженных по причине наличия просроченной дебиторской задолженности\\r\\n* эффективному использованию денежных средств предприятия\\r\\n* сохранению клиентов, которых в свое время привлекали в компанию предоставлением товарных кредитов\\r\\n* расширению клиентской базы и развитию конкурентного преимущества компании за счет грамотного взаимодействия с Клиентом должником – неотъемлемой частью любой клиентской базы\\r\\n* снижению риска безвозвратной потери денежных средств.\\r\\n  \\r\\nСистема контроля дебиторской задолженности - это, прежде всего, жёсткое распределение функций и ответственности подразделений, должностных лиц, на всех этапах продажи связанных с предоставлением отсрочки платежа и инкассацией денежных средств. Начиная с заключения договора и принятия решения о предоставление отсрочки платежа, определение её срока и лимита, заканчивая кассовой дисциплиной на предприятии.\\r\\nС целью обеспечения эффективности при разработке и анализе системы контроля дебиторской задолженности следует учитывать:\\r\\n \\r\\n* Насколько четко распределены функциональные зоны ответственности подразделений и отдельных должностных лиц в процессе реализации контроля над дебиторской задолженностью на разных этапах сделки\\r\\n* Какие документы регламентируют работу должностных лиц и подразделений в пределах функциональных зон ответственности\\r\\n* Наличие критериев анализа эффективности отдельных мероприятий\\r\\n* Форму инкассации дебиторской задолженности (т.к. инкассацию в разных случаях могут осуществлять торговый персонал, экспедиторы, сотрудники службы безопасности или финансового контроля компании, сторонние организации на договорной основе)\\r\\n* Порядок организации процесса возврата просроченной дебиторской задолженности\\r\\nМинимальный перечень обязательных документов системы контроля дебиторской задолженности должен включать:\\r\\n* Положение об отделе. Положение об отделе разрабатывается, если существует отдельная служба, осуществляющая структурированный контроль дебиторской задолженности. В иных случаях взаимодействие между службами в процессе предоставления и возврата товарного кредита описывается в положениях об отделах, участвующих в данном процессе, а действия персонала определяются должностной инструкцией сотрудника\\r\\n* Описание процедуры или другое внутреннее распоряжение, содержащие информацию о порядке предоставления отсрочки платежа, определение суммы лимита и срока. В отдельных случаях разрабатывается перечень мероприятий по защите кредита\\r\\n* Регламент работы с дебиторской задолженностью - это документ, определяющий сроки и систему последовательных действий должностных лиц компании в процессе контроля и возврата дебиторской задолженности.\\r\\nСледует отметить, что после качественного внедрения процесса контроля дебиторской задолженности, руководителю становится не обязательным постоянно контролировать каждую процедуру в отдельности. Результат работы системы достаточно контролировать на основе анализа изменения коэффициента оборачиваемости дебиторской задолженности. В свою очередь, эффективность работы отдельных подразделений и служб можно оценивать на основе анализа данных таблицы старения дебиторской задолженности.\\r\\nПример, ООО «ВЭД», контроль возврат просроченной части дебиторской задолженности (контроль текущей задолженности регламентируется отдельным документом) осуществляют:\\r\\n* должностные лица отдела продаж (торговый представитель, супервайзер, начальник отдела продаж), до 15-го дня просрочки с момента наступления платежа по договору,\\r\\n* сотрудник службы безопасности с 16-ти до 30-ти дней\\r\\n* свыше 30 дней юрист, до момента взыскания или списания дебиторской задолженности\\r\\n* с 45 го дня под контроль работу с дебитором осуществляет исполнительный директор.\\r\\nВажно, что таблица старения дебиторской задолженности в программе 1С настроена таким же образом. Следовательно, руководитель или владелец бизнеса, отслеживая изменение сумм в указанных временных интервалах, может наблюдать эффективность работы подразделений и отдельных сотрудников компании, а также определять объём их текущей загрузки. Временные периоды старения дебиторской задолженности необходимо изменять в зависимости от отраслевых показателей или в связи с изменениями внешнеэкономической ситуации. На практике, временные периоды контроля, в сочетании с регламентами контроля, должны обеспечить необходимую скорость реакции системы на изменение платежеспособности дебитора. Это связано с тем, что доля безнадежных долгов растет в зависимости от продолжительности периода дебиторской задолженности. Усредненный показатель безнадежной дебиторской задолженности в общей сумме дебиторской задолженности, по срокам погашения, выглядит следующим образом:\\r\\nдо 30 дней около 4 % относится к разряду безнадежной дебиторской задолженности\\r\\n31 – 60 дней, около 10 %\\r\\n61 – 90 дней, около 17 %\\r\\n91 – 120 дней уже 26%.\\r\\n\\r\\n\\r\\nПричины возникновения дебиторской задолженности\\r\\nДебиторская задолженность возникает в процессе:\\r\\n* при отсрочке платежа покупателя;\\r\\n* недостачи, растраты, хищения;\\r\\n* нарушений условий поставки.\\r\\nНеобоснованно большие размеры дебиторской задолженности снижают ее оборот и как следствие, замедляют движение  оборотных активов организации, увеличивают   длительность финансового цикла. Увеличение дебиторской задолженности, зачастую, порождает необходимость привлечения дополнительных денежных средств. Кроме  этого, при росте дебиторской задолженности, пропорционально возрастают финансовые риски предприятия, особенно, если контроль над дебиторской задолженностью на предприятии не совершенен.\\r\\nВеличину дебиторской задолженности предприятия в основном определяют:\\r\\n1. Общий объем продаж и доля в нем реализации на условиях  оплаты с отсрочкой платежа.\\r\\n2. Существующие условия расчетов  с контрагентами. Чем больше льгот по оплате (увеличение сроков отсрочки, снижение требований к определению надежности) мы предоставляем покупателям, тем больше остатки дебиторской задолженности\\r\\n3. Процесс возврата дебиторской задолженности. Чем внимательнее должностные лица предприятия относятся к процедуре возврата дебиторской задолженности, тем меньше ее остатки и выше качество самой дебиторской задолженности.\\r\\nОбычно указанный перечень включают платежную дисциплину покупателей. Платежная дисциплина клиентов во многом определяется подходом сотрудников организации к процессу возврата просроченной дебиторской задолженности и сформированной на предприятии системой управления дебиторской задолженностью.\\r\\nУправление дебиторской задолженностью\\r\\nУправление дебиторской задолженностью  — одна из задач системы управления предприятием, направленная на увеличение прибыли организации за счет эффективного использования товарного кредитования покупателей, как  инструмента увеличения сбыта.\\r\\nЭффективное управление дебиторской задолженностью на предприятии обеспечивают:\\r\\n1. Политика предоставления кредита и инкассации для каналов сбыта товаров и услуг предприятия\\r\\n2. Процедура всесторонней проверки контрагента на стадии заключения договора поставки\\r\\n2.1 Форма ранжирование клиентов по категориям платежеспособности\\r\\n3. Система контроля над состоянием дебиторской задолженности \\r\\n4. Порядок анализа расчетов с дебиторами\\r\\n5. Прогноз поступлений денежных средств от контрагентов\\r\\n6. Порядок юридического  сопровождения сделок и претензионной работы с недисциплинированными  плательщиками\\r\\n7. Финансирование дебиторской задолженности\\r\\n8. Формы мотивации покупателей и работников компании к ускорению движения дебиторской задолженности, сокращению просроченной дебиторской задолженности\\r\\n9. Порядок обучения и подготовки торгового персонала к работе с клиентом должником\\r\\n10. Наличие процедуры выработки корректирующих мероприятий, направленных на сокращение просроченной дебиторской задолженности и безнадежных долгов.\\r\\nВ настоящее время большинство российских предприятий  используют  отсрочку платежа, как инструмент повышения объема продаж. Вследствие чего, предоставление данных условий кажется обязательным атрибутом торговой компании. Типичная ошибка, когда в организации отсрочку платежа используют как конкурентное преимущество при отстройке от предложений конкурентов, увеличивая и увеличивая срок товарного кредита, что в итоге провоцирует  необоснованное увеличение дебиторской задолженности. Гораздо выгоднее совершенствовать систему управления персоналом и базовые навыки продаж торгового персонала либо разрабатывать и проводить маркетинговые акции  стимулирующие сбыт. Подобный подход,  несомненно, займет больше времени, потребует дополнительных знаний и усилий от руководителей. Вместе он обеспечит более длительный эффект и не повлечет риск сокращения оборота активов.\\r\\nОтсрочка платежа  всего лишь  одно из возможных дополнительных  условий, составляющих стратегию продвижения продукта. В свою очередь стратегия продвижения продукта одна из семи стратегий необходимых для эффективного функционирования предприятия. Взаимосвязь стратегий  является важной основой устойчивого развития бизнеса. По моему мнению, принимая решение о предоставлении клиентам условий поставки с отсрочкой платежа, первое, что следует сделать, это проанализировать, как сопоставляется предлагаемая услуга  с другими стратегиями и политиками компании. В первую очередь,  с политиками безопасности, взаимодействия, контроля  и мотивации, а также с политикой цен и скидок. Если в силу разных причин это  невозможно, то следует предварительно разделить  клиентскую базу  по категориям риска невозврата товарного кредита и объема возможных потерь в случае невозможности взыскания просроченной дебиторской задолженности. Объем возможных потерь в случае невозможности взыскания во многом зависит от места нахождения клиента в канале сбыта: сети (глобальные, федеральные, региональные) опт, розница.\\r\\nЕсть варианты стратификации клиентской  базы по 3-м, 4-м и 5-ти категориям надежности дебиторов. Пример, варианта деление  клиентской базы компании на  3 категории надежности:\\r\\n* клиент угрожаемый по просрочке\\r\\n* не угрожаемый (надёжный)\\r\\n* клиент с неопределённой платежеспособностью. \\r\\nРазделив клиентскую базу подобным образом, можно прийти к  выводу, что для каждой из категорий:\\r\\nа) необходимы разные формы, уровни и периодичность контроля\\r\\nв) характерен свой коэффициент инкассации дебиторской задолженности.\\r\\nКоэффициент инкассации дебиторской задолженности,  какая часть денежных средств поступит в текущем периоде, за соответствующий период отгрузки на основе сроков дебиторской задолженности. В конкретном случае, благодаря коэффициенту инкассации, можно определить реальную стоимость товарного кредита для той или иной категории покупателей.\\r\\nВторой вопрос, кто и как из должностных лиц компании будет контролировать дебиторскую задолженность на разных этапах сделки? \\r\\nНа этой стадии исследования нам должны  помочь: организационно – функциональная схема предприятия, штатное расписание, должностные инструкции и анализ системы мотивации сотрудников, планируемых к включению в процесс контроля над дебиторской задолженностью.\\r\\nМожет  оказаться, что  задачи по контролю над дебиторской задолженностью не достаточно четко распределены на всём протяжении торгового процесса, который включает следующие процессы:\\r\\n* принятия решения о предоставление условий отсрочки платежа на этапе заключения договора поставки\\r\\n* промежуточного контроля, в течение действия отсрочки платежа, по договору\\r\\n* инкассации денежных средств\\r\\nВозможно, у руководителя возникнет вопрос о перераспределении обязанностей, изменении штатного расписания вплоть до создания нового отдела или департамента, внедрении системы факторинга, с целью надежной защиты товарного кредита. В некоторых случаях, поняв необходимость в привлечении денежных средств, для финансирования дебиторской задолженности, взвесив  риски и затраты на их минимизацию, станет понятно, что  существуют риски, которые мы можем взять на себя при существующей модели ценообразования. Другие риски следует заложить в коммерческие условия, реализуемые при предоставлении отсрочки либо для отдельных категорий клиентов. Вместе с тем,  могут быть риски, которые мы не готовы рассматривать ни при каких обстоятельствах. Следствием подобного анализа может явиться, изменение структуры, штатного расписания предприятия, политики цен и скидок. С целью  обеспечить коммерческую эффективность услуги отсрочки платежа, надежность  контроля над дебиторской задолженностью.\\r\\nСледует ещё раз отметить, что  указанные изменения в организации должны носить периодический характер. Необходимость и периодичность изменений будет определяться результатами анализа:\\r\\n* основных показателей дебиторской задолженности (оборачиваемость, возрастная структура дебиторской задолженности, процент отношения просроченной дебиторской задолженности и общей величины дебиторской задолженности или просроченной дебиторской задолженности и общего объема продаж)\\r\\n* изменений глобального рынка и перестройкой внутри каналов сбыта.'"
            ],
            "application/vnd.google.colaboratory.intrinsic+json": {
              "type": "string"
            }
          },
          "metadata": {},
          "execution_count": 40
        }
      ]
    },
    {
      "cell_type": "code",
      "source": [
        "# Производим транслитерацию\n",
        "transliterated_text = translit(data_from_url, 'ru', reversed=True)\n",
        "\n",
        "# Выводим результат\n",
        "print(transliterated_text[:1000])"
      ],
      "metadata": {
        "colab": {
          "base_uri": "https://localhost:8080/"
        },
        "id": "tv6eJV9ZcRNu",
        "outputId": "4a8f9f1a-c88e-4d62-d1ca-487496e3af4c"
      },
      "execution_count": null,
      "outputs": [
        {
          "output_type": "stream",
          "name": "stdout",
          "text": [
            "﻿Reglament kontrolja i vzyskanija debitorskoj zadolzhennosti\r\n",
            "Reglament kontrolja debitorskoj zadolzhennosti (dalee DZ) i vzyskanija prosrochennoj DZ (dalee PDZ)\r\n",
            "1. Naznachenie Reglamenta.\r\n",
            "Nastojaschij Reglament prednaznachen dlja:\r\n",
            "* Sistemnogo preduprezhdenija vozniknovenija prosrochennoj debitorskoj zadolzhennosti (dalee – PDZ), predotvraschenija vozniknovenija nevozvratnoj i hronicheskoj debitorskoj zadolzhennosti.\r\n",
            "* Sokraschenija srednego vremeni prosrochek i umen'shenija srednego ob'ema PDZ.\r\n",
            "* Uderzhanija razmerov PDZ v predelah planovo-normativnyh znachenij.\r\n",
            "2. Oblast' primenenija nastojaschego Reglamenta.\r\n",
            "2.1 Nastojaschij Reglament primenjaetsja ko vsem klientam, rabotajuschim s otsrochkoj platezhej i ko vsem sluchajam vozniknovenija DZ i PDZ, nezavisimo ot kategorij klientov, krome sluchaev po kotorym suschestvuet pis'mennoe rasporjazhenie rukovodstva o polnom ili chastichnom iskljuchenii ih iz oblasti primenenija nastojaschego Reglamenta.\r\n",
            "2.2 Reglament vstupaet v silu \n"
          ]
        }
      ]
    },
    {
      "cell_type": "markdown",
      "source": [
        "### Подсчет токенов:"
      ],
      "metadata": {
        "id": "4upuKQesduHc"
      }
    },
    {
      "cell_type": "code",
      "source": [
        "#from langchain.chat_models import ChatOpenAI\n",
        "from langchain_openai import ChatOpenAI\n",
        "from langchain_openai import OpenAIEmbeddings\n",
        "from langchain.schema import (\n",
        "    AIMessage,\n",
        "    HumanMessage,\n",
        "    SystemMessage\n",
        ")"
      ],
      "metadata": {
        "id": "s_8B5Z7QdF2R"
      },
      "execution_count": null,
      "outputs": []
    },
    {
      "cell_type": "code",
      "source": [
        "# посчитаем токены в БЗ на кириллице:\n",
        "messages = [\n",
        "    SystemMessage(content=data_from_url)\n",
        "    ]\n",
        "chat = ChatOpenAI(temperature=0)\n",
        "chat.get_num_tokens_from_messages(messages)"
      ],
      "metadata": {
        "colab": {
          "base_uri": "https://localhost:8080/"
        },
        "id": "09Yho_iudF4N",
        "outputId": "eb7e9983-b7ed-4f5b-a89f-eb432223c616"
      },
      "execution_count": null,
      "outputs": [
        {
          "output_type": "execute_result",
          "data": {
            "text/plain": [
              "14914"
            ]
          },
          "metadata": {},
          "execution_count": 43
        }
      ]
    },
    {
      "cell_type": "code",
      "source": [
        "# посчитаем токены в БЗ на латинице:\n",
        "messages = [\n",
        "    SystemMessage(content=transliterated_text)\n",
        "    ]\n",
        "chat = ChatOpenAI(temperature=0)\n",
        "chat.get_num_tokens_from_messages(messages)"
      ],
      "metadata": {
        "colab": {
          "base_uri": "https://localhost:8080/"
        },
        "id": "zP-37apDeUX9",
        "outputId": "fdb23d76-099d-479a-a360-eeeed52c89d6"
      },
      "execution_count": null,
      "outputs": [
        {
          "output_type": "execute_result",
          "data": {
            "text/plain": [
              "13705"
            ]
          },
          "metadata": {},
          "execution_count": 44
        }
      ]
    },
    {
      "cell_type": "markdown",
      "source": [
        "### Посмотрим, одинаково ли будет отвечать GPTна основе БЗ на кириллице и в транслитерированном варианте:"
      ],
      "metadata": {
        "id": "NqA_odf1qPHl"
      }
    },
    {
      "cell_type": "code",
      "source": [
        "source_chunks=[]\n",
        "splitter = RecursiveCharacterTextSplitter(chunk_size=750, chunk_overlap=0)\n",
        "for chunk in splitter.split_text(data_from_url):\n",
        "    source_chunks.append(Document(page_content=chunk, metadata={}))\n",
        "print(\"Общее количество чанков: \", len(source_chunks))"
      ],
      "metadata": {
        "colab": {
          "base_uri": "https://localhost:8080/"
        },
        "id": "fYJQAilOqiBI",
        "outputId": "1d528e1a-b2a2-4f0f-d1c4-34b0ed986e9b"
      },
      "execution_count": null,
      "outputs": [
        {
          "output_type": "stream",
          "name": "stdout",
          "text": [
            "Общее количество чанков:  54\n"
          ]
        }
      ]
    },
    {
      "cell_type": "code",
      "source": [
        "# Инициализирум модель эмбеддингов\n",
        "embeddings = OpenAIEmbeddings()\n",
        "\n",
        "# Создадим индексную базу из разделенных фрагментов текста\n",
        "db = FAISS.from_documents(source_chunks, embeddings)"
      ],
      "metadata": {
        "id": "qZBvVkLmeUbA"
      },
      "execution_count": null,
      "outputs": []
    },
    {
      "cell_type": "code",
      "source": [
        "def insert_newlines(text: str, max_len: int = 170) -> str:\n",
        "    words = text.split()\n",
        "    lines = []\n",
        "    current_line = \"\"\n",
        "    for word in words:\n",
        "        if len(current_line + \" \" + word) > max_len:\n",
        "            lines.append(current_line)\n",
        "            current_line = \"\"\n",
        "        current_line += \" \" + word\n",
        "    lines.append(current_line)\n",
        "    return \" \".join(lines)\n",
        "\n",
        "def answer_index(system, topic, search_index, temp=1, verbose=1):\n",
        "\n",
        "    # Поиск релевантных отрезков из базы знаний\n",
        "    docs = search_index.similarity_search(topic, k=4)\n",
        "    if verbose: print('\\n ===========================================: ')\n",
        "    message_content = re.sub(r'\\n{2}', ' ', '\\n '.join([f'\\nОтрывок документа №{i+1}\\n=====================' + doc.page_content + '\\n' for i, doc in enumerate(docs)]))\n",
        "    if verbose: print('message_content :\\n ======================================== \\n', message_content)\n",
        "\n",
        "    messages = [\n",
        "        {\"role\": \"system\", \"content\": system},\n",
        "        {\"role\": \"user\", \"content\": f\"Ответь на вопрос сотрудника на основе представленной информации. Не упоминай документ с информацией для ответа сотруднику в ответе. Документ с информацией для ответа сотруднику: {message_content}\\n\\nВопрос сотрудника: \\n{topic}\"}\n",
        "    ]\n",
        "\n",
        "    if verbose: print('\\n ===========================================: ')\n",
        "\n",
        "    completion = client.chat.completions.create(\n",
        "        model=\"gpt-4o-mini\",\n",
        "        messages=messages,\n",
        "        temperature=0\n",
        "    )\n",
        "    answer = insert_newlines(completion.choices[0].message.content)\n",
        "    return answer  # возвращает ответ"
      ],
      "metadata": {
        "id": "FpoOBTNyeUdb"
      },
      "execution_count": null,
      "outputs": []
    },
    {
      "cell_type": "code",
      "source": [
        "system=\"\"\"Ты-консультант по контролю и взысканию дебиторской задолженности, ответь на вопрос сотрудника компании на основе документа с информацией.\n",
        "Не придумывай ничего от себя, отвечай максимально по документу. Не упоминай Документ с информацией для ответа сотруднику.\"\"\""
      ],
      "metadata": {
        "id": "Ce3dt3pgeUfN"
      },
      "execution_count": null,
      "outputs": []
    },
    {
      "cell_type": "code",
      "source": [
        "# вопрос пользователя\n",
        "topic= \"Нужно ли заранее напоминать клиенту о наступлении срока платежа?\"\n",
        "ans=answer_index(system, topic, db)\n",
        "ans"
      ],
      "metadata": {
        "colab": {
          "base_uri": "https://localhost:8080/",
          "height": 932
        },
        "id": "e1yX7Gw2rAXz",
        "outputId": "3ba35e80-5c69-4f0b-c042-583e6afb55df"
      },
      "execution_count": null,
      "outputs": [
        {
          "output_type": "stream",
          "name": "stdout",
          "text": [
            "\n",
            " ===========================================: \n",
            "message_content :\n",
            " ======================================== \n",
            " \n",
            "Отрывок документа №1\n",
            "=====================Напоминание может быть исключено вообще или достаточно однократного напоминания за 1-2 дня до наступления срока платежа.\r\n",
            "\tНеопределенным клиентам\r\n",
            "\t2-х кратное напоминание за 4 и 2 дня до наступления срока платежа.\r\n",
            "\tУгрожаемым клиентам\r\n",
            "\tНе менее 3х напоминаний за 7, 4, 1 дней до наступления срока платежа.\r\n",
            "\tНеплательщикам\r\n",
            "\tОтсрочка платежа не предоставляется\r\n",
            "\t5.6 Звонки с предупреждением выполняются ТП в плановом порядке, каждую пятницу, в отношении клиентов, у кого на следующей неделе наступает срок платежа в соответствии с Договором.\r\n",
            "6. Контроль динамики ДЗ и ПДЗ\r\n",
            "6.1 Выполняет торговый представитель.  \n",
            "Отрывок документа №2\n",
            "=====================6.1.1 Общение с клиентом в процессе визита предшествующего дате наступления платежа: В ходе визита, предшествующего оплате,  ТП, после  выполнения основных целей визита, напоминает лицу принимающему решение (далее ЛПР) Клиента о сроке предстоящего платежа, указывая  дату, номер, сумму оплачиваемой накладной, форму   оплаты. Затем, сверяется на основе п. 5.1 с  данными Клиента.\r\n",
            "6.1.2.  ТП анализирует поведение Клиента по отношению к долгу.\r\n",
            "Варианты:\r\n",
            "a.\r\n",
            "\tПоведение Клиента, состояние торговой точки не вызывает сомнения в своевременной оплате. \r\n",
            "\tУточняет время и дату контакта  (на основе  маршрутного листа). Благодарит Клиента за конструктивный подход, прощается.\r\n",
            "\tb.  \n",
            "Отрывок документа №3\n",
            "=====================6.1.3 .Общение в день платежа:\r\n",
            "1. После приветствия и установления позитивного контакта к ЛПР, указывает, как одну из целей взаимодействия, оплату по текущей накладной  (указывая  дату, номер, сумму).\r\n",
            "2. Вариант ситуаций:\r\n",
            "a.\r\n",
            "\tКлиент оплачивает поставку\r\n",
            "\tФиксирует прием - передачу денежных средств. Благодарит  Клиента за своевременное выполнение обязательств (в ситуации безналичного расчета, уточняет дату, номер, сумму платёжного поручения). Переходит к следующей цели визита.\r\n",
            "\tb.\r\n",
            "\tКлиент  просит дополнительную отсрочку\r\n",
            "\t1. Уточняет:\r\n",
            "* дату, номер, сумму накладной о которой идёт речь;\r\n",
            "* причину задержки платежа;\r\n",
            "* срок,  когда Клиент планирует решить указанную проблему.\r\n",
            "2. Анализирует поведение Клиента по отношению к долгу.  \n",
            "Отрывок документа №4\n",
            "=====================Если в назначенный день полная или частичная оплата не поступает, а клиент по прежнему не идет на диалог, то претензия получает ход, а день доставки клиенту письма с требованием становится началом отсчета 30-дневного срока установленного действующим законодательством для досудебного урегулирования вопроса.\r\n",
            "\tОказание на клиента дозированного давления с целью принуждения его к диалогу по реструктуризации ПДЗ либо ее погашению.\r\n",
            "\tТорговый представитель, супервайзер, НОП, СБ, Юрист\r\n",
            "\t5.\r\n",
            "\tВ случае если клиент погашает часть ПДЗ, но по-прежнему не вступает в диалог, повторить действие 3 или действия 3, 4 с учетом оставшейся непогашенной суммы ПДЗ.\n",
            "\n",
            "\n",
            " ===========================================: \n"
          ]
        },
        {
          "output_type": "execute_result",
          "data": {
            "text/plain": [
              "' Да, согласно представленной информации, необходимо заранее напоминать клиенту о наступлении срока платежа. Для неопределенных клиентов предусмотрено 2-кратное  напоминание за 4 и 2 дня до наступления срока платежа, а для угрожаемых клиентов - не менее 3-х напоминаний за 7, 4 и 1 день до наступления срока платежа.'"
            ],
            "application/vnd.google.colaboratory.intrinsic+json": {
              "type": "string"
            }
          },
          "metadata": {},
          "execution_count": 49
        }
      ]
    },
    {
      "cell_type": "markdown",
      "source": [
        "Теперь создадим индексную базу из транслитерированной БЗ:"
      ],
      "metadata": {
        "id": "RnycErb-rKDl"
      }
    },
    {
      "cell_type": "code",
      "source": [
        "source_chunks=[]\n",
        "splitter = RecursiveCharacterTextSplitter(chunk_size=750, chunk_overlap=0)\n",
        "for chunk in splitter.split_text(transliterated_text):\n",
        "    source_chunks.append(Document(page_content=chunk, metadata={}))\n",
        "print(\"Общее количество чанков: \", len(source_chunks))"
      ],
      "metadata": {
        "colab": {
          "base_uri": "https://localhost:8080/"
        },
        "id": "baXrsffnrAaa",
        "outputId": "dd03632f-ca64-4966-e8a5-39ea3b808451"
      },
      "execution_count": null,
      "outputs": [
        {
          "output_type": "stream",
          "name": "stdout",
          "text": [
            "Общее количество чанков:  57\n"
          ]
        }
      ]
    },
    {
      "cell_type": "code",
      "source": [
        "# Создадим индексную базу из разделенных фрагментов текста\n",
        "db_translit = FAISS.from_documents(source_chunks, embeddings)"
      ],
      "metadata": {
        "id": "1VFJxUS1rAdU"
      },
      "execution_count": null,
      "outputs": []
    },
    {
      "cell_type": "code",
      "source": [
        "# вопрос пользователя\n",
        "topic= \"Нужно ли заранее напоминать клиенту о наступлении срока платежа?\"\n",
        "ans=answer_index(system, topic, db_translit)\n",
        "ans"
      ],
      "metadata": {
        "colab": {
          "base_uri": "https://localhost:8080/",
          "height": 805
        },
        "id": "9BHS_IMArAfp",
        "outputId": "9c6db207-6402-4701-a1df-12326ea8c91e"
      },
      "execution_count": null,
      "outputs": [
        {
          "output_type": "stream",
          "name": "stdout",
          "text": [
            "\n",
            " ===========================================: \n",
            "message_content :\n",
            " ======================================== \n",
            " \n",
            "Отрывок документа №1\n",
            "=====================V sluchae esli Klient:\r\n",
            "* prosit bolee dlitel'nyj srok, torgovyj predstavitel' dogovarivaetsja o chastichnoj oplate summy nakladnoj nachinaja s tekuschego dnja;\r\n",
            "* otkazyvaetsja platit', povtorno utochnjaet prichinu narushenija  uslovij dogovora, esli Klient  ne menjaet pozitsii po otnosheniju k dolgu, T.P. stavit v  izvestnost' neposredstvennogo rukovoditelja i dal'she dejstvuet po ego ukazanijam.\r\n",
            "\tc1\r\n",
            "\tPovedenie Klienta, sostojanie torgovoj tochki ukazyvaet na vysokij risk poteri DS (vne zavisimosti ot statusa klienta).\r\n",
            "\tNemedlenno (v torgovoj tochke) informiruet neposredstvennogo rukovoditelja o slozhivshejsja situatsii. Soglasuet dal'nejshie dejstvija s neposredstvennym rukovoditelem, v dal'nejshem  vypolnjaet ego ukazanija.  \n",
            "Отрывок документа №2\n",
            "=====================5.5 V otnoshenii klientov ranee dopuskavshih prosrochki pogashenija DZ, rabotnikami Otdela Prodazh (OP)  primenjaetsja zablagovremennoe preduprezhdenie o nastuplenii srokov platezha, odnako, v zavisimosti ot prisvoennoj klientu kategorii (sm. P 4 nastojaschego Reglamenta), intensivnost' napominanija dolzhna byt' razlichnoj.\r\n",
            "Kategorija (status klienta)\r\n",
            "\tIntensivnost' napominanija\r\n",
            "\tNadezhnym klientam\r\n",
            "\tNapominanie mozhet byt' iskljucheno voobsche ili dostatochno odnokratnogo napominanija za 1-2 dnja do nastuplenija sroka platezha.\r\n",
            "\tNeopredelennym klientam\r\n",
            "\t2-h kratnoe napominanie za 4 i 2 dnja do nastuplenija sroka platezha.\r\n",
            "\tUgrozhaemym klientam\r\n",
            "\tNe menee 3h napominanij za 7, 4, 1 dnej do nastuplenija sroka platezha.  \n",
            "Отрывок документа №3\n",
            "=====================3.1 Nadezhnye platel'schiki – klienty kotorye imeja otsrochku platezha v techenie godichnogo perioda ni razu ne dopustili prosrochki vozvrata DZ, libo, dopustili ne bolee 2-h prosrochek prodolzhitel'nost'ju do 1 nedeli, s predvaritel'nym preduprezhdeniem o prosrochke i soglasovaniem uslovij restrukturizatsii dolga.\r\n",
            "3.2 Klienty s neopredelennoj nadezhnost'ju – klienty, po kotorym otsutstvuet statistika vzaimodejstvija po DZ v techenie predshestvujuschego godichnogo perioda, libo klienty, statistika platezhej po kotorym nestabil'na. To est' prisutstvuet do 50% sluchaev - prosrochka na promezhutki vremeni (ot 1-j, do 2h nedel'), s preduprezhdenijami i bez nih, pri etom vsegda prisutstvuet soglasie na restrukturizatsiju dolga.  \n",
            "Отрывок документа №4\n",
            "=====================Fiksiruet priem - peredachu denezhnyh sredstv. Blagodarit  Klienta za svoevremennoe vypolnenie objazatel'stv (v situatsii beznalichnogo rascheta, utochnjaet datu, nomer, summu platezhnogo poruchenija). Perehodit k sledujuschej tseli vizita.\r\n",
            "\tb.\r\n",
            "\tKlient  prosit dopolnitel'nuju otsrochku\r\n",
            "\t1. Utochnjaet:\r\n",
            "* datu, nomer, summu nakladnoj o kotoroj idet rech';\r\n",
            "* prichinu zaderzhki platezha;\r\n",
            "* srok,  kogda Klient planiruet reshit' ukazannuju problemu.\r\n",
            "2. Analiziruet povedenie Klienta po otnosheniju k dolgu. \r\n",
            "\ta1\r\n",
            "\tKreditnaja istorija ne vyzyvaet somnenija (nadezhnyj platel'schik), povedenie Klienta, sostojanie torgovoj tochki ne vyzyvaet somnenija v ispolnenija v vypolnenii dogovorennostej\n",
            "\n",
            "\n",
            " ===========================================: \n"
          ]
        },
        {
          "output_type": "execute_result",
          "data": {
            "text/plain": [
              "' Да, согласно представленной информации, необходимо заранее напоминать клиенту о наступлении срока платежа в зависимости от его категории (статуса клиента). Напоминание  может быть исключено для надежных клиентов или быть достаточно однократным за 1-2 дня до наступления срока платежа. Для неопределенных клиентов и угрожаемых клиентов  предусмотрены более интенсивные напоминания за определенное количество дней до наступления срока платежа.'"
            ],
            "application/vnd.google.colaboratory.intrinsic+json": {
              "type": "string"
            }
          },
          "metadata": {},
          "execution_count": 52
        }
      ]
    },
    {
      "cell_type": "markdown",
      "source": [
        "В данном случае на транслитерированной базе знаний GPT ответил идентично, однако с этим способом экономии на токенах нужно быть осторожными в зависимости от специфики вашей БЗ."
      ],
      "metadata": {
        "id": "Gun7Mc3XuERt"
      }
    },
    {
      "cell_type": "markdown",
      "source": [
        "\n",
        "\n",
        "---\n",
        "\n",
        "Лучший способ исследовать передовые технологии в мире AI - это\n",
        " [GPT Лаборатория](https://neural-university.ru/laboratory_ai?utm_source=laboratory&utm_medium=content)\n"
      ],
      "metadata": {
        "id": "LG5A3ItadbAL"
      }
    },
    {
      "cell_type": "markdown",
      "source": [
        "![баннер13.jpg](data:image/jpeg;base64,/9j/4AAQSkZJRgABAQEBLAEsAAD/4RDiRXhpZgAATU0AKgAAAAgABAE7AAIAAAAIAAAISodpAAQAAAABAAAIUpydAAEAAAAQAAAQyuocAAcAAAgMAAAAPgAAAAAc6gAAAAgAAAAAAAAAAAAAAAAAAAAAAAAAAAAAAAAAAAAAAAAAAAAAAAAAAAAAAAAAAAAAAAAAAAAAAAAAAAAAAAAAAAAAAAAAAAAAAAAAAAAAAAAAAAAAAAAAAAAAAAAAAAAAAAAAAAAAAAAAAAAAAAAAAAAAAAAAAAAAAAAAAAAAAAAAAAAAAAAAAAAAAAAAAAAAAAAAAAAAAAAAAAAAAAAAAAAAAAAAAAAAAAAAAAAAAAAAAAAAAAAAAAAAAAAAAAAAAAAAAAAAAAAAAAAAAAAAAAAAAAAAAAAAAAAAAAAAAAAAAAAAAAAAAAAAAAAAAAAAAAAAAAAAAAAAAAAAAAAAAAAAAAAAAAAAAAAAAAAAAAAAAAAAAAAAAAAAAAAAAAAAAAAAAAAAAAAAAAAAAAAAAAAAAAAAAAAAAAAAAAAAAAAAAAAAAAAAAAAAAAAAAAAAAAAAAAAAAAAAAAAAAAAAAAAAAAAAAAAAAAAAAAAAAAAAAAAAAAAAAAAAAAAAAAAAAAAAAAAAAAAAAAAAAAAAAAAAAAAAAAAAAAAAAAAAAAAAAAAAAAAAAAAAAAAAAAAAAAAAAAAAAAAAAAAAAAAAAAAAAAAAAAAAAAAAAAAAAAAAAAAAAAAAAAAAAAAAAAAAAAAAAAAAAAAAAAAAAAAAAAAAAAAAAAAAAAAAAAAAAAAAAAAAAAAAAAAAAAAAAAAAAAAAAAAAAAAAAAAAAAAAAAAAAAAAAAAAAAAAAAAAAAAAAAAAAAAAAAAAAAAAAAAAAAAAAAAAAAAAAAAAAAAAAAAAAAAAAAAAAAAAAAAAAAAAAAAAAAAAAAAAAAAAAAAAAAAAAAAAAAAAAAAAAAAAAAAAAAAAAAAAAAAAAAAAAAAAAAAAAAAAAAAAAAAAAAAAAAAAAAAAAAAAAAAAAAAAAAAAAAAAAAAAAAAAAAAAAAAAAAAAAAAAAAAAAAAAAAAAAAAAAAAAAAAAAAAAAAAAAAAAAAAAAAAAAAAAAAAAAAAAAAAAAAAAAAAAAAAAAAAAAAAAAAAAAAAAAAAAAAAAAAAAAAAAAAAAAAAAAAAAAAAAAAAAAAAAAAAAAAAAAAAAAAAAAAAAAAAAAAAAAAAAAAAAAAAAAAAAAAAAAAAAAAAAAAAAAAAAAAAAAAAAAAAAAAAAAAAAAAAAAAAAAAAAAAAAAAAAAAAAAAAAAAAAAAAAAAAAAAAAAAAAAAAAAAAAAAAAAAAAAAAAAAAAAAAAAAAAAAAAAAAAAAAAAAAAAAAAAAAAAAAAAAAAAAAAAAAAAAAAAAAAAAAAAAAAAAAAAAAAAAAAAAAAAAAAAAAAAAAAAAAAAAAAAAAAAAAAAAAAAAAAAAAAAAAAAAAAAAAAAAAAAAAAAAAAAAAAAAAAAAAAAAAAAAAAAAAAAAAAAAAAAAAAAAAAAAAAAAAAAAAAAAAAAAAAAAAAAAAAAAAAAAAAAAAAAAAAAAAAAAAAAAAAAAAAAAAAAAAAAAAAAAAAAAAAAAAAAAAAAAAAAAAAAAAAAAAAAAAAAAAAAAAAAAAAAAAAAAAAAAAAAAAAAAAAAAAAAAAAAAAAAAAAAAAAAAAAAAAAAAAAAAAAAAAAAAAAAAAAAAAAAAAAAAAAAAAAAAAAAAAAAAAAAAAAAAAAAAAAAAAAAAAAAAAAAAAAAAAAAAAAAAAAAAAAAAAAAAAAAAAAAAAAAAAAAAAAAAAAAAAAAAAAAAAAAAAAAAAAAAAAAAAAAAAAAAAAAAAAAAAAAAAAAAAAAAAAAAAAAAAAAAAAAAAAAAAAAAAAAAAAAAAAAAAAAAAAAAAAAAAAAAAAAAAAAAAAAAAAAAAAAAAAAAAAAAAAAAAAAAAAAAAAAAAAAAAAAAAAAAAAAAAAAAAAAAAAAAAAAAAAAAAAAAAAAAAAAAAAAAAAAAAAAAAAAAAAAAAAAAAAAAAAAAAAAAAAAAAAAAAAAAAAAAAAAAAAAAAAAAAAAAAAAAAAAAAAAAAAAAAAAAAAAAAAAAAAAAAAAAAAAAAAAAAAAAAAAAAAAAAAAAAAAAAAAAAAAAAAAAAAAAAAAAAAAAAAAAAAAAAAAAAAAAAAAAAAAAAAAAAAAAAAAAAAAAAAAAAAAAAAAAAAAAAAAAAAAAAAAAAAAAAAAAAAAAAAAAAAAAAAAAAAAAAAAAAAAAAAAAAAAAAAAAAAAAAAAAAAAAAAAAAAAAAAAAAAAAAAAAAAAAAAAAAAAAAAAAAAAAAAAAAAAAAAAAAAAAAAAAAAAAAAAAAAAAAAAAAAAAAAAAAAAAAAAAAAAAAAAAAAAAAAAAAAAAAAAAAAAAAAAAAAAAAAAAAAAAAAAAAAAAAAAAAAAAAAAAAAAAAAAAAAAAAAAAAAAAAAAAAAAAAAAAAAAAAAAAAAAAAAAAAAAAAAAAAAAAAAAAAAAAAAAAAAAAAAAAAAAAAAAAAAAAAAAAAAAAAAAAAAAAAAAAAAAAAAAAAAAAAAAAAAAAAAAAAAAAAAAAAAAAAAAAAAAAAAAAAAAAAAAAAAAAAAAAAAAAAAAAAAAAAAAAAAAAAAAAAAAAAAAAAAAAAAAAAAAAAAAAAAAAAAAAAAAAAAAAAAAAAAAAAAAAAAAAAAAAAAAAAAAAAAAAAAAAAAAAAAAAAAAAAAAAAAAAAAAAAAAAAAAAAAAAAAAAAAAAAAAAAAAAAAAAAAAAAAAAAAAAAAAAAAAAAAAAAAAAAAAAAAAAAAAAAAAAAAAAAAAAAAAAAAAAAAAAAAAEhQIEVOVlkAAAWQAwACAAAAFAAAEKCQBAACAAAAFAAAELSSkQACAAAAAzk0AACSkgACAAAAAzk0AADqHAAHAAAIDAAACJQAAAAAHOoAAAAIAAAAAAAAAAAAAAAAAAAAAAAAAAAAAAAAAAAAAAAAAAAAAAAAAAAAAAAAAAAAAAAAAAAAAAAAAAAAAAAAAAAAAAAAAAAAAAAAAAAAAAAAAAAAAAAAAAAAAAAAAAAAAAAAAAAAAAAAAAAAAAAAAAAAAAAAAAAAAAAAAAAAAAAAAAAAAAAAAAAAAAAAAAAAAAAAAAAAAAAAAAAAAAAAAAAAAAAAAAAAAAAAAAAAAAAAAAAAAAAAAAAAAAAAAAAAAAAAAAAAAAAAAAAAAAAAAAAAAAAAAAAAAAAAAAAAAAAAAAAAAAAAAAAAAAAAAAAAAAAAAAAAAAAAAAAAAAAAAAAAAAAAAAAAAAAAAAAAAAAAAAAAAAAAAAAAAAAAAAAAAAAAAAAAAAAAAAAAAAAAAAAAAAAAAAAAAAAAAAAAAAAAAAAAAAAAAAAAAAAAAAAAAAAAAAAAAAAAAAAAAAAAAAAAAAAAAAAAAAAAAAAAAAAAAAAAAAAAAAAAAAAAAAAAAAAAAAAAAAAAAAAAAAAAAAAAAAAAAAAAAAAAAAAAAAAAAAAAAAAAAAAAAAAAAAAAAAAAAAAAAAAAAAAAAAAAAAAAAAAAAAAAAAAAAAAAAAAAAAAAAAAAAAAAAAAAAAAAAAAAAAAAAAAAAAAAAAAAAAAAAAAAAAAAAAAAAAAAAAAAAAAAAAAAAAAAAAAAAAAAAAAAAAAAAAAAAAAAAAAAAAAAAAAAAAAAAAAAAAAAAAAAAAAAAAAAAAAAAAAAAAAAAAAAAAAAAAAAAAAAAAAAAAAAAAAAAAAAAAAAAAAAAAAAAAAAAAAAAAAAAAAAAAAAAAAAAAAAAAAAAAAAAAAAAAAAAAAAAAAAAAAAAAAAAAAAAAAAAAAAAAAAAAAAAAAAAAAAAAAAAAAAAAAAAAAAAAAAAAAAAAAAAAAAAAAAAAAAAAAAAAAAAAAAAAAAAAAAAAAAAAAAAAAAAAAAAAAAAAAAAAAAAAAAAAAAAAAAAAAAAAAAAAAAAAAAAAAAAAAAAAAAAAAAAAAAAAAAAAAAAAAAAAAAAAAAAAAAAAAAAAAAAAAAAAAAAAAAAAAAAAAAAAAAAAAAAAAAAAAAAAAAAAAAAAAAAAAAAAAAAAAAAAAAAAAAAAAAAAAAAAAAAAAAAAAAAAAAAAAAAAAAAAAAAAAAAAAAAAAAAAAAAAAAAAAAAAAAAAAAAAAAAAAAAAAAAAAAAAAAAAAAAAAAAAAAAAAAAAAAAAAAAAAAAAAAAAAAAAAAAAAAAAAAAAAAAAAAAAAAAAAAAAAAAAAAAAAAAAAAAAAAAAAAAAAAAAAAAAAAAAAAAAAAAAAAAAAAAAAAAAAAAAAAAAAAAAAAAAAAAAAAAAAAAAAAAAAAAAAAAAAAAAAAAAAAAAAAAAAAAAAAAAAAAAAAAAAAAAAAAAAAAAAAAAAAAAAAAAAAAAAAAAAAAAAAAAAAAAAAAAAAAAAAAAAAAAAAAAAAAAAAAAAAAAAAAAAAAAAAAAAAAAAAAAAAAAAAAAAAAAAAAAAAAAAAAAAAAAAAAAAAAAAAAAAAAAAAAAAAAAAAAAAAAAAAAAAAAAAAAAAAAAAAAAAAAAAAAAAAAAAAAAAAAAAAAAAAAAAAAAAAAAAAAAAAAAAAAAAAAAAAAAAAAAAAAAAAAAAAAAAAAAAAAAAAAAAAAAAAAAAAAAAAAAAAAAAAAAAAAAAAAAAAAAAAAAAAAAAAAAAAAAAAAAAAAAAAAAAAAAAAAAAAAAAAAAAAAAAAAAAAAAAAAAAAAAAAAAAAAAAAAAAAAAAAAAAAAAAAAAAAAAAAAAAAAAAAAAAAAAAAAAAAAAAAAAAAAAAAAAAAAAAAAAAAAAAAAAAAAAAAAAAAAAAAAAAAAAAAAAAAAAAAAAAAAAAAAAAAAAAAAAAAAAAAAAAAAAAAAAAAAAAAAAAAAAAAAAAAAAAAAAAAAAAAAAAAAAAAAAAAAAAAAAAAAAAAAAAAAAAAAAAAAAAAAAAAAAAAAAAAAAAAAAAAAAAAAAAAAAAAAAAAAAAAAAAAAAAAAAAAAAAAAAAAAAAAAAAAAAAAAAAAAAAAAAAAAAAAAAAAAAAAAAAAAAAAAAAAAAAAAAAAAAAAAAAAAAAAAAAAAAAAAAAAAAAAAAAAAAAAAAAAAAAAAAAAAAAAAAAAAAAAAAAAAAAAAAAAAAAAAAAAAAAAAAAAAAAAAAAAAAAAAAAAAAAAAAAAAAAAAAAAAAAAAAAAAAAAAAAAAAAAAAAAAAAAAAAAAAAAAAAAAAAAAAAAAAAAAAAAAAAAAAAAAAAAAAAAAAAAAAAAAAAAAAAAAAAAAAAAAAAAAAAAAAAAAAAAAAAAAAAAAAAAAAAAAAAAAAAAAAAAAAAAAAAAAAAAAAAAAAAAAAAAAAAAAAAAAAAAAAAAAAAAAAAAAAAAAAAAAAAAAAAAAAAAAAAAAAAAAAAAAAAAAAAAAAAAAAAAAAAAAAAAAAAAAAAAAAAAAAAAAAAAAAAAAAAAAAAAAAAAAAAAAAAAAAAAAAAAAAAAAAAAAAAAAAAAAAAAAAAAAAAAAAAAAAAAAAAAAAAAAAAAAAAAAAAAAAAAAAAAAAAAAAAAAAAAAAAAAAAAAAAAAAAAAAAAAAAAAAAAAAAAAAAAAAAAAAAAAAAAAAAAAAAAAAAAAAAAAAAAAAAAAAAAAAAAAAAAAAAAAAAAAAAAAAAAAAAAAAAAAAAAAAAAAAAAAAAAAAAAAAAAAAAAAAAyMDI0OjA1OjA2IDIzOjAzOjExADIwMjQ6MDU6MDYgMjM6MDM6MTEAAABIAFAAIABFAE4AVgBZAAAA/+IMWElDQ19QUk9GSUxFAAEBAAAMSExpbm8CEAAAbW50clJHQiBYWVogB84AAgAJAAYAMQAAYWNzcE1TRlQAAAAASUVDIHNSR0IAAAAAAAAAAAAAAAAAAPbWAAEAAAAA0y1IUCAgAAAAAAAAAAAAAAAAAAAAAAAAAAAAAAAAAAAAAAAAAAAAAAAAAAAAAAAAAAAAAAARY3BydAAAAVAAAAAzZGVzYwAAAYQAAABsd3RwdAAAAfAAAAAUYmtwdAAAAgQAAAAUclhZWgAAAhgAAAAUZ1hZWgAAAiwAAAAUYlhZWgAAAkAAAAAUZG1uZAAAAlQAAABwZG1kZAAAAsQAAACIdnVlZAAAA0wAAACGdmlldwAAA9QAAAAkbHVtaQAAA/gAAAAUbWVhcwAABAwAAAAkdGVjaAAABDAAAAAMclRSQwAABDwAAAgMZ1RSQwAABDwAAAgMYlRSQwAABDwAAAgMdGV4dAAAAABDb3B5cmlnaHQgKGMpIDE5OTggSGV3bGV0dC1QYWNrYXJkIENvbXBhbnkAAGRlc2MAAAAAAAAAEnNSR0IgSUVDNjE5NjYtMi4xAAAAAAAAAAAAAAASc1JHQiBJRUM2MTk2Ni0yLjEAAAAAAAAAAAAAAAAAAAAAAAAAAAAAAAAAAAAAAAAAAAAAAAAAAAAAAAAAAAAAAAAAAFhZWiAAAAAAAADzUQABAAAAARbMWFlaIAAAAAAAAAAAAAAAAAAAAABYWVogAAAAAAAAb6IAADj1AAADkFhZWiAAAAAAAABimQAAt4UAABjaWFlaIAAAAAAAACSgAAAPhAAAts9kZXNjAAAAAAAAABZJRUMgaHR0cDovL3d3dy5pZWMuY2gAAAAAAAAAAAAAABZJRUMgaHR0cDovL3d3dy5pZWMuY2gAAAAAAAAAAAAAAAAAAAAAAAAAAAAAAAAAAAAAAAAAAAAAAAAAAAAAAAAAAAAAZGVzYwAAAAAAAAAuSUVDIDYxOTY2LTIuMSBEZWZhdWx0IFJHQiBjb2xvdXIgc3BhY2UgLSBzUkdCAAAAAAAAAAAAAAAuSUVDIDYxOTY2LTIuMSBEZWZhdWx0IFJHQiBjb2xvdXIgc3BhY2UgLSBzUkdCAAAAAAAAAAAAAAAAAAAAAAAAAAAAAGRlc2MAAAAAAAAALFJlZmVyZW5jZSBWaWV3aW5nIENvbmRpdGlvbiBpbiBJRUM2MTk2Ni0yLjEAAAAAAAAAAAAAACxSZWZlcmVuY2UgVmlld2luZyBDb25kaXRpb24gaW4gSUVDNjE5NjYtMi4xAAAAAAAAAAAAAAAAAAAAAAAAAAAAAAAAAAB2aWV3AAAAAAATpP4AFF8uABDPFAAD7cwABBMLAANcngAAAAFYWVogAAAAAABMCVYAUAAAAFcf521lYXMAAAAAAAAAAQAAAAAAAAAAAAAAAAAAAAAAAAKPAAAAAnNpZyAAAAAAQ1JUIGN1cnYAAAAAAAAEAAAAAAUACgAPABQAGQAeACMAKAAtADIANwA7AEAARQBKAE8AVABZAF4AYwBoAG0AcgB3AHwAgQCGAIsAkACVAJoAnwCkAKkArgCyALcAvADBAMYAywDQANUA2wDgAOUA6wDwAPYA+wEBAQcBDQETARkBHwElASsBMgE4AT4BRQFMAVIBWQFgAWcBbgF1AXwBgwGLAZIBmgGhAakBsQG5AcEByQHRAdkB4QHpAfIB+gIDAgwCFAIdAiYCLwI4AkECSwJUAl0CZwJxAnoChAKOApgCogKsArYCwQLLAtUC4ALrAvUDAAMLAxYDIQMtAzgDQwNPA1oDZgNyA34DigOWA6IDrgO6A8cD0wPgA+wD+QQGBBMEIAQtBDsESARVBGMEcQR+BIwEmgSoBLYExATTBOEE8AT+BQ0FHAUrBToFSQVYBWcFdwWGBZYFpgW1BcUF1QXlBfYGBgYWBicGNwZIBlkGagZ7BowGnQavBsAG0QbjBvUHBwcZBysHPQdPB2EHdAeGB5kHrAe/B9IH5Qf4CAsIHwgyCEYIWghuCIIIlgiqCL4I0gjnCPsJEAklCToJTwlkCXkJjwmkCboJzwnlCfsKEQonCj0KVApqCoEKmAquCsUK3ArzCwsLIgs5C1ELaQuAC5gLsAvIC+EL+QwSDCoMQwxcDHUMjgynDMAM2QzzDQ0NJg1ADVoNdA2ODakNww3eDfgOEw4uDkkOZA5/DpsOtg7SDu4PCQ8lD0EPXg96D5YPsw/PD+wQCRAmEEMQYRB+EJsQuRDXEPURExExEU8RbRGMEaoRyRHoEgcSJhJFEmQShBKjEsMS4xMDEyMTQxNjE4MTpBPFE+UUBhQnFEkUahSLFK0UzhTwFRIVNBVWFXgVmxW9FeAWAxYmFkkWbBaPFrIW1hb6Fx0XQRdlF4kXrhfSF/cYGxhAGGUYihivGNUY+hkgGUUZaxmRGbcZ3RoEGioaURp3Gp4axRrsGxQbOxtjG4obshvaHAIcKhxSHHscoxzMHPUdHh1HHXAdmR3DHeweFh5AHmoelB6+HukfEx8+H2kflB+/H+ogFSBBIGwgmCDEIPAhHCFIIXUhoSHOIfsiJyJVIoIiryLdIwojOCNmI5QjwiPwJB8kTSR8JKsk2iUJJTglaCWXJccl9yYnJlcmhya3JugnGCdJJ3onqyfcKA0oPyhxKKIo1CkGKTgpaymdKdAqAio1KmgqmyrPKwIrNitpK50r0SwFLDksbiyiLNctDC1BLXYtqy3hLhYuTC6CLrcu7i8kL1ovkS/HL/4wNTBsMKQw2zESMUoxgjG6MfIyKjJjMpsy1DMNM0YzfzO4M/E0KzRlNJ402DUTNU01hzXCNf02NzZyNq426TckN2A3nDfXOBQ4UDiMOMg5BTlCOX85vDn5OjY6dDqyOu87LTtrO6o76DwnPGU8pDzjPSI9YT2hPeA+ID5gPqA+4D8hP2E/oj/iQCNAZECmQOdBKUFqQaxB7kIwQnJCtUL3QzpDfUPARANER0SKRM5FEkVVRZpF3kYiRmdGq0bwRzVHe0fASAVIS0iRSNdJHUljSalJ8Eo3Sn1KxEsMS1NLmkviTCpMcky6TQJNSk2TTdxOJU5uTrdPAE9JT5NP3VAnUHFQu1EGUVBRm1HmUjFSfFLHUxNTX1OqU/ZUQlSPVNtVKFV1VcJWD1ZcVqlW91dEV5JX4FgvWH1Yy1kaWWlZuFoHWlZaplr1W0VblVvlXDVchlzWXSddeF3JXhpebF69Xw9fYV+zYAVgV2CqYPxhT2GiYfViSWKcYvBjQ2OXY+tkQGSUZOllPWWSZedmPWaSZuhnPWeTZ+loP2iWaOxpQ2maafFqSGqfavdrT2una/9sV2yvbQhtYG25bhJua27Ebx5veG/RcCtwhnDgcTpxlXHwcktypnMBc11zuHQUdHB0zHUodYV14XY+dpt2+HdWd7N4EXhueMx5KnmJeed6RnqlewR7Y3vCfCF8gXzhfUF9oX4BfmJ+wn8jf4R/5YBHgKiBCoFrgc2CMIKSgvSDV4O6hB2EgITjhUeFq4YOhnKG14c7h5+IBIhpiM6JM4mZif6KZIrKizCLlov8jGOMyo0xjZiN/45mjs6PNo+ekAaQbpDWkT+RqJIRknqS45NNk7aUIJSKlPSVX5XJljSWn5cKl3WX4JhMmLiZJJmQmfyaaJrVm0Kbr5wcnImc951kndKeQJ6unx2fi5/6oGmg2KFHobaiJqKWowajdqPmpFakx6U4pammGqaLpv2nbqfgqFKoxKk3qamqHKqPqwKrdavprFys0K1ErbiuLa6hrxavi7AAsHWw6rFgsdayS7LCszizrrQltJy1E7WKtgG2ebbwt2i34LhZuNG5SrnCuju6tbsuu6e8IbybvRW9j74KvoS+/796v/XAcMDswWfB48JfwtvDWMPUxFHEzsVLxcjGRsbDx0HHv8g9yLzJOsm5yjjKt8s2y7bMNcy1zTXNtc42zrbPN8+40DnQutE80b7SP9LB00TTxtRJ1MvVTtXR1lXW2Ndc1+DYZNjo2WzZ8dp22vvbgNwF3IrdEN2W3hzeot8p36/gNuC94UThzOJT4tvjY+Pr5HPk/OWE5g3mlucf56noMui86Ubp0Opb6uXrcOv77IbtEe2c7ijutO9A78zwWPDl8XLx//KM8xnzp/Q09ML1UPXe9m32+/eK+Bn4qPk4+cf6V/rn+3f8B/yY/Sn9uv5L/tz/bf///+ELGmh0dHA6Ly9ucy5hZG9iZS5jb20veGFwLzEuMC8APD94cGFja2V0IGJlZ2luPSfvu78nIGlkPSdXNU0wTXBDZWhpSHpyZVN6TlRjemtjOWQnPz4NCjx4OnhtcG1ldGEgeG1sbnM6eD0iYWRvYmU6bnM6bWV0YS8iPjxyZGY6UkRGIHhtbG5zOnJkZj0iaHR0cDovL3d3dy53My5vcmcvMTk5OS8wMi8yMi1yZGYtc3ludGF4LW5zIyI+PHJkZjpEZXNjcmlwdGlvbiByZGY6YWJvdXQ9InV1aWQ6ZmFmNWJkZDUtYmEzZC0xMWRhLWFkMzEtZDMzZDc1MTgyZjFiIiB4bWxuczpkYz0iaHR0cDovL3B1cmwub3JnL2RjL2VsZW1lbnRzLzEuMS8iLz48cmRmOkRlc2NyaXB0aW9uIHJkZjphYm91dD0idXVpZDpmYWY1YmRkNS1iYTNkLTExZGEtYWQzMS1kMzNkNzUxODJmMWIiIHhtbG5zOnhtcD0iaHR0cDovL25zLmFkb2JlLmNvbS94YXAvMS4wLyI+PHhtcDpDcmVhdGVEYXRlPjIwMjQtMDUtMDZUMjM6MDM6MTEuOTM3PC94bXA6Q3JlYXRlRGF0ZT48L3JkZjpEZXNjcmlwdGlvbj48cmRmOkRlc2NyaXB0aW9uIHJkZjphYm91dD0idXVpZDpmYWY1YmRkNS1iYTNkLTExZGEtYWQzMS1kMzNkNzUxODJmMWIiIHhtbG5zOmRjPSJodHRwOi8vcHVybC5vcmcvZGMvZWxlbWVudHMvMS4xLyI+PGRjOmNyZWF0b3I+PHJkZjpTZXEgeG1sbnM6cmRmPSJodHRwOi8vd3d3LnczLm9yZy8xOTk5LzAyLzIyLXJkZi1zeW50YXgtbnMjIj48cmRmOmxpPkhQIEVOVlk8L3JkZjpsaT48L3JkZjpTZXE+DQoJCQk8L2RjOmNyZWF0b3I+PC9yZGY6RGVzY3JpcHRpb24+PC9yZGY6UkRGPjwveDp4bXBtZXRhPg0KICAgICAgICAgICAgICAgICAgICAgICAgICAgICAgICAgICAgICAgICAgICAgICAgICAgICAgICAgICAgICAgICAgICAgICAgICAgICAgICAgICAgICAgICAgICAgICAgICAgIAogICAgICAgICAgICAgICAgICAgICAgICAgICAgICAgICAgICAgICAgICAgICAgICAgICAgICAgICAgICAgICAgICAgICAgICAgICAgICAgICAgICAgICAgICAgICAgICAgICAgCiAgICAgICAgICAgICAgICAgICAgICAgICAgICAgICAgICAgICAgICAgICAgICAgICAgICAgICAgICAgICAgICAgICAgICAgICAgICAgICAgICAgICAgICAgICAgICAgICAgICAKICAgICAgICAgICAgICAgICAgICAgICAgICAgICAgICAgICAgICAgICAgICAgICAgICAgICAgICAgICAgICAgICAgICAgICAgICAgICAgICAgICAgICAgICAgICAgICAgICAgIAogICAgICAgICAgICAgICAgICAgICAgICAgICAgICAgICAgICAgICAgICAgICAgICAgICAgICAgICAgICAgICAgICAgICAgICAgICAgICAgICAgICAgICAgICAgICAgICAgICAgCiAgICAgICAgICAgICAgICAgICAgICAgICAgICAgICAgICAgICAgICAgICAgICAgICAgICAgICAgICAgICAgICAgICAgICAgICAgICAgICAgICAgICAgICAgICAgICAgICAgICAKICAgICAgICAgICAgICAgICAgICAgICAgICAgICAgICAgICAgICAgICAgICAgICAgICAgICAgICAgICAgICAgICAgICAgICAgICAgICAgICAgICAgICAgICAgICAgICAgICAgIAogICAgICAgICAgICAgICAgICAgICAgICAgICAgICAgICAgICAgICAgICAgICAgICAgICAgICAgICAgICAgICAgICAgICAgICAgICAgICAgICAgICAgICAgICAgICAgICAgICAgCiAgICAgICAgICAgICAgICAgICAgICAgICAgICAgICAgICAgICAgICAgICAgICAgICAgICAgICAgICAgICAgICAgICAgICAgICAgICAgICAgICAgICAgICAgICAgICAgICAgICAKICAgICAgICAgICAgICAgICAgICAgICAgICAgICAgICAgICAgICAgICAgICAgICAgICAgICAgICAgICAgICAgICAgICAgICAgICAgICAgICAgICAgICAgICAgICAgICAgICAgIAogICAgICAgICAgICAgICAgICAgICAgICAgICAgICAgICAgICAgICAgICAgICAgICAgICAgICAgICAgICAgICAgICAgICAgICAgICAgICAgICAgICAgICAgICAgICAgICAgICAgCiAgICAgICAgICAgICAgICAgICAgICAgICAgICAgICAgICAgICAgICAgICAgICAgICAgICAgICAgICAgICAgICAgICAgICAgICAgICAgICAgICAgICAgICAgICAgICAgICAgICAKICAgICAgICAgICAgICAgICAgICAgICAgICAgICAgICAgICAgICAgICAgICAgICAgICAgICAgICAgICAgICAgICAgICAgICAgICAgICAgICAgICAgICAgICAgICAgICAgICAgIAogICAgICAgICAgICAgICAgICAgICAgICAgICAgICAgICAgICAgICAgICAgICAgICAgICAgICAgICAgICAgICAgICAgICAgICAgICAgICAgICAgICAgICAgICAgICAgICAgICAgCiAgICAgICAgICAgICAgICAgICAgICAgICAgICAgICAgICAgICAgICAgICAgICAgICAgICAgICAgICAgICAgICAgICAgICAgICAgICAgICAgICAgICAgICAgICAgICAgICAgICAKICAgICAgICAgICAgICAgICAgICAgICAgICAgICAgICAgICAgICAgICAgICAgICAgICAgICAgICAgICAgICAgICAgICAgICAgICAgICAgICAgICAgICAgICAgICAgICAgICAgIAogICAgICAgICAgICAgICAgICAgICAgICAgICAgICAgICAgICAgICAgICAgICAgICAgICAgICAgICAgICAgICAgICAgICAgICAgICAgICAgICAgICAgICAgICAgICAgICAgICAgCiAgICAgICAgICAgICAgICAgICAgICAgICAgICAgICAgICAgICAgICAgICAgICAgICAgICAgICAgICAgICAgICAgICAgICAgICAgICAgICAgICAgICAgICAgICAgICAgICAgICAKICAgICAgICAgICAgICAgICAgICAgICAgICAgICAgICAgICAgICAgICAgICAgICAgICAgICAgICAgICAgICAgICAgICAgICAgICAgICAgICAgICAgICAgICAgICAgICAgICAgIAogICAgICAgICAgICAgICAgICAgICAgICAgICAgICAgICAgICAgICAgICAgICAgICAgICAgICAgICAgICAgICAgICAgICAgICAgICAgICAgICAgICAgICAgICAgICAgICAgICAgCiAgICAgICAgICAgICAgICAgICAgICAgICAgICA8P3hwYWNrZXQgZW5kPSd3Jz8+/9sAQwADAgIDAgIDAwMDBAMDBAUIBQUEBAUKBwcGCAwKDAwLCgsLDQ4SEA0OEQ4LCxAWEBETFBUVFQwPFxgWFBgSFBUU/9sAQwEDBAQFBAUJBQUJFA0LDRQUFBQUFBQUFBQUFBQUFBQUFBQUFBQUFBQUFBQUFBQUFBQUFBQUFBQUFBQUFBQUFBQU/8AAEQgAdwMgAwEiAAIRAQMRAf/EAB8AAAEFAQEBAQEBAAAAAAAAAAABAgMEBQYHCAkKC//EALUQAAIBAwMCBAMFBQQEAAABfQECAwAEEQUSITFBBhNRYQcicRQygZGhCCNCscEVUtHwJDNicoIJChYXGBkaJSYnKCkqNDU2Nzg5OkNERUZHSElKU1RVVldYWVpjZGVmZ2hpanN0dXZ3eHl6g4SFhoeIiYqSk5SVlpeYmZqio6Slpqeoqaqys7S1tre4ubrCw8TFxsfIycrS09TV1tfY2drh4uPk5ebn6Onq8fLz9PX29/j5+v/EAB8BAAMBAQEBAQEBAQEAAAAAAAABAgMEBQYHCAkKC//EALURAAIBAgQEAwQHBQQEAAECdwABAgMRBAUhMQYSQVEHYXETIjKBCBRCkaGxwQkjM1LwFWJy0QoWJDThJfEXGBkaJicoKSo1Njc4OTpDREVGR0hJSlNUVVZXWFlaY2RlZmdoaWpzdHV2d3h5eoKDhIWGh4iJipKTlJWWl5iZmqKjpKWmp6ipqrKztLW2t7i5usLDxMXGx8jJytLT1NXW19jZ2uLj5OXm5+jp6vLz9PX29/j5+v/aAAwDAQACEQMRAD8A/Q7pTHQfeA+opd1AYivWOQjop7KBg54NJsJ6YP0p3AbRSkEdRikpgFX3GHb61QrRcYdvqaiQxoFOAzQBTgKgYAVYiuCuA3zD171CBTwKQy6rBhkHIoqqhKHIODVhJA3X5T+lIBxOKbSt1pKCkFFFFAwpkr7FwOppxIUEnoKrndI2epNAhtWbUbcluAeme9MCLFy3zN/d9KazFjknNK4jQAqncuHk46AYoRiYmySQpBxURGCRUjQUUUVVhhRRTgMUAIBiloopAFFFFIAIDDBAI9D0qJ7SF85QAnuvFS0oGaYim2mg52OR7MM1E1hKnQBx6qa06Kd2FjGeNoz8ylfqMULWzUbW8TdY1/Dj+VPmFYy6KvNYIfusy/XmojYSA8FW+hxQmFiGinmCQHBjb8qni0y5l6RlR6txSugRWXpS1pxaI2B5koHsozVqPS7ePqpc/wC0alzQ7MxFBLAAZNWY7CeTpGQP9rittIkiGEUKPYYp1Q59h2MuPRnP35APZRmr9vapaKQmST1J71MTtHvTCc0nJsdhxcnpxTaKKVxi7j9frRkHtj6UlITipuA7HoRTGBHUUlKGI6GqASinbgeo/KjCnocfWgBtCN84oZW7DI9qWOMtz0FMQwjBIrSqm0OWyD36VcqJDCiimk5qAFJptFFABRRRQAUxo1bOQMn060pOTRVLQCs9mP4Wx7GoXgdOq5HqKv0VV2FjMorReNX+8oNQPaL/AAsR7Gq5hWKtFSNA69sj2pgHNMQ6iiimAUUUUAFFFGMdTigAoxmkLDsPzpCSetADsge/0pYyWcDoO9R09fljdvbAoAjdt7k+pptFFABRRRQAUUUE4FACZwwPpSEYJFFK3WhAJRRRVAFITignFIAWNJgJS4xyaMhenJ9aTrRYBSc8dB6UlFFMDCoooroMRQex6GmMpU4/WnUoww2n8DTQDQ7Dvn60u9T1X8uKYRg4PBoqgH7Ebo+PZhWgw+dj71mVqkfMT71nIaEApwGaUCnAZrMoQCnAYpQKcBQAgFOApQKcBmgBVPY8inEdxyKQCnKMdOtIdxtHWpCgb2NMddg+Y7f50XHciYGVsD7o7mguEGE692prSbhgDavpTaQtwooAzTgKA2HwDdvX1U1Gw4B/Cpbc4mT3OKYwwGHcUDGVxfiz40eA/At4bPX/ABfo+l3owTaz3iCZR2JQHcB7kV8kftl/thahYavf+APAt89kbVjBqusW74kMnRoImHK7TwzDnIIGMHPzV8KP2b/iD8chNfaBpRk08Owk1W/l8qBn7gMeXOeu0HHfFDYz9NdH/aZ+FWtyRx2vj3QxJJwq3F0ICTnGP3m3n2r0qGaO4iSWJ1licBldDlWB6EEda/Krxx+w98WPBGmy350a31y2hG6Q6NcefIoxnIjIV2/4Cpr2T/gnTpHxCnv77Ul1Oe3+HUKvC1ldZeO4uOo8hSfkKlsu68HhSGPKq4H3bf39rpVjc3t7cw2dlbRtNPcXDhI4o1BLOzHhVABJJ4AFcZ/wvr4Zf9FF8J/+Dy1/+Lo+PX/JDPiL/wBi5qP/AKSyV+PXhPwvqPjbxLpmg6TEs+pajOltbxs4QM7HAyx4AoA/YX/hfXwy/wCii+E//B5a/wDxddjpuqWes2aXdhdwX1rJ9ye2lWRG+jAkGvy1vP2D/jJaW0ky+HrW5KDPlQ6lBvb6ZcD9a4DwD8SPG/7OvjuSWwlutH1G0m8u/wBJugyxzBTzHNGevGcHqM5BHWlcD9gdf8SaR4T01tR1zVbLRtPRgjXeoXCQRBjwAXcgZP1rmP8Ahffwy/6KL4T/APB5a/8AxdeV/He11P8Aaf8A2WLG68DacdRu9Ya1vI7Np4oim1/3iFnZVyjBlPPVTivimb9iL41W8LyyeC9saKWY/wBq2RwByf8AltQB+lX/AAvv4Zf9FF8J/wDg8tf/AIuj/hffwy/6KL4T/wDB5a//ABdfjXpunXGr6ja2NpH5t1dSpBDHuC7nYgKMnAGSR1r23/hhz42/9CV/5VbH/wCPUXA/VbR9a0/xFpkGo6Vf22p6fcDdDd2cyyxSDOMq6kgjII4Parlea/s3eD9X8A/BDwn4f160+wavY2zx3Fv5iSbGMrsBuQlTwR0Jr0qmAVLDCZD6Duakhts8vwPSuRvPjl8NtMu57O7+IHhW0ureRopbebWrZHidThlZS+QQQQQeQalvsOx3NsgjJCjt19alZc9OPavPov2gfhcGOfiT4RHH/Qdtf/jla3h74ueBfF2qR6boXjTw9rWoyKzJZ6fqsE8zADJIRHJIA5PFZsZ1BGDSVKQD1rhfEHxu+Hnha8Npq3jnw9YXQ6wT6nCsi/Vd2R+IqQO1pc7R71yvhP4reC/HU7weHPFei65coMtBYX8U0ij1KKxIHB5x2rpycmqSACc1BeX1tp0DT3dxFawr1kmcIo/E18sfts/tZX3wUhtPCnhN408V6hB9omvJI94sYCWVSoPymRirYzkALkj5lr4v0H4E/G79oZk1/wDsrWNdhuCWTVNauxGjqcHdG0zDcvT7gI4wOlUFz9LPEv7Unwl8JK51Dx/ojMhIaOxuPtjqR1BWHeQfbFdR8NfiZ4f+LfhWHxF4Zu2vdKllkiSV4miYsjYbKsARz6ivgTwr/wAEyvHWouG1/wAS6JosJAwLUSXcoPfK4RfyY19n/s5fAmP9nnwHN4ah12fX1mvGvWnmhEIR2RFZUQM21fkBxk8k+tS7Aeqk4ptFcH4o+PXw58F3z2OteNtD0++jO17WS9Qyof8AaQElfxFMDvKK5jwd8UPCHxCVz4Z8TaVrjINzx2N2kkiD1ZAdy/iK6fpQAU0nNct4j+K3grwhqR0/XvGGgaJfhBJ9l1HU4LeXaejbXYHBx1xVk/EHwsPC6+Jf+Ek0g+HWzt1cX0RtGwxU4l3bThlI69QRQB0AJHTirEbbkBrzXw/+0H8NPFWppp2leOdCu76Rtsdut6ivIfRASNx46DNehqxXoaewmWR1qfdjqCKovOse2SRwkajczMcAAdSTXG6t+0D8MtEvHtb74geGra5Q4eFtVh3IfQgNwfrUyBHf5zSVz3hL4h+FfH0UknhrxHpWvrH/AKw6bexzmP8A3ghJXqOvrWprWt6d4b0u41LVtQtdL063XdNd3sywwxDIGWdiABkgcnvUWGXaK4D/AIaD+Fv/AEUnwh/4PrX/AOOUjftCfC7t8SfCH/g9tf8A45RysLnoFITmuV8NfFbwX411A6f4f8X6Drt8sZlNrpmpwXEoQEAsVRicAkc+4rqaq1gCivPPEX7Q/wAMvCd/JY6r470G0vYztkt/tyPJGfRlUkqfY4roPB3xH8K/EK3efwz4j0vXo0/1n9n3aTNH/vKpyvUdQOtAHR0UVyPiL4u+BfCWpyabrnjTw9ouoxqGe01DVYIJlBGQSjuCARyOKQHWk02ufufiF4Ws/DEfiSbxJpMXh6QZj1Vr6IWrjJHyy7tp5BHB6iue8NftB/DTxfqkem6P450O91CVtsVsl6iySt6IpILH2GaYHoNIyhuoBpa5vxR8TPCHgi6htfEfivRNAuZk8yOHVNRhtndM43KHYEjIIyPSgDfa3U9CRUTQsvbP0qt4d8T6P4v01NR0HVrHW9Pdii3enXKXERYHBAdCRkd+ai8T+M/Dfga3guPE3iHS/D8E7lIpNUvY7ZZGAyVUuwBOOwp8zQWLeDSZA96r+GfG3hfx9bzv4b8RaT4gjtiFmk0m+iuRETkgMY2OM4PB9DVy622aPJMyRxoCzSOQFAHUkmmpXFYiLH6fSkrjLn45/DWyneC4+IHhSCZDho5datlZT7gvxUP/AAvz4Xf9FH8Jfhrtr/8AHKq4WO5oqto+r6b4j0yDUtJv7bU9OuBuhu7OZZopBnGVdSQRkEcHtVwx+h/MUXFYx/Eni3Q/BmnrfeINZ0/QrFpBEtzqV0lvGXIJChnIGSATj2NZmg/FjwR4tvo9N0LxjoGtag6tILTTtUguJSo6nYjE4A68UnxW+Gth8Wfh9rfhTUiFt9SgMay7dxhkHMcgHqrhW98Yr8gtH1DxF+z38YYLl4Ta+IPDWolZYCSFk2kq6ZxyjoWGe6vkdaAP2jqtqmqWWiafcX+o3cFhY26GSa6upVjiiQdWZmIAA9TWf4K8Waf4/wDCWleI9HlNxpmpW63EL45wRyCOxByCOxBFfKH/AAUd+Lo8P+CtM8AWM+2+1thd3yqwylpG3yqR1G+QDB/6ZMO9MD6X0v40fD7W9Rt7DTvHfhq/vrhxHDa2usW8ksrHoqqrkkn0Fa3ijxz4b8ERW8niLxBpWgR3BKwvql7HbCQjGQpdhkjI6etfBf8AwTj+Dh1zxZqPxDv4c2WjhrLT9w4e6df3jD/cjbH1lHpXaf8ABT3/AJFrwF/193f/AKBHQB9geF/HPhvxvFcSeHfEGla/HbkLM+l3sdyIyc4DFGOCcHr6VtE818Sf8Ewzjwz49/6+7T/0CSvqT4yfFXSvgx8PdU8U6swZLZNlvbA4a5nb/VxL9T1PYBj0BoAveIvip4L8IaidP13xfoOi34QSG11HU4LeXaejbXYHBx1ra0PX9M8UaTb6no2o2mrabPuEV5YzrNDJtYq211JBwwIODwQR2r8TfG3jLVfiF4s1TxHrdx9p1TUpzPO/QAngKo7KoAUDsABX6lfsN/8AJrPgr63v/pbcUID0nXfi74F8L6rPpms+NPD2k6lBt82zvtVghmj3KGXcjOCMqQRkcgg10WlatY67p1vqGm3lvqFhcIJIbq1lWWKVT0ZWUkEe4r8pv25P+TpfGv8A25f+kNvX6H/sskD9nfwB3P8AZUX9adwPVMZ5PAriD8cvhx9p+zDx/wCFhPv8vyf7att+7ONuN+c54xXin7c37Q//AAq3wT/wiui3WzxTr0LKzxvh7O0OVaXjkM2Ci9P4iDlRX5teF/8AkZdJ/wCvuH/0MUAfuLRRRTAKKKKAMKiiiugxCiiigBSN4/2h+oqOn9KHGRuH4imgGVr45zWRWyo4BqZlIAKcBmvI/jX+0Dp/wuU6bZRpqfiF13C3J/d24PRpCOeeoUckc5Axn5L8WfF7xf40nd9T127aJjxbQSGKFR6BFwPxOT71mM/RICnAYr8xLbVL2ymE1vdzwSg5EkUrK35g16z8Of2oPFng25ii1S5fxFpWQHhvHzMo9UlPOfZsj6daAPuQCnAZrF8DeMdJ+IXh631nR7kT2kvBUjDxOOqOvZh/gRkEGujCKvbP1qR2IQpxwOPWnAYqU1yPxaLwfC3xe6MUddJuiGU4IPlNyKQWOr3iNCT2qkXLk7uc/pX54fC/V76X4meEkkvbl421e0DKZWII85MjrX6I7I2+6+32YU7AM2kUoGKlELAdN6+q81GylTg0AJRRS4pBYFO1gfQ5rB+J/iRvBHgPxV4gjAL6XptzeorYwzJEzqOfUgD8a6ADFc98VvDT+NPhx4n0KLHnarpFzZxk9neJkU/gSDQFz8b/AAB4auPiV8SNB0Oa4lafWtTht5rlm3P+8kAeQk5yQCWyc596/Z3w74e07wnoVjo2kWkdjptlEsFvbxDCogHH+JPUnJNfjH8OPFT/AA5+JHh3xBLDITo+pQ3M0AUb2VJAXTB6EgEc469q/aDRdasfEekWeqaZdRXun3kSzwXELbkkRhkEGkijw3Xf25fhT4c1zUdJvdR1FL2wuJLWdVsJGAkRirAHuMg81X0L9uP4Q3+oWml6deX0c15cCOONdNdFMkj9T25ZiSfUk15n4x/4Jwf8JZ4u1zXP+Fh/Zf7Tvp73yP7E3+X5kjPt3faBnG7GcDOOgr4p8F2X9m/FbQrTf5n2fWoIt+Mbts6jOO3SgR+t/wAev+SGfEX/ALFzUf8A0lkr8sv2Y/8Ak4L4f/8AYYg/9Cr9Tfj1/wAkM+Iv/Yuaj/6SyV+OGj2GoapqtpaaVbXN3qUsirbwWaM8zyZ+UIq8ls9Mc0MZ+5LMsaM7sFRRksxwAPU1+UH7a/jHQ/G37QOtXugXEN7aQwQWst5blWjnlRMMysD8wHCZ/wBjjjBrlj8G/jFqw+yS+C/Gk0cnVLnTboRnHPJZcdu9ez/BH/gn94v8T6zbX3j2EeGvD8ThpbTzle8uQMHaoQkRg8gsx3DHCnOaNwPq79iDTbvTP2ZvCKXaNG0v2meNGzkRvcyMp+hB3D2YV7VrH/IIvv8Arg//AKCaXSdJs9B0qz03T7dLSws4Ut7e3iGFijRQqqB6AACk1j/kEX3/AFwf/wBBNMD8Vfhx/wAlD8L/APYVtf8A0ctfttX4k/Dj/kofhf8A7Ctr/wCjlr9uY4mlOB07n0pIBqqWIAGSauQ2wj5blv0FPiiWIYHXuafUtjsFfiT8U4Dq/wAafF8NsysbrxBeJGxPB3XLgH6c1+2jusaM7sFRRksxwAPWvxP0CVPGXxw06WOPzI9V8RRsseSu4S3IwPUfepIGeq+PP2DPiR8O/BuseJtUu9AfTtLt2uZ1tryRpCg67QYgCfxFP/4J8f8AJzuh/wDXnef+iWr9Bf2qv+TcfiH/ANgiX+lfn1/wT4/5Od0P/rzvP/RLUdAP0U/aW+H998T/AIG+LvD2ltMNUuLMyWiQSbGmljIkWLOQMPt2EHjD9utfn/4f/wCCcPxd1qzSe6/sHQ3YZ+z6hfszr7HyY5F/WvsP9sn9qKf9nfw3pdrolrBeeJ9ZMn2f7VkxW0SY3Sso+8csAq5A6k524PyD8OvFv7Un7Qxu9S8M+I9Yu7O3lMM95FdQWFskm0NsAGwE4K8KDjcM4BpLYGePfFf4MeOP2cvFljba9GdNvW/0nT9T064yku0jLxSDDKykjghWHBxggn9L/wBjb4z3/wAbPgvaalrMon13Trl9NvpwoXznQKySYHdkdM44LBsAdB8C/tQWHxy0qy8P2Xxemku7KKSY6XcO1rLliE8wCSL5+gThz24FfT//AAS+Yt8NfGKEkqNXQgZ6Ewrn+Q/Km9gR8r/tSeMTdftX+K9W1Czj1WDTtTSFbC5J8mVIFRFjYf3GKfMBjIZuQTmrlj4M+O37Xb3WtxRX+t6UJCgae6S1sISBkRwxsyrgcDCA4ONx71xf7Tmkvon7Q3xEt5AwZ9curkbhg4lkMo/DDiv1q+DWnaXpPwk8G2mibDpSaRam3ePpIpiVt/uWyWJ7kk0AflDb638Wf2UvGkdm82q+FNRhIlNjLJvtLlD32gmKVDyMrnBzggjj9N/2afj1ZftBfDiHXI4ks9XtX+y6nZITiKYAHcuedjAhh+IySprxn/gphpGkz/B3QdSuVjXV7bWEgs5cfOUeKQyp/unYjH3Ra82/4JdzTr4l8fxKW+zNaWjOAPlLh5AuffDPj8aANL9vL9qvV9I8QzfDbwfqEumC2RTrN/bkpK7OoZYEcfdUKwLEckkLkBWDeDfB79iv4jfGfw0mv6bHp2j6TMT9nuNZmki+0gdWRUjdiv8AtEAHtmuD+P73b/HT4hG+LG5/t++DbiTgCd8AZ7Yxj2xX7HeBk06HwT4fTSBCNKXT7cWYt8eX5Plrs247bcYo2A/Ij4pfBP4g/syeJ9On1UNp05cyafrek3DGJ3XrskAVlYZ6MFOO2K/Qb9i/9pG5+PHgi6stdZG8WaHsju5UXat1E2fLmwOAx2sGA4yMgAMAK3/BQiGwl/Zt1J7xYjcx39o1kZMbhN5mDs9/LMv4Zr5h/wCCab3Q+OuspEW+zHQJjOAfl4ng2k++Tx35PvQBkf8ABRP/AJOMm/7BVr/7PXK/CP4P/E79p3RNN8P6TPHF4V8MLJDDcahI0VnA8sjzOBtVi8pMhJwCQu0Egbc9V/wUT/5OMm/7BVr/AOz19ifsELZr+zB4YNts84z3putvXzPtMmN3vs8v8MUxHwL8dP2TfHPwDtIdR1qOz1LRJpPKXU9MkZ40c52rIGVWQkD0K9sk19Sf8E/f2ktW8XyXXw78TXkmoXVpbG50q9uGLStEpAeF2PLbdwZSecBhnAAr3/8Aa0TT5f2cfHw1MRm3GmsyeZjHnBlMPXv5mzHvivzs/Yba4X9qLwZ9nzybsSDnBT7JNnP+euKW4H3v+2j8I9c+MXwVbTPDUM95rdpfwXMNjDMsYuhnYyNuIXAD7+SOYx+Px9pv/BNb4tX1kJ5rnw5p0u3d9mub+QyZ9MxxMuf+BY96+hf2zv2vtW+Cd9Z+EfB6QJ4iurb7VcalcIJBZxsSqBEI2s5wT82QAB8p3ceDfDiX9rD42aYviXw/4g1mTSpHYRXst/DaQSsrYYJGSu4AgjIXblSM8YpajPBvE/hfx1+zT8TI7a8a48OeJ9OZbi3ubSYEOhJ2yIw4ZGwQQevKsOor9LW1DVf2tf2NS+mfZINf8QaesEgmYxwLcxThZegYqpaJiBzwRX55/tNQ/Fm18XaZb/F4vJrUNkI7OZ/szb7bexGHg4b5i33juGecV9/f8E8XY/sy6SGYkLf3gUE9B5pPH5mlLa4I+JPir+w98Qvg/wCAtU8Xa5daHJpeneV5y2d3I8p8yVIl2qYwD8zrnnpmvM/g78H9c+OHjJfDPh6Szi1FreS5DX0rRx7UxnlVY55Hav0+/bwOf2U/HH/bj/6XW9fFX/BOX/k4+H/sE3X/ALJVJ6aiPfv2Pf2PvHPwJ+K1x4j8R3Gjy6fJpk1mFsLl5JN7PGw4aNRjCHv6V51+3f8AtYavqPirUvht4UvpdO0jTm8jVry2fbJeTY+aEMDkRpnaw43MGB4Az+jNfhx41Zpfitrza2SHbWpzfHnOTO3me/r70J3Hses/Cb9hf4mfF3wnbeI7JdL0LTLsb7Vtbnkie4j7SKiRudp7FsZHIyCCeL8f/DP4h/ssePrA6gZtD1ZP9I0/VtNmJinAOGMcgxnGcMjAHDDK4YZ/ZyzW3js4FtRGLURqIhFjYEx8u3HGMYxivkz/AIKYJp7fAnSXuQgvl1yEWhI+fJhm3ge20c9uF74pJ3Cx6D+yH+0Z/wANC/DuW41BI4PE+kOltqccQAWQsCY51H8Ifa3HZkbHGK+FP+Cg3/Jzmuf9edn/AOiVr0n/AIJdtdjx543VM/YTpsJl9PM807P0Mn615t/wUG/5Oc1z/rzs/wD0StCWodDL+EvwT+KP7Vel2FlYXkUPhbw1H9gt7jUpWjs7Yk72SNUVi8h37mOCeVBYDaKxvjx+yn44/Z+SC712K11DRbiTyotV02Rnh3nJCOGVWRsDPIx6E4r9Fv2G1sF/Ze8F/YNpUpcmYr1837TLvz75/TGOMVc/bQi0+T9mPx0dS2+QtrGYi3abzo/Kx779tF9QseNf8E+v2lNV+INtfeAPFF49/qemWwutNvp2LSzW4YK8bsfvFCyYJ5IJ/u15b/wVBUj4p+EcjH/ElP8A6PevP/8Agn012v7UXhz7MMwm2vRc/wDXP7O+P/H/AC69E/4Ki/8AJVPCH/YFP/o96PtB0PoX/gn/AKja6P8AsrWt/fXEdpZW13fTT3EzBUjjVyWZiegABNfBv7Vfx+uf2gfifc6pGzx+HbDda6RbNkbYQeZSD0eQjcfQbV521cu/2h5tM/Ze0f4WaJJLBLc3lxdazcLlcxGTMcCnuGxuYjsFHOWFUPHPwAvPh18AvC3jfWklt9V8SagRbWb8eVZiIsjsP7zn5vZdvckUJWdwPq//AIJY/wDIr/ED/r8tP/QJK8f/AOCgXx117xd8WNV8Cw3k1p4W0Jo4jZxuVW6n2K7SSAfe2ltqg5A25GCxr1//AIJY/wDIr/ED/r8tP/QJK83/AG/P2bfEmj/EfVfiJo+nz6p4a1VVuL2W2Uu1jKqBXMgAyIyFDB+gJIOOMr7QdDlfhd/wT9+IHxL8F6b4nbUdI0Ow1KFbm0ivJJHmeJuVdlRCFDDBHOcHkCvIvjl8GtS+BPjp/C+q31rqN0ttHc+fZ7tm184HzAHPFe2/CP8A4KH+Mvhl4H0zwxd6FpviG10uBbW0uZneGZYVGERtuQ21cKCADhRnJ5rxj4/fGm6+PfxAfxVeaXBpEzW0Vt9mt5DIoCZ5yQOuapX6iP04/Y4/5Nm8B/8AXnJ/6Okr2avGf2OP+TZvAf8A15yf+jpK9mpFD4+CT6DNfAf/AAUf+BvlXNl8T9Kt/kl2WOshAMBh8sEx4zyP3ZJP8MY9a+/Okf1NYXjXwfpvj/wlq3hzWIfP03UrdreZOhwRwwPZgcEHsQDTA+JP+CcvxzgsrDWvh7rd4kENukmq6bJM+FVAM3EeT2H+sA/66HtXzB8XvG2q/tGfHXUNQsIpLqbWL9LHSbXGCItwjgTB6EjBPbczGuY+IXgvV/hJ4/1zwxfu8Go6bNJavJExXzY2XAYYP3ZI3Bx/dfB719Tf8E4fgx/b/i3UfiJqMG6x0bNnp24cPdOvzuP9yNsfWUEcrTJPuP4PfDSx+EPw20LwnY7ZE0+3CzTBcefMfmlk5/vOWOOwwO1fKX/BUIAeGfAPAH+mXf8A6BHX2/XxB/wVC/5FnwD/ANfl3/6BHSQ2M/4JhBB4X8fs52qt3akknGBskrwj9sP48z/Hv4nxaJ4daW88NaVMbTTYbbLm+nY7WmCj7xY4VBz8uMYLEVwvgP456h8O/g/4x8IaP5ttf+JbiFZ75cDy7VUcSIpznc+4LnH3d3cjH0d/wTy/Z1GrX/8AwtHXrYNZ2jtDocUnSSYZWS4I6EJyq9fm3HgoDTEfMfxx+EF18EfFOneHdQuPtGqNpkF5ehcbIppNxMa46hQAue5BPAIA/ST9hmMn9ljwU2Rg/bf/AEunr40/4KJ8ftGTf9gq1/8AZ6+y/wBhj/k1nwT/ANv3/pdcUAfB37cox+1L424x/wAeX/pDb19y/Cb4i6T8KP2PvC3ijWZNtlYaLG/lqQHmc5CRJn+JmwB9cngGvhv9uf8A5Om8bf8Abj/6Q29cz8SvjVqPxE8D+BPBNnHNDovh2yjhFt1a6vCCGkIBOcA7UHXBY/xYDA0PDejeKf2v/j4/2mUm81Wc3N5OOY7CzUgHaP7qLtRQepKgnJJrzyws007x7b2sZZo4NTWJS3UhZcDPvxX6gfsf/s9j4G/DlJtTgC+K9aVLjUWYAtAMfJbgj+4Cc+rFuSAK/Mb/AJqX/wBxf/2tQI/bKiiiqGFFFFAGFRRRXQYhRRRQAUA4NFFACOuOR0NUviL4yi8AeBNU16RVd7WDMMbdHlbCop9txGfbNX0BY7cE54wK8i/bIkmsPhfpdvnb5+pxK4HcCKQ4/MA/hUyZSPk2ztdX+Ifi6OBGe/1nVbnG9zy7seST2A5J9AK+4vhh+z74a+HunQFrGDVNX2gy6jdxhzu7+WpyEH059Sa+eP2N9Jiv/ivPcyqGax02WaIns5dI8/8AfLt+dfbgHrWbZSRQu9B0/U7U217ZW95bkYMM8SuhHpgivlz9pH9nDT9A0ifxX4Ut/stvB819pyZKKhP+sj9AD1XpjkYwa+s6q6rpsOs6XeWFyoe3uoXglU91ZSpH5GkOx8L/ALMPxKm8DfES00+aUjSNZdbSeMn5VkJxFJ9QxwT6MfQV95delflmjyafeK8b7ZoJMq69mB4P5iv1KtZfPtopcY3oGx9RmmxIkAxXIfGFwnwo8YZ76RdAf9+mrsOtcL8Y5fM+GXi4D7q6TdAf9+mpDPgv4Wf8lO8If9hiz/8ARyV+jYGK/OX4Wf8AJTvCH/YYs/8A0elfo1TZIoJByDg1Itw3RsOPRhmoqKkaLGYj1Qrnupo8lW+5Ip9m4qFWx7j0pxGPcUDsSLayFwpXGe/arv2RCiqcnAxmqlpJ5coycKeK0aTA/Ob9tr9jzVNH8Q6l8QPBdjLqWk38huNS021jLS2kp+/Kijlo2OWbHKkk/d+74F8H/wBqP4gfBK0NhoGpxXGjli/9l6jF51urE5JXkMnfIVgCSSQTX7GXTRuQhYgjuBmvNPF37O3w58d3kl3rPg7RtQvJDmS5WARTOfVnTax/E0Afnz4r/wCCgnxW8TabJZ20mkeHvMG1rjSbRhKB3w0ryYPuMEdsVyP7OPwM8afFvx5pOq6Xp8p0my1CK5vNYvMrANkgZgHP33OPurk5Izgc1+juk/srfCjw/dCe38A6QZQQR9rhNwoI9BIWH6V6fa2sNnBHBBEkEMahUijUKqgdAAOAKLAcR8eh/wAWL+Iv/Yuaj/6SyV+WP7Mf/Jwfw/8A+wxb/wDoVfsDqWm2us6ddaffW8d3Y3cTwT28yhkljYFWVgeCCCQR71xukfAf4c6BqlrqWm+CNBsL+1kEsFzb2EaSROOjKwGQaYzu6KKKACqesf8AIIvv+uD/APoJq4AScAZNWVskeNlmUOrAgoeQR70N2A/EH4bDPxF8LA/9BW1/9HLX7jqoUAAYA7V55afs6/C+wuobm2+H/h2C4hdZI5Y9OiDIwOQwOOCCM16JWbZSCiiikB8R/tw/tX+Kfhr4l1D4e6BBp8VtqGkIZ9RkRzcw+b5iuqfMFB2hcNg4ye+CPm79iD4aXfxC/aA8P3S2zSaXoEo1W8nKnbGY+YRnpuMuzA64Vj/Ca/TTxn8DfAHxD1Yap4k8JaXrGohBF9quoA0hUdAT3AroPCngzQfAuljTfDujWOiWAYv9nsIFiQserEKBk+55p3FY4P8Aaq/5Nx+If/YIl/pX59f8E+P+TnND/wCvO8/9EtX6oaromn+JNLu9M1Wzg1DTrqMxz2tygeOVT1VlPBFc34X+CfgDwVq8eq6B4N0TRtTjVlS7srGOKVQwwwDAZ5BxSuM+PP8Agp78OtVupvCvja1tpLjSraB9NvZYxkW7F90Rb0DFnGemQBwWGfOv2Wf24bT4EeApPCWteGp9Us47iS5trqwmVJBvILI6tweckMD3xjvX6b3dtBfW0ttcwx3FvKpSSKVQyOp6gg8EV5RJ+yX8HpdS+3N8PtGE+d2xYisX/foHZ+G2lfuKx+dX7VH7R+vftHPpGpN4fk0Hwjp0s0FjuJk86dgpctLtClgoT5F+7nqd2a+nP+CXv/JOPGX/AGFo/wD0SK+pta+EPgjxHo+m6TqfhLRr3S9NBFlZTWMZhtgQARGmMLwB0Har3g/4feGvh9a3Ft4Z0HT9Bt7hxJLFp9usKyMBgMQoGTjii+lgsfDH/BRL9nXVG8RN8UNCs2u9Ont0i1qOBCXt5IxtWdvVCgVScfKUBP3uPIPgd+3D44+C3hyLw79msvEeh24P2aC/LrLbA87UkU/cySdrA46AgcV+srKGBBAIPBB715X4g/ZX+Enie/e8v/AWjm5dizvbQm33seSWEZUEk9zQmFj8vfjD8dPHP7TnivT01GE3DIxh03Q9IhdkVmP8CZZndsAE8k44wOK/Q/8AYy/Z8ufgP8Npf7ZjRPFOtyLc6giMG8hVBEUG4cEqGYkjI3OwBIAJ9U8CfBjwN8Mi7eF/C2maLM67WuLeAecy+hkOWI9icV1siFPcetO4H56/t9/sxarH4nu/iZ4Zspb/AE68RW1i2t03PayIoXz9o5KMoG4gfKQWJw3HlXwP/bh8cfBjw5B4dNtZeI9Dt8/Zob8us1up/gSRT9wHPDA4zgEDiv1bIyMHkV5h4k/Zh+FXi3UHvtT8C6RJduSzywQm3Lk9S3lldx9zzTuFj8yPjT+0R46/aX1rTbTU40FvFJtsND0iF/LMrcBtuWaSQjAySe+0Dcc/eX7En7N958DvBl7qniCMReKtd2NPbgg/Y4FzsiJHViWLNjj7o/hyfX/AvwU8CfDOYz+GPCmmaRdEFTdQwAz7T1HmNl8e2cV2tFwPy3/4KJ/8nGTf9gq1/wDZ65X4J/H34h/syafaXtjYpc+FfEQe6htNRRjb3LRuYXkidSCrqybW56BcqRtNdT/wUT/5OLm/7BVr/wCz19b/ALH/AIQ0Pxt+yF4M0zxBpFlrWnub1jbX0CypkX1xggMDgj1HNMR8OfHz9rrxn8fbKLStQS10Xw/FJ5o03T92JmH3TK7El8c4AwvQ4yAa+i/+CeP7Pmp6Hc3XxK1+zlsVuLY2uj2867XkRyC9xgjIBACqe4ZzjBUn6Y0H9mD4U+GdTXUNP8CaOl2jiRJJofOEbA5DKHLBSDyCAMYHpXp4GBgcCgD80v8Ago38PNU0b4vW/i020j6LrNpFEt2BlEuI1KtET2O1VYZ65bGdpx0nwD/4KGaf8MPhfpHhPXfCd1fTaRF9nt7rT7hVWaMEld6sPlYZAJBOeuB0r9A7/Q9O8SWFzpurWFtqen3CbJrS8iWWKRc9GVgQa88tP2S/g7Y6ib2L4e6K02c7ZoTLF/37YlP0qZW2Y0fmJ+0v8Z/Efx68YWHivWtFbQtNltPI0m1+Zk8hXbcwkKr5h3lwWAAyMfw19/f8E8f+TZ9L/wCwhd/+jK9n8U/B/wAD+N5rSXX/AAlo2sSWkIt7dryyjk8mMHIRcjgc9BWz4W8I6J4I0hNL8P6VaaNpqMzraWUKxRhmOSQo4yTSvoB4z+3h/wAmpeOP+3H/ANLrevir/gnJ/wAnHw/9gm6/9kr9P/EnhnSfGOi3Gka5p1tq2l3O3zrO8iEkUm1gy7lPBwyqR7gVz/hX4MeA/A2rDU/D3hDRtF1EI0YurGyjik2nqu5RnBwKL6DOzr80f28v2X9V8LeNdR+IXh3Tpr3w3qrNdal9nQH7BcH77sBzsc5fd0DFskZXP6Wk4pkiLKjI6h0YYKsMgj0pJ2A/Kn4N/t8eO/hN4Us/Dc1lp/iXSrGLybM3xdJ4EAwsYdTyi9ACMgAAEAADgvi38bvH37U/jHTIb+D7XOrGHTdD0iBjGjNjO1MszMcDLEnp2AxX6fa9+yp8I/Et+95feAdHNw5LO1tEbcMT1JEZUEn1xXTeBPg/4J+GKv8A8It4X0zRJJFCvPbW4EzjsGkOWI9iaq6FY8x/Y0/Z4l+Afw2casir4p1tkudSVWVhAFB8uAMODsDNkgkbmbBIwa+Hf+Cg3/Jzmu/9edn/AOiFr9ZEhJ5PAr8nf+ChQC/tPa6B/wA+dn/6IWkndgzN+Cv7RHxI/ZZ0+z8vTUvPCuvIb+2stTRvIm52NLBIp+VsqFYc9Blc4NZ37QX7XPjT9oWC307VBbaPoFvJ5qaXp+7Y7jo8rMSXIycdAPTPNfoL+y94J8P+Pf2TPAWmeI9GsdcsDaO32e/gWVQ3nyfMNw4PuOa7Tw1+y/8ACjwhqiajpfgPR4b1GDxzSw+cY2ByGTzCwUjsRjFHMgsfN/8AwTr/AGdNU8HRX3xG8R2Uljc6jai10q1mUrIIGIZ5mU9N21AvfAY9GFecf8FRDn4qeEP+wKf/AEe9fpPXJ+MfhL4L+IV7Bd+JvC2k69dQR+VFNqFokzImSdoLA4GSTU82twsfmB+xN+zkfjl8RhqOr2xfwfoTpPfeYvyXcvWO3HrnGW/2RjjcDX0n/wAFRUCfDXwUqgKq6rIAAMADyTX174T8E6B4D0s6b4c0ey0LTzIZjbafAsMZcgAttUYycDn2FQ+Mfh74a+IVpb23ibQdO8QW1u5kii1G3WZY2xgsAwODjine7uB8cf8ABLH/AJFf4gf9flp/6BJWP/wUU/aVMkjfCvw5dkKhWXXbmF+GPVLXPtw7++0dmFfbng34deFvh3DdReGPD2neH4rpladNOtlhEpXIBbaOcZP51z19+zr8LtUvbi8u/AHh27u7iRppp5tOid5HY5ZmYjJJJJJPXNF9bgfGH/BPP9mW28TvcfEnxXpsF7pCb7XR7O7jEkc8mSss7KRgqvKLnPzbzgFAT5h/wUF0LTfDv7Qs1ppWnWmmWv8AZdq/kWcCwpuO7J2qAM+9fqxpGkWOgaXaabptpDYafaRrDBa26BI4kUYCqo4AArl/FfwX8B+OtWOqeIvB+i63qJRYzdX1lHLJtHRdzDOBk0ubW4WOE/Y2gWX9mHwCejfY5Of+20leuuhjbDDBo0DQNM8K6PbaVo1hb6ZplspWC0tYxHFGCScKo4HJJ/GrsihxyM0J6jM+7njtIHlmkWKGJC7yOcKoAyST2Ar87fEH/BSzxXZ+LteXRtD0a+8PG6ZdMN3HKswhX5VZiHGd2N+CMgsRngV+jE0TIxJ5B715b4n/AGZvhZ4x1CS+1XwNpE15IxeSaGEwNI3csYyu4+5rS4H5a3Evjv8Aav8AjCZPLOq+JNWdQViQpb2sK4UHv5cSDGTz68sef1o+Efw0074Q/DvRfCemfPBp8O15iMNNKSWkkPuzFjjsMDtVrwR8NPCvw2sntPC/h/T9Dhkx5n2OBUaXHQu33mPuxNdLQAV8Qf8ABUL/AJFnwD/1+Xf/AKBHX2/XPeMPh34X+IMNtH4n0DTteitWZoE1C2WYRk4BKhgcZwPypAfkT+zt8EdQ+PXxLsPD1v5sGmp/pGp30YH+jWyn5iCeNzHCqMHlgSMA4/YjQ9FsPC+i2OkaVbJZ6dYwpb28EYwscagBVH4Csnwf8OPCnw+F2PDHhzTNAF3t+0f2dapCZdudu4qBnG5sZ6bj610LGqJPy5/4KIf8nFTf9gq1/wDZ6+zf2GP+TWfBP/b9/wCl1xXo/in4OeBvG+qnU/EHhHR9Z1AoIzdX1kksm0dBuYZwM1v+HfDeleENGt9J0TTrbSdLt93k2dnEI4o9zFmwo4GWYn6k0wPyp/bn/wCTpvG3/bj/AOkNvXpv/BP/APZ2/wCEw8R/8LF161DaLpE23TIZU4uLtcHzRnqsfY/38c/IRX3L4j+CPw/8X6zcatrfg3RNW1S42+deXljHJLJtUKuWIycKoH0Arp9E0LTfDGkW2l6RY2+madbLshtLSMRxxjOcKo4HJJ/GgC6TX4j/APNS/wDuL/8Atav23rz7/hnn4Y/a/tX/AAgPh77Tv8zzf7Oi3bs53Zx1zzmgDvmQr9PUU2ps4pCoPt7incCKilKEe49qSmBhUUUV0GIUUUUAFKql2CqCWPAA70IjSOFQFmJwAO9dLpWkrZKJJMNOfyX6VMpWGlcbpOkC0AllAaY9B2X/AOvXg37cIH/CutDPf+1VH/kGSvo2vD/2s/BGu+O/A+k2egabLqd1DqImeOIgFU8qQZ5I7kfnWF7u7NOh4n+xR/yUnWf+wS//AKOir7Or5c/ZV+FXizwJ461O917RLjTLWXTWhSWUqQz+bGccE9gT+FfUn05NUwQdKAvr+VKBj60tIZ+WF7/x+T/9dG/nX6j6YM6baf8AXJP5Cvz8uv2eviLJdTMvhS8Kl2IO5PX/AHq/QawRobG3RxtZYlDA9iBzTbJQt1L5UWB95uBXCfFkY+Fvi/8A7BN1/wCimrsJ5PNlLdug+lcz8SNOudY+H3iWxs4WuLu5024hhiXq7tGwUD6k0kDZ8D/Cz/kp3hD/ALDFn/6PSv0ar4e+HnwP8daT4/8ADN9d+G7qC0ttTtpppWKYRFlUsx+bsATX3DVMAoopwGKkewAYpwbH0pKKBbj/AHHSpYXYq67j93I5qAHaant8GQY6HigZFTJBhs+vNS4xSOMrn0pXARJpEGAxx6HkU7zUb78Y+q8VFRTGS7Im+65U+jCkNu+MgBx6qc1HQCQcg4NAAQQcEYNOjjaRsKK5fVvi14c0LU59PvL+Wae2ANytrZTXQtwenmNGjBP+BEHvXW6Nq2n65plvf6bcRXdjcLvingYMjj1B/Sk3YCxFCsQ9W9akrH1zxhovhvUdJsdTv0s7rVpjb2SSK2JZBj5dwGATkAZIySAMmthyI1LMQqgZJJ4AqCgorm7D4jeHdT8KXniW01JZ9DtBKZrxInKgR53kDblgMHkA57ZrET46eDpEV0u9SZWGQw0S+II9f9TRZgd/RVHT9as9S0iLVIZStjJH5wlnRocJ3LK4BX8QK46T47+CoyXOqTGyDbDqK2NwbTdnGPPCbPxzj3osB39FZWp+KtG0bQjrV7qdrbaSEDi8eUeWwP3cN3z2x17Vydx8fPBNlbvcTajexwINzTNo975YHru8nGPfNLVhc9FjGCR3pxNY9x4o0yw1TSNPnufLvNXMgso/LY+bsTzH5AwuFGfmI/OrGv69Y+F9GvNV1Of7NYWkZlmm2M+xR1OFBJ/AVIF+isHxd450XwLa2txrV1JbR3U32eERW0s7PJtLbQsaseik9O1Ydt8a/Cd3cxQRXOpGSVwihtFvVGScDJMIA+p4oswO6ork/E/xU8NeD9aTSNUvLiPUXtxdC3t7C4uD5RZlDExRsANykc+nuKk8MfEzw14wv5LHS9SEl/GnmtZ3EElvPs6bhHKqsV9wMUWYHUUUVm6F4i0/xLbT3Gm3H2mGC4ltZG2Mm2WNirrhgOhBGeh7UAaVFZEPizSbnxPc+HYrxZNZtrdbua1VWJjjY4BLY2gk9s5wQcYIqp4q+IOg+C5LeHVb7y7u4BMFnBE89xKB3WOMMxHvjHvQBvPCDyvB9KhIIODwaw/CvxJ8O+M7qe00y/LX9uA01jcwyW9xGPUxyKrY98Yo8WfELw94PuLe11S9IvrgbobK2he4uJB6iONWbHGM4x709QNumk5rnvDHxB0DxnNcwaTqAmu7bBns54nguIs/3o5ArAcjnGPeoPE/xM8O+D9Uh03VLueO+mhNwkFvZT3DGMNt3fu0bAzxzTEJ4i+FXgrxfqJ1DXvB+ga3flBGbrUdMguJdo6LudScDPTNbWhaBpfhfSoNM0bTbTSNNg3eVZ2ECwQx7mLNtRQAMsSTgckk96xvDHxK8PeMNTm0/S7ueS9ih894bixntyI923cPMRc88cVmz/Gzwhb317Zm+vJZ7O4ktZxBpV3KqSo2113LEQcEdjVJA2d1SE4rD8MeNNK8YRXEmlyXEiwELJ9os5rcgnOMCVFz07ZrG1H4w+FdL1S80+e8u2u7OTyZ1t9MuplR8A7dyRFc4IPB70yTvbVSuXPcYFWAc1z/AIO8aaP4406e70a5kuIbac2s3m28kDJKFVipWRVPR1PTHNZuu/Frwx4e1WXTJr2a71GEBp7XTbSa7eAdf3giVtnHOGwaVh3OzorG8LeMdF8bae17omoRahbq3lybMq8b/wB10YBkb2YA1gal8aPCWlate6bPfXj3llJ5Nwlvpd3OI3wDtLJEVzgg8HvWdmUdxSE4rC8LeOND8bW082iajHeiBgk0YDJLCx6B42AZDwfvAdD6VN4o8U6X4M0O51jWrtbHTbYAyzsrNtywUcKCSSSBgCgDVoqOyuYtRtYbm2cTQTIskci9GUjII9iDVfSdd03V9Q1Sxtbjz7vTJVgu49jL5TsgcDJADfKwPGRzSAvJGX+nrUyRhOnJ9az77xJpum65pmj3Fx5eo6msz2kOxj5giCmT5gMDAZepGc8Zpun+JdO1XWNV0q0ufNv9KaNLyLYw8oyIHTkjBypB4Jx35pAahOK5DxF8IvAvi/VJNS13wV4d1rUZFVXvNR0qCeZgBgAu6EkAcDmtbUPFukaV4h0rQrq9SLVtVEhs7XazNKI1LueBhQADy2M4wMmqWs6y+rz6noWg6rFZ+JLGOC6ZZ7dpI1VmJVXyACrhHU7TuGc8HFIDX0XQ9O8N6Xb6bpOn2ul6dbrths7KFYYYhknCooAAySeB3q7XHWXiWfw5qFpZ+LtYsE1XW7oxaZYWMT7QFQFlDEbm7ku2ANwHpnsaACiuFvfjd4PsNSvrCS+vJLqyna2uFt9Ku5ljkXqu5IipIyOh71v+FPGuh+OLKS70PUYr+KJ/LlCgq8T/AN10YBkPswBp2YG3SntSVxmufF/wtoWqz6bLfT3l9bHFxDp1lNdm3/66eUjBPoefala4HZ0hUGsjwx4u0fxnpa6jomoQ6jZsdvmRHlW7qwPKn2IBrJ8WfFbwr4KuLa31fXLK1uJ7hLcQGdN6Fjje65yqDux4HenqB1h46H86Tce9VNK1iw12zS702+ttQtX+7PayrKh+jKSK5XWvjJ4T0DXb3Rru+ujqVlsFxDbabdXHl70Drlo42XlWB60AdruAFM3+1c54Z+Imh+M7ma20qa7kmhTzHFxp9xbDbnHBljUHk9Ac1zy/H3wO8bSLqd20CsyGcaVeGIEEq2X8rbgEEE5xxWkYibPR+GHsarTW+OU5HpWS/jnQYfCUvicanDNoMURna9t8yqEHBOFBJweMAZrnl+O/g5lBF1qZB5B/sO+/+M1NmnoO52FFOsLq31zT7a/sy7QXEYljMkbRsVIyMqwDKfYgGs1vEFgniRdA+0Y1Z7Rr4QbG5hDhC27G37zAYznnpiqWoGgSF+vpTSSTzWZ4h8TaX4Ujs31W9js1vLmOztwwZjLM5wqgAE8+vQdTgVJc65YWmu2WjS3ATUr2KSaCHYx3pHt3ncBgY3L1I68UxF48U2s7xR4m0vwbpf8AaOs3qWNn5qQiRlZizucKoVQSST6Dpk9Aa1fIb1FMRHRUvkH1FH2c/wB5aLhYippOTUxt2/vL+tJ9mb+8v60XCxDRU32Zv7y/rR9mb+8v607oLENITU/2ZvVaabVj3WkFiHpRweo/EVN9lb+8KX7If7wqroLHMUVLMNwEg6N19jUVdJiFOjjaaRURSzMcAClhheeRY41LMegFdPpmmJYJk4aY/eb+gqZSsNK43S9KWxTc2GmI5b09hWhRRXO3c0CkJAGTwKR3Ce5PQDvTQhY5f8F7CgBDmYY+6nr3NQldhx6VbqOVNwz3FO4yEDNKBiloo3AKrXku1Ng6t1+lWWIRSzdBzWZJIZXLHqaEJjKKKKYgoopwGKB7ABiloooFuFFFFAwqSJvLcN700DFLS3ESyriRsetNxnj1p0xw4YfxKDSABuR+VIogop0gw59+aEQu2FGTVANpb3dYabdXZTe0MTyLH6kAnB/KrsNuIuTy3r6VIyhlIIBB4IPeob7DseE/BnVvFp+G2nXnh/w3Y3MU4e7u7rVr5ra41G5di0roqxuAN2VDORkKOAMGvV/Avimz8YeG7fULO2exXc8EtnKoV7eVGKyRsBxkMD069e9cjo/hDxv4E086H4au9EvdCiLCxk1czLcWaEkiMhARKFJ4yVOBgn06zwD4PXwN4Zg0v7W+oXO+S4uryRQjXE8jl5H2jhcsxwOwwOetDBHBfGvwzZ+MvHXw70a+DfZruXUVLxnDxsLRirqezKwVgfUCqEOt+I/HMafDbUY7i21S1Yx+INVWMok9iMbHiYcbrgfLx93EvAwK9D8S+ELjW/G3g/Wop4o4NElupJo3zukEsBjG3twTk5rqQihy4UByAC2OSBnA/U/nRcLHgek2sNh+zp8RbW2iSG3huNZjijQYVFEkgAA7AAV2egeN/FcehaaifDnUpUW2jCyLqdkAw2jnBlzz71JD8Mb6P4aeLPDRu7c3WsTX8sUw3bEFw7Mu7jPG7nFSafZ/EvT7C2tUbwo6wRLEGP2nJCgDP6UNiIPjGH1az8HaLchoNP1rWoLbUIQw+eMRvKYSR2ZkUHHUZA616PHZQJai2EMa24TyxCFAQLjG3HTGO1c34h8GN458HppmvyJb6hlJxdaazL9nuEO5JIi3III7+471iJafFWO2WxF94WlA+T+2JI5xMV6bzbj5N/t5gXPbHFC1AZ8SvB7W9r4RutH0SK+03w7qK3cmjWyImYhG6BokOFLRlgwXjocHOK4z4p/Gjw54v+EPiFdLXVLhLuykSK4/su4EBOcHMuzZgEEE5xkV6L4l8Ga3rXhPTfDv9vM9tIVi1fUpRsurmAD50jCAKpf7pPZc9Sc1N448Drrnw41LwrpQg0+Oay+yWwIIiiUABRgdgBQ7Ac34qOfid8Iv9+//APSFq2Pj3/yRrxd/14P/AEqLxl4K13VNZ8Iatoc+npeaC05MeoeZ5cnmQ+V/AM8Ak/lWb408L/Efxr4V1PQrmbwtbwX8JgeWL7TuUHuM8Zqewx3xwvLqw1P4fXFnYSandR68DHaRSJG0p+zzcBnIUfiRXQ6P4v8AE1/qdvb3ngO/0y1kbEl3LqFpIsQ9SqSFj+Ark0g8TfFfwX4K8R239k2OtWGoyXzwymU2zBfOhCjHzdCD9c109t/wsj7RF5//AAi3kbh5nl/ad23POM8ZxQByfiLWdU0b9oaWTStAuPEEr+FoVeG3uYYTGPtcvzEysoI7cHNMutcv9a+LXg258SeH5/CMNkbiOxmuWjuDe3MsTL5HmRFljAUFsMcuVAA+XnovEfg/xSvxLPinw9Po+x9ITTJINTEucrM8m4bP94D86SXwV4p8Xaxo83iu/wBJj0zSrtNQisdIhk3TXCZ8tnkkPCqTnaByRyaNAPRa8S8EeL28J+BNXFnAL7W7/wAS6jaabY55nnNw+M+iKAWZuyqe+K9trzX4Z/CJ/Bmv61rOp3w1K8ubu4exjUHy7KCWUyMFBH32JG5vRVHQUkMy/Ang9fB3xb8mWf7dqt14fNzqGoMuHurhrr5nPoB0Vf4VAHatL4N20ep3fi7xHdATaxda1dWbzPy0MED+XFCv91QFzjuWJPaup/4Rmf8A4WJ/wkPmx/Zv7K+weVzv3+dv3emMcVgaj4G17w94l1DXPBl7YxjU3EuoaRqocW0soAHnRumWjcgAH5WDdSMine4juJNKsptRh1CS0ge/gRoorpowZERsblVuoBwMj2rz74I20eo2OveJLlRJrWp6tdx3E7jLpHFM0cUI9FVVGB7k962vDWmeNJ9bGo+JNU0+2to0aOPSNHjZ4mJx88ksgDMRjgKqgZ71l3fgbxD4V1/UdV8E3enLb6pN9pvtG1YOsBmPDTRSRgsjNjLAqwJ54peQzu30qyfUo9Qa0ga/jjaFLoxjzFQkEqG64JAOPavP3tVuP2hTJGTutvC+11xx+8u8rz2P7puK09J0zx291d6lq2qaUky27xWejWKP9k8w4IeaZh5jHIA+VVwM8HNL4E8I6vpmsa34g8R3Npca5qpii8qwDeRa28YOyJC2GblmYsQMk9BihaCM8gj444PB/wCEd/8AbmuJ+G3ifX9Jm8Zwab4PvNct/wDhJ9Sb7VBe20S5MvK7ZHVsj6Y5r1VvC8z/ABD/AOEgMsf2b+yvsHlc79/nb93pjHFcVongzx34OuteXS5/D1xYahq11qUZuxP5iCV921tvHHFaJpisdx4d1O/1bTzPqWjzaHcbyv2WeeKVscYbdGzLzzxnPFct8IC123ja+bAguPEt35bL/EsaRQ/ziaoPE/iHxr4Z8HXd3cpobarLd2tnZG3ExhVppVi3SBuTguDx6VR8G+FviF4K8NWWjWsvhmeK2DEzTG5LyuzF3dvcsxNMRLoGrXOh+G/jHqdkubuz1O9uYFxn50sYGXj6gV1nwc0Ky0H4baAtniR7uzivbi6zue5mlQO8rNyWLEk5JPGB2rkfhpH4h0T4h+IvD2vR6Tc22sQya7I9l5h2uxig8rD9V2xk/U1paT4L8afDuCTTPCl9pOq+HldjZ2WuvNHNYqefKWZA/mIDnAZQQCBuOKh9hoXW7OHw58d/DF5pyCGbxDZ3dvqkcfAlWBFeKZh0LKTs3dcOB0FYHhDxLrujeMviJFpXhK78QQPrhZp7e8t4QjfZ4RtIldSTgA5AxzXbeEfA+o2niG58TeJdSj1XX5oBbRJbRGO1sYc7jHCpJYljgs7HJwBwBWTp/g3xx4c8Q+JrvRJvD8tjq9/9uA1Dz/MQ+WiY+Tj+D9aV0Mp/D/ULjVPiz4gvtZ02Tw3rFzp8MNvpMoDtNbxO2ZzKuUdt0gXCk7QFyeak8a6xo/iH4o6T4e1bUbG10nQ4hq19FeToizXDZW2jIYjO0b5CPUR1v+G/A2uy+M08U+KdSsrm9trR7OxsNMgZIIFdg0jszks7ttUdgADwc8P8I/Cywsba/u/Edjputa9qV5Le3d1JbiVQWOEjQuMhERUUDjoTjmldAZPwO1yzt4db8G29/DqCeHbgLZzwzCUSWMuXg+YE5KfNGf8AcGetc9oXi3WfD3xN+JEWmeEb/wARRyalbs81pcQxiM/ZYhtIkYEnvxXdXPw2t9N8b6H4h8O29jpLW6TWmoQQwiJbq3cAgfKPvI6qwz2LCrnhPwjceH/E/i7U5p4pYtavIrmJEzujCwpGQ2R1ypPHrSugPO5vE+reI/jh8Pf7U8L3vhvybbVPL+2TwyedmKLOPLZsYwM5/vDHermk+J7Lwd8QfjDq1+zCC3n03EcY3PK5s0CRoO7MxCgdyRXbeIPB9xq/xC8JeII54kt9GivY5YmzvkM6Rqu3txsOc+tc9ZfB53+MGs+MNSvVutPmlt7mw01QdsdxHbiHzpOMFlAbb1xvJ4OKLoDmLfwreWXxK+H3iPX0U+KNYv7t7hQ25bKEWE/l2sZ/uoOTj7zlm7ittfENh4T+LfxE1jVLhbXT7PRtOlmlbsAZ+AO5JwABySQBXaeI/C0+teK/CWqxTRxw6Nc3E8qPndIJLeSIBfoXB57CuZvvhFJrHxel8VX98kmjCC3KaWoP725hLeXJJ2KpvZgP720n7oounuByOp6BfXXiHwP4v8QQGDXdT8Rwxw2r8nT7MW1yY4B6MeHk9WOOiivea5rxl4Wn8S3nhiaCaOIaTqyahKJM/Oghmj2rjvmQHn0NdLUt3GeGfD3xNr2ja38Q4NL8H3niC3bxRdO1zb3ttCqt5cIKbZZFOQADkDHzfWtv4ZX82ofE/wAWXusWDeHdcvbW28vRZVBdraIuouDKvySEtJtO3OwBQSc1No/g/wAdeEdW8Svo0/h6ax1fVptTUX3n+ahdUXadvHRB+ZrY8L+Cta/4S+TxT4o1CzutUW0NhaWmmQtHb20TOHc5clndiq8nAGOBzVNoRq/E3Wbvw98OvE2qWDbL2z024nhfGdrrGxDfgefwqL4ZeHrHwz4E0az09B5bW0c0kx5eeR1DPI7fxMxJJPvXS3drDe2k1vcRrNBMhjkjcZVlIwQR6EGvMtK8I+OvAFp/ZPhm90bWdBiBFlDrrzRXFmnaLzI1cSIvbIBA4ycVK2sMsfGq4Pgr4YeKdW0NIdK1K6MImvoIwr5kljhaViMEsqMSCTxiuZ+Jfw88OeEND8EWmlaRaW6N4q0tJJfKVpZ8y4JkcjLk9ySc16HoXhbVLnRNTtPGGpQa+2p5Wa0htxFawxldpijBy5HqWYnPPFcD4t+CXiOa00Gy0HxleNpunata3kdpq0cU5tkjbIKSbA77OMI5IOACe9Un5iL3iLQNP8B/FbwbqHh6CLTJ9duJtP1GxtFEcV3EsLyCVkHG6NhncBnDEE4rM0jxBrWifGX4mrpXha68RJJPpxke2u7eHyiLNMAiV1zn2z0rvfDPw4j0fXDruq6vfeJdd8swx3l/sVbeM43LFHGqomcDJAycdccVhN4P8aaH4+8V65oM+gyWeuPbSeVqIm8yMxQLH/BxyQTRcDsPCuuatrUVw2reHLnw60ZAjS5uYJzKDnJHlO2McdfWvIfgj8VvDnhr4a6fpt7JqBvobi83RW2lXU4JN3MwCukZUkgjoevB716v4Z/4S/7VL/wkX9ifZtn7v+y/O37s/wAW/jGM9Kg+Fng+48BeB7HRLueK5nt5biRpIc7SJJ5JBjPPAcD6ijZAeUavpV3afAz4palPpcuh2msz3GoWenTrskiiZI13On8DOysxXtu5rvdP8c+MBY24X4aam6iNcMNUsRngc/66ui+JHhS48b+A9c0K1mjt57+2aBJZs7FJ7nHNY1tD8T7a3ihU+ESEUKCftXOBii9wO+jXdGpKlGIBIzyD6V5NrF9baV+0ILu8mS2tLfwhcSyzSNtVEW7jJYnsABmvU9M+2f2fbf2h5H27yx5/2bd5W/HO3dzjPTNea+PfhE3jT4maZrd3eINDhsPsl5pwBzeYlEqo/GPL3KhI77cdCaIvXUGcP4w06Xxjp1j461SFow2radDodpMMG2tWvIczEHpJNgE9wm1f72e08UyJb/G/wdJK6xxppOpMzucBQDBkk9hXSePPDE/ivRLeyt5Y4Hiv7S7LSZxthnSQjjuQhA+tc58SfhTP8QvFnh68k1H7Jo9nFPBf20ZIku4nMbeVnsjGMBuclSR3rS4HDfEOF/iN4P1nxleIw0W18qLQLWRcblM8Ye8IP8T9E9E5/jr6Arm/H3hZ/Ffgu90SzaG1eYRLGWGEQJIrYwB6LiulwD3x9aQCUUu0/X6UlIYUUUUAFFFFABRSEgdTTTJ6D86AH0hcD3+lRkk9TmlVM8ngUAcxAwJMbHCvxn0PY0RW0k84hRSXzjHpRbW0l1KI41yx/T3rp7K1WzYqcNIwGXxy2K6pSsYpXDTtNSwj4+aU/ef+g9quUUhIAyTgVhuWLTGck7U5Pc9hScy+qp+pp4UKMAYFACIgXnqx6k06iigYUUUUAQumG46GgDFSkZGKgmfyUZj27e9AFW+m5EY+pqnSsxZiTyTzSVRO4UUU9Y2/uk/hQPYQDFLShCfb60uw55IFAtxtFP8AL9xR5Y9T+VFxjKcBTgij1/OnAD+7mk2AyipQAOwo/IfSi4CSDdFGfYimhXU5AI/Cp8loeucNTY4zI2BRcYq2rXIBUYx1qwluYlwEIHripoMRFQOB0q1WTkyjPII60VoU0op6qD+FTzAUaKumFD/CKYYY+gGT7GncCrQAT0qyLYZz09qDbZ/j/SndAV8AdT+VG704qY2rdmH40027Ajp+FK4EYGeT0prPk8VI8MnQLxUZicfwN+VMBpJPU04Nxg9P5U0gjqMUUwJY125p9RxdDUlJgFFFFSAUUUUAFFFFABRS7T6GjafQ/lQAlFLsb+6fyoKN/dP5UANJptP8p/7po8p/7tADKUDNO8phjIpxhf8Au8fWmBWli3gbeMdu1VmypwRg+laPkP6frSPZGQYYD65pqQrEVmf3R/3qnClzwKW3smiTDHIz2qYAK+AMcUmxjUiC8nk1JRSE4qAFppNBOaSgAooooAKKKKACiiigAooooAKKKKAEbpTac3am0AFFFFABRRQTigA705V3fSkRN3J6VLTYBRRRSAKr3Y+6fwqxUVyMxfQ01uBUooorQAooooAM4pd3rzSUhYD3+lADuD7UbfeozIe3FNoAkZtvY/jTC5P0oDsO/HoaUFWOCuPcUANClugzRg5xjmrQGBgU1/ukjg07CuQhQvXk+lBJJ5oopDHWOnpYRbEGWP3mPU0t4xRVx97OQfSiiqTuyCussgOdx/E1biUzKHbn0HYUUVT0EiXBowaKKi5Qu00wuF6nFFFNagNaZF75+gppuV9GooqrANN16J+tVLmfz8ccD9aKKqwEGPRQKUAnsPyFFFIB2W9T+dJg0UUAGDTghooqQFwaMGiigACk04LiiigBcGjBoooAkjUlXHqM1Zji8tcd+9FFRIaH4NWUyyg0UVmxi4poYt90Z9zRRQtrgLsJ6nPtS7cdqKKQBg0YNFFAAeBk0gU5yev8qKKfQBcGjBoopAGDTGQN1UH6iiigBywKB90ZNIYgR0AooouAKoORtGR14pdg/uiiimwF2+1G2iikAYNLg0UUAJg0YNFFABg0YNFFABg0jfKMmiihAAQ5yetLg0UUAOCGlCkmiikMfg1G65dM+4oopIbBoyBkc1Hg0UU0Jhg0YNFFMQYNGDRRQAYNGDRRQAYNGDRRQAYNGDRRQAYNGDRRQA1gc0mDRRQAYNIeKKKEAhyacI8IWP4CiiqAlCkAD0owaKKkAwaMGiigAwabKuY2HtRRQBRwaMGiitQA8daaWPYfnRRQA05PWkwaKKADBowaKKADBpypgbj07CiimBKsmRyMUjOT0ooouFhMk9QDRtB9RRRSA//Z)"
      ],
      "metadata": {
        "id": "YuF4lWKhdbUy"
      }
    },
    {
      "cell_type": "code",
      "source": [],
      "metadata": {
        "id": "3SpZHCTbdfe7"
      },
      "execution_count": null,
      "outputs": []
    }
  ]
}