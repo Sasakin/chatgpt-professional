{
  "nbformat": 4,
  "nbformat_minor": 0,
  "metadata": {
    "colab": {
      "provenance": []
    },
    "kernelspec": {
      "name": "python3",
      "display_name": "Python 3"
    },
    "language_info": {
      "name": "python"
    }
  },
  "cells": [
    {
      "cell_type": "markdown",
      "source": [
        "На основе записи диалога Клиента и Менеджера, используя материалы занятия, проанализируйте предложенные тарифы, пуш-уведомления и варианты оплаты, а затем составьте итоговый отчет на основе проведенного анализа. Ссылка на запись диалога Менеджера и Клиента:  https://disk.yandex.ru/d/IqOQeMnvd6YSKg"
      ],
      "metadata": {
        "id": "0hudJZT-yhRE"
      }
    },
    {
      "cell_type": "code",
      "source": [
        "#@title Установка библиотек\n",
        "!pip install -q openai==1.61.1 faiss-cpu==1.10.0 langchain==0.3.20 langchain-core==0.3.41 langchain-openai==0.3.7 langchain_community==0.3.19 tiktoken==0.9.0"
      ],
      "metadata": {
        "id": "9cm3I2Zl6JGL"
      },
      "execution_count": 2,
      "outputs": []
    },
    {
      "cell_type": "code",
      "source": [
        "#@title Импорт модулей\n",
        "import os\n",
        "from google.colab import userdata\n",
        "from langchain.text_splitter import NLTKTextSplitter\n",
        "import nltk\n",
        "nltk.download('punkt')\n",
        "nltk.download('punkt_tab')\n",
        "import tiktoken\n",
        "from IPython.display import HTML, display\n",
        "from google.colab import output\n",
        "from langchain.docstore.document import Document\n",
        "from langchain.vectorstores import FAISS\n",
        "from openai import OpenAI\n",
        "from langchain.embeddings import HuggingFaceEmbeddings\n",
        "from pprint import pprint\n",
        "import re\n",
        "import json"
      ],
      "metadata": {
        "colab": {
          "base_uri": "https://localhost:8080/",
          "height": 86
        },
        "id": "dWa79ltNWhc5",
        "outputId": "aa20ba1f-a2ad-4799-ae22-36db13107582"
      },
      "execution_count": 15,
      "outputs": [
        {
          "output_type": "display_data",
          "data": {
            "text/plain": [
              "<IPython.core.display.HTML object>"
            ],
            "text/html": [
              "\n",
              "  <style>\n",
              "    pre {\n",
              "        white-space: pre-wrap;\n",
              "    }\n",
              "  </style>\n",
              "  "
            ]
          },
          "metadata": {}
        },
        {
          "output_type": "display_data",
          "data": {
            "text/plain": [
              "<IPython.core.display.HTML object>"
            ],
            "text/html": [
              "\n",
              "  <style>\n",
              "    pre {\n",
              "        white-space: pre-wrap;\n",
              "    }\n",
              "  </style>\n",
              "  "
            ]
          },
          "metadata": {}
        },
        {
          "output_type": "display_data",
          "data": {
            "text/plain": [
              "<IPython.core.display.HTML object>"
            ],
            "text/html": [
              "\n",
              "  <style>\n",
              "    pre {\n",
              "        white-space: pre-wrap;\n",
              "    }\n",
              "  </style>\n",
              "  "
            ]
          },
          "metadata": {}
        },
        {
          "output_type": "stream",
          "name": "stderr",
          "text": [
            "[nltk_data] Downloading package punkt to /root/nltk_data...\n",
            "[nltk_data]   Package punkt is already up-to-date!\n",
            "[nltk_data] Downloading package punkt_tab to /root/nltk_data...\n",
            "[nltk_data]   Package punkt_tab is already up-to-date!\n"
          ]
        }
      ]
    },
    {
      "cell_type": "code",
      "source": [
        "#@title Чтение ключа OPENAI_API_KEY\n",
        "os.environ['OPENAI_API_KEY'] = userdata.get('OPENAI_API_KEY')\n",
        "#client = OpenAI()\n",
        "BASE_URL = \"https://openrouter.ai/api/v1\"\n",
        "API_KEY = os.environ.get(\"OPENAI_API_KEY\")\n",
        "MODEL = \"deepseek/deepseek-r1-distill-qwen-32b:free\"\n",
        "client = OpenAI(api_key=API_KEY, base_url=BASE_URL)"
      ],
      "metadata": {
        "colab": {
          "base_uri": "https://localhost:8080/",
          "height": 17
        },
        "id": "P9ajwYFVpFvM",
        "outputId": "e92755f4-1110-4e1e-bb61-8af2ee355016"
      },
      "execution_count": 11,
      "outputs": [
        {
          "output_type": "display_data",
          "data": {
            "text/plain": [
              "<IPython.core.display.HTML object>"
            ],
            "text/html": [
              "\n",
              "  <style>\n",
              "    pre {\n",
              "        white-space: pre-wrap;\n",
              "    }\n",
              "  </style>\n",
              "  "
            ]
          },
          "metadata": {}
        },
        {
          "output_type": "display_data",
          "data": {
            "text/plain": [
              "<IPython.core.display.HTML object>"
            ],
            "text/html": [
              "\n",
              "  <style>\n",
              "    pre {\n",
              "        white-space: pre-wrap;\n",
              "    }\n",
              "  </style>\n",
              "  "
            ]
          },
          "metadata": {}
        }
      ]
    },
    {
      "cell_type": "code",
      "source": [
        "#@title Объявляем общие функции\n",
        "\n",
        "# определение класса bcolors в Python, который используется для добавления цвета и стилей к тексту, выводимому в терминале.\n",
        "class bcolors:\n",
        "    HEADER = '\\033[95m'\n",
        "    OKBLUE = '\\033[94m'\n",
        "    OKCYAN = '\\033[96m'\n",
        "    OKGREEN = '\\033[92m'\n",
        "    WARNING = '\\033[93m'\n",
        "    FAIL = '\\033[91m'\n",
        "    ENDC = '\\033[0m'\n",
        "    BOLD = '\\033[1m'\n",
        "    UNDERLINE = '\\033[4m'\n",
        "\n",
        "# Функция load_document_text принимает один параметр file_path, который представляет собой путь к файлу.\n",
        "# Она открывает файл в режиме чтения с указанием кодировки 'utf-8', читает его содержимое полностью в переменную text, а затем закрывает файл.\n",
        "# Функция возвращает прочитанное содержимое файла в виде строки.\n",
        "def load_document_text(file_path) -> str:\n",
        "    with open(file_path, 'r', encoding='utf-8') as file:\n",
        "        text = file.read()\n",
        "    return text\n",
        "\n",
        "# Функция create_search_index принимает три параметра: data, chunk_size и chunk_overlap.\n",
        "# Параметр data представляет собой текстовые данные, которые необходимо индексировать.\n",
        "# Параметр chunk_size задает размер фрагмента текста, на который необходимо разбить данные, а chunk_overlap - насколько фрагменты будут перекрываться.\n",
        "# В функции данные сначала разделяются на части по разделителю '\\n\\n', предполагая разделение на блоки диалогов или абзацы.\n",
        "# Для каждой части определяется, кто является говорящим (Менеджер или Клиент), и этот тег добавляется к каждому фрагменту текста в последующих операциях.\n",
        "# Функция использует объект splitter (экземпляр NLTKTextSplitter), чтобы разбить каждую часть текста на фрагменты согласно заданным параметрам chunk_size и chunk_overlap.\n",
        "# Далее, к каждому фрагменту текста добавляется соответствующий тег говорящего (если это не первый фрагмент в части), и создается объект Document с этим фрагментом текста.\n",
        "# Все объекты Document собираются в список source_chunks.\n",
        "# Наконец, используя FAISS и класс OpenAIEmbeddings для векторизации, функция создает и возвращает индекс для быстрого поиска по текстовым фрагментам, хранящимся в source_chunks.\n",
        "def create_search_index(data, chunk_size, chunk_overlap):\n",
        "    source_chunks = []\n",
        "    splitter = NLTKTextSplitter(chunk_size=chunk_size)\n",
        "    parts = data.split('\\n\\n')\n",
        "    last_speaker = \"\"\n",
        "\n",
        "    for part in parts:\n",
        "        speaker_tag = \" Менеджер: \" if \" Менеджер: \" in part else \" Клиент: \"\n",
        "        last_speaker = part[:len(speaker_tag)]\n",
        "\n",
        "        for i, chunk in enumerate(splitter.split_text(part)):\n",
        "            content = last_speaker + chunk if i > 0 else chunk\n",
        "            source_chunks.append(Document(page_content=content))\n",
        "        embeddings_model = HuggingFaceEmbeddings(\n",
        "            model_name=\"sentence-transformers/all-MiniLM-L6-v2\"\n",
        "        )\n",
        "\n",
        "    return FAISS.from_documents(source_chunks, embeddings_model)\n",
        "\n",
        "# Функция num_tokens_from_string определяет количество токенов в строке\n",
        "#   string        - исходная строка\n",
        "#   encoding_name - кодировка символов\n",
        "def num_tokens_from_string(string: str, encoding_name: str) -> int:\n",
        "    encoding = tiktoken.get_encoding(encoding_name)\n",
        "    return len(encoding.encode(string))\n",
        "\n",
        "# Функция num_tokens_from_messages определяет количество токенов в промпте\n",
        "#   message - набор инструкций system, user и т.д.\n",
        "#   model   - модель GPT\n",
        "def num_tokens_from_messages(messages, model='gpt-4o-mini'):\n",
        "    encoding = tiktoken.get_encoding('cl100k_base')\n",
        "    token_counts = {\n",
        "        MODEL: (4, -1),\n",
        "        \"default\": (3, 1)\n",
        "    }\n",
        "    tokens_per_message, tokens_per_name = token_counts.get(model, token_counts[\"default\"])\n",
        "    num_tokens = 0\n",
        "    for message in messages:\n",
        "        num_tokens += tokens_per_message + sum(len(encoding.encode(value)) for key, value in message.items())\n",
        "        if \"name\" in message:\n",
        "            num_tokens += tokens_per_name\n",
        "    num_tokens += 3  # every reply is primed with assistant\n",
        "    return num_tokens\n",
        "\n",
        "# Функция answer_user_question загружает текст базы знаний из указанного URL,\n",
        "# создает индекс поиска для этого текста и затем вызывает функцию answer_index,\n",
        "# чтобы сгенерировать ответ на основе документа системы и заданной темы\n",
        "#   system_doc_text     - инструкция system\n",
        "#   knowledge_base_url  - путь к текстовому файлу базы знаний\n",
        "#   topic               - ключевые фразы, по ним выбираем наиболее релевантные отрезки из базы знаний\n",
        "#   instruction         - инструкция для формирования роли user\n",
        "#   temperature         - температура\n",
        "#   verbose             - показывать найденные чанки (в данном проекте не используется, оставлена для совместимости с кодом)\n",
        "#   k                   - количество релевантных чанков\n",
        "#   chunk_size          - максимальный размер чанка для формаирования индексной базы\n",
        "#   chunk_overlap       - перекрытие чанков при формировании индексной базы\n",
        "#   model               - модель GPT\n",
        "#   example             - пример ответа (необязательный)\n",
        "#   format              - формат примера ответа 'json' или 'text;\n",
        "def answer_user_question(system_doc_text, knowledge_base_url, topic, instructions, temperature, verbose, k, chunk_size, chunk_overlap, model, example = '', format = 'text'):\n",
        "    knowledge_base_text = load_document_text(knowledge_base_url)\n",
        "    knowledge_base_index = create_search_index(knowledge_base_text, chunk_size, chunk_overlap)\n",
        "    return answer_index(system_doc_text, topic, instructions, knowledge_base_index, temperature, verbose, k, model, example, format)\n",
        "\n",
        "# Функция answer_index выполняет поиск по индексу для получения k\n",
        "# наиболее релевантных документов по заданной теме, формирует\n",
        "# сообщения для модели и генерирует ответ с использованием OpenAI API\n",
        "#   system              - инструкция system\n",
        "#   topic               - ключевые фразы, по ним выбираем наиболее релевантные отрезки из базы знаний\n",
        "#   instruction         - инструкция для формирования роли user\n",
        "#   search_index        - индексная база\n",
        "#   temp                - температура\n",
        "#   verbose             - показывать найденные чанки (в данном проекте не используется, оставлена для совместимости с кодом)\n",
        "#   k                   - количество релевантных чанков\n",
        "#   model               - модель GPT\n",
        "#   example             - пример ответа\n",
        "#   format              - формат примера ответа 'json' или 'text'\n",
        "def answer_index(system, topic, instructions, search_index, temp, verbose, k, model, example = '', format = 'text'):\n",
        "    docs = search_index.similarity_search_with_score(topic, k=k)\n",
        "    response_format = None\n",
        "    message_content = '\\n '.join([f'Отрывок текста №{i+1}\\n{doc[0].page_content}' for i, doc in enumerate(docs)])\n",
        "    messages = [{\"role\": \"system\", \"content\": system}]\n",
        "    if example != '':\n",
        "      messages.append({\"role\": \"user\", \"content\": 'Ответь на вопрос' + ' и верни ответ в формате JSON' if format == 'json' else ''})\n",
        "      messages.append({\"role\": \"assistant\", \"content\": example})\n",
        "      if format == 'json': response_format = {'type': 'json_object'}\n",
        "    messages.append({\"role\": \"user\", \"content\": f\"{instructions}\\n\\nТексты для анализа:\\n{message_content}\"})\n",
        "    client = OpenAI(api_key=API_KEY, base_url=BASE_URL)\n",
        "    completion = client.chat.completions.create(model = model, messages = messages, temperature = temp, response_format = response_format)\n",
        "    return completion.choices[0].message.content\n",
        "\n",
        "# Функция answer_user_question_from_answer формирует сообщения для модели\n",
        "# на основе документа системы, инструкций и результатов анализа,\n",
        "# затем генерирует ответ с использованием OpenAI API\n",
        "#   system              - инструкция system\n",
        "#   instruction         - инструкция для формирования роли user\n",
        "#   answer_content      - результаты предыдущего анализа\n",
        "#   temp                - температура\n",
        "#   verbose             - показывать найденные чанки (в данном проекте не используется, оставлена для совместимости с кодом)\n",
        "#   model               - модель GPT\n",
        "def answer_user_question_from_answer(system, instructions, answers_content, temp, verbose, model):\n",
        "    messages = [{\"role\": \"system\", \"content\": system}, {\"role\": \"user\", \"content\": f\"{instructions}\\n\\nРезультаты анализа:\\n{answers_content}\"}]\n",
        "    client = OpenAI(api_key=API_KEY, base_url=BASE_URL)\n",
        "    completion = client.chat.completions.create(model=model, messages=messages, temperature=temp)\n",
        "    return completion.choices[0].message.content\n",
        "\n",
        "# Функция переноса теста в output ячейках, для улучшения отображения вывода\n",
        "def set_css():\n",
        "  display(HTML('''\n",
        "  <style>\n",
        "    pre {\n",
        "        white-space: pre-wrap;\n",
        "    }\n",
        "  </style>\n",
        "  '''))\n",
        "get_ipython().events.register('pre_run_cell', set_css)\n",
        "\n",
        "# Функция merge_text_files объединяет содержимое двух текстовых файлов,\n",
        "# добавляя строки из второго файла в конец первого файла\n",
        "# с обновленной временной отметкой\n",
        "#   file1_path - путь к первому файлу\n",
        "#   file2_path - путь ко второму файлу\n",
        "def merge_text_files(file1_path, file2_path):\n",
        "\n",
        "    # открываем оба файла\n",
        "    with open(file1_path, 'r+') as file1, open(file2_path, 'r') as file2:\n",
        "\n",
        "        # Читаем содержимое первого файла\n",
        "        file1_lines = file1.readlines()\n",
        "\n",
        "        # Удаляем пустую строку или символ переноса строки в конце файла, если они есть\n",
        "        if file1_lines[-1].strip() == '':\n",
        "            file1_lines.pop()\n",
        "\n",
        "        # Получаем временную отметку последней строки первого файла\n",
        "        last_timestamp = file1_lines[-1].split()[0]\n",
        "\n",
        "        # Читаем содержимое второго файла\n",
        "        file2_lines = file2.readlines()\n",
        "\n",
        "        # Обрабатываем каждую строку второго файла\n",
        "        for line in file2_lines:\n",
        "            line = line.strip()\n",
        "            if line == '':\n",
        "                continue  # Пропускаем пустые строки во втором файле\n",
        "\n",
        "            timestamp, dialogue = line.split(' ', 1)\n",
        "            minutes, seconds = map(int, timestamp.split(':'))\n",
        "\n",
        "            # Если количество секунд больше 59, переходим к следующей минуте\n",
        "            if seconds > 59:\n",
        "                minutes += seconds // 60\n",
        "                seconds %= 60\n",
        "\n",
        "            # Переводим временную отметку в минуты и секунды\n",
        "            total_minutes = minutes + int(last_timestamp[:2])\n",
        "            total_seconds = seconds + int(last_timestamp[3:])\n",
        "\n",
        "            # Проверяем, если количество секунд превышает 59, добавляем минуту и обновляем секунды\n",
        "            if total_seconds > 59:\n",
        "                total_minutes += total_seconds // 60\n",
        "                total_seconds %= 60\n",
        "\n",
        "            # Вычисляем время в формате HH:MM\n",
        "            new_timestamp = f\"{total_minutes:02d}:{total_seconds:02d}\"\n",
        "\n",
        "            # Записываем строку с обновленной временной отметкой в первый файл\n",
        "            file1.write(f\"\\n\\n{new_timestamp} {dialogue}\")\n",
        "\n",
        "        # Добавляем символ переноса строки в конце файла 1, если он отсутствует\n",
        "        if not file1_lines[-1].endswith('\\n'):\n",
        "            file1.write('\\n')\n"
      ],
      "metadata": {
        "colab": {
          "base_uri": "https://localhost:8080/",
          "height": 17
        },
        "id": "Oybv2t1YpNpL",
        "outputId": "46a5f1f0-372d-4318-9a94-b2b0a549ce6d"
      },
      "execution_count": 16,
      "outputs": [
        {
          "output_type": "display_data",
          "data": {
            "text/plain": [
              "<IPython.core.display.HTML object>"
            ],
            "text/html": [
              "\n",
              "  <style>\n",
              "    pre {\n",
              "        white-space: pre-wrap;\n",
              "    }\n",
              "  </style>\n",
              "  "
            ]
          },
          "metadata": {}
        },
        {
          "output_type": "display_data",
          "data": {
            "text/plain": [
              "<IPython.core.display.HTML object>"
            ],
            "text/html": [
              "\n",
              "  <style>\n",
              "    pre {\n",
              "        white-space: pre-wrap;\n",
              "    }\n",
              "  </style>\n",
              "  "
            ]
          },
          "metadata": {}
        },
        {
          "output_type": "display_data",
          "data": {
            "text/plain": [
              "<IPython.core.display.HTML object>"
            ],
            "text/html": [
              "\n",
              "  <style>\n",
              "    pre {\n",
              "        white-space: pre-wrap;\n",
              "    }\n",
              "  </style>\n",
              "  "
            ]
          },
          "metadata": {}
        }
      ]
    },
    {
      "cell_type": "code",
      "source": [
        "#@title Введите ссылку на папку Audio Record в папке zoom презентации с Яндекс диска c текстовыми файлами диалога\n",
        "folder_url_yadisk = \"https://disk.yandex.ru/d/IqOQeMnvd6YSKg\" #@param {type:\"string\"} # Ссылка на основную папку на Яндекс Диске\n",
        "optional_folder_url_yadisk2 = \"\" #@param {type:\"string\"} # Ссылка на дополнительную папку (опционально)\n",
        "full_url = f'https://getfile.dokpub.com/yandex/get/{folder_url_yadisk}' # Построение полной ссылки для загрузки\n",
        "\n",
        "# Проверка наличия дополнительной ссылки и построение полной ссылки для неё\n",
        "if len(optional_folder_url_yadisk2):\n",
        "  full_url_opt = f'https://getfile.dokpub.com/yandex/get/{optional_folder_url_yadisk2}'\n",
        "\n",
        "temp_dir = 'temp' # Название временной директории\n",
        "\n",
        "# Функция для загрузки содержимого по URL\n",
        "def download_from_url(full_url, temp_dir, opt=False):\n",
        "  # Создание временной директории, если она не существует\n",
        "  if not os.path.exists(temp_dir):\n",
        "    os.mkdir(temp_dir)\n",
        "\n",
        "  # Запись URL во временный файл\n",
        "  with open(\"temp/tmp.txt\", \"w\") as f:\n",
        "      f.write(full_url)\n",
        "\n",
        "  try:\n",
        "    # Удаление существующих файлов и папок, если они существуют\n",
        "    try:\n",
        "      os.remove(\"temp.zip\")\n",
        "      if not opt:\n",
        "        !rm -R '/content/Audio Record/'\n",
        "      !rm -R '/content/temp/Audio Record/'\n",
        "    except:\n",
        "      pass\n",
        "\n",
        "    # Загрузка и распаковка архива\n",
        "    !wget -O temp.zip -i temp/tmp.txt\n",
        "    if opt:\n",
        "      !unzip '/content/temp.zip' -d '/content/temp/'\n",
        "    else:\n",
        "      !unzip '/content/temp.zip' -d '/content/'\n",
        "    output.clear()\n",
        "    print('Файлы успешно загружены!')\n",
        "  except Exception as e:\n",
        "    print(\"Ошибка: \", e)\n",
        "\n",
        "# Загрузка файлов из основной и дополнительной папок\n",
        "download_from_url(full_url, temp_dir, opt=False)\n",
        "if len(optional_folder_url_yadisk2):\n",
        "  download_from_url(full_url_opt, temp_dir, opt=True)\n",
        "\n",
        "# Пути к текстовым файлам в загруженных папках\n",
        "base_text_path = '/content/Audio Record'\n",
        "if len(optional_folder_url_yadisk2):\n",
        "  base_opt_text_path = '/content/temp/Audio Record'\n",
        "  # Слияние текстовых файлов с одинаковыми именами\n",
        "  for first_file in os.listdir(base_text_path):\n",
        "    file1_path = os.path.join(base_text_path, first_file)\n",
        "    for second_file in os.listdir(base_opt_text_path):\n",
        "      file2_path = os.path.join(base_opt_text_path, second_file)\n",
        "      # Слияние файлов по типам (диалог, клиент, менеджер)\n",
        "      if '_dialogue' in first_file and '_dialog_' in second_file:\n",
        "        merge_text_files(file1_path, file2_path)\n",
        "      elif 'client_' in first_file and '_client_' in second_file:\n",
        "        merge_text_files(file1_path, file2_path)\n",
        "      elif 'manager_' in first_file and '_manager_' in second_file:\n",
        "        merge_text_files(file1_path, file2_path)\n",
        "  print(\"Текстовые файлы двух записей объеденены!\")\n",
        "\n",
        "# Определение путей к текстовым файлам и их категоризация\n",
        "text_path = [os.path.join(base_text_path, file) for file in os.listdir(base_text_path) if file.endswith('.txt')]\n",
        "base = ''   # Диалог\n",
        "base1 = '' # Клиент\n",
        "base2 = '' # Менеджер\n",
        "\n",
        "# Проверка количества текстовых файлов и их распределение по категориям\n",
        "if len(text_path) == 3:\n",
        "  for i_text in text_path:\n",
        "    if '_dialogue' in i_text:\n",
        "      base = i_text       # в итоге тут будет храниться путь к текстовому файлу\n",
        "      print(i_text)\n",
        "    elif 'client_' in i_text:\n",
        "      base1 = i_text\n",
        "      print(i_text)\n",
        "    elif 'manager_' in i_text:\n",
        "      base2 = i_text\n",
        "      print(i_text)\n",
        "else:\n",
        "  print('Внимание!!! Количество текстовых файлов не соответствуют количеству равному 3 для правильной их обработки.\\nПриведите их в правильный вид.')\n"
      ],
      "metadata": {
        "colab": {
          "base_uri": "https://localhost:8080/",
          "height": 86
        },
        "id": "0MScqjFipk4N",
        "outputId": "b493afe0-99f3-4f8b-f5f9-283674c9bae7"
      },
      "execution_count": 7,
      "outputs": [
        {
          "output_type": "stream",
          "name": "stdout",
          "text": [
            "Файлы успешно загружены!\n",
            "/content/Audio Record/merged_dialogue.txt\n",
            "/content/Audio Record/manager_recogn.txt\n",
            "/content/Audio Record/client_recogn.txt\n"
          ]
        }
      ]
    },
    {
      "cell_type": "code",
      "source": [
        "#@title Подсчет токенов и их соотношение в диалоге между клиентом и менджером\n",
        "num_token_dialog = num_tokens_from_string(load_document_text(base), encoding_name=\"cl100k_base\")\n",
        "num_token_client = num_tokens_from_string(load_document_text(base1), encoding_name=\"cl100k_base\")\n",
        "num_token_manager = num_tokens_from_string(load_document_text(base2), encoding_name=\"cl100k_base\")\n",
        "print('Токенов в Диалог: ', num_token_dialog)\n",
        "print('Токенов в Client +: ', num_token_client)\n",
        "print('Токенов в Manager +: ', num_token_manager)\n",
        "print(\"Соотношение токенов Клиент/Менеджер %: \", int((num_token_client*100)/num_token_dialog), '/', 100-int((num_token_client*100)/num_token_dialog))"
      ],
      "metadata": {
        "colab": {
          "base_uri": "https://localhost:8080/",
          "height": 86
        },
        "id": "4g7TKCK9qeMu",
        "outputId": "471bd05b-4ba1-4a77-f4be-811ea0140101"
      },
      "execution_count": 8,
      "outputs": [
        {
          "output_type": "display_data",
          "data": {
            "text/plain": [
              "<IPython.core.display.HTML object>"
            ],
            "text/html": [
              "\n",
              "  <style>\n",
              "    pre {\n",
              "        white-space: pre-wrap;\n",
              "    }\n",
              "  </style>\n",
              "  "
            ]
          },
          "metadata": {}
        },
        {
          "output_type": "stream",
          "name": "stdout",
          "text": [
            "Токенов в Диалог:  12107\n",
            "Токенов в Client +:  3385\n",
            "Токенов в Manager +:  8701\n",
            "Соотношение токенов Клиент/Менеджер %:  27 / 73\n"
          ]
        }
      ]
    },
    {
      "cell_type": "code",
      "source": [
        "#@title 1\\. Генерация ответа с поиском по контексту для \"Тарифы\"\n",
        "model = \"deepseek/deepseek-r1-distill-qwen-32b:free\" #@param [\"deepseek/deepseek-r1-distill-qwen-32b:free\", \"gpt-4\", \"gpt-3.5-turbo-0125\"]\n",
        "content = 'Manager +' #@param ['Диалог', 'Client +', 'Manager +']\n",
        "chunk_size = 536 #@param {type: \"slider\", min: 0, max: 1024, step:8}\n",
        "chunk_overlap = 0 #@param {type: \"slider\", min: 0, max: 256, step:8}\n",
        "temperature = 0 #@param {type: \"slider\", min: 0, max: 1, step:0.1}\n",
        "num_fragment = 12 #@param {type:\"integer\"}\n",
        "system_prompt = \"\\u0422\\u044B \\u043E\\u0442\\u043B\\u0438\\u0447\\u043D\\u043E \\u0443\\u043C\\u0435\\u0435\\u0448\\u044C \\u0430\\u043D\\u0430\\u043B\\u0438\\u0437\\u0438\\u0440\\u043E\\u0432\\u0430\\u0442\\u044C \\u0442\\u0435\\u043A\\u0441\\u0442 \\u0438 \\u043D\\u0430\\u0445\\u043E\\u0434\\u0438\\u0442\\u044C \\u0432 \\u0442\\u0435\\u043A\\u0441\\u0442\\u0430\\u0445 \\u0442\\u0430\\u0440\\u0438\\u0444\\u044B. \\u0422\\u044B \\u0437\\u043D\\u0430\\u0435\\u0448\\u044C \\u0447\\u0442\\u043E \\u043A\\u043E\\u043C\\u043F\\u0430\\u043D\\u0438\\u044F \\u043C\\u043E\\u0436\\u0435\\u0442 \\u043F\\u0440\\u0435\\u0434\\u043E\\u0441\\u0442\\u0430\\u0432\\u0438\\u0442\\u044C \\u0442\\u0430\\u043A\\u0438\\u0435 \\u0442\\u0430\\u0440\\u0438\\u0444\\u044B \\u043D\\u043E \\u043F\\u0440\\u0438 \\u044D\\u0442\\u043E\\u043C \\u0438\\u0445 \\u043C\\u043E\\u0436\\u0435\\u0442 \\u043D\\u0435 \\u0431\\u044B\\u0442\\u044C \\u0432 \\u0442\\u0435\\u043A\\u0441\\u0442\\u0430\\u0445:  \\\"\\u0431\\u0430\\u0437\\u043E\\u0432\\u044B\\u0439 \\u0442\\u0430\\u0440\\u0438\\u0444\\\", \\\"\\u043F\\u0440\\u043E\\u0434\\u0432\\u0438\\u043D\\u0443\\u0442\\u044B\\u0439 \\u0442\\u0430\\u0440\\u0438\\u0444\\\", \\\"\\u043E\\u0441\\u043D\\u043E\\u0432\\u043D\\u043E\\u0439 \\u0442\\u0430\\u0440\\u0438\\u0444\\\", \\\"\\u0440\\u0430\\u0441\\u0448\\u0438\\u0440\\u0435\\u043D\\u043D\\u044B\\u0439 \\u0442\\u0430\\u0440\\u0438\\u0444\\\", \\\"\\u043F\\u0430\\u0439\\u0442\\u043E\\u043D-\\u0440\\u0430\\u0437\\u0440\\u0430\\u0431\\u043E\\u0442\\u0447\\u0438\\u043A\\\", \\\"\\u044D\\u043A\\u0441\\u043F\\u0440\\u0435\\u0441\\u0441-\\u043A\\u0443\\u0440\\u0441 \\u043F\\u043E \\u0410\\u0419/\\u044D\\u0439\\u0430\\u0439\\\", \\\"\\u0441\\u0442\\u0430\\u0436\\u0438\\u0440\\u043E\\u0432\\u043A\\u0438\\\", \\\"\\u043D\\u043E\\u0432\\u044B\\u0439 \\u0442\\u0430\\u0440\\u0438\\u0444\\\", \\\"\\u0444\\u0440\\u0435\\u0439\\u043C\\u0432\\u043E\\u0440\\u043A\\u0438\\\", \\\"\\u0447\\u0430\\u0442  \\u0434\\u0436\\u0438\\u043F\\u0438\\u0442\\u0438 (\\u0434\\u0436\\u0438\\u043F\\u0438\\u0442\\u0438 = \\u0447\\u0430\\u0441 \\u043F\\u044F\\u0442\\u0438/\\u0447\\u0430\\u0442 \\u043F\\u044F\\u0442\\u0438/\\u0447\\u0430\\u0442 \\u0438 \\u043F\\u044F\\u0442\\u044C/\\u0447\\u0430\\u0442 \\u0434\\u0435\\u0442\\u0438)\\\" . \\u0422\\u044B \\u0443\\u043A\\u0430\\u0437\\u044B\\u0432\\u0430\\u0435\\u0448\\u044C \\u0442\\u0430\\u0440\\u0438\\u0444\\u044B \\u0442\\u043E\\u043B\\u044C\\u043A\\u043E \\u0435\\u0441\\u043B\\u0438 \\u0434\\u0435\\u0439\\u0441\\u0442\\u0432\\u0438\\u0442\\u0435\\u043B\\u044C\\u043D\\u043E \\u043D\\u0430\\u0448\\u0435\\u043B \\u0438\\u0445 \\u0432 \\u0442\\u0435\\u043A\\u0441\\u0442\\u0430\\u0445. \" #@param {type:\"string\"}\n",
        "instructions = \"\\u041F\\u043E\\u0436\\u0430\\u043B\\u0443\\u0439\\u0441\\u0442\\u0430 \\u0434\\u0430\\u0432\\u0430\\u0439 \\u043F\\u043E\\u0434\\u0443\\u043C\\u0430\\u0435\\u043C \\u0448\\u0430\\u0433 \\u0437\\u0430 \\u0448\\u0430\\u0433\\u043E\\u043C. \\u041D\\u0430\\u0439\\u0434\\u0438 \\u0432 \\u0442\\u0435\\u043A\\u0441\\u0442\\u0430\\u0445 \\u0443\\u043F\\u043E\\u043C\\u0438\\u043D\\u0430\\u043D\\u0438\\u0435 \\u0442\\u0430\\u0440\\u0438\\u0444\\u043E\\u0432 \\u0438 \\u0441\\u0434\\u0435\\u043B\\u0430\\u0439 \\u043E\\u0431 \\u044D\\u0442\\u043E\\u043C \\u043E\\u0442\\u0447\\u0435\\u0442 \\u0441\\u043B\\u0435\\u0434\\u0443\\u044E\\u0449\\u0435\\u0433\\u043E \\u0441\\u043E\\u0434\\u0435\\u0440\\u0436\\u0430\\u043D\\u0438\\u044F: \\u041D\\u0430\\u043F\\u0438\\u0448\\u0438 \\u0441\\u043F\\u0438\\u0441\\u043A\\u043E\\u043C \\u0442\\u0435 \\u0442\\u0430\\u0440\\u0438\\u0444\\u044B, \\u043A\\u043E\\u0442\\u043E\\u0440\\u044B\\u0435 \\u0442\\u043E\\u0447\\u043D\\u043E \\u0443\\u043F\\u043E\\u043C\\u0438\\u043D\\u0430\\u044E\\u0442\\u0441\\u044F \\u0432 \\u0442\\u0435\\u043A\\u0441\\u0442\\u0430\\u0445: \\\"\\u041D\\u0430\\u0437\\u0432\\u0430\\u043D\\u0438\\u0435 \\u0442\\u0430\\u0440\\u0438\\u0444\\u0430\\\"+\\u0432\\u0440\\u0435\\u043C\\u044F, \\u043A\\u043E\\u0433\\u0434\\u0430 \\u0431\\u044B\\u043B \\u043D\\u0430\\u0437\\u0432\\u0430\\u043D \\u0442\\u0430\\u0440\\u0438\\u0444 (23:19)+\\u043A\\u043E\\u0440\\u043E\\u0442\\u043A\\u0430\\u044F \\u0446\\u0438\\u0442\\u0430\\u0442\\u0430 \\u0432\\u044B\\u0441\\u043A\\u0430\\u0437\\u044B\\u0432\\u0430\\u043D\\u0438\\u044F \\u043E \\u0442\\u0430\\u0440\\u0438\\u0444\\u0435,   \\u041F\\u0440\\u0438\\u043C\\u0435\\u0447\\u0430\\u043D\\u0438\\u0435:  \\u0435\\u0441\\u043B\\u0438 \\u0442\\u0430\\u0440\\u0438\\u0444 \\u043D\\u0430\\u0437\\u044B\\u0432\\u0430\\u043B\\u0441\\u044F \\u043D\\u0435\\u0441\\u043A\\u043E\\u043B\\u044C\\u043A\\u043E \\u0440\\u0430\\u0437, \\u0442\\u043E \\u043D\\u0430\\u043F\\u0438\\u0448\\u0438 \\u0435\\u0433\\u043E \\u0442\\u043E\\u043B\\u044C\\u043A\\u043E \\u043E\\u0434\\u0438\\u043D \\u0440\\u0430\\u0437 \\u0432 \\u043F\\u0435\\u0440\\u0432\\u043E\\u043C \\u043E\\u0442\\u0447\\u0435\\u0442\\u0435.  \" #@param {type:\"string\"}\n",
        "topicphrase = '\\u0442\\u0430\\u0440\\u0438\\u0444, \\u043E\\u0441\\u043D\\u043E\\u0432\\u043D\\u043E\\u0439, \\u0431\\u0430\\u0437\\u043E\\u0432\\u044B\\u0439, \\u0440\\u0430\\u0441\\u0448\\u0438\\u0440\\u0435\\u043D\\u043D\\u044B\\u0439, \\u043F\\u0440\\u043E\\u0435\\u043A\\u0442 \\u043F\\u043E\\u0434 \\u043A\\u043B\\u044E\\u0447, \\u043A\\u0443\\u0440\\u0441, \\u043F\\u0440\\u043E\\u0434\\u0432\\u0438\\u043D\\u0443\\u0442\\u044B\\u0439, \\u043F\\u0440\\u043E\\u0435\\u043A\\u0442 \\u043F\\u043E\\u0434 \\u043A\\u043B\\u044E\\u0447, \\u043F\\u0430\\u0439\\u0442\\u043E\\u043D \\u0440\\u0430\\u0437\\u0440\\u0430\\u0431\\u043E\\u0442\\u0447\\u0438\\u043A, \\u0441\\u0442\\u0430\\u0436\\u0438\\u0440\\u043E\\u0432\\u043A\\u0430, \\u0444\\u0440\\u0435\\u0439\\u043C\\u0432\\u043E\\u0440\\u043A, \\u0421\\u043E\\u0437\\u0434\\u0430\\u043D\\u0438\\u0435 \\u043D\\u0435\\u0439\\u0440\\u043E\\u043D\\u043D\\u044B\\u0445 \\u0441\\u0435\\u0442\\u0435\\u0439 \\u0441 \\u043F\\u043E\\u043C\\u043E\\u0449\\u044C\\u044E \\u0447\\u0430\\u0442\\u0430  GTP' #@param {type:\"string\"}\n",
        "\n",
        "if content == 'Диалог': content_base = base\n",
        "elif content == 'Client +': content_base = base1\n",
        "elif content == 'Manager +': content_base = base2\n",
        "\n",
        "out = {}\n",
        "out['тарифы_1'] = answer_user_question(\n",
        "  system_prompt, content_base, topicphrase,\n",
        "  instructions, temperature, 1, num_fragment,\n",
        "  chunk_size, chunk_overlap, model\n",
        ")\n",
        "\n",
        "pprint(f'system_prompt: {system_prompt}')\n",
        "print()\n",
        "pprint(f'instructions: {instructions}')\n",
        "print()\n",
        "pprint(f'topicphrase: {topicphrase}')\n",
        "print(\"\\nОтвет:\\n\", out['тарифы_1'])"
      ],
      "metadata": {
        "colab": {
          "base_uri": "https://localhost:8080/",
          "height": 451
        },
        "id": "TPxegGuJrJFE",
        "outputId": "c8dd5e5f-dad9-4227-9d09-d9fb8df4d82f"
      },
      "execution_count": 27,
      "outputs": [
        {
          "output_type": "display_data",
          "data": {
            "text/plain": [
              "<IPython.core.display.HTML object>"
            ],
            "text/html": [
              "\n",
              "  <style>\n",
              "    pre {\n",
              "        white-space: pre-wrap;\n",
              "    }\n",
              "  </style>\n",
              "  "
            ]
          },
          "metadata": {}
        },
        {
          "output_type": "display_data",
          "data": {
            "text/plain": [
              "<IPython.core.display.HTML object>"
            ],
            "text/html": [
              "\n",
              "  <style>\n",
              "    pre {\n",
              "        white-space: pre-wrap;\n",
              "    }\n",
              "  </style>\n",
              "  "
            ]
          },
          "metadata": {}
        },
        {
          "output_type": "display_data",
          "data": {
            "text/plain": [
              "<IPython.core.display.HTML object>"
            ],
            "text/html": [
              "\n",
              "  <style>\n",
              "    pre {\n",
              "        white-space: pre-wrap;\n",
              "    }\n",
              "  </style>\n",
              "  "
            ]
          },
          "metadata": {}
        },
        {
          "output_type": "display_data",
          "data": {
            "text/plain": [
              "<IPython.core.display.HTML object>"
            ],
            "text/html": [
              "\n",
              "  <style>\n",
              "    pre {\n",
              "        white-space: pre-wrap;\n",
              "    }\n",
              "  </style>\n",
              "  "
            ]
          },
          "metadata": {}
        },
        {
          "output_type": "stream",
          "name": "stdout",
          "text": [
            "('system_prompt: Ты отлично умеешь анализировать текст и находить в текстах '\n",
            " 'тарифы. Ты знаешь что компания может предоставить такие тарифы но при этом '\n",
            " 'их может не быть в текстах:  \"базовый тариф\", \"продвинутый тариф\", \"основной '\n",
            " 'тариф\", \"расширенный тариф\", \"пайтон-разработчик\", \"экспресс-курс по '\n",
            " 'АЙ/эйай\", \"стажировки\", \"новый тариф\", \"фреймворки\", \"чат  джипити (джипити '\n",
            " '= час пяти/чат пяти/чат и пять/чат дети)\" . Ты указываешь тарифы только если '\n",
            " 'действительно нашел их в текстах. ')\n",
            "\n",
            "('instructions: Пожалуйста давай подумаем шаг за шагом. Найди в текстах '\n",
            " 'упоминание тарифов и сделай об этом отчет следующего содержания: Напиши '\n",
            " 'списком те тарифы, которые точно упоминаются в текстах: \"Название '\n",
            " 'тарифа\"+время, когда был назван тариф (23:19)+короткая цитата высказывания о '\n",
            " 'тарифе,   Примечание:  если тариф назывался несколько раз, то напиши его '\n",
            " 'только один раз в первом отчете.  ')\n",
            "\n",
            "('topicphrase: тариф, основной, базовый, расширенный, проект под ключ, курс, '\n",
            " 'продвинутый, проект под ключ, пайтон разработчик, стажировка, фреймворк, '\n",
            " 'Создание нейронных сетей с помощью чата  GTP')\n",
            "\n",
            "Ответ:\n",
            " ### Отчёт по упомянутым тарифам:\n",
            "\n",
            "1. **Light**  \n",
            "   Время: 00:10  \n",
            "   Цитата: \"У нас самый первоначальный тариф Light - он стоит по максимальной скидке 30%, вот, благодаря тому, что вы пришли на бум с экспертом, 109 900 всего.\"\n"
          ]
        }
      ]
    },
    {
      "cell_type": "code",
      "source": [
        "#@title 2\\. Генерация ответа с поиском по контексту для \"ПУШ\"\n",
        "model = \"deepseek/deepseek-r1-distill-qwen-32b:free\" #@param [\"deepseek/deepseek-r1-distill-qwen-32b:free\", \"gpt-4\", \"gpt-3.5-turbo-0125\"]\n",
        "content = 'Manager +' #@param ['Диалог', 'Client +', 'Manager +']\n",
        "chunk_size = 760 #@param {type: \"slider\", min: 0, max: 1024, step:8}\n",
        "chunk_overlap = 0 #@param {type: \"slider\", min: 0, max: 256, step:8}\n",
        "temperature = 0.1 #@param {type: \"slider\", min: 0, max: 1, step:0.1}\n",
        "num_fragment = 5 #@param {type:\"integer\"}\n",
        "system_prompt = \"\\u0422\\u044B \\u0441\\u0430\\u043C\\u044B\\u0439 \\u043B\\u0443\\u0447\\u0448\\u0438\\u0439 \\u0441\\u043E\\u0442\\u0440\\u0443\\u0434\\u043D\\u0438\\u043A \\u043E\\u0442\\u0434\\u0435\\u043B\\u0430 \\u043A\\u043E\\u043D\\u0442\\u0440\\u043E\\u043B\\u044F \\u043A\\u0430\\u0447\\u0435\\u0441\\u0442\\u0432\\u0430 \\u043E\\u0431\\u0449\\u0435\\u043D\\u0438\\u044F \\u043C\\u0435\\u043D\\u0435\\u0434\\u0436\\u0435\\u0440\\u0430 \\u043F\\u043E \\u043F\\u0440\\u043E\\u0434\\u0430\\u0436\\u0430\\u043C \\u0438 \\u043A\\u043B\\u0438\\u0435\\u043D\\u0442\\u0430. \\u041C\\u0435\\u043D\\u0435\\u0434\\u0436\\u0435\\u0440 \\u0440\\u0430\\u0431\\u043E\\u0442\\u0430\\u0435\\u0442 \\u0432 \\u043A\\u043E\\u043C\\u043F\\u0430\\u043D\\u0438\\u0438, \\u043A\\u043E\\u0442\\u043E\\u0440\\u0430\\u044F \\u043F\\u0440\\u043E\\u0434\\u0430\\u0435\\u0442 \\u043E\\u0431\\u0443\\u0447\\u0435\\u043D\\u0438\\u0435 \\u043F\\u0440\\u043E\\u0433\\u0440\\u0430\\u043C\\u043C\\u0438\\u0440\\u043E\\u0432\\u0430\\u043D\\u0438\\u044E \\u043D\\u0430 python \\u0438 \\u043D\\u0435\\u0439\\u0440\\u043E\\u043D\\u043D\\u044B\\u043C \\u0441\\u0435\\u0442\\u044F\\u043C. \\u0422\\u044B \\u0432\\u0441\\u0435\\u0433\\u0434\\u0430 \\u043E\\u0447\\u0435\\u043D\\u044C \\u0442\\u043E\\u0447\\u043D\\u043E \\u0441\\u043B\\u0435\\u0434\\u0443\\u0435\\u0448\\u044C \\u043F\\u043E\\u0440\\u044F\\u0434\\u043A\\u0443 \\u043E\\u0442\\u0447\\u0435\\u0442\\u0430.  \\u0422\\u044B \\u0437\\u043D\\u0430\\u0435\\u0448\\u044C \\u0447\\u0442\\u043E \\\"\\u043F\\u0443\\u0448\\\" - \\u044D\\u0442\\u043E \\u043F\\u0440\\u044F\\u043C\\u043E\\u0439 \\u0438 \\u044F\\u0432\\u043D\\u044B\\u0439 \\u043F\\u0440\\u0438\\u0437\\u044B\\u0432 \\u043A \\u043E\\u043F\\u043B\\u0430\\u0442\\u0435/ \\u043F\\u0440\\u0438\\u0437\\u044B\\u0432 \\u043A \\u0432\\u044B\\u0431\\u043E\\u0440\\u0443 \\u0442\\u0430\\u0440\\u0438\\u0444\\u0430 / \\u043F\\u0440\\u0438\\u0437\\u044B\\u0432 \\u043A \\u043E\\u0431\\u0443\\u0447\\u0435\\u043D\\u0438\\u044E.  \\u0422\\u0432\\u043E\\u044F \\u043F\\u0440\\u044F\\u043C\\u0430\\u044F \\u0437\\u0430\\u0434\\u0430\\u0447\\u0430 - \\u043D\\u0430\\u0445\\u043E\\u0434\\u0438\\u0442\\u044C \\u044F\\u0432\\u043D\\u044B\\u0435 \\u043F\\u0443\\u0448 \\u0432 \\u0442\\u0435\\u043A\\u0441\\u0442\\u0430\\u0445 \\u0438 \\u043F\\u0438\\u0441\\u0430\\u0442\\u044C \\u043F\\u043E \\u043D\\u0438\\u043C \\u0437\\u0430\\u0434\\u0430\\u043D\\u043D\\u044B\\u0435 \\u043E\\u0442\\u0447\\u0435\\u0442\\u044B.\" #@param {type:\"string\"}\n",
        "instructions = \"Пожалуйста давайте подумаем шаг за шагом. Сделай 3 отчета по наличию пуш в текстах.  Напишите только то что описано в порядке отчетов. Отчет №01: Найди в текстах все очень явные пуш. Напиши один список самых явных пуш пунктами: \\\"Цитаты пуш + время отрывка, по которому ты делаешь вывод (например, 23:19 отдельным элементом словаря)\\\". Не забудь указать тайминг, когда менеджером произнесен пуш. Отчет №02: общая оценка качества описания от 0% до 100% (100% - когда более трех пуш найдены в текстах и  пуш отличный способный убедить присоединиться к курсам и произвести оплату, 50% - описание пуш было, но не убедительное, 0% - описания пуш не было). Отчет №03:  посчитай количество пуш.  Примечание: тебе запрещено писать в первом отчете пуш, которые повторяются.\" #@param {type:\"string\"}\n",
        "topicphrase = '\\u0432\\u044B\\u0431\\u0438\\u0440\\u0430\\u0435\\u0442\\u0435, \\u0433\\u043E\\u0442\\u043E\\u0432\\u044B, \\u041E\\u043F\\u043B\\u0430\\u0442\\u0430, \\u0440\\u0430\\u0441\\u0441\\u0440\\u043E\\u0447\\u043A\\u0430, \\u043A\\u0440\\u0435\\u0434\\u0438\\u0442, \\u0441\\u0442\\u043E\\u0438\\u043C\\u043E\\u0441\\u0442\\u044C, \\u0446\\u0435\\u043D\\u0430, \\u0442\\u0430\\u0440\\u0438\\u0444, \\u043F\\u043B\\u0430\\u0442\\u0435\\u0436, \\u0441\\u043A\\u0438\\u0434\\u043A\\u0430, \\u043F\\u0440\\u0438\\u0441\\u043E\\u0435\\u0434\\u0438\\u043D\\u0438\\u0442\\u0435\\u0441\\u044C, \\u043F\\u0440\\u0438\\u0433\\u043B\\u0430\\u0448\\u0430\\u044E, \\u0447\\u0442\\u043E \\u0441\\u043A\\u0430\\u0436\\u0435\\u0442\\u0435?, \\u041A\\u0430\\u043A\\u043E\\u0439 \\u0442\\u0430\\u0440\\u0438\\u0444 \\u043D\\u0440\\u0430\\u0432\\u0438\\u0442\\u0441\\u044F?' #@param {type:\"string\"}\n",
        "answer_example = \"'reports': [{'num_report':  int, 'name_report': str, 'text_report': str},...]\" #@param {type:\"string\"}\n",
        "answer_format = \"json\" #@param [\"json\", \"text\"]\n",
        "\n",
        "if content == 'Диалог': content_base = base\n",
        "elif content == 'Client +': content_base = base1\n",
        "elif content == 'Manager +': content_base = base2\n",
        "\n",
        "result = answer_user_question(\n",
        "  system_prompt, content_base, topicphrase,\n",
        "  instructions, temperature, 1, num_fragment,\n",
        "  chunk_size, chunk_overlap, model, answer_example, answer_format\n",
        ")\n",
        "out['тарифы_2'] = json.loads(result.replace(\"```json\", \"\").replace(\"```\", \"\"))\n",
        "out['тарифы_2_total'] = ' '.join(item['quote'] for item in out['тарифы_2']['reports'][0]['text_report'])\n",
        "\n",
        "pprint(f'system_prompt: {system_prompt}')\n",
        "print()\n",
        "pprint(f'instructions: {instructions}')\n",
        "print()\n",
        "pprint(f'topicphrase: {topicphrase}')\n",
        "print('\\nОтвет:\\n', result)\n",
        "print('\\nДля итогового отчета:\\n', out['тарифы_2_total'])"
      ],
      "metadata": {
        "colab": {
          "base_uri": "https://localhost:8080/",
          "height": 1000
        },
        "id": "_TShQaH-HWzt",
        "outputId": "77f25f16-e46b-49da-b4b4-7922a6d3a67d"
      },
      "execution_count": 38,
      "outputs": [
        {
          "output_type": "display_data",
          "data": {
            "text/plain": [
              "<IPython.core.display.HTML object>"
            ],
            "text/html": [
              "\n",
              "  <style>\n",
              "    pre {\n",
              "        white-space: pre-wrap;\n",
              "    }\n",
              "  </style>\n",
              "  "
            ]
          },
          "metadata": {}
        },
        {
          "output_type": "display_data",
          "data": {
            "text/plain": [
              "<IPython.core.display.HTML object>"
            ],
            "text/html": [
              "\n",
              "  <style>\n",
              "    pre {\n",
              "        white-space: pre-wrap;\n",
              "    }\n",
              "  </style>\n",
              "  "
            ]
          },
          "metadata": {}
        },
        {
          "output_type": "display_data",
          "data": {
            "text/plain": [
              "<IPython.core.display.HTML object>"
            ],
            "text/html": [
              "\n",
              "  <style>\n",
              "    pre {\n",
              "        white-space: pre-wrap;\n",
              "    }\n",
              "  </style>\n",
              "  "
            ]
          },
          "metadata": {}
        },
        {
          "output_type": "display_data",
          "data": {
            "text/plain": [
              "<IPython.core.display.HTML object>"
            ],
            "text/html": [
              "\n",
              "  <style>\n",
              "    pre {\n",
              "        white-space: pre-wrap;\n",
              "    }\n",
              "  </style>\n",
              "  "
            ]
          },
          "metadata": {}
        },
        {
          "output_type": "stream",
          "name": "stdout",
          "text": [
            "('system_prompt: Ты самый лучший сотрудник отдела контроля качества общения '\n",
            " 'менеджера по продажам и клиента. Менеджер работает в компании, которая '\n",
            " 'продает обучение программированию на python и нейронным сетям. Ты всегда '\n",
            " 'очень точно следуешь порядку отчета.  Ты знаешь что \"пуш\" - это прямой и '\n",
            " 'явный призыв к оплате/ призыв к выбору тарифа / призыв к обучению.  Твоя '\n",
            " 'прямая задача - находить явные пуш в текстах и писать по ним заданные '\n",
            " 'отчеты.')\n",
            "\n",
            "('instructions: Пожалуйста давайте подумаем шаг за шагом. Сделай 3 отчета по '\n",
            " 'наличию пуш в текстах.  Напишите только то что описано в порядке отчетов. '\n",
            " 'Отчет №01: Найди в текстах все очень явные пуш. Напиши один список самых '\n",
            " 'явных пуш пунктами: \"Цитаты пуш + время отрывка, по которому ты делаешь '\n",
            " 'вывод (например, 23:19 отдельным элементом словаря)\". Не забудь указать '\n",
            " 'тайминг, когда менеджером произнесен пуш. Отчет №02: общая оценка качества '\n",
            " 'описания от 0% до 100% (100% - когда более трех пуш найдены в текстах и  пуш '\n",
            " 'отличный способный убедить присоединиться к курсам и произвести оплату, 50% '\n",
            " '- описание пуш было, но не убедительное, 0% - описания пуш не было). Отчет '\n",
            " '№03:  посчитай количество пуш.  Примечание: тебе запрещено писать в первом '\n",
            " 'отчете пуш, которые повторяются.')\n",
            "\n",
            "('topicphrase: выбираете, готовы, Оплата, рассрочка, кредит, стоимость, цена, '\n",
            " 'тариф, платеж, скидка, присоединитесь, приглашаю, что скажете?, Какой тариф '\n",
            " 'нравится?')\n",
            "\n",
            "Ответ:\n",
            " ```json\n",
            "{\n",
            "  \"reports\": [\n",
            "    {\n",
            "      \"num_report\": 1,\n",
            "      \"name_report\": \"Явные пуш\",\n",
            "      \"text_report\": [\n",
            "        {\n",
            "          \"quote\": \"У нас самый первоначальный тариф Light - он стоит по максимальной скидке 30%, вот, благодаря тому, что ы пришли на бум с экспертом, 109 900 всего.\",\n",
            "          \"time\": \"00:10\"\n",
            "        },\n",
            "        {\n",
            "          \"quote\": \"По сути, это обучение, классный пакет для тех, кто хочет с чего-то начать и иметь доход 70-100 тысяч рублей.\",\n",
            "          \"time\": \"00:10\"\n",
            "        },\n",
            "        {\n",
            "          \"quote\": \"Выходим на трудоустройство.\",\n",
            "          \"time\": \"00:10\"\n",
            "        },\n",
            "        {\n",
            "          \"quote\": \"В направлении программирования, в общем, есть такие градации, как: Junior, middle, senior.\",\n",
            "          \"time\": \"20:24\"\n",
            "        },\n",
            "        {\n",
            "          \"quote\": \"Junior, первоначальная позиция - это то есть то, на что вы были ориентированы - 70-100 тысяч рублей в месяц заработная плата.\",\n",
            "          \"time\": \"20:56\"\n",
            "        }\n",
            "      ]\n",
            "    },\n",
            "    {\n",
            "      \"num_report\": 2,\n",
            "      \"name_report\": \"Общая оценка качества описания\",\n",
            "      \"text_report\": \"50%\"\n",
            "    },\n",
            "    {\n",
            "      \"num_report\": 3,\n",
            "      \"name_report\": \"Количество пуш\",\n",
            "      \"text_report\": \"5\"\n",
            "    }\n",
            "  ]\n",
            "}\n",
            "```\n",
            "\n",
            "Для итогового отчета:\n",
            " У нас самый первоначальный тариф Light - он стоит по максимальной скидке 30%, вот, благодаря тому, что ы пришли на бум с экспертом, 109 900 всего. По сути, это обучение, классный пакет для тех, кто хочет с чего-то начать и иметь доход 70-100 тысяч рублей. Выходим на трудоустройство. В направлении программирования, в общем, есть такие градации, как: Junior, middle, senior. Junior, первоначальная позиция - это то есть то, на что вы были ориентированы - 70-100 тысяч рублей в месяц заработная плата.\n"
          ]
        }
      ]
    },
    {
      "cell_type": "code",
      "source": [
        "#@title 3\\. Варианты оплат\n",
        "model = \"deepseek/deepseek-r1-distill-qwen-32b:free\" #@param [\"deepseek/deepseek-r1-distill-qwen-32b:free\", \"gpt-4\", \"gpt-3.5-turbo-0125\"]\n",
        "content = 'Диалог' #@param ['Диалог', 'Client +', 'Manager +']\n",
        "chunk_size = 616 #@param {type: \"slider\", min: 0, max: 1024, step:8}\n",
        "chunk_overlap = 0 #@param {type: \"slider\", min: 0, max: 256, step:8}\n",
        "temperature = 0.1 #@param {type: \"slider\", min: 0, max: 1, step:0.1}\n",
        "num_fragment = 8 #@param {type:\"integer\"}\n",
        "system_prompt = \"\\u0422\\u044B \\u0441\\u0430\\u043C\\u044B\\u0439 \\u043B\\u0443\\u0447\\u0448\\u0438\\u0439 \\u0441\\u043E\\u0442\\u0440\\u0443\\u0434\\u043D\\u0438\\u043A \\u043E\\u0442\\u0434\\u0435\\u043B\\u0430 \\u043A\\u043E\\u043D\\u0442\\u0440\\u043E\\u043B\\u044F \\u043A\\u0430\\u0447\\u0435\\u0441\\u0442\\u0432\\u0430 \\u043E\\u0431\\u0449\\u0435\\u043D\\u0438\\u044F \\u043C\\u0435\\u043D\\u0435\\u0434\\u0436\\u0435\\u0440\\u0430 \\u043F\\u043E \\u043F\\u0440\\u043E\\u0434\\u0430\\u0436\\u0430\\u043C \\u0438 \\u043A\\u043B\\u0438\\u0435\\u043D\\u0442\\u0430. \\u041C\\u0435\\u043D\\u0435\\u0434\\u0436\\u0435\\u0440 \\u0440\\u0430\\u0431\\u043E\\u0442\\u0430\\u0435\\u0442 \\u0432 \\u043A\\u043E\\u043C\\u043F\\u0430\\u043D\\u0438\\u0438, \\u043A\\u043E\\u0442\\u043E\\u0440\\u0430\\u044F \\u043F\\u0440\\u043E\\u0434\\u0430\\u0435\\u0442 \\u043E\\u0431\\u0443\\u0447\\u0435\\u043D\\u0438\\u0435 \\u043F\\u0440\\u043E\\u0433\\u0440\\u0430\\u043C\\u043C\\u0438\\u0440\\u043E\\u0432\\u0430\\u043D\\u0438\\u044E \\u043D\\u0430 python \\u0438 \\u043D\\u0435\\u0439\\u0440\\u043E\\u043D\\u043D\\u044B\\u043C \\u0441\\u0435\\u0442\\u044F\\u043C. \" #@param {type:\"string\"}\n",
        "instructions = \"Какие варианты оплаты обучения или тарифа предлагал менеджер(полная оплата, рассрочка или кредит)? Порядок отчета: \\\"вариант оплаты, который найден в текстах+время когда была назван вариант оплаты\\\". Дублирующиеся варианты оплат - не включай в отчет. Не упоминай в ответе зарплаты разработчиков. \" #@param {type:\"string\"}\n",
        "topicphrase = '\\u041E\\u043F\\u043B\\u0430\\u0442\\u0430. \\u0440\\u0430\\u0441\\u0441\\u0440\\u043E\\u0447\\u043A\\u0430, \\u043A\\u0440\\u0435\\u0434\\u0438\\u0442, \\u0441\\u0442\\u043E\\u0438\\u043C\\u043E\\u0441\\u0442\\u044C, \\u0446\\u0435\\u043D\\u0430, \\u043F\\u043B\\u0430\\u0442\\u0435\\u0436, \\u0441\\u043A\\u0438\\u0434\\u043A\\u0430, \\u043F\\u0440\\u0438\\u0441\\u043E\\u0435\\u0434\\u0438\\u043D\\u0438\\u0442\\u0435\\u0441\\u044C, \\u043F\\u0440\\u0438\\u0433\\u043B\\u0430\\u0448\\u0430\\u044E, \\u0447\\u0442\\u043E \\u0441\\u043A\\u0430\\u0436\\u0435\\u0442\\u0435? \\u041A\\u0430\\u043A\\u043E\\u0439 \\u0442\\u0430\\u0440\\u0438\\u0444 \\u043D\\u0440\\u0430\\u0432\\u0438\\u0442\\u0441\\u044F?' #@param {type:\"string\"}\n",
        "\n",
        "if content == 'Диалог': content_base = base\n",
        "elif content == 'Client +': content_base = base1\n",
        "elif content == 'Manager +': content_base = base2\n",
        "\n",
        "out['тарифы_3'] = answer_user_question(\n",
        "  system_prompt, content_base, topicphrase,\n",
        "  instructions, temperature, 1, num_fragment,\n",
        "  chunk_size, chunk_overlap, model\n",
        ")\n",
        "\n",
        "pprint(f'system_prompt: {system_prompt}')\n",
        "print()\n",
        "pprint(f'instructions: {instructions}')\n",
        "print()\n",
        "pprint(f'topicphrase: {topicphrase}')\n",
        "print(\"\\nОтвет:\\n\", out['тарифы_3'])"
      ],
      "metadata": {
        "colab": {
          "base_uri": "https://localhost:8080/",
          "height": 277
        },
        "id": "D_vdJXzLAQyF",
        "outputId": "87859bf1-0873-468c-d3d6-45feaa459bbe"
      },
      "execution_count": 46,
      "outputs": [
        {
          "output_type": "display_data",
          "data": {
            "text/plain": [
              "<IPython.core.display.HTML object>"
            ],
            "text/html": [
              "\n",
              "  <style>\n",
              "    pre {\n",
              "        white-space: pre-wrap;\n",
              "    }\n",
              "  </style>\n",
              "  "
            ]
          },
          "metadata": {}
        },
        {
          "output_type": "display_data",
          "data": {
            "text/plain": [
              "<IPython.core.display.HTML object>"
            ],
            "text/html": [
              "\n",
              "  <style>\n",
              "    pre {\n",
              "        white-space: pre-wrap;\n",
              "    }\n",
              "  </style>\n",
              "  "
            ]
          },
          "metadata": {}
        },
        {
          "output_type": "display_data",
          "data": {
            "text/plain": [
              "<IPython.core.display.HTML object>"
            ],
            "text/html": [
              "\n",
              "  <style>\n",
              "    pre {\n",
              "        white-space: pre-wrap;\n",
              "    }\n",
              "  </style>\n",
              "  "
            ]
          },
          "metadata": {}
        },
        {
          "output_type": "display_data",
          "data": {
            "text/plain": [
              "<IPython.core.display.HTML object>"
            ],
            "text/html": [
              "\n",
              "  <style>\n",
              "    pre {\n",
              "        white-space: pre-wrap;\n",
              "    }\n",
              "  </style>\n",
              "  "
            ]
          },
          "metadata": {}
        },
        {
          "output_type": "stream",
          "name": "stdout",
          "text": [
            "('system_prompt: Ты самый лучший сотрудник отдела контроля качества общения '\n",
            " 'менеджера по продажам и клиента. Менеджер работает в компании, которая '\n",
            " 'продает обучение программированию на python и нейронным сетям. ')\n",
            "\n",
            "('instructions: Какие варианты оплаты обучения или тарифа предлагал '\n",
            " 'менеджер(полная оплата, рассрочка или кредит)? Порядок отчета: \"вариант '\n",
            " 'оплаты, который найден в текстах+время когда была назван вариант оплаты\". '\n",
            " 'Дублирующиеся варианты оплат - не включай в отчет. Не упоминай в ответе '\n",
            " 'зарплаты разработчиков. ')\n",
            "\n",
            "('topicphrase: Оплата. рассрочка, кредит, стоимость, цена, платеж, скидка, '\n",
            " 'присоединитесь, приглашаю, что скажете? Какой тариф нравится?')\n",
            "\n",
            "Ответ:\n",
            " В предоставленных текстах варианты оплаты обучения или тарифы не упоминаются.\n"
          ]
        }
      ]
    },
    {
      "cell_type": "markdown",
      "source": [
        "На основе записи диалога Клиента и Менеджера, используя материалы занятия, проанализируйте предложенные тарифы, пуш-уведомления и варианты оплаты, а затем составьте итоговый отчет на основе проведенного анализа. Ссылка на запись диалога Менеджера и Клиента: https://disk.yandex.ru/d/IqOQeMnvd6YSKg"
      ],
      "metadata": {
        "id": "QixLfsrttHon"
      }
    },
    {
      "cell_type": "code",
      "source": [
        "#@title Отчет об эффективности менеджера в выявлении потребностей клиента\n",
        "\n",
        "# параметры запроса\n",
        "model = \"deepseek/deepseek-r1-distill-qwen-32b:free\" #@param [\"deepseek/deepseek-r1-distill-qwen-32b:free\", \"gpt-4\", \"gpt-3.5-turbo-0125\"]\n",
        "temperature = 0.1 #@param {type: \"slider\", min: 0, max: 1, step:0.1}\n",
        "system_prompt = \"\\u0422\\u044B \\u043E\\u0442\\u043B\\u0438\\u0447\\u043D\\u043E \\u0440\\u0430\\u0437\\u0431\\u0438\\u0440\\u0430\\u0435\\u0448\\u044C\\u0441\\u044F \\u0432 \\u0430\\u043D\\u0430\\u043B\\u0438\\u0437\\u0435 \\u0438 \\u0434\\u0435\\u043B\\u0430\\u0435\\u0448\\u044C \\u0432\\u044B\\u0432\\u043E\\u0434\\u044B. \\u0422\\u044B \\u043F\\u043E\\u043D\\u0438\\u043C\\u0430\\u0435\\u0448\\u044C, \\u043A\\u0430\\u043A \\u044D\\u0444\\u0444\\u0435\\u043A\\u0442\\u0438\\u0432\\u043D\\u043E \\u043E\\u043F\\u0440\\u0435\\u0434\\u0435\\u043B\\u0438\\u0442\\u044C \\u043F\\u043E\\u0442\\u0440\\u0435\\u0431\\u043D\\u043E\\u0441\\u0442\\u0438. \\u0422\\u0432\\u043E\\u0438 \\u043E\\u0442\\u0447\\u0435\\u0442\\u044B \\u0432\\u0441\\u0435\\u0433\\u0434\\u0430 \\u043A\\u0440\\u0430\\u0442\\u043A\\u0438 \\u0438 \\u043F\\u043E \\u0441\\u0443\\u0449\\u0435\\u0441\\u0442\\u0432\\u0443. \\u0422\\u044B \\u043E\\u0442\\u043B\\u0438\\u0447\\u043D\\u043E \\u043F\\u043E\\u0434\\u0447\\u0435\\u0440\\u043A\\u0438\\u0432\\u0430\\u0435\\u0448\\u044C \\u0432\\u0430\\u0436\\u043D\\u044B\\u0435 \\u043C\\u043E\\u043C\\u0435\\u043D\\u0442\\u044B \\u0432 \\u0442\\u0435\\u043A\\u0441\\u0442\\u0430\\u0445 \\u0434\\u043B\\u044F \\u043E\\u0442\\u0447\\u0435\\u0442\\u0430 \\u043E\\u0442\\u0434\\u0435\\u043B\\u0430 \\u043F\\u0440\\u043E\\u0434\\u0430\\u0436. \\u0422\\u044B \\u0432\\u0441\\u0435\\u0433\\u0434\\u0430 \\u043F\\u0438\\u0448\\u0435\\u0448\\u044C \\u043E\\u0442\\u0447\\u0435\\u0442 \\u043E\\u0431\\u044A\\u0435\\u043C\\u043E\\u043C \\u0434\\u043E 1000 \\u0441\\u043B\\u043E\\u0432. \\u0422\\u044B \\u0432\\u0441\\u0435\\u0433\\u0434\\u0430 \\u043E\\u0447\\u0435\\u043D\\u044C \\u0442\\u043E\\u0447\\u043D\\u043E \\u0441\\u043B\\u0435\\u0434\\u0443\\u0435\\u0448\\u044C \\u0441\\u0442\\u0440\\u0443\\u043A\\u0442\\u0443\\u0440\\u0435 \\u043E\\u0442\\u0447\\u0435\\u0442\\u0430.\" #@param {type:\"string\"}\n",
        "instructions = \"\\u041F\\u043E\\u0436\\u0430\\u043B\\u0443\\u0439\\u0441\\u0442\\u0430 \\u0434\\u0430\\u0432\\u0430\\u0439\\u0442\\u0435 \\u043F\\u043E\\u0434\\u0443\\u043C\\u0430\\u0435\\u043C \\u0448\\u0430\\u0433 \\u0437\\u0430 \\u0448\\u0430\\u0433\\u043E\\u043C. \\u041D\\u0430\\u043F\\u0438\\u0448\\u0438, \\u043F\\u043E\\u0436\\u0430\\u043B\\u0443\\u0439\\u0441\\u0442\\u0430, 4 \\u043E\\u0442\\u0447\\u0435\\u0442\\u0430 \\u043F\\u043E \\u0432\\u044B\\u044F\\u0432\\u043B\\u0435\\u043D\\u0438\\u044E \\u043F\\u043E\\u0442\\u0440\\u0435\\u0431\\u043D\\u043E\\u0441\\u0442\\u0435\\u0439 \\u043A\\u043B\\u0438\\u0435\\u043D\\u0442\\u0430, \\u0441\\u0442\\u0440\\u043E\\u0433\\u043E \\u043A\\u0430\\u043A \\u0443\\u043A\\u0430\\u0437\\u0430\\u043D\\u043E \\u0432 \\u044D\\u0442\\u0438\\u0445 \\u043F\\u043E\\u0440\\u044F\\u0434\\u043A\\u0430\\u0445 \\u043E\\u0442\\u0447\\u0435\\u0442\\u043E\\u0432: \\\"\\u0440\\u0435\\u0437\\u0443\\u043B\\u044C\\u0442\\u0430\\u0442 \\u0430\\u043D\\u0430\\u043B\\u0438\\u0437\\u0430 \\u043F\\u043E \\u0432\\u044B\\u044F\\u0432\\u043B\\u0435\\u043D\\u0438\\u044E \\u043F\\u043E\\u0442\\u0440\\u0435\\u0431\\u043D\\u043E\\u0441\\u0442\\u0435\\u0439 \\u043A\\u043B\\u0438\\u0435\\u043D\\u0442\\u0430\\\":    1 \\u043E\\u0442\\u0447\\u0435\\u0442: \\u041F\\u043E\\u0440\\u044F\\u0434\\u043E\\u043A \\u043F\\u0435\\u0440\\u0432\\u043E\\u0433\\u043E \\u043E\\u0442\\u0447\\u0435\\u0442\\u0430:  \\u043F\\u0440\\u043E\\u0430\\u043D\\u0430\\u043B\\u0438\\u0437\\u0438\\u0440\\u0443\\u0439 \\u0441\\u0440\\u0430\\u0437\\u0443 \\u0432\\u0441\\u0435 \\u043F\\u043E\\u043B\\u0443\\u0447\\u0435\\u043D\\u043D\\u044B\\u0435 \\u0440\\u0435\\u0437\\u0443\\u043B\\u044C\\u0442\\u0430\\u0442\\u044B \\u0438 \\u043D\\u0430\\u043F\\u0438\\u0448\\u0438 \\u043A\\u0440\\u0430\\u0442\\u043A\\u043E \\u043E\\u0431\\u0449\\u0438\\u0439 \\u0432\\u044B\\u0432\\u043E\\u0434, \\u043A\\u0430\\u043A \\u043C\\u0435\\u043D\\u0435\\u0434\\u0436\\u0435\\u0440 \\u0432\\u044B\\u044F\\u0432\\u043B\\u044F\\u043B \\u043F\\u043E\\u0442\\u0440\\u0435\\u0431\\u043D\\u043E\\u0441\\u0442\\u0438 \\u0438 \\u043D\\u0430\\u0441\\u043A\\u043E\\u043B\\u044C\\u043A\\u043E \\u043A\\u0430\\u0447\\u0435\\u0441\\u0442\\u0432\\u0435\\u043D\\u043D\\u043E \\u043C\\u0435\\u043D\\u0435\\u0434\\u0436\\u0435\\u0440 \\u0437\\u0430\\u043A\\u0440\\u044B\\u043B \\u043F\\u043E\\u0442\\u0440\\u0435\\u0431\\u043D\\u043E\\u0441\\u0442\\u0438, \\u043A\\u043E\\u0442\\u043E\\u0440\\u044B\\u0435 \\u0432\\u044B\\u0441\\u043A\\u0430\\u0437\\u0430\\u043B \\u043A\\u043B\\u0438\\u0435\\u043D\\u0442, \\u0430 \\u0442\\u0430\\u043A\\u0436\\u0435  \\u0432\\u044B\\u0434\\u0435\\u043B\\u0438 \\u043A\\u043B\\u044E\\u0447\\u0435\\u0432\\u044B\\u0435 \\u043C\\u043E\\u043C\\u0435\\u043D\\u0442\\u044B \\u0438\\u0437 \\u0440\\u0435\\u0437\\u0443\\u043B\\u044C\\u0442\\u0430\\u0442\\u0430 \\u0430\\u043D\\u0430\\u043B\\u0438\\u0437\\u0430.  2 \\u043E\\u0442\\u0447\\u0435\\u0442:  \\u041F\\u043E\\u0440\\u044F\\u0434\\u043E\\u043A \\u0432\\u0442\\u043E\\u0440\\u043E\\u0433\\u043E \\u043E\\u0442\\u0447\\u0435\\u0442\\u0430: \\u0441\\u0443\\u0434\\u044F \\u043F\\u043E \\u0430\\u043D\\u0430\\u043B\\u0438\\u0437\\u0443 \\u043F\\u0435\\u0440\\u0432\\u043E\\u0433\\u043E \\u043E\\u0442\\u0447\\u0435\\u0442\\u0430 \\u043D\\u0430\\u043F\\u0438\\u0448\\u0438 \\u043A\\u0440\\u0430\\u0442\\u043A\\u0438\\u0439 \\u0441\\u043F\\u0438\\u0441\\u043E\\u043A \\u043A\\u043E\\u043D\\u043A\\u0440\\u0435\\u0442\\u043D\\u044B\\u0445 \\u0440\\u0435\\u043A\\u043E\\u043C\\u0435\\u043D\\u0434\\u0430\\u0446\\u0438\\u0439 \\u043C\\u0435\\u043D\\u0435\\u0434\\u0436\\u0435\\u0440\\u0443 \\u0434\\u043B\\u044F \\u0443\\u043B\\u0443\\u0447\\u0448\\u0435\\u043D\\u0438\\u044F \\u043D\\u0430\\u0432\\u044B\\u043A\\u043E\\u0432 \\u0432\\u044B\\u044F\\u0432\\u043B\\u0435\\u043D\\u0438\\u044F \\u043F\\u043E\\u0442\\u0440\\u0435\\u0431\\u043D\\u043E\\u0441\\u0442\\u0435\\u0439.   3 \\u043E\\u0442\\u0447\\u0435\\u0442: \\u0421\\u0434\\u0435\\u043B\\u0430\\u0439 \\u0440\\u0430\\u0437\\u0431\\u043E\\u0440 \\u043F\\u043E \\u044D\\u0444\\u0444\\u0435\\u043A\\u0442\\u0438\\u0432\\u043D\\u043E\\u0441\\u0442\\u0438 \\u043C\\u0435\\u043D\\u0435\\u0434\\u0436\\u0435\\u0440\\u0430  \\u0432 \\u0432\\u044B\\u044F\\u0432\\u043B\\u0435\\u043D\\u0438\\u0438 \\u043F\\u043E\\u0442\\u0440\\u0435\\u0431\\u043D\\u043E\\u0441\\u0442\\u0435\\u0439 \\u043A\\u043B\\u0438\\u0435\\u043D\\u0442\\u0430, \\u0441\\u0443\\u0434\\u044F \\u043F\\u043E \\u0440\\u0435\\u0437\\u0443\\u043B\\u044C\\u0442\\u0430\\u0442\\u0430\\u043C \\u0430\\u043D\\u0430\\u043B\\u0438\\u0437\\u0430, \\u0438 \\u043D\\u0430\\u043F\\u0438\\u0448\\u0438 \\u044D\\u0442\\u0438 \\u0432\\u044B\\u0432\\u043E\\u0434\\u044B.  4 \\u043E\\u0442\\u0447\\u0435\\u0442: \\u041F\\u043E\\u0440\\u044F\\u0434\\u043E\\u043A \\u0447\\u0435\\u0442\\u0432\\u0435\\u0440\\u0442\\u043E\\u0433\\u043E \\u043E\\u0442\\u0447\\u0435\\u0442\\u0430: \\u043D\\u0430\\u043F\\u0438\\u0448\\u0438 \\u0432 \\u0442\\u043E\\u0447\\u043D\\u043E\\u043C \\u043F\\u043E\\u0440\\u044F\\u0434\\u043A\\u0435: \\\"quality\\\":  \\u043F\\u0443\\u0442\\u0435\\u043C \\u0432\\u044B\\u0447\\u0438\\u0441\\u043B\\u0435\\u043D\\u0438\\u0439 \\u043D\\u0430\\u043F\\u0438\\u0448\\u0438 \\u043E\\u0434\\u043D\\u0443  \\u0446\\u0438\\u0444\\u0440\\u0443 \\u0441\\u0440\\u0435\\u0434\\u043D\\u0435\\u0433\\u043E \\u043F\\u0440\\u043E\\u0446\\u0435\\u043D\\u0442\\u0430 \\u043A\\u0430\\u0447\\u0435\\u0441\\u0442\\u0432\\u0430 \\u043F\\u043E \\u0432\\u0441\\u0435\\u043C \\u0440\\u0435\\u0437\\u0443\\u043B\\u044C\\u0442\\u0430\\u0442\\u0430\\u043C \\u0430\\u043D\\u0430\\u043B\\u0438\\u0437\\u0430 \\u043E\\u0442 0% \\u0434\\u043E 100%. \\u041F\\u0440\\u0438\\u043C\\u0435\\u0447\\u0430\\u043D\\u0438\\u0435: \\u043E\\u0431\\u044F\\u0437\\u0430\\u0442\\u0435\\u043B\\u044C\\u043D\\u043E \\u043D\\u0430\\u043F\\u0438\\u0448\\u0438 \\u0442\\u043E\\u043B\\u044C\\u043A\\u043E 4 \\u043E\\u0442\\u0447\\u0435\\u0442\\u0430. \" #@param {type:\"string\"}\n",
        "\n",
        "# данные для запроса\n",
        "data = {\n",
        "    'выявление_1_1': 'Вопросы, заданные менеджером: Пример вопросов от менеджера.',\n",
        "    'выявление_2_1': 'Список найденных потребностей: Найденные потребности клиента.',\n",
        "    'закрытие_1_total': 'Что в диалоге говорилось о трудоустройстве: Обсуждение трудоустройства.',\n",
        "    'закрытие_2_total': 'Что менеджер говорил о заработной плате: Информация о заработной плате.',\n",
        "    'закрытие_3_total': 'Удаленка. Что менеджер говорил про удаленный формат работы: Комментарий про удаленный формат работы.',\n",
        "    'закрытие_4_total': 'Что менеджер говорил про личное развитие: Комментарий про личное развитие.',\n",
        "    'закрытие_5_total': 'Что менеджер говорил про развитие в IT сфере: Развитие в IT сфере.',\n",
        "    'закрытие_6_total': 'Что менеджер говорил о смене деятельности: Обсуждение смены деятельности.',\n",
        "    'закрытие_7_total': 'Где менеджер рассказывал про занятия нейронками как хобби: Информация про занятия нейронками как хобби.',\n",
        "    'закрытие_8_total': 'Что менеджер говорил о карьерном росте: Комментарий о карьерном росте.',\n",
        "    'закрытие_9_total': 'Что менеджер говорил про создание собственного проекта: Информация про создание собственного проекта.'\n",
        "}\n",
        "answers = [\n",
        "    f\"Анализ №{i + 1}. {data[key]} {out.get(key, '').strip()}\"\n",
        "    for i, key in enumerate(data.keys())\n",
        "]\n",
        "answers_text = \" \".join(answers)\n",
        "\n",
        "# выполнение запроса\n",
        "out['выявление_отчет'] = answer_user_question_from_answer(\n",
        "  system_prompt, instructions, answers, temperature, 1, model\n",
        ")\n",
        "\n",
        "# вывод результатов\n",
        "pprint(f'system_prompt: {system_prompt}')\n",
        "print()\n",
        "pprint(f'instructions: {instructions}')\n",
        "for i, answer in enumerate(answers):\n",
        "  print()\n",
        "  print(f'answer_{i + 1}: {answer[:300]}...')\n",
        "print('\\nОтвет:\\n', out['выявление_отчет'])"
      ],
      "metadata": {
        "colab": {
          "base_uri": "https://localhost:8080/",
          "height": 1000
        },
        "id": "8DnAiccqN5up",
        "outputId": "23766612-455f-4ebe-8417-64d68035090c"
      },
      "execution_count": 47,
      "outputs": [
        {
          "output_type": "display_data",
          "data": {
            "text/plain": [
              "<IPython.core.display.HTML object>"
            ],
            "text/html": [
              "\n",
              "  <style>\n",
              "    pre {\n",
              "        white-space: pre-wrap;\n",
              "    }\n",
              "  </style>\n",
              "  "
            ]
          },
          "metadata": {}
        },
        {
          "output_type": "display_data",
          "data": {
            "text/plain": [
              "<IPython.core.display.HTML object>"
            ],
            "text/html": [
              "\n",
              "  <style>\n",
              "    pre {\n",
              "        white-space: pre-wrap;\n",
              "    }\n",
              "  </style>\n",
              "  "
            ]
          },
          "metadata": {}
        },
        {
          "output_type": "display_data",
          "data": {
            "text/plain": [
              "<IPython.core.display.HTML object>"
            ],
            "text/html": [
              "\n",
              "  <style>\n",
              "    pre {\n",
              "        white-space: pre-wrap;\n",
              "    }\n",
              "  </style>\n",
              "  "
            ]
          },
          "metadata": {}
        },
        {
          "output_type": "display_data",
          "data": {
            "text/plain": [
              "<IPython.core.display.HTML object>"
            ],
            "text/html": [
              "\n",
              "  <style>\n",
              "    pre {\n",
              "        white-space: pre-wrap;\n",
              "    }\n",
              "  </style>\n",
              "  "
            ]
          },
          "metadata": {}
        },
        {
          "output_type": "stream",
          "name": "stdout",
          "text": [
            "('system_prompt: Ты отлично разбираешься в анализе и делаешь выводы. Ты '\n",
            " 'понимаешь, как эффективно определить потребности. Твои отчеты всегда кратки '\n",
            " 'и по существу. Ты отлично подчеркиваешь важные моменты в текстах для отчета '\n",
            " 'отдела продаж. Ты всегда пишешь отчет объемом до 1000 слов. Ты всегда очень '\n",
            " 'точно следуешь структуре отчета.')\n",
            "\n",
            "('instructions: Пожалуйста давайте подумаем шаг за шагом. Напиши, пожалуйста, '\n",
            " '4 отчета по выявлению потребностей клиента, строго как указано в этих '\n",
            " 'порядках отчетов: \"результат анализа по выявлению потребностей клиента\":    '\n",
            " '1 отчет: Порядок первого отчета:  проанализируй сразу все полученные '\n",
            " 'результаты и напиши кратко общий вывод, как менеджер выявлял потребности и '\n",
            " 'насколько качественно менеджер закрыл потребности, которые высказал клиент, '\n",
            " 'а также  выдели ключевые моменты из результата анализа.  2 отчет:  Порядок '\n",
            " 'второго отчета: судя по анализу первого отчета напиши краткий список '\n",
            " 'конкретных рекомендаций менеджеру для улучшения навыков выявления '\n",
            " 'потребностей.   3 отчет: Сделай разбор по эффективности менеджера  в '\n",
            " 'выявлении потребностей клиента, судя по результатам анализа, и напиши эти '\n",
            " 'выводы.  4 отчет: Порядок четвертого отчета: напиши в точном порядке: '\n",
            " '\"quality\":  путем вычислений напиши одну  цифру среднего процента качества '\n",
            " 'по всем результатам анализа от 0% до 100%. Примечание: обязательно напиши '\n",
            " 'только 4 отчета. ')\n",
            "\n",
            "answer_1: Анализ №1. Вопросы, заданные менеджером: Пример вопросов от менеджера. ...\n",
            "\n",
            "answer_2: Анализ №2. Список найденных потребностей: Найденные потребности клиента. ...\n",
            "\n",
            "answer_3: Анализ №3. Что в диалоге говорилось о трудоустройстве: Обсуждение трудоустройства. ...\n",
            "\n",
            "answer_4: Анализ №4. Что менеджер говорил о заработной плате: Информация о заработной плате. ...\n",
            "\n",
            "answer_5: Анализ №5. Удаленка. Что менеджер говорил про удаленный формат работы: Комментарий про удаленный формат работы. ...\n",
            "\n",
            "answer_6: Анализ №6. Что менеджер говорил про личное развитие: Комментарий про личное развитие. ...\n",
            "\n",
            "answer_7: Анализ №7. Что менеджер говорил про развитие в IT сфере: Развитие в IT сфере. ...\n",
            "\n",
            "answer_8: Анализ №8. Что менеджер говорил о смене деятельности: Обсуждение смены деятельности. ...\n",
            "\n",
            "answer_9: Анализ №9. Где менеджер рассказывал про занятия нейронками как хобби: Информация про занятия нейронками как хобби. ...\n",
            "\n",
            "answer_10: Анализ №10. Что менеджер говорил о карьерном росте: Комментарий о карьерном росте. ...\n",
            "\n",
            "answer_11: Анализ №11. Что менеджер говорил про создание собственного проекта: Информация про создание собственного проекта. ...\n",
            "\n",
            "Ответ:\n",
            " ### Отчет 1: Результат анализа по выявлению потребностей клиента  \n",
            "Менеджер провел анализ потребностей клиента, задав вопросы и собрав информацию по ключевым аспектам, таким как трудоустройство, зарплата, удаленная работа, личное развитие, развитие в IT сфере, смена деятельности, хобби, карьерный рост и создание собственного проекта.  \n",
            "\n",
            "Общий вывод:  \n",
            "Менеджер качественно выявил потребности клиента, задав вопросы по различным аспектам, что позволило собрать полную информацию. Однако не все потребности были закрыты на 100%, особенно в части личного развития и удаленной работы.  \n",
            "\n",
            "Ключевые моменты:  \n",
            "1. Менеджер задал вопросы по всем основным категориям.  \n",
            "2. Некоторые потребности остались частично незакрытыми.  \n",
            "3. Успешно обсуждены аспекты трудоустройства и карьерного роста.  \n",
            "\n",
            "---\n",
            "\n",
            "### Отчет 2: Рекомендации для улучшения навыков выявления потребностей  \n",
            "1. Увеличить количество вопросов по личному развитию и удаленной работе.  \n",
            "2. Уточнить детали по созданию собственного проекта.  \n",
            "3. Провести дополнительный анализ по смене деятельности.  \n",
            "4. Рассмотреть возможность включения вопросов о хобби в рамках личного развития.  \n",
            "\n",
            "---\n",
            "\n",
            "### Отчет 3: Эффективность менеджера в выявлении потребностей  \n",
            "Менеджер показал высокую эффективность в выявлении потребностей клиента, задав вопросы по ключевым аспектам. Однако есть пространство для улучшения в части личного развития и удаленной работы.  \n",
            "\n",
            "Выводы:  \n",
            "1. Менеджер эффективно собрал информацию по основным категориям.  \n",
            "2. Необходимо уделить больше внимания личному развитию и удаленной работе.  \n",
            "3. Успешно обсуждены аспекты трудоустройства и карьерного роста.  \n",
            "\n",
            "---\n",
            "\n",
            "### Отчет 4: Quality  \n",
            "Средний процент качества по всем результатам анализа: **85%**\n"
          ]
        }
      ]
    },
    {
      "cell_type": "code",
      "source": [
        "#@title Отчет итого\n",
        "model = \"deepseek/deepseek-r1-distill-qwen-32b:free\" #@param [\"deepseek/deepseek-r1-distill-qwen-32b:free\", \"gpt-4\", \"gpt-3.5-turbo-0125\"]\n",
        "temperature = 0 #@param {type: \"slider\", min: 0, max: 1, step:0.1}\n",
        "system_prompt = \"\\u0422\\u044B \\u0432\\u0435\\u043B\\u0438\\u043A\\u043E\\u043B\\u0435\\u043F\\u043D\\u043E \\u0443\\u043C\\u0435\\u0435\\u0448\\u044C \\u0430\\u043D\\u0430\\u043B\\u0438\\u0437\\u0438\\u0440\\u043E\\u0432\\u0430\\u0442\\u044C \\u0438 \\u0434\\u0435\\u043B\\u0430\\u0442\\u044C \\u0432\\u044B\\u0432\\u043E\\u0434\\u044B. \\u0420\\u0435\\u0437\\u0443\\u043B\\u044C\\u0442\\u0430\\u0442\\u044B \\u0430\\u043D\\u0430\\u043B\\u0438\\u0437\\u0430 - \\u043F\\u0440\\u0435\\u0434\\u044B\\u0434\\u0443\\u0449\\u0438\\u0435 \\u0432\\u044B\\u0432\\u043E\\u0434\\u044B \\u043F\\u043E \\u043E\\u0431\\u0449\\u0435\\u043D\\u0438\\u044E \\u043C\\u0435\\u043D\\u0435\\u0434\\u0436\\u0435\\u0440\\u0430 \\u0438 \\u043A\\u0430\\u0447\\u0435\\u0441\\u0442\\u0432\\u0443 \\u0435\\u0433\\u043E \\u0440\\u0430\\u0431\\u043E\\u0442\\u044B. \\u0422\\u044B \\u043E\\u0442\\u043B\\u0438\\u0447\\u043D\\u043E \\u0443\\u043C\\u0435\\u0435\\u0448\\u044C \\u0432\\u044B\\u0434\\u0435\\u043B\\u044F\\u0442\\u044C \\u0437\\u043D\\u0430\\u0447\\u0438\\u043C\\u044B\\u0435 \\u0432\\u0435\\u0449\\u0438 \\u0432 \\u0440\\u0435\\u0437\\u0443\\u043B\\u044C\\u0442\\u0430\\u0442\\u0435 \\u0430\\u043D\\u0430\\u043B\\u0438\\u0437\\u0430 \\u0434\\u043B\\u044F \\u043D\\u0430\\u043F\\u0438\\u0441\\u0430\\u043D\\u0438\\u044F \\u0432\\u044B\\u0432\\u043E\\u0434\\u043E\\u0432 \\u0440\\u0443\\u043A\\u043E\\u0432\\u043E\\u0434\\u0438\\u0442\\u0435\\u043B\\u044E \\u043E\\u0442\\u0434\\u0435\\u043B\\u0430 \\u043F\\u0440\\u043E\\u0434\\u0430\\u0436. \\u0422\\u0432\\u043E\\u0438 \\u0432\\u044B\\u0432\\u043E\\u0434\\u044B \\u0432\\u0441\\u0435\\u0433\\u0434\\u0430 \\u043E\\u0442\\u0440\\u0430\\u0436\\u0430\\u044E\\u0442 \\u0438\\u0441\\u0442\\u0438\\u043D\\u0443. \\u0422\\u044B \\u0432\\u0441\\u0435\\u0433\\u0434\\u0430 \\u043E\\u0447\\u0435\\u043D\\u044C \\u0442\\u043E\\u0447\\u043D\\u043E \\u0441\\u043B\\u0435\\u0434\\u0443\\u0435\\u0448\\u044C \\u043F\\u043E\\u0440\\u044F\\u0434\\u043A\\u0443 \\u043E\\u0442\\u0447\\u0435\\u0442\\u0430.\" #@param {type:\"string\"}\n",
        "instructions = \"\\u041F\\u043E\\u0436\\u0430\\u043B\\u0443\\u0439\\u0441\\u0442\\u0430 \\u0434\\u0430\\u0432\\u0430\\u0439 \\u043F\\u043E\\u0434\\u0443\\u043C\\u0430\\u0435\\u043C \\u0448\\u0430\\u0433 \\u0437\\u0430 \\u0448\\u0430\\u0433\\u043E\\u043C. \\u041F\\u0440\\u0438 \\u0430\\u043D\\u0430\\u043B\\u0438\\u0437\\u0435 \\u0442\\u044B \\u0430\\u043D\\u0430\\u043B\\u0438\\u0437\\u0438\\u0440\\u0443\\u0435\\u0448\\u044C \\u0441\\u0440\\u0430\\u0437\\u0443 \\u0432\\u0441\\u0435 \\u0440\\u0435\\u0437\\u0443\\u043B\\u044C\\u0442\\u0430\\u0442\\u044B \\u0430\\u043D\\u0430\\u043B\\u0438\\u0437\\u0430 \\u0432\\u043C\\u0435\\u0441\\u0442\\u0435. \\u041D\\u0430\\u043F\\u0438\\u0448\\u0438 \\u043F\\u043E\\u0436\\u0430\\u043B\\u0443\\u0439\\u0441\\u0442\\u0430 \\u0442\\u043E\\u043B\\u044C\\u043A\\u043E \\u0442\\u043E \\u0447\\u0442\\u043E \\u0443\\u043A\\u0430\\u0437\\u0430\\u043D\\u043E \\u043D\\u0430\\u043F\\u0438\\u0441\\u0430\\u0442\\u044C \\u0432 \\u043F\\u043E\\u0440\\u044F\\u0434\\u043A\\u0435 \\u0432\\u044B\\u0432\\u043E\\u0434\\u043E\\u0432: #01 \\u041F\\u043E\\u0440\\u044F\\u0434\\u043E\\u043A \\u043F\\u0435\\u0440\\u0432\\u043E\\u0433\\u043E \\u0432\\u044B\\u0432\\u043E\\u0434\\u0430:  \\u0442\\u0449\\u0430\\u0442\\u0435\\u043B\\u044C\\u043D\\u043E \\u043F\\u0440\\u043E\\u0430\\u043D\\u0430\\u043B\\u0438\\u0437\\u0438\\u0440\\u0443\\u0439 \\u0432\\u0441\\u0435 \\u0440\\u0435\\u0437\\u0443\\u043B\\u044C\\u0442\\u0430\\u0442\\u044B \\u0430\\u043D\\u0430\\u043B\\u0438\\u0437\\u0430 \\u0438 \\u043D\\u0430\\u043F\\u0438\\u0448\\u0438 \\u043E\\u0431\\u0449\\u0438\\u0439 \\u0435\\u0434\\u0438\\u043D\\u044B\\u0439 \\u0432\\u044B\\u0432\\u043E\\u0434 \\u043F\\u043E \\u0432\\u0441\\u0435\\u043C \\u0430\\u043D\\u0430\\u043B\\u0438\\u0437\\u0430 \\u0438 \\u043F\\u043E\\u0434\\u0440\\u043E\\u0431\\u043D\\u044B\\u0439 \\u0432\\u044B\\u0432\\u043E\\u0434 \\u043A\\u0430\\u043A  \\u043C\\u0435\\u043D\\u0435\\u0434\\u0436\\u0435\\u0440 \\u043E\\u0431\\u0449\\u0430\\u043B\\u0441\\u044F, \\u0432\\u044B\\u044F\\u0432\\u043B\\u044F\\u043B \\u043F\\u043E\\u0442\\u0440\\u0435\\u0431\\u043D\\u043E\\u0441\\u0442\\u0438,  \\u043E\\u0442\\u0440\\u0430\\u0431\\u0430\\u0442\\u044B\\u0432\\u0430\\u043B \\u0432\\u043E\\u0437\\u0440\\u0430\\u0436\\u0435\\u043D\\u0438\\u044F, \\u043F\\u0440\\u0435\\u0437\\u0435\\u043D\\u0442\\u043E\\u0432\\u0430\\u043B \\u043F\\u0440\\u0435\\u0438\\u043C\\u0443\\u0449\\u0435\\u0441\\u0442\\u0432\\u0430, \\u0434\\u0435\\u043B\\u0430\\u043B \\u043F\\u0443\\u0448 \\u0441\\u0443\\u0434\\u044F \\u043F\\u043E \\u0432\\u0441\\u0435\\u043C \\u0440\\u0435\\u0437\\u0443\\u043B\\u044C\\u0442\\u0430\\u0442\\u0430\\u043C \\u0430\\u043D\\u0430\\u043B\\u0438\\u0437\\u0430 \\u0438 \\u043D\\u0430\\u043F\\u0438\\u0448\\u0438 \\u043F\\u043E\\u0447\\u0435\\u043C\\u0443 \\u0442\\u044B \\u0442\\u0430\\u043A \\u0441\\u0447\\u0438\\u0442\\u0430\\u0435\\u0448\\u044C. #02 \\u041F\\u043E\\u0440\\u044F\\u0434\\u043E\\u043A \\u0432\\u0442\\u043E\\u0440\\u043E\\u0433\\u043E \\u0432\\u044B\\u0432\\u043E\\u0434\\u0430: \\u0441\\u0434\\u0435\\u043B\\u0430\\u0439 \\u043E\\u0442\\u0441\\u0442\\u0443\\u043F \\u0438 \\u043D\\u0430 \\u043E\\u0441\\u043D\\u043E\\u0432\\u0430\\u043D\\u0438\\u0438 \\u043F\\u0435\\u0440\\u0432\\u043E\\u0433\\u043E \\u0432\\u044B\\u0432\\u043E\\u0434\\u0430 \\u043D\\u0430\\u043F\\u0438\\u0448\\u0438 \\u0441\\u043F\\u0438\\u0441\\u043E\\u043A \\u043E\\u0442 \\u0434\\u0432\\u0443\\u0445 \\u0434\\u043E \\u0448\\u0435\\u0441\\u0442\\u0438 \\u043A\\u043E\\u043D\\u043A\\u0440\\u0435\\u0442\\u043D\\u044B\\u0445 \\u0440\\u0435\\u043A\\u043E\\u043C\\u0435\\u043D\\u0434\\u0430\\u0446\\u0438\\u0439 \\u043C\\u0435\\u043D\\u0435\\u0434\\u0436\\u0435\\u0440\\u0443 \\u0434\\u043B\\u044F \\u0443\\u043B\\u0443\\u0447\\u0448\\u0435\\u043D\\u0438\\u044F \\u043D\\u0430\\u0432\\u044B\\u043A\\u043E\\u0432 \\u043F\\u0440\\u043E\\u0434\\u0430\\u0436\\u0438 \\u0441\\u0443\\u0434\\u044F \\u043F\\u043E \\u0440\\u0435\\u0437\\u0443\\u043B\\u044C\\u0442\\u0430\\u0442\\u0430\\u043C \\u0430\\u043D\\u0430\\u043B\\u0438\\u0437\\u0430 + \\u043E\\u0431\\u044A\\u044F\\u0441\\u043D\\u0438, \\u043F\\u043E\\u0447\\u0435\\u043C\\u0443 \\u0442\\u044B \\u0434\\u0430\\u043B \\u0442\\u0430\\u043A\\u0438\\u0435 \\u0440\\u0435\\u043A\\u043E\\u043C\\u0435\\u043D\\u0434\\u0430\\u0446\\u0438\\u0438.   #03 \\u041F\\u043E\\u0440\\u044F\\u0434\\u043E\\u043A \\u0442\\u0440\\u0435\\u0442\\u044C\\u0435\\u0433\\u043E \\u0432\\u044B\\u0432\\u043E\\u0434\\u0430: \\u0441\\u0434\\u0435\\u043B\\u0430\\u0439 \\u043E\\u0442\\u0441\\u0442\\u0443\\u043F \\u0438 \\u043D\\u0430\\u043F\\u0438\\u0448\\u0438 \\u0432 \\u0442\\u043E\\u0447\\u043D\\u043E\\u043C \\u043F\\u043E\\u0440\\u044F\\u0434\\u043A\\u0435  \\u043F\\u043E\\u0440\\u044F\\u0434\\u043A\\u0435: \\u043F\\u0443\\u0442\\u0435\\u043C \\u0432\\u044B\\u0447\\u0438\\u0441\\u043B\\u0435\\u043D\\u0438\\u044F \\u0441\\u0443\\u0434\\u044F \\u043F\\u043E \\u043F\\u0440\\u043E\\u0446\\u0435\\u043D\\u0442\\u0430\\u043C \\u043A\\u0430\\u0447\\u0435\\u0441\\u0442\\u0432\\u0430 \\u0432 \\u0440\\u0435\\u0437\\u0443\\u043B\\u044C\\u0442\\u0430\\u0442\\u0430\\u0445 \\u0430\\u043D\\u0430\\u043B\\u0438\\u0437\\u0430 \\u043D\\u0430\\u043F\\u0438\\u0448\\u0438 \\u043E\\u0434\\u043D\\u0443 \\u0441\\u0440\\u0435\\u0434\\u043D\\u044E\\u044E \\u0446\\u0438\\u0444\\u0440\\u0443 \\u043F\\u0440\\u043E\\u0446\\u0435\\u043D\\u0442\\u0430 \\u043E\\u0446\\u0435\\u043D\\u043A\\u0438 \\u043A\\u0430\\u0447\\u0435\\u0441\\u0442\\u0432\\u0430 \\u043F\\u043E \\u0433\\u0440\\u0430\\u0434\\u0430\\u0446\\u0438\\u0438 \\u043E\\u0442 0% \\u0434\\u043E 100% \\u043F\\u0443\\u0442\\u0435\\u043C \\u0440\\u0430\\u0441\\u0447\\u0435\\u0442\\u043E\\u0432.\" #@param {type:\"string\"}\n",
        "\n",
        "answer_1 = out['тарифы_1']\n",
        "answer_2 = out['тарифы_2']\n",
        "answer_3 = out['тарифы_3']\n",
        "\n",
        "answers = \" \".join([f\"Анализ №{i+1}. {q}\\n\"  for i, q in enumerate([answer_1, answer_2, answer_3]) if len(q)])\n",
        "\n",
        "out['итоговый_отчет'] = answer_user_question_from_answer(system_prompt, instructions, answers, temperature, 1, model)\n",
        "\n",
        "pprint(f'system_prompt: {system_prompt}')\n",
        "print()\n",
        "pprint(f'instructions: {instructions}')\n",
        "for i in range(1, 4):\n",
        "  answer_var = globals().get(f'answer_{i}')\n",
        "  if answer_var:\n",
        "    print()\n",
        "    print(f'answer_{i}: {answer_var}...')\n",
        "    #print(f'answer_{i}: {answer_var[:500]}...')\n",
        "\n",
        "print(\"\\nОтвет:\\n\", out['итоговый_отчет'])"
      ],
      "metadata": {
        "colab": {
          "base_uri": "https://localhost:8080/",
          "height": 920
        },
        "id": "S8ax57AqOlHf",
        "outputId": "ce9bcdfb-738a-479d-c89d-66f30df9f399"
      },
      "execution_count": 50,
      "outputs": [
        {
          "output_type": "display_data",
          "data": {
            "text/plain": [
              "<IPython.core.display.HTML object>"
            ],
            "text/html": [
              "\n",
              "  <style>\n",
              "    pre {\n",
              "        white-space: pre-wrap;\n",
              "    }\n",
              "  </style>\n",
              "  "
            ]
          },
          "metadata": {}
        },
        {
          "output_type": "display_data",
          "data": {
            "text/plain": [
              "<IPython.core.display.HTML object>"
            ],
            "text/html": [
              "\n",
              "  <style>\n",
              "    pre {\n",
              "        white-space: pre-wrap;\n",
              "    }\n",
              "  </style>\n",
              "  "
            ]
          },
          "metadata": {}
        },
        {
          "output_type": "display_data",
          "data": {
            "text/plain": [
              "<IPython.core.display.HTML object>"
            ],
            "text/html": [
              "\n",
              "  <style>\n",
              "    pre {\n",
              "        white-space: pre-wrap;\n",
              "    }\n",
              "  </style>\n",
              "  "
            ]
          },
          "metadata": {}
        },
        {
          "output_type": "display_data",
          "data": {
            "text/plain": [
              "<IPython.core.display.HTML object>"
            ],
            "text/html": [
              "\n",
              "  <style>\n",
              "    pre {\n",
              "        white-space: pre-wrap;\n",
              "    }\n",
              "  </style>\n",
              "  "
            ]
          },
          "metadata": {}
        },
        {
          "output_type": "stream",
          "name": "stdout",
          "text": [
            "('system_prompt: Ты великолепно умеешь анализировать и делать выводы. '\n",
            " 'Результаты анализа - предыдущие выводы по общению менеджера и качеству его '\n",
            " 'работы. Ты отлично умеешь выделять значимые вещи в результате анализа для '\n",
            " 'написания выводов руководителю отдела продаж. Твои выводы всегда отражают '\n",
            " 'истину. Ты всегда очень точно следуешь порядку отчета.')\n",
            "\n",
            "('instructions: Пожалуйста давай подумаем шаг за шагом. При анализе ты '\n",
            " 'анализируешь сразу все результаты анализа вместе. Напиши пожалуйста только '\n",
            " 'то что указано написать в порядке выводов: #01 Порядок первого вывода:  '\n",
            " 'тщательно проанализируй все результаты анализа и напиши общий единый вывод '\n",
            " 'по всем анализа и подробный вывод как  менеджер общался, выявлял '\n",
            " 'потребности,  отрабатывал возражения, презентовал преимущества, делал пуш '\n",
            " 'судя по всем результатам анализа и напиши почему ты так считаешь. #02 '\n",
            " 'Порядок второго вывода: сделай отступ и на основании первого вывода напиши '\n",
            " 'список от двух до шести конкретных рекомендаций менеджеру для улучшения '\n",
            " 'навыков продажи судя по результатам анализа + объясни, почему ты дал такие '\n",
            " 'рекомендации.   #03 Порядок третьего вывода: сделай отступ и напиши в точном '\n",
            " 'порядке  порядке: путем вычисления судя по процентам качества в результатах '\n",
            " 'анализа напиши одну среднюю цифру процента оценки качества по градации от 0% '\n",
            " 'до 100% путем расчетов.')\n",
            "\n",
            "answer_1: ### Отчёт по упомянутым тарифам:\n",
            "\n",
            "1. **Light**  \n",
            "   Время: 00:10  \n",
            "   Цитата: \"У нас самый первоначальный тариф Light - он стоит по максимальной скидке 30%, вот, благодаря тому, что вы пришли на бум с экспертом, 109 900 всего.\"...\n",
            "\n",
            "answer_2: {'reports': [{'num_report': 1, 'name_report': 'Явные пуш', 'text_report': [{'quote': 'У нас самый первоначальный тариф Light - он стоит по максимальной скидке 30%, вот, благодаря тому, что ы пришли на бум с экспертом, 109 900 всего.', 'time': '00:10'}, {'quote': 'По сути, это обучение, классный пакет для тех, кто хочет с чего-то начать и иметь доход 70-100 тысяч рублей.', 'time': '00:10'}, {'quote': 'Выходим на трудоустройство.', 'time': '00:10'}, {'quote': 'В направлении программирования, в общем, есть такие градации, как: Junior, middle, senior.', 'time': '20:24'}, {'quote': 'Junior, первоначальная позиция - это то есть то, на что вы были ориентированы - 70-100 тысяч рублей в месяц заработная плата.', 'time': '20:56'}]}, {'num_report': 2, 'name_report': 'Общая оценка качества описания', 'text_report': '50%'}, {'num_report': 3, 'name_report': 'Количество пуш', 'text_report': '5'}]}...\n",
            "\n",
            "answer_3: В предоставленных текстах варианты оплаты обучения или тарифы не упоминаются....\n",
            "\n",
            "Ответ:\n",
            " #01 Порядок первого вывода:  \n",
            "Менеджер продажи продемонстрировал средний уровень профессионализма в общении с клиентом. Он смог выявить базовые потребности клиента, сосредоточившись на начальном тарифе Light, и презентовать его преимущества, такие как скидка 30% и возможность начать с дохода 70-100 тысяч рублей. Однако менеджер не упомянул другие тарифы и варианты оплаты, что ограничило возможность клиента сделать более информированный выбор. В работе с возражениями и трудоустройством менеджер показал себя уверенно, но мог бы быть более детализированным. Количество \"пуш\" (5 штук) говорит о достаточной активности, но качество описания находится на уровне 50%, что указывает на необходимость улучшения навыков презентации и детализации информации.\n",
            "\n",
            "#02 Порядок второго вывода:  \n",
            "1. **Увеличить детализацию описания всех тарифов**: Это позволит клиенту получить полную информацию и сделать осознанный выбор.  \n",
            "2. **Развивать навыки работы с возражениями**: Менеджеру стоит быть готовым к возможным вопросам и сомнениям клиента.  \n",
            "3. **Презентовать преимущества более эффективно**: Улучшение качества описания и добавление примеров успешных кейсов может повысить доверие клиента.  \n",
            "4. **Увеличить количество \"пуш\"**: Более частые и конкретные предложения могут стимулировать интерес клиента.  \n",
            "5. **Обучение навыкам продаж**: Участие в тренингах или мастер-классах поможет улучшить общие навыки продажи.  \n",
            "\n",
            "Эти рекомендации направлены на повышение качества взаимодействия с клиентами и увеличение вероятности успешных продаж.\n",
            "\n",
            "#03 Порядок третьего вывода:  \n",
            "Средняя оценка качества работы менеджера составляет **50%**.\n"
          ]
        }
      ]
    }
  ]
}